{
  "cells": [
    {
      "cell_type": "markdown",
      "metadata": {
        "id": "view-in-github",
        "colab_type": "text"
      },
      "source": [
        "<a href=\"https://colab.research.google.com/github/aliaghababaee/SLO_Asieh/blob/main/Optuna_merged_final.ipynb\" target=\"_parent\"><img src=\"https://colab.research.google.com/assets/colab-badge.svg\" alt=\"Open In Colab\"/></a>"
      ]
    },
    {
      "cell_type": "code",
      "execution_count": 3,
      "metadata": {
        "colab": {
          "base_uri": "https://localhost:8080/"
        },
        "id": "mZ85iUmg7jY2",
        "outputId": "68c87f06-9ced-4138-d973-532f9ddf118a"
      },
      "outputs": [
        {
          "output_type": "stream",
          "name": "stdout",
          "text": [
            "Mounted at /content/drive\n"
          ]
        }
      ],
      "source": [
        "from google.colab import drive\n",
        "drive.mount('/content/drive')"
      ]
    },
    {
      "cell_type": "code",
      "execution_count": 10,
      "metadata": {
        "colab": {
          "base_uri": "https://localhost:8080/"
        },
        "id": "q89MeogL7k5-",
        "outputId": "e3069d09-665e-4632-bb04-ed48f994002b"
      },
      "outputs": [
        {
          "output_type": "stream",
          "name": "stdout",
          "text": [
            "Archive:  /content/drive/MyDrive/merged_data_final2.zip\n",
            " extracting: test_merged.pkl         \n",
            " extracting: test_merged_label.pkl   \n",
            " extracting: train_merged.pkl        \n",
            " extracting: train_merged_label.pkl  \n"
          ]
        }
      ],
      "source": [
        "!unzip /content/drive/MyDrive/merged_data_final2.zip"
      ]
    },
    {
      "cell_type": "code",
      "source": [
        "!unzip /content/drive/MyDrive/new_test_merged_data.zip"
      ],
      "metadata": {
        "id": "1M4t_LFFIOJy",
        "outputId": "85112761-ceab-4db3-a641-23cd6707ecd1",
        "colab": {
          "base_uri": "https://localhost:8080/"
        }
      },
      "execution_count": 13,
      "outputs": [
        {
          "output_type": "stream",
          "name": "stdout",
          "text": [
            "Archive:  /content/drive/MyDrive/new_test_merged_data.zip\n",
            "replace test_merged.pkl? [y]es, [n]o, [A]ll, [N]one, [r]ename: y\n",
            " extracting: test_merged.pkl         \n",
            "replace test_merged_label.pkl? [y]es, [n]o, [A]ll, [N]one, [r]ename: y\n",
            " extracting: test_merged_label.pkl   \n"
          ]
        }
      ]
    },
    {
      "cell_type": "code",
      "execution_count": 4,
      "metadata": {
        "colab": {
          "base_uri": "https://localhost:8080/"
        },
        "id": "qF1IO0ku538H",
        "outputId": "2de2ea90-41da-44c2-bbdf-9fed174719c6"
      },
      "outputs": [
        {
          "output_type": "stream",
          "name": "stdout",
          "text": [
            "Collecting optuna\n",
            "  Downloading optuna-3.5.0-py3-none-any.whl (413 kB)\n",
            "\u001b[2K     \u001b[90m━━━━━━━━━━━━━━━━━━━━━━━━━━━━━━━━━━━━━━━━\u001b[0m \u001b[32m413.4/413.4 kB\u001b[0m \u001b[31m7.2 MB/s\u001b[0m eta \u001b[36m0:00:00\u001b[0m\n",
            "\u001b[?25hCollecting alembic>=1.5.0 (from optuna)\n",
            "  Downloading alembic-1.13.1-py3-none-any.whl (233 kB)\n",
            "\u001b[2K     \u001b[90m━━━━━━━━━━━━━━━━━━━━━━━━━━━━━━━━━━━━━━━━\u001b[0m \u001b[32m233.4/233.4 kB\u001b[0m \u001b[31m32.4 MB/s\u001b[0m eta \u001b[36m0:00:00\u001b[0m\n",
            "\u001b[?25hCollecting colorlog (from optuna)\n",
            "  Downloading colorlog-6.8.2-py3-none-any.whl (11 kB)\n",
            "Requirement already satisfied: numpy in /usr/local/lib/python3.10/dist-packages (from optuna) (1.25.2)\n",
            "Requirement already satisfied: packaging>=20.0 in /usr/local/lib/python3.10/dist-packages (from optuna) (23.2)\n",
            "Requirement already satisfied: sqlalchemy>=1.3.0 in /usr/local/lib/python3.10/dist-packages (from optuna) (2.0.27)\n",
            "Requirement already satisfied: tqdm in /usr/local/lib/python3.10/dist-packages (from optuna) (4.66.2)\n",
            "Requirement already satisfied: PyYAML in /usr/local/lib/python3.10/dist-packages (from optuna) (6.0.1)\n",
            "Collecting Mako (from alembic>=1.5.0->optuna)\n",
            "  Downloading Mako-1.3.2-py3-none-any.whl (78 kB)\n",
            "\u001b[2K     \u001b[90m━━━━━━━━━━━━━━━━━━━━━━━━━━━━━━━━━━━━━━━━\u001b[0m \u001b[32m78.7/78.7 kB\u001b[0m \u001b[31m13.0 MB/s\u001b[0m eta \u001b[36m0:00:00\u001b[0m\n",
            "\u001b[?25hRequirement already satisfied: typing-extensions>=4 in /usr/local/lib/python3.10/dist-packages (from alembic>=1.5.0->optuna) (4.9.0)\n",
            "Requirement already satisfied: greenlet!=0.4.17 in /usr/local/lib/python3.10/dist-packages (from sqlalchemy>=1.3.0->optuna) (3.0.3)\n",
            "Requirement already satisfied: MarkupSafe>=0.9.2 in /usr/local/lib/python3.10/dist-packages (from Mako->alembic>=1.5.0->optuna) (2.1.5)\n",
            "Installing collected packages: Mako, colorlog, alembic, optuna\n",
            "Successfully installed Mako-1.3.2 alembic-1.13.1 colorlog-6.8.2 optuna-3.5.0\n",
            "Collecting optuna-integration\n",
            "  Downloading optuna_integration-3.5.0-py3-none-any.whl (29 kB)\n",
            "Requirement already satisfied: optuna in /usr/local/lib/python3.10/dist-packages (from optuna-integration) (3.5.0)\n",
            "Requirement already satisfied: alembic>=1.5.0 in /usr/local/lib/python3.10/dist-packages (from optuna->optuna-integration) (1.13.1)\n",
            "Requirement already satisfied: colorlog in /usr/local/lib/python3.10/dist-packages (from optuna->optuna-integration) (6.8.2)\n",
            "Requirement already satisfied: numpy in /usr/local/lib/python3.10/dist-packages (from optuna->optuna-integration) (1.25.2)\n",
            "Requirement already satisfied: packaging>=20.0 in /usr/local/lib/python3.10/dist-packages (from optuna->optuna-integration) (23.2)\n",
            "Requirement already satisfied: sqlalchemy>=1.3.0 in /usr/local/lib/python3.10/dist-packages (from optuna->optuna-integration) (2.0.27)\n",
            "Requirement already satisfied: tqdm in /usr/local/lib/python3.10/dist-packages (from optuna->optuna-integration) (4.66.2)\n",
            "Requirement already satisfied: PyYAML in /usr/local/lib/python3.10/dist-packages (from optuna->optuna-integration) (6.0.1)\n",
            "Requirement already satisfied: Mako in /usr/local/lib/python3.10/dist-packages (from alembic>=1.5.0->optuna->optuna-integration) (1.3.2)\n",
            "Requirement already satisfied: typing-extensions>=4 in /usr/local/lib/python3.10/dist-packages (from alembic>=1.5.0->optuna->optuna-integration) (4.9.0)\n",
            "Requirement already satisfied: greenlet!=0.4.17 in /usr/local/lib/python3.10/dist-packages (from sqlalchemy>=1.3.0->optuna->optuna-integration) (3.0.3)\n",
            "Requirement already satisfied: MarkupSafe>=0.9.2 in /usr/local/lib/python3.10/dist-packages (from Mako->alembic>=1.5.0->optuna->optuna-integration) (2.1.5)\n",
            "Installing collected packages: optuna-integration\n",
            "Successfully installed optuna-integration-3.5.0\n"
          ]
        }
      ],
      "source": [
        "!pip install optuna\n",
        "!pip install optuna-integration\n",
        "import optuna\n",
        "from optuna.trial import TrialState\n",
        "from optuna.integration import TFKerasPruningCallback"
      ]
    },
    {
      "cell_type": "code",
      "source": [
        "### SLO model\n",
        "from tensorflow.keras.models import Model\n",
        "slo_model =  tf.keras.applications.ResNet101(\n",
        "    weights='imagenet',\n",
        "    include_top=False,\n",
        "    input_shape=(128,128,3),\n",
        "    )\n",
        "\n",
        "for layer in slo_model.layers:\n",
        "    layer._name = 'SLO_' + layer.name\n",
        "\n",
        "new_model = Model(inputs=slo_model.input, outputs=slo_model.output)\n",
        "\n",
        "new_model.save('slo_model_resnet101.h5')"
      ],
      "metadata": {
        "colab": {
          "base_uri": "https://localhost:8080/"
        },
        "id": "eN5jNdAc_LWI",
        "outputId": "106a6c7f-dd86-48a1-c6fb-217ac23e3f25"
      },
      "execution_count": 16,
      "outputs": [
        {
          "output_type": "stream",
          "name": "stdout",
          "text": [
            "Downloading data from https://storage.googleapis.com/tensorflow/keras-applications/resnet/resnet101_weights_tf_dim_ordering_tf_kernels_notop.h5\n",
            "171446536/171446536 [==============================] - 9s 0us/step\n"
          ]
        },
        {
          "output_type": "stream",
          "name": "stderr",
          "text": [
            "/usr/local/lib/python3.10/dist-packages/keras/src/engine/training.py:3103: UserWarning: You are saving your model as an HDF5 file via `model.save()`. This file format is considered legacy. We recommend using instead the native Keras format, e.g. `model.save('my_model.keras')`.\n",
            "  saving_api.save_model(\n",
            "WARNING:tensorflow:Compiled the loaded model, but the compiled metrics have yet to be built. `model.compile_metrics` will be empty until you train or evaluate the model.\n"
          ]
        }
      ]
    },
    {
      "cell_type": "code",
      "execution_count": 6,
      "metadata": {
        "id": "5C-nyGvz57Tp"
      },
      "outputs": [],
      "source": [
        "####################### state of the arts ##############################\n",
        "from tensorflow.keras.models import load_model\n",
        "from tensorflow.keras.models import Sequential\n",
        "from tensorflow.keras.layers import Dense, Conv2D, Flatten, MaxPool2D, BatchNormalization, Dropout\n",
        "import tensorflow as tf\n",
        "from keras.layers import Input\n",
        "\n",
        "def classifier (trial):\n",
        "\n",
        "    ### SLO model\n",
        "    slo_model = load_model('slo_model_resnet101.h5')\n",
        "\n",
        "    for layer in slo_model.layers:\n",
        "        layer.trainable = False\n",
        "\n",
        "    ### OCT model\n",
        "\n",
        "    oct_model =  tf.keras.applications.ResNet101(\n",
        "        weights='imagenet',\n",
        "        include_top=False,\n",
        "        input_shape=(60,256,3),\n",
        "        )\n",
        "\n",
        "    for layer in oct_model.layers:\n",
        "        layer.trainable = False\n",
        "\n",
        "\n",
        "    inputs_slo = tf.keras.layers.Input((128,128,3))\n",
        "    slo_output = tf.keras.layers.Flatten()(slo_model(inputs_slo))\n",
        "\n",
        "\n",
        "    inputs_oct = tf.keras.layers.Input((60,256,3))\n",
        "    oct_output = tf.keras.layers.Flatten()(oct_model(inputs_oct))\n",
        "\n",
        "\n",
        "    model = tf.keras.layers.Concatenate(axis=-1)([slo_output, oct_output])\n",
        "\n",
        "\n",
        "    dropout_l0 = trial.suggest_float(\"dropout_l0\", 0, 0.7,step=0.1)\n",
        "\n",
        "    model = tf.keras.layers.Dropout(dropout_l0)(model)\n",
        "\n",
        "\n",
        "    n_layers = trial.suggest_int(\"n_layers\", 1, 5)\n",
        "\n",
        "\n",
        "    for i in range(n_layers):\n",
        "\n",
        "        n_units = trial.suggest_int(\"n_units_l{}\".format(i), 8, 4096, log = True)\n",
        "\n",
        "        model = tf.keras.layers.Dense(n_units, activation = 'relu')(model)\n",
        "\n",
        "        dropout = trial.suggest_float(\"dropout_l{}\".format (i+1), 0, 0.7,step=0.1)\n",
        "\n",
        "        model = tf.keras.layers.Dropout(rate = dropout)(model)\n",
        "\n",
        "\n",
        "    outputs = tf.keras.layers.Dense(1, activation = 'sigmoid')(model)\n",
        "\n",
        "    lr = trial.suggest_float ('lr', 1e-5, 1e-3, log = True)\n",
        "\n",
        "    my_optimizer = tf.keras.optimizers.Adam (learning_rate= lr)\n",
        "\n",
        "    model_merged = tf.keras.Model([inputs_slo, inputs_oct] , outputs)\n",
        "\n",
        "\n",
        "    model_merged.compile(optimizer=my_optimizer, loss='binary_crossentropy', metrics='accuracy')\n",
        "\n",
        "    return model_merged"
      ]
    },
    {
      "cell_type": "code",
      "execution_count": 14,
      "metadata": {
        "id": "0E4-P-X857V_"
      },
      "outputs": [],
      "source": [
        "from sklearn.model_selection import StratifiedKFold\n",
        "skf = StratifiedKFold (n_splits = 5, shuffle = True, random_state = 42)\n",
        "import keras\n",
        "import pickle\n",
        "from keras.preprocessing.image import ImageDataGenerator\n",
        "from skimage.transform import resize\n",
        "import numpy as np\n",
        "from keras.callbacks import EarlyStopping, ModelCheckpoint, ReduceLROnPlateau\n",
        "\n",
        "\n",
        "def preparing(x, y):\n",
        "\n",
        "    data_slo  = []\n",
        "    data_oct  = []\n",
        "    label     = []\n",
        "    for i in x:\n",
        "      for j in range(len(x[i])):\n",
        "          data_slo.append(np.array(x[i][j][0])/255)\n",
        "          data_oct.append(np.array(x[i][j][1])*255)\n",
        "          label.append(y[i])\n",
        "    data_slo = np.reshape(data_slo, np.shape(data_slo))\n",
        "    data_oct = np.reshape(data_oct, np.shape(data_oct))\n",
        "    return data_slo, data_oct, np.array(label)\n",
        "\n",
        "\n",
        "\n",
        "def objective (trial):\n",
        "\n",
        "  keras.backend.clear_session()\n",
        "\n",
        "##################??????????????????????????????????????????????\n",
        "\n",
        "  datagen_oct = ImageDataGenerator(\n",
        "  rotation_range= 5, # rotation\n",
        "  zoom_range= 0.2,\n",
        "  vertical_flip= True , # vertical fli\n",
        "  fill_mode='constant',\n",
        "  data_format='channels_last',\n",
        "  cval=0,\n",
        "    )\n",
        "\n",
        "  datagen_slo = ImageDataGenerator(\n",
        "  rotation_range= 5, # rotation\n",
        "  width_shift_range= [-30, 30], # horizontal shift\n",
        "  height_shift_range= [-5, 5] , # vertical shift\n",
        "  zoom_range= 0.2,\n",
        "  vertical_flip= True , # vertical flip\n",
        "  brightness_range= [0.2, 1.5]\n",
        "    )\n",
        "\n",
        "\n",
        "  images_train = pickle.load(open(\"/content/train_merged.pkl\", 'rb'))\n",
        "  labels_train = pickle.load(open(\"/content/train_merged_label.pkl\", 'rb'))\n",
        "\n",
        "  train_index, val_index = next (skf.split (images_train, list(labels_train.values())))\n",
        "\n",
        "  x_train = {i: images_train[list(images_train.keys())[i]] for i in train_index}\n",
        "  x_valid = {i: images_train[list(images_train.keys())[i]] for i in val_index}\n",
        "\n",
        "  y_trainn = {i: labels_train[list(labels_train.keys())[i]] for i in train_index}\n",
        "  y_validd = {i: labels_train[list(labels_train.keys())[i]] for i in val_index}\n",
        "\n",
        "\n",
        "  ################## preparing\n",
        "\n",
        "  x_train_slo, x_train_oct, y_train = preparing(x_train,y_trainn)\n",
        "  x_valid_slo, x_valid_oct, y_valid = preparing(x_valid,y_validd)\n",
        "\n",
        "  ################# Augmentation\n",
        "\n",
        "  ############ slo\n",
        "  x_train_aug =np.zeros_like(x_train_slo, dtype=np.float32)\n",
        "\n",
        "  y_train_aug =np.zeros_like(y_train, dtype=np.float32)\n",
        "\n",
        "\n",
        "  for i in range(len(x_train_slo)):\n",
        "\n",
        "    x1= x_train_slo[i,:,:,:].copy()\n",
        "\n",
        "    x1=x1.reshape((1, ) + x1.shape)\n",
        "\n",
        "    x = datagen_slo.flow(x1, batch_size=1, seed=42) # to make the result reproducible\n",
        "\n",
        "    x_train_aug [i,:,:,:] = x.next()\n",
        "\n",
        "    y_train_aug [i] = y_train[i]\n",
        "\n",
        "  x_train_slo = np.concatenate ((x_train_slo, x_train_aug), axis=0)\n",
        "\n",
        "  y_train_slo = np.concatenate ((y_train, y_train_aug), axis = 0)\n",
        "\n",
        "  ############ OCT\n",
        "  x_train_aug =np.zeros_like(x_train_oct, dtype=np.float32)\n",
        "\n",
        "  y_train_aug =np.zeros_like(y_train, dtype=np.float32)\n",
        "\n",
        "  for i in range(len(x_train_oct)):\n",
        "\n",
        "    x1= x_train_oct[i,:,:,:].copy()\n",
        "\n",
        "    x1=x1.reshape((1, ) + x1.shape)\n",
        "\n",
        "    x = datagen_oct.flow(x1, batch_size=1, seed=42) # to make the result reproducible\n",
        "\n",
        "    x_train_aug [i,:,:,:] = x.next()\n",
        "\n",
        "    y_train_aug [i] = y_train[i]\n",
        "\n",
        "  x_train_oct = np.concatenate ((x_train_oct, x_train_aug), axis=0)\n",
        "\n",
        "  y_train_oct = np.concatenate ((y_train, y_train_aug), axis = 0)\n",
        "\n",
        "\n",
        "  indices = np.random.permutation (len (x_train_slo))\n",
        "  x_train_slo = x_train_slo [indices]\n",
        "  y_train_slo = y_train_slo [indices]\n",
        "\n",
        "  x_train_oct = x_train_oct [indices]\n",
        "  y_train_oct = y_train_oct [indices]\n",
        "\n",
        "\n",
        "  x_train_slo = np.repeat (x_train_slo, repeats = 3, axis = 3)\n",
        "\n",
        "  x_train_oct = np.repeat (x_train_oct, repeats = 3, axis = 3)\n",
        "\n",
        "  x_valid_slo = np.repeat (x_valid_slo, repeats = 3, axis = 3)\n",
        "\n",
        "  x_valid_oct = np.repeat (x_valid_oct, repeats = 3, axis = 3)\n",
        "\n",
        "\n",
        "  ####################################################################\n",
        "  # classification via my model\n",
        "  ####################################################################\n",
        "  batch_size = trial.suggest_categorical(\"batch_size\", [8, 16, 32, 64, 128])\n",
        "\n",
        "  model = classifier (trial)\n",
        "\n",
        "\n",
        "  # Generate our trial model.\n",
        "\n",
        "\n",
        "  model.fit([x_train_slo, x_train_oct],\n",
        "            np.asarray(y_train_oct, dtype=np.float64),\n",
        "            batch_size= batch_size,\n",
        "            epochs=50,\n",
        "            callbacks=[TFKerasPruningCallback(trial, \"val_accuracy\"), EarlyStopping(patience=10, verbose=1),\n",
        "            ReduceLROnPlateau(factor=0.1, patience=10, min_lr=1e-6),\n",
        "            ModelCheckpoint(f'slo_oct.h5', verbose=1, save_best_only=True, save_weights_only=True)],\n",
        "            validation_data=([x_valid_slo, x_valid_oct] , np.asarray(y_valid, dtype=np.float64)),\n",
        "            )\n",
        "  model.load_weights(f'slo_oct.h5')\n",
        "  score = model.evaluate ([x_valid_slo, x_valid_oct], np.asarray(y_valid, dtype=np.float64), verbose = 1)\n",
        "\n",
        "  return score [1]\n"
      ]
    },
    {
      "cell_type": "code",
      "execution_count": 19,
      "metadata": {
        "id": "7s09LdTP57YR",
        "colab": {
          "base_uri": "https://localhost:8080/",
          "height": 1000
        },
        "outputId": "0a0327f5-ca97-40de-918b-fa483f86c99a"
      },
      "outputs": [
        {
          "output_type": "stream",
          "name": "stderr",
          "text": [
            "[I 2024-02-28 10:22:58,239] A new study created in memory with name: no-name-b5b4dd1b-78b6-43dc-a09a-0b992fc6cbdc\n",
            "[W 2024-02-28 10:23:14,703] Trial 0 failed with parameters: {'batch_size': 16} because of the following error: RuntimeError('pybind11::error_already_set: MISMATCH of original and normalized active exception types: ORIGINAL _NotOkStatusException REPLACED BY KeyboardInterrupt: <EMPTY MESSAGE>\\n\\nAt:\\n  /usr/local/lib/python3.10/dist-packages/tensorflow/python/eager/core.py(42): __init__\\n  /usr/local/lib/python3.10/dist-packages/tensorflow/python/ops/gen_math_ops.py(477): add_v2\\n  /usr/local/lib/python3.10/dist-packages/tensorflow/python/ops/math_ops.py(4098): add\\n  /usr/local/lib/python3.10/dist-packages/tensorflow/python/util/dispatch.py(1260): op_dispatch_handler\\n  /usr/local/lib/python3.10/dist-packages/tensorflow/python/util/traceback_utils.py(150): error_handler\\n  /usr/local/lib/python3.10/dist-packages/tensorflow/python/ops/weak_tensor_ops.py(142): wrapper\\n  /usr/local/lib/python3.10/dist-packages/tensorflow/python/ops/stateless_random_ops.py(406): stateless_random_uniform\\n  /usr/local/lib/python3.10/dist-packages/tensorflow/python/util/dispatch.py(1260): op_dispatch_handler\\n  /usr/local/lib/python3.10/dist-packages/tensorflow/python/util/traceback_utils.py(150): error_handler\\n  /usr/local/lib/python3.10/dist-packages/keras/src/backend.py(2100): random_uniform\\n  /usr/local/lib/python3.10/dist-packages/keras/src/initializers/initializers.py(672): _generate_init_val\\n  /usr/local/lib/python3.10/dist-packages/keras/src/initializers/initializers.py(647): __call__\\n  /usr/local/lib/python3.10/dist-packages/tensorflow/python/ops/resource_variable_ops.py(2018): _init_from_args\\n  /usr/local/lib/python3.10/dist-packages/tensorflow/python/ops/resource_variable_ops.py(1834): __init__\\n  /usr/local/lib/python3.10/dist-packages/tensorflow/python/ops/variables.py(198): __call__\\n  /usr/local/lib/python3.10/dist-packages/tensorflow/python/util/traceback_utils.py(150): error_handler\\n  /usr/local/lib/python3.10/dist-packages/tensorflow/python/ops/ref_variable.py(66): default_variable_creator\\n  /usr/local/lib/python3.10/dist-packages/tensorflow/python/ops/variable_v1.py(299): <lambda>\\n  /usr/local/lib/python3.10/dist-packages/tensorflow/python/ops/variable_v1.py(306): _variable_call\\n  /usr/local/lib/python3.10/dist-packages/tensorflow/python/ops/variables.py(195): __call__\\n  /usr/local/lib/python3.10/dist-packages/tensorflow/python/util/traceback_utils.py(150): error_handler\\n  /usr/local/lib/python3.10/dist-packages/keras/src/engine/base_layer_utils.py(137): make_variable\\n  /usr/local/lib/python3.10/dist-packages/tensorflow/python/trackable/base.py(492): _add_variable_with_custom_getter\\n  /usr/local/lib/python3.10/dist-packages/keras/src/engine/base_layer.py(712): add_weight\\n  /usr/local/lib/python3.10/dist-packages/keras/src/layers/convolutional/base_conv.py(227): build\\n  /usr/local/lib/python3.10/dist-packages/keras/src/engine/base_layer.py(3027): _maybe_build\\n  /usr/local/lib/python3.10/dist-packages/keras/src/engine/base_layer.py(2496): _infer_output_signature\\n  /usr/local/lib/python3.10/dist-packages/keras/src/engine/base_layer.py(2439): _keras_tensor_symbolic_call\\n  /usr/local/lib/python3.10/dist-packages/keras/src/engine/base_layer.py(2593): _functional_construction_call\\n  /usr/local/lib/python3.10/dist-packages/keras/src/engine/base_layer.py(1063): __call__\\n  /usr/local/lib/python3.10/dist-packages/keras/src/utils/traceback_utils.py(65): error_handler\\n  /usr/local/lib/python3.10/dist-packages/keras/src/engine/functional.py(1445): process_node\\n  /usr/local/lib/python3.10/dist-packages/keras/src/engine/functional.py(1505): reconstruct_from_config\\n  /usr/local/lib/python3.10/dist-packages/keras/src/engine/training.py(3330): from_config\\n  /usr/local/lib/python3.10/dist-packages/keras/src/saving/legacy/serialization.py(497): deserialize_keras_object\\n  /usr/local/lib/python3.10/dist-packages/keras/src/saving/legacy/model_config.py(66): model_from_config\\n  /usr/local/lib/python3.10/dist-packages/keras/src/saving/legacy/hdf5_format.py(203): load_model_from_hdf5\\n  /usr/local/lib/python3.10/dist-packages/keras/src/saving/legacy/save.py(249): load_model\\n  /usr/local/lib/python3.10/dist-packages/keras/src/utils/traceback_utils.py(65): error_handler\\n  /usr/local/lib/python3.10/dist-packages/keras/src/saving/saving_api.py(262): load_model\\n  <ipython-input-6-ce5f315af69b>(11): classifier\\n  <ipython-input-14-9192f108ac1e>(137): objective\\n  /usr/local/lib/python3.10/dist-packages/optuna/study/_optimize.py(200): _run_trial\\n  /usr/local/lib/python3.10/dist-packages/optuna/study/_optimize.py(163): _optimize_sequential\\n  /usr/local/lib/python3.10/dist-packages/optuna/study/_optimize.py(66): _optimize\\n  /usr/local/lib/python3.10/dist-packages/optuna/study/study.py(451): optimize\\n  <ipython-input-19-71d9bb1b13ff>(3): <cell line: 3>\\n  /usr/local/lib/python3.10/dist-packages/IPython/core/interactiveshell.py(3553): run_code\\n  /usr/local/lib/python3.10/dist-packages/IPython/core/interactiveshell.py(3473): run_ast_nodes\\n  /usr/local/lib/python3.10/dist-packages/IPython/core/interactiveshell.py(3257): run_cell_async\\n  /usr/local/lib/python3.10/dist-packages/IPython/core/async_helpers.py(78): _pseudo_sync_runner\\n  /usr/local/lib/python3.10/dist-packages/IPython/core/interactiveshell.py(3030): _run_cell\\n  /usr/local/lib/python3.10/dist-packages/IPython/core/interactiveshell.py(2975): run_cell\\n  /usr/local/lib/python3.10/dist-packages/ipykernel/zmqshell.py(539): run_cell\\n  /usr/local/lib/python3.10/dist-packages/ipykernel/ipkernel.py(302): do_execute\\n  /usr/local/lib/python3.10/dist-packages/tornado/gen.py(234): wrapper\\n  /usr/local/lib/python3.10/dist-packages/ipykernel/kernelbase.py(539): execute_request\\n  /usr/local/lib/python3.10/dist-packages/tornado/gen.py(234): wrapper\\n  /usr/local/lib/python3.10/dist-packages/ipykernel/kernelbase.py(261): dispatch_shell\\n  /usr/local/lib/python3.10/dist-packages/tornado/gen.py(234): wrapper\\n  /usr/local/lib/python3.10/dist-packages/ipykernel/kernelbase.py(361): process_one\\n  /usr/local/lib/python3.10/dist-packages/tornado/gen.py(786): run\\n  /usr/local/lib/python3.10/dist-packages/tornado/gen.py(825): inner\\n  /usr/local/lib/python3.10/dist-packages/tornado/ioloop.py(738): _run_callback\\n  /usr/local/lib/python3.10/dist-packages/tornado/ioloop.py(685): <lambda>\\n  /usr/lib/python3.10/asyncio/events.py(80): _run\\n  /usr/lib/python3.10/asyncio/base_events.py(1909): _run_once\\n  /usr/lib/python3.10/asyncio/base_events.py(603): run_forever\\n  /usr/local/lib/python3.10/dist-packages/tornado/platform/asyncio.py(195): start\\n  /usr/local/lib/python3.10/dist-packages/ipykernel/kernelapp.py(619): start\\n  /usr/local/lib/python3.10/dist-packages/traitlets/config/application.py(992): launch_instance\\n  /usr/local/lib/python3.10/dist-packages/colab_kernel_launcher.py(37): <module>\\n  /usr/lib/python3.10/runpy.py(86): _run_code\\n  /usr/lib/python3.10/runpy.py(196): _run_module_as_main\\n').\n",
            "Traceback (most recent call last):\n",
            "  File \"/usr/local/lib/python3.10/dist-packages/optuna/study/_optimize.py\", line 200, in _run_trial\n",
            "    value_or_values = func(trial)\n",
            "  File \"<ipython-input-14-9192f108ac1e>\", line 137, in objective\n",
            "    model = classifier (trial)\n",
            "  File \"<ipython-input-6-ce5f315af69b>\", line 11, in classifier\n",
            "    slo_model = load_model('slo_model_resnet101.h5')\n",
            "  File \"/usr/local/lib/python3.10/dist-packages/keras/src/saving/saving_api.py\", line 262, in load_model\n",
            "    return legacy_sm_saving_lib.load_model(\n",
            "  File \"/usr/local/lib/python3.10/dist-packages/keras/src/utils/traceback_utils.py\", line 70, in error_handler\n",
            "    raise e.with_traceback(filtered_tb) from None\n",
            "  File \"/usr/local/lib/python3.10/dist-packages/keras/src/backend.py\", line 2100, in random_uniform\n",
            "    return tf.random.stateless_uniform(\n",
            "RuntimeError: pybind11::error_already_set: MISMATCH of original and normalized active exception types: ORIGINAL _NotOkStatusException REPLACED BY KeyboardInterrupt: <EMPTY MESSAGE>\n",
            "\n",
            "At:\n",
            "  /usr/local/lib/python3.10/dist-packages/tensorflow/python/eager/core.py(42): __init__\n",
            "  /usr/local/lib/python3.10/dist-packages/tensorflow/python/ops/gen_math_ops.py(477): add_v2\n",
            "  /usr/local/lib/python3.10/dist-packages/tensorflow/python/ops/math_ops.py(4098): add\n",
            "  /usr/local/lib/python3.10/dist-packages/tensorflow/python/util/dispatch.py(1260): op_dispatch_handler\n",
            "  /usr/local/lib/python3.10/dist-packages/tensorflow/python/util/traceback_utils.py(150): error_handler\n",
            "  /usr/local/lib/python3.10/dist-packages/tensorflow/python/ops/weak_tensor_ops.py(142): wrapper\n",
            "  /usr/local/lib/python3.10/dist-packages/tensorflow/python/ops/stateless_random_ops.py(406): stateless_random_uniform\n",
            "  /usr/local/lib/python3.10/dist-packages/tensorflow/python/util/dispatch.py(1260): op_dispatch_handler\n",
            "  /usr/local/lib/python3.10/dist-packages/tensorflow/python/util/traceback_utils.py(150): error_handler\n",
            "  /usr/local/lib/python3.10/dist-packages/keras/src/backend.py(2100): random_uniform\n",
            "  /usr/local/lib/python3.10/dist-packages/keras/src/initializers/initializers.py(672): _generate_init_val\n",
            "  /usr/local/lib/python3.10/dist-packages/keras/src/initializers/initializers.py(647): __call__\n",
            "  /usr/local/lib/python3.10/dist-packages/tensorflow/python/ops/resource_variable_ops.py(2018): _init_from_args\n",
            "  /usr/local/lib/python3.10/dist-packages/tensorflow/python/ops/resource_variable_ops.py(1834): __init__\n",
            "  /usr/local/lib/python3.10/dist-packages/tensorflow/python/ops/variables.py(198): __call__\n",
            "  /usr/local/lib/python3.10/dist-packages/tensorflow/python/util/traceback_utils.py(150): error_handler\n",
            "  /usr/local/lib/python3.10/dist-packages/tensorflow/python/ops/ref_variable.py(66): default_variable_creator\n",
            "  /usr/local/lib/python3.10/dist-packages/tensorflow/python/ops/variable_v1.py(299): <lambda>\n",
            "  /usr/local/lib/python3.10/dist-packages/tensorflow/python/ops/variable_v1.py(306): _variable_call\n",
            "  /usr/local/lib/python3.10/dist-packages/tensorflow/python/ops/variables.py(195): __call__\n",
            "  /usr/local/lib/python3.10/dist-packages/tensorflow/python/util/traceback_utils.py(150): error_handler\n",
            "  /usr/local/lib/python3.10/dist-packages/keras/src/engine/base_layer_utils.py(137): make_variable\n",
            "  /usr/local/lib/python3.10/dist-packages/tensorflow/python/trackable/base.py(492): _add_variable_with_custom_getter\n",
            "  /usr/local/lib/python3.10/dist-packages/keras/src/engine/base_layer.py(712): add_weight\n",
            "  /usr/local/lib/python3.10/dist-packages/keras/src/layers/convolutional/base_conv.py(227): build\n",
            "  /usr/local/lib/python3.10/dist-packages/keras/src/engine/base_layer.py(3027): _maybe_build\n",
            "  /usr/local/lib/python3.10/dist-packages/keras/src/engine/base_layer.py(2496): _infer_output_signature\n",
            "  /usr/local/lib/python3.10/dist-packages/keras/src/engine/base_layer.py(2439): _keras_tensor_symbolic_call\n",
            "  /usr/local/lib/python3.10/dist-packages/keras/src/engine/base_layer.py(2593): _functional_construction_call\n",
            "  /usr/local/lib/python3.10/dist-packages/keras/src/engine/base_layer.py(1063): __call__\n",
            "  /usr/local/lib/python3.10/dist-packages/keras/src/utils/traceback_utils.py(65): error_handler\n",
            "  /usr/local/lib/python3.10/dist-packages/keras/src/engine/functional.py(1445): process_node\n",
            "  /usr/local/lib/python3.10/dist-packages/keras/src/engine/functional.py(1505): reconstruct_from_config\n",
            "  /usr/local/lib/python3.10/dist-packages/keras/src/engine/training.py(3330): from_config\n",
            "  /usr/local/lib/python3.10/dist-packages/keras/src/saving/legacy/serialization.py(497): deserialize_keras_object\n",
            "  /usr/local/lib/python3.10/dist-packages/keras/src/saving/legacy/model_config.py(66): model_from_config\n",
            "  /usr/local/lib/python3.10/dist-packages/keras/src/saving/legacy/hdf5_format.py(203): load_model_from_hdf5\n",
            "  /usr/local/lib/python3.10/dist-packages/keras/src/saving/legacy/save.py(249): load_model\n",
            "  /usr/local/lib/python3.10/dist-packages/keras/src/utils/traceback_utils.py(65): error_handler\n",
            "  /usr/local/lib/python3.10/dist-packages/keras/src/saving/saving_api.py(262): load_model\n",
            "  <ipython-input-6-ce5f315af69b>(11): classifier\n",
            "  <ipython-input-14-9192f108ac1e>(137): objective\n",
            "  /usr/local/lib/python3.10/dist-packages/optuna/study/_optimize.py(200): _run_trial\n",
            "  /usr/local/lib/python3.10/dist-packages/optuna/study/_optimize.py(163): _optimize_sequential\n",
            "  /usr/local/lib/python3.10/dist-packages/optuna/study/_optimize.py(66): _optimize\n",
            "  /usr/local/lib/python3.10/dist-packages/optuna/study/study.py(451): optimize\n",
            "  <ipython-input-19-71d9bb1b13ff>(3): <cell line: 3>\n",
            "  /usr/local/lib/python3.10/dist-packages/IPython/core/interactiveshell.py(3553): run_code\n",
            "  /usr/local/lib/python3.10/dist-packages/IPython/core/interactiveshell.py(3473): run_ast_nodes\n",
            "  /usr/local/lib/python3.10/dist-packages/IPython/core/interactiveshell.py(3257): run_cell_async\n",
            "  /usr/local/lib/python3.10/dist-packages/IPython/core/async_helpers.py(78): _pseudo_sync_runner\n",
            "  /usr/local/lib/python3.10/dist-packages/IPython/core/interactiveshell.py(3030): _run_cell\n",
            "  /usr/local/lib/python3.10/dist-packages/IPython/core/interactiveshell.py(2975): run_cell\n",
            "  /usr/local/lib/python3.10/dist-packages/ipykernel/zmqshell.py(539): run_cell\n",
            "  /usr/local/lib/python3.10/dist-packages/ipykernel/ipkernel.py(302): do_execute\n",
            "  /usr/local/lib/python3.10/dist-packages/tornado/gen.py(234): wrapper\n",
            "  /usr/local/lib/python3.10/dist-packages/ipykernel/kernelbase.py(539): execute_request\n",
            "  /usr/local/lib/python3.10/dist-packages/tornado/gen.py(234): wrapper\n",
            "  /usr/local/lib/python3.10/dist-packages/ipykernel/kernelbase.py(261): dispatch_shell\n",
            "  /usr/local/lib/python3.10/dist-packages/tornado/gen.py(234): wrapper\n",
            "  /usr/local/lib/python3.10/dist-packages/ipykernel/kernelbase.py(361): process_one\n",
            "  /usr/local/lib/python3.10/dist-packages/tornado/gen.py(786): run\n",
            "  /usr/local/lib/python3.10/dist-packages/tornado/gen.py(825): inner\n",
            "  /usr/local/lib/python3.10/dist-packages/tornado/ioloop.py(738): _run_callback\n",
            "  /usr/local/lib/python3.10/dist-packages/tornado/ioloop.py(685): <lambda>\n",
            "  /usr/lib/python3.10/asyncio/events.py(80): _run\n",
            "  /usr/lib/python3.10/asyncio/base_events.py(1909): _run_once\n",
            "  /usr/lib/python3.10/asyncio/base_events.py(603): run_forever\n",
            "  /usr/local/lib/python3.10/dist-packages/tornado/platform/asyncio.py(195): start\n",
            "  /usr/local/lib/python3.10/dist-packages/ipykernel/kernelapp.py(619): start\n",
            "  /usr/local/lib/python3.10/dist-packages/traitlets/config/application.py(992): launch_instance\n",
            "  /usr/local/lib/python3.10/dist-packages/colab_kernel_launcher.py(37): <module>\n",
            "  /usr/lib/python3.10/runpy.py(86): _run_code\n",
            "  /usr/lib/python3.10/runpy.py(196): _run_module_as_main\n",
            "\n",
            "[W 2024-02-28 10:23:14,705] Trial 0 failed with value None.\n"
          ]
        },
        {
          "output_type": "error",
          "ename": "RuntimeError",
          "evalue": "pybind11::error_already_set: MISMATCH of original and normalized active exception types: ORIGINAL _NotOkStatusException REPLACED BY KeyboardInterrupt: <EMPTY MESSAGE>\n\nAt:\n  /usr/local/lib/python3.10/dist-packages/tensorflow/python/eager/core.py(42): __init__\n  /usr/local/lib/python3.10/dist-packages/tensorflow/python/ops/gen_math_ops.py(477): add_v2\n  /usr/local/lib/python3.10/dist-packages/tensorflow/python/ops/math_ops.py(4098): add\n  /usr/local/lib/python3.10/dist-packages/tensorflow/python/util/dispatch.py(1260): op_dispatch_handler\n  /usr/local/lib/python3.10/dist-packages/tensorflow/python/util/traceback_utils.py(150): error_handler\n  /usr/local/lib/python3.10/dist-packages/tensorflow/python/ops/weak_tensor_ops.py(142): wrapper\n  /usr/local/lib/python3.10/dist-packages/tensorflow/python/ops/stateless_random_ops.py(406): stateless_random_uniform\n  /usr/local/lib/python3.10/dist-packages/tensorflow/python/util/dispatch.py(1260): op_dispatch_handler\n  /usr/local/lib/python3.10/dist-packages/tensorflow/python/util/traceback_utils.py(150): error_handler\n  /usr/local/lib/python3.10/dist-packages/keras/src/backend.py(2100): random_uniform\n  /usr/local/lib/python3.10/dist-packages/keras/src/initializers/initializers.py(672): _generate_init_val\n  /usr/local/lib/python3.10/dist-packages/keras/src/initializers/initializers.py(647): __call__\n  /usr/local/lib/python3.10/dist-packages/tensorflow/python/ops/resource_variable_ops.py(2018): _init_from_args\n  /usr/local/lib/python3.10/dist-packages/tensorflow/python/ops/resource_variable_ops.py(1834): __init__\n  /usr/local/lib/python3.10/dist-packages/tensorflow/python/ops/variables.py(198): __call__\n  /usr/local/lib/python3.10/dist-packages/tensorflow/python/util/traceback_utils.py(150): error_handler\n  /usr/local/lib/python3.10/dist-packages/tensorflow/python/ops/ref_variable.py(66): default_variable_creator\n  /usr/local/lib/python3.10/dist-packages/tensorflow/python/ops/variable_v1.py(299): <lambda>\n  /usr/local/lib/python3.10/dist-packages/tensorflow/python/ops/variable_v1.py(306): _variable_call\n  /usr/local/lib/python3.10/dist-packages/tensorflow/python/ops/variables.py(195): __call__\n  /usr/local/lib/python3.10/dist-packages/tensorflow/python/util/traceback_utils.py(150): error_handler\n  /usr/local/lib/python3.10/dist-packages/keras/src/engine/base_layer_utils.py(137): make_variable\n  /usr/local/lib/python3.10/dist-packages/tensorflow/python/trackable/base.py(492): _add_variable_with_custom_getter\n  /usr/local/lib/python3.10/dist-packages/keras/src/engine/base_layer.py(712): add_weight\n  /usr/local/lib/python3.10/dist-packages/keras/src/layers/convolutional/base_conv.py(227): build\n  /usr/local/lib/python3.10/dist-packages/keras/src/engine/base_layer.py(3027): _maybe_build\n  /usr/local/lib/python3.10/dist-packages/keras/src/engine/base_layer.py(2496): _infer_output_signature\n  /usr/local/lib/python3.10/dist-packages/keras/src/engine/base_layer.py(2439): _keras_tensor_symbolic_call\n  /usr/local/lib/python3.10/dist-packages/keras/src/engine/base_layer.py(2593): _functional_construction_call\n  /usr/local/lib/python3.10/dist-packages/keras/src/engine/base_layer.py(1063): __call__\n  /usr/local/lib/python3.10/dist-packages/keras/src/utils/traceback_utils.py(65): error_handler\n  /usr/local/lib/python3.10/dist-packages/keras/src/engine/functional.py(1445): process_node\n  /usr/local/lib/python3.10/dist-packages/keras/src/engine/functional.py(1505): reconstruct_from_config\n  /usr/local/lib/python3.10/dist-packages/keras/src/engine/training.py(3330): from_config\n  /usr/local/lib/python3.10/dist-packages/keras/src/saving/legacy/serialization.py(497): deserialize_keras_object\n  /usr/local/lib/python3.10/dist-packages/keras/src/saving/legacy/model_config.py(66): model_from_config\n  /usr/local/lib/python3.10/dist-packages/keras/src/saving/legacy/hdf5_format.py(203): load_model_from_hdf5\n  /usr/local/lib/python3.10/dist-packages/keras/src/saving/legacy/save.py(249): load_model\n  /usr/local/lib/python3.10/dist-packages/keras/src/utils/traceback_utils.py(65): error_handler\n  /usr/local/lib/python3.10/dist-packages/keras/src/saving/saving_api.py(262): load_model\n  <ipython-input-6-ce5f315af69b>(11): classifier\n  <ipython-input-14-9192f108ac1e>(137): objective\n  /usr/local/lib/python3.10/dist-packages/optuna/study/_optimize.py(200): _run_trial\n  /usr/local/lib/python3.10/dist-packages/optuna/study/_optimize.py(163): _optimize_sequential\n  /usr/local/lib/python3.10/dist-packages/optuna/study/_optimize.py(66): _optimize\n  /usr/local/lib/python3.10/dist-packages/optuna/study/study.py(451): optimize\n  <ipython-input-19-71d9bb1b13ff>(3): <cell line: 3>\n  /usr/local/lib/python3.10/dist-packages/IPython/core/interactiveshell.py(3553): run_code\n  /usr/local/lib/python3.10/dist-packages/IPython/core/interactiveshell.py(3473): run_ast_nodes\n  /usr/local/lib/python3.10/dist-packages/IPython/core/interactiveshell.py(3257): run_cell_async\n  /usr/local/lib/python3.10/dist-packages/IPython/core/async_helpers.py(78): _pseudo_sync_runner\n  /usr/local/lib/python3.10/dist-packages/IPython/core/interactiveshell.py(3030): _run_cell\n  /usr/local/lib/python3.10/dist-packages/IPython/core/interactiveshell.py(2975): run_cell\n  /usr/local/lib/python3.10/dist-packages/ipykernel/zmqshell.py(539): run_cell\n  /usr/local/lib/python3.10/dist-packages/ipykernel/ipkernel.py(302): do_execute\n  /usr/local/lib/python3.10/dist-packages/tornado/gen.py(234): wrapper\n  /usr/local/lib/python3.10/dist-packages/ipykernel/kernelbase.py(539): execute_request\n  /usr/local/lib/python3.10/dist-packages/tornado/gen.py(234): wrapper\n  /usr/local/lib/python3.10/dist-packages/ipykernel/kernelbase.py(261): dispatch_shell\n  /usr/local/lib/python3.10/dist-packages/tornado/gen.py(234): wrapper\n  /usr/local/lib/python3.10/dist-packages/ipykernel/kernelbase.py(361): process_one\n  /usr/local/lib/python3.10/dist-packages/tornado/gen.py(786): run\n  /usr/local/lib/python3.10/dist-packages/tornado/gen.py(825): inner\n  /usr/local/lib/python3.10/dist-packages/tornado/ioloop.py(738): _run_callback\n  /usr/local/lib/python3.10/dist-packages/tornado/ioloop.py(685): <lambda>\n  /usr/lib/python3.10/asyncio/events.py(80): _run\n  /usr/lib/python3.10/asyncio/base_events.py(1909): _run_once\n  /usr/lib/python3.10/asyncio/base_events.py(603): run_forever\n  /usr/local/lib/python3.10/dist-packages/tornado/platform/asyncio.py(195): start\n  /usr/local/lib/python3.10/dist-packages/ipykernel/kernelapp.py(619): start\n  /usr/local/lib/python3.10/dist-packages/traitlets/config/application.py(992): launch_instance\n  /usr/local/lib/python3.10/dist-packages/colab_kernel_launcher.py(37): <module>\n  /usr/lib/python3.10/runpy.py(86): _run_code\n  /usr/lib/python3.10/runpy.py(196): _run_module_as_main\n",
          "traceback": [
            "\u001b[0;31m---------------------------------------------------------------------------\u001b[0m",
            "\u001b[0;31mRuntimeError\u001b[0m                              Traceback (most recent call last)",
            "\u001b[0;32m<ipython-input-19-71d9bb1b13ff>\u001b[0m in \u001b[0;36m<cell line: 3>\u001b[0;34m()\u001b[0m\n\u001b[1;32m      1\u001b[0m \u001b[0mstudy\u001b[0m \u001b[0;34m=\u001b[0m \u001b[0moptuna\u001b[0m\u001b[0;34m.\u001b[0m\u001b[0mcreate_study\u001b[0m\u001b[0;34m(\u001b[0m\u001b[0mdirection\u001b[0m\u001b[0;34m=\u001b[0m\u001b[0;34m\"maximize\"\u001b[0m\u001b[0;34m,\u001b[0m \u001b[0mpruner\u001b[0m\u001b[0;34m=\u001b[0m\u001b[0moptuna\u001b[0m\u001b[0;34m.\u001b[0m\u001b[0mpruners\u001b[0m\u001b[0;34m.\u001b[0m\u001b[0mMedianPruner\u001b[0m\u001b[0;34m(\u001b[0m\u001b[0;34m)\u001b[0m\u001b[0;34m)\u001b[0m\u001b[0;34m\u001b[0m\u001b[0;34m\u001b[0m\u001b[0m\n\u001b[1;32m      2\u001b[0m \u001b[0;34m\u001b[0m\u001b[0m\n\u001b[0;32m----> 3\u001b[0;31m \u001b[0mstudy\u001b[0m\u001b[0;34m.\u001b[0m\u001b[0moptimize\u001b[0m\u001b[0;34m(\u001b[0m\u001b[0mobjective\u001b[0m\u001b[0;34m,\u001b[0m \u001b[0mn_trials\u001b[0m\u001b[0;34m=\u001b[0m\u001b[0;36m100\u001b[0m\u001b[0;34m)\u001b[0m\u001b[0;34m\u001b[0m\u001b[0;34m\u001b[0m\u001b[0m\n\u001b[0m",
            "\u001b[0;32m/usr/local/lib/python3.10/dist-packages/optuna/study/study.py\u001b[0m in \u001b[0;36moptimize\u001b[0;34m(self, func, n_trials, timeout, n_jobs, catch, callbacks, gc_after_trial, show_progress_bar)\u001b[0m\n\u001b[1;32m    449\u001b[0m                 \u001b[0mIf\u001b[0m \u001b[0mnested\u001b[0m \u001b[0minvocation\u001b[0m \u001b[0mof\u001b[0m \u001b[0mthis\u001b[0m \u001b[0mmethod\u001b[0m \u001b[0moccurs\u001b[0m\u001b[0;34m.\u001b[0m\u001b[0;34m\u001b[0m\u001b[0;34m\u001b[0m\u001b[0m\n\u001b[1;32m    450\u001b[0m         \"\"\"\n\u001b[0;32m--> 451\u001b[0;31m         _optimize(\n\u001b[0m\u001b[1;32m    452\u001b[0m             \u001b[0mstudy\u001b[0m\u001b[0;34m=\u001b[0m\u001b[0mself\u001b[0m\u001b[0;34m,\u001b[0m\u001b[0;34m\u001b[0m\u001b[0;34m\u001b[0m\u001b[0m\n\u001b[1;32m    453\u001b[0m             \u001b[0mfunc\u001b[0m\u001b[0;34m=\u001b[0m\u001b[0mfunc\u001b[0m\u001b[0;34m,\u001b[0m\u001b[0;34m\u001b[0m\u001b[0;34m\u001b[0m\u001b[0m\n",
            "\u001b[0;32m/usr/local/lib/python3.10/dist-packages/optuna/study/_optimize.py\u001b[0m in \u001b[0;36m_optimize\u001b[0;34m(study, func, n_trials, timeout, n_jobs, catch, callbacks, gc_after_trial, show_progress_bar)\u001b[0m\n\u001b[1;32m     64\u001b[0m     \u001b[0;32mtry\u001b[0m\u001b[0;34m:\u001b[0m\u001b[0;34m\u001b[0m\u001b[0;34m\u001b[0m\u001b[0m\n\u001b[1;32m     65\u001b[0m         \u001b[0;32mif\u001b[0m \u001b[0mn_jobs\u001b[0m \u001b[0;34m==\u001b[0m \u001b[0;36m1\u001b[0m\u001b[0;34m:\u001b[0m\u001b[0;34m\u001b[0m\u001b[0;34m\u001b[0m\u001b[0m\n\u001b[0;32m---> 66\u001b[0;31m             _optimize_sequential(\n\u001b[0m\u001b[1;32m     67\u001b[0m                 \u001b[0mstudy\u001b[0m\u001b[0;34m,\u001b[0m\u001b[0;34m\u001b[0m\u001b[0;34m\u001b[0m\u001b[0m\n\u001b[1;32m     68\u001b[0m                 \u001b[0mfunc\u001b[0m\u001b[0;34m,\u001b[0m\u001b[0;34m\u001b[0m\u001b[0;34m\u001b[0m\u001b[0m\n",
            "\u001b[0;32m/usr/local/lib/python3.10/dist-packages/optuna/study/_optimize.py\u001b[0m in \u001b[0;36m_optimize_sequential\u001b[0;34m(study, func, n_trials, timeout, catch, callbacks, gc_after_trial, reseed_sampler_rng, time_start, progress_bar)\u001b[0m\n\u001b[1;32m    161\u001b[0m \u001b[0;34m\u001b[0m\u001b[0m\n\u001b[1;32m    162\u001b[0m         \u001b[0;32mtry\u001b[0m\u001b[0;34m:\u001b[0m\u001b[0;34m\u001b[0m\u001b[0;34m\u001b[0m\u001b[0m\n\u001b[0;32m--> 163\u001b[0;31m             \u001b[0mfrozen_trial\u001b[0m \u001b[0;34m=\u001b[0m \u001b[0m_run_trial\u001b[0m\u001b[0;34m(\u001b[0m\u001b[0mstudy\u001b[0m\u001b[0;34m,\u001b[0m \u001b[0mfunc\u001b[0m\u001b[0;34m,\u001b[0m \u001b[0mcatch\u001b[0m\u001b[0;34m)\u001b[0m\u001b[0;34m\u001b[0m\u001b[0;34m\u001b[0m\u001b[0m\n\u001b[0m\u001b[1;32m    164\u001b[0m         \u001b[0;32mfinally\u001b[0m\u001b[0;34m:\u001b[0m\u001b[0;34m\u001b[0m\u001b[0;34m\u001b[0m\u001b[0m\n\u001b[1;32m    165\u001b[0m             \u001b[0;31m# The following line mitigates memory problems that can be occurred in some\u001b[0m\u001b[0;34m\u001b[0m\u001b[0;34m\u001b[0m\u001b[0m\n",
            "\u001b[0;32m/usr/local/lib/python3.10/dist-packages/optuna/study/_optimize.py\u001b[0m in \u001b[0;36m_run_trial\u001b[0;34m(study, func, catch)\u001b[0m\n\u001b[1;32m    249\u001b[0m         \u001b[0;32mand\u001b[0m \u001b[0;32mnot\u001b[0m \u001b[0misinstance\u001b[0m\u001b[0;34m(\u001b[0m\u001b[0mfunc_err\u001b[0m\u001b[0;34m,\u001b[0m \u001b[0mcatch\u001b[0m\u001b[0;34m)\u001b[0m\u001b[0;34m\u001b[0m\u001b[0;34m\u001b[0m\u001b[0m\n\u001b[1;32m    250\u001b[0m     ):\n\u001b[0;32m--> 251\u001b[0;31m         \u001b[0;32mraise\u001b[0m \u001b[0mfunc_err\u001b[0m\u001b[0;34m\u001b[0m\u001b[0;34m\u001b[0m\u001b[0m\n\u001b[0m\u001b[1;32m    252\u001b[0m     \u001b[0;32mreturn\u001b[0m \u001b[0mfrozen_trial\u001b[0m\u001b[0;34m\u001b[0m\u001b[0;34m\u001b[0m\u001b[0m\n\u001b[1;32m    253\u001b[0m \u001b[0;34m\u001b[0m\u001b[0m\n",
            "\u001b[0;32m/usr/local/lib/python3.10/dist-packages/optuna/study/_optimize.py\u001b[0m in \u001b[0;36m_run_trial\u001b[0;34m(study, func, catch)\u001b[0m\n\u001b[1;32m    198\u001b[0m     \u001b[0;32mwith\u001b[0m \u001b[0mget_heartbeat_thread\u001b[0m\u001b[0;34m(\u001b[0m\u001b[0mtrial\u001b[0m\u001b[0;34m.\u001b[0m\u001b[0m_trial_id\u001b[0m\u001b[0;34m,\u001b[0m \u001b[0mstudy\u001b[0m\u001b[0;34m.\u001b[0m\u001b[0m_storage\u001b[0m\u001b[0;34m)\u001b[0m\u001b[0;34m:\u001b[0m\u001b[0;34m\u001b[0m\u001b[0;34m\u001b[0m\u001b[0m\n\u001b[1;32m    199\u001b[0m         \u001b[0;32mtry\u001b[0m\u001b[0;34m:\u001b[0m\u001b[0;34m\u001b[0m\u001b[0;34m\u001b[0m\u001b[0m\n\u001b[0;32m--> 200\u001b[0;31m             \u001b[0mvalue_or_values\u001b[0m \u001b[0;34m=\u001b[0m \u001b[0mfunc\u001b[0m\u001b[0;34m(\u001b[0m\u001b[0mtrial\u001b[0m\u001b[0;34m)\u001b[0m\u001b[0;34m\u001b[0m\u001b[0;34m\u001b[0m\u001b[0m\n\u001b[0m\u001b[1;32m    201\u001b[0m         \u001b[0;32mexcept\u001b[0m \u001b[0mexceptions\u001b[0m\u001b[0;34m.\u001b[0m\u001b[0mTrialPruned\u001b[0m \u001b[0;32mas\u001b[0m \u001b[0me\u001b[0m\u001b[0;34m:\u001b[0m\u001b[0;34m\u001b[0m\u001b[0;34m\u001b[0m\u001b[0m\n\u001b[1;32m    202\u001b[0m             \u001b[0;31m# TODO(mamu): Handle multi-objective cases.\u001b[0m\u001b[0;34m\u001b[0m\u001b[0;34m\u001b[0m\u001b[0m\n",
            "\u001b[0;32m<ipython-input-14-9192f108ac1e>\u001b[0m in \u001b[0;36mobjective\u001b[0;34m(trial)\u001b[0m\n\u001b[1;32m    135\u001b[0m   \u001b[0mbatch_size\u001b[0m \u001b[0;34m=\u001b[0m \u001b[0mtrial\u001b[0m\u001b[0;34m.\u001b[0m\u001b[0msuggest_categorical\u001b[0m\u001b[0;34m(\u001b[0m\u001b[0;34m\"batch_size\"\u001b[0m\u001b[0;34m,\u001b[0m \u001b[0;34m[\u001b[0m\u001b[0;36m8\u001b[0m\u001b[0;34m,\u001b[0m \u001b[0;36m16\u001b[0m\u001b[0;34m,\u001b[0m \u001b[0;36m32\u001b[0m\u001b[0;34m,\u001b[0m \u001b[0;36m64\u001b[0m\u001b[0;34m,\u001b[0m \u001b[0;36m128\u001b[0m\u001b[0;34m]\u001b[0m\u001b[0;34m)\u001b[0m\u001b[0;34m\u001b[0m\u001b[0;34m\u001b[0m\u001b[0m\n\u001b[1;32m    136\u001b[0m \u001b[0;34m\u001b[0m\u001b[0m\n\u001b[0;32m--> 137\u001b[0;31m   \u001b[0mmodel\u001b[0m \u001b[0;34m=\u001b[0m \u001b[0mclassifier\u001b[0m \u001b[0;34m(\u001b[0m\u001b[0mtrial\u001b[0m\u001b[0;34m)\u001b[0m\u001b[0;34m\u001b[0m\u001b[0;34m\u001b[0m\u001b[0m\n\u001b[0m\u001b[1;32m    138\u001b[0m \u001b[0;34m\u001b[0m\u001b[0m\n\u001b[1;32m    139\u001b[0m \u001b[0;34m\u001b[0m\u001b[0m\n",
            "\u001b[0;32m<ipython-input-6-ce5f315af69b>\u001b[0m in \u001b[0;36mclassifier\u001b[0;34m(trial)\u001b[0m\n\u001b[1;32m      9\u001b[0m \u001b[0;34m\u001b[0m\u001b[0m\n\u001b[1;32m     10\u001b[0m     \u001b[0;31m### SLO model\u001b[0m\u001b[0;34m\u001b[0m\u001b[0;34m\u001b[0m\u001b[0m\n\u001b[0;32m---> 11\u001b[0;31m     \u001b[0mslo_model\u001b[0m \u001b[0;34m=\u001b[0m \u001b[0mload_model\u001b[0m\u001b[0;34m(\u001b[0m\u001b[0;34m'slo_model_resnet101.h5'\u001b[0m\u001b[0;34m)\u001b[0m\u001b[0;34m\u001b[0m\u001b[0;34m\u001b[0m\u001b[0m\n\u001b[0m\u001b[1;32m     12\u001b[0m \u001b[0;34m\u001b[0m\u001b[0m\n\u001b[1;32m     13\u001b[0m     \u001b[0;32mfor\u001b[0m \u001b[0mlayer\u001b[0m \u001b[0;32min\u001b[0m \u001b[0mslo_model\u001b[0m\u001b[0;34m.\u001b[0m\u001b[0mlayers\u001b[0m\u001b[0;34m:\u001b[0m\u001b[0;34m\u001b[0m\u001b[0;34m\u001b[0m\u001b[0m\n",
            "\u001b[0;32m/usr/local/lib/python3.10/dist-packages/keras/src/saving/saving_api.py\u001b[0m in \u001b[0;36mload_model\u001b[0;34m(filepath, custom_objects, compile, safe_mode, **kwargs)\u001b[0m\n\u001b[1;32m    260\u001b[0m \u001b[0;34m\u001b[0m\u001b[0m\n\u001b[1;32m    261\u001b[0m     \u001b[0;31m# Legacy case.\u001b[0m\u001b[0;34m\u001b[0m\u001b[0;34m\u001b[0m\u001b[0m\n\u001b[0;32m--> 262\u001b[0;31m     return legacy_sm_saving_lib.load_model(\n\u001b[0m\u001b[1;32m    263\u001b[0m         \u001b[0mfilepath\u001b[0m\u001b[0;34m,\u001b[0m \u001b[0mcustom_objects\u001b[0m\u001b[0;34m=\u001b[0m\u001b[0mcustom_objects\u001b[0m\u001b[0;34m,\u001b[0m \u001b[0mcompile\u001b[0m\u001b[0;34m=\u001b[0m\u001b[0mcompile\u001b[0m\u001b[0;34m,\u001b[0m \u001b[0;34m**\u001b[0m\u001b[0mkwargs\u001b[0m\u001b[0;34m\u001b[0m\u001b[0;34m\u001b[0m\u001b[0m\n\u001b[1;32m    264\u001b[0m     )\n",
            "\u001b[0;32m/usr/local/lib/python3.10/dist-packages/keras/src/utils/traceback_utils.py\u001b[0m in \u001b[0;36merror_handler\u001b[0;34m(*args, **kwargs)\u001b[0m\n\u001b[1;32m     68\u001b[0m             \u001b[0;31m# To get the full stack trace, call:\u001b[0m\u001b[0;34m\u001b[0m\u001b[0;34m\u001b[0m\u001b[0m\n\u001b[1;32m     69\u001b[0m             \u001b[0;31m# `tf.debugging.disable_traceback_filtering()`\u001b[0m\u001b[0;34m\u001b[0m\u001b[0;34m\u001b[0m\u001b[0m\n\u001b[0;32m---> 70\u001b[0;31m             \u001b[0;32mraise\u001b[0m \u001b[0me\u001b[0m\u001b[0;34m.\u001b[0m\u001b[0mwith_traceback\u001b[0m\u001b[0;34m(\u001b[0m\u001b[0mfiltered_tb\u001b[0m\u001b[0;34m)\u001b[0m \u001b[0;32mfrom\u001b[0m \u001b[0;32mNone\u001b[0m\u001b[0;34m\u001b[0m\u001b[0;34m\u001b[0m\u001b[0m\n\u001b[0m\u001b[1;32m     71\u001b[0m         \u001b[0;32mfinally\u001b[0m\u001b[0;34m:\u001b[0m\u001b[0;34m\u001b[0m\u001b[0;34m\u001b[0m\u001b[0m\n\u001b[1;32m     72\u001b[0m             \u001b[0;32mdel\u001b[0m \u001b[0mfiltered_tb\u001b[0m\u001b[0;34m\u001b[0m\u001b[0;34m\u001b[0m\u001b[0m\n",
            "\u001b[0;32m/usr/local/lib/python3.10/dist-packages/keras/src/backend.py\u001b[0m in \u001b[0;36mrandom_uniform\u001b[0;34m(self, shape, minval, maxval, dtype, nonce)\u001b[0m\n\u001b[1;32m   2098\u001b[0m             \u001b[0;32mif\u001b[0m \u001b[0mnonce\u001b[0m\u001b[0;34m:\u001b[0m\u001b[0;34m\u001b[0m\u001b[0;34m\u001b[0m\u001b[0m\n\u001b[1;32m   2099\u001b[0m                 \u001b[0mseed\u001b[0m \u001b[0;34m=\u001b[0m \u001b[0mtf\u001b[0m\u001b[0;34m.\u001b[0m\u001b[0mrandom\u001b[0m\u001b[0;34m.\u001b[0m\u001b[0mexperimental\u001b[0m\u001b[0;34m.\u001b[0m\u001b[0mstateless_fold_in\u001b[0m\u001b[0;34m(\u001b[0m\u001b[0mseed\u001b[0m\u001b[0;34m,\u001b[0m \u001b[0mnonce\u001b[0m\u001b[0;34m)\u001b[0m\u001b[0;34m\u001b[0m\u001b[0;34m\u001b[0m\u001b[0m\n\u001b[0;32m-> 2100\u001b[0;31m             return tf.random.stateless_uniform(\n\u001b[0m\u001b[1;32m   2101\u001b[0m                 \u001b[0mshape\u001b[0m\u001b[0;34m=\u001b[0m\u001b[0mshape\u001b[0m\u001b[0;34m,\u001b[0m\u001b[0;34m\u001b[0m\u001b[0;34m\u001b[0m\u001b[0m\n\u001b[1;32m   2102\u001b[0m                 \u001b[0mminval\u001b[0m\u001b[0;34m=\u001b[0m\u001b[0mminval\u001b[0m\u001b[0;34m,\u001b[0m\u001b[0;34m\u001b[0m\u001b[0;34m\u001b[0m\u001b[0m\n",
            "\u001b[0;31mRuntimeError\u001b[0m: pybind11::error_already_set: MISMATCH of original and normalized active exception types: ORIGINAL _NotOkStatusException REPLACED BY KeyboardInterrupt: <EMPTY MESSAGE>\n\nAt:\n  /usr/local/lib/python3.10/dist-packages/tensorflow/python/eager/core.py(42): __init__\n  /usr/local/lib/python3.10/dist-packages/tensorflow/python/ops/gen_math_ops.py(477): add_v2\n  /usr/local/lib/python3.10/dist-packages/tensorflow/python/ops/math_ops.py(4098): add\n  /usr/local/lib/python3.10/dist-packages/tensorflow/python/util/dispatch.py(1260): op_dispatch_handler\n  /usr/local/lib/python3.10/dist-packages/tensorflow/python/util/traceback_utils.py(150): error_handler\n  /usr/local/lib/python3.10/dist-packages/tensorflow/python/ops/weak_tensor_ops.py(142): wrapper\n  /usr/local/lib/python3.10/dist-packages/tensorflow/python/ops/stateless_random_ops.py(406): stateless_random_uniform\n  /usr/local/lib/python3.10/dist-packages/tensorflow/python/util/dispatch.py(1260): op_dispatch_handler\n  /usr/local/lib/python3.10/dist-packages/tensorflow/python/util/traceback_utils.py(150): error_handler\n  /usr/local/lib/python3.10/dist-packages/keras/src/backend.py(2100): random_uniform\n  /usr/local/lib/python3.10/dist-packages/keras/src/initializers/initializers.py(672): _generate_init_val\n  /usr/local/lib/python3.10/dist-packages/keras/src/initializers/initializers.py(647): __call__\n  /usr/local/lib/python3.10/dist-packages/tensorflow/python/ops/resource_variable_ops.py(2018): _init_from_args\n  /usr/local/lib/python3.10/dist-packages/tensorflow/python/ops/resource_variable_ops.py(1834): __init__\n  /usr/local/lib/python3.10/dist-packages/tensorflow/python/ops/variables.py(198): __call__\n  /usr/local/lib/python3.10/dist-packages/tensorflow/python/util/traceback_utils.py(150): error_handler\n  /usr/local/lib/python3.10/dist-packages/tensorflow/python/ops/ref_variable.py(66): default_variable_creator\n  /usr/local/lib/python3.10/dist-packages/tensorflow/python/ops/variable_v1.py(299): <lambda>\n  /usr/local/lib/python3.10/dist-packages/tensorflow/python/ops/variable_v1.py(306): _variable_call\n  /usr/local/lib/python3.10/dist-packages/tensorflow/python/ops/variables.py(195): __call__\n  /usr/local/lib/python3.10/dist-packages/tensorflow/python/util/traceback_utils.py(150): error_handler\n  /usr/local/lib/python3.10/dist-packages/keras/src/engine/base_layer_utils.py(137): make_variable\n  /usr/local/lib/python3.10/dist-packages/tensorflow/python/trackable/base.py(492): _add_variable_with_custom_getter\n  /usr/local/lib/python3.10/dist-packages/keras/src/engine/base_layer.py(712): add_weight\n  /usr/local/lib/python3.10/dist-packages/keras/src/layers/convolutional/base_conv.py(227): build\n  /usr/local/lib/python3.10/dist-packages/keras/src/engine/base_layer.py(3027): _maybe_build\n  /usr/local/lib/python3.10/dist-packages/keras/src/engine/base_layer.py(2496): _infer_output_signature\n  /usr/local/lib/python3.10/dist-packages/keras/src/engine/base_layer.py(2439): _keras_tensor_symbolic_call\n  /usr/local/lib/python3.10/dist-packages/keras/src/engine/base_layer.py(2593): _functional_construction_call\n  /usr/local/lib/python3.10/dist-packages/keras/src/engine/base_layer.py(1063): __call__\n  /usr/local/lib/python3.10/dist-packages/keras/src/utils/traceback_utils.py(65): error_handler\n  /usr/local/lib/python3.10/dist-packages/keras/src/engine/functional.py(1445): process_node\n  /usr/local/lib/python3.10/dist-packages/keras/src/engine/functional.py(1505): reconstruct_from_config\n  /usr/local/lib/python3.10/dist-packages/keras/src/engine/training.py(3330): from_config\n  /usr/local/lib/python3.10/dist-packages/keras/src/saving/legacy/serialization.py(497): deserialize_keras_object\n  /usr/local/lib/python3.10/dist-packages/keras/src/saving/legacy/model_config.py(66): model_from_config\n  /usr/local/lib/python3.10/dist-packages/keras/src/saving/legacy/hdf5_format.py(203): load_model_from_hdf5\n  /usr/local/lib/python3.10/dist-packages/keras/src/saving/legacy/save.py(249): load_model\n  /usr/local/lib/python3.10/dist-packages/keras/src/utils/traceback_utils.py(65): error_handler\n  /usr/local/lib/python3.10/dist-packages/keras/src/saving/saving_api.py(262): load_model\n  <ipython-input-6-ce5f315af69b>(11): classifier\n  <ipython-input-14-9192f108ac1e>(137): objective\n  /usr/local/lib/python3.10/dist-packages/optuna/study/_optimize.py(200): _run_trial\n  /usr/local/lib/python3.10/dist-packages/optuna/study/_optimize.py(163): _optimize_sequential\n  /usr/local/lib/python3.10/dist-packages/optuna/study/_optimize.py(66): _optimize\n  /usr/local/lib/python3.10/dist-packages/optuna/study/study.py(451): optimize\n  <ipython-input-19-71d9bb1b13ff>(3): <cell line: 3>\n  /usr/local/lib/python3.10/dist-packages/IPython/core/interactiveshell.py(3553): run_code\n  /usr/local/lib/python3.10/dist-packages/IPython/core/interactiveshell.py(3473): run_ast_nodes\n  /usr/local/lib/python3.10/dist-packages/IPython/core/interactiveshell.py(3257): run_cell_async\n  /usr/local/lib/python3.10/dist-packages/IPython/core/async_helpers.py(78): _pseudo_sync_runner\n  /usr/local/lib/python3.10/dist-packages/IPython/core/interactiveshell.py(3030): _run_cell\n  /usr/local/lib/python3.10/dist-packages/IPython/core/interactiveshell.py(2975): run_cell\n  /usr/local/lib/python3.10/dist-packages/ipykernel/zmqshell.py(539): run_cell\n  /usr/local/lib/python3.10/dist-packages/ipykernel/ipkernel.py(302): do_execute\n  /usr/local/lib/python3.10/dist-packages/tornado/gen.py(234): wrapper\n  /usr/local/lib/python3.10/dist-packages/ipykernel/kernelbase.py(539): execute_request\n  /usr/local/lib/python3.10/dist-packages/tornado/gen.py(234): wrapper\n  /usr/local/lib/python3.10/dist-packages/ipykernel/kernelbase.py(261): dispatch_shell\n  /usr/local/lib/python3.10/dist-packages/tornado/gen.py(234): wrapper\n  /usr/local/lib/python3.10/dist-packages/ipykernel/kernelbase.py(361): process_one\n  /usr/local/lib/python3.10/dist-packages/tornado/gen.py(786): run\n  /usr/local/lib/python3.10/dist-packages/tornado/gen.py(825): inner\n  /usr/local/lib/python3.10/dist-packages/tornado/ioloop.py(738): _run_callback\n  /usr/local/lib/python3.10/dist-packages/tornado/ioloop.py(685): <lambda>\n  /usr/lib/python3.10/asyncio/events.py(80): _run\n  /usr/lib/python3.10/asyncio/base_events.py(1909): _run_once\n  /usr/lib/python3.10/asyncio/base_events.py(603): run_forever\n  /usr/local/lib/python3.10/dist-packages/tornado/platform/asyncio.py(195): start\n  /usr/local/lib/python3.10/dist-packages/ipykernel/kernelapp.py(619): start\n  /usr/local/lib/python3.10/dist-packages/traitlets/config/application.py(992): launch_instance\n  /usr/local/lib/python3.10/dist-packages/colab_kernel_launcher.py(37): <module>\n  /usr/lib/python3.10/runpy.py(86): _run_code\n  /usr/lib/python3.10/runpy.py(196): _run_module_as_main\n"
          ]
        }
      ],
      "source": [
        "study = optuna.create_study(direction=\"maximize\", pruner=optuna.pruners.MedianPruner())\n",
        "\n",
        "study.optimize(objective, n_trials=100)"
      ]
    },
    {
      "cell_type": "code",
      "execution_count": 18,
      "metadata": {
        "colab": {
          "base_uri": "https://localhost:8080/"
        },
        "id": "Fxyq_j5Q2-f3",
        "outputId": "153c8f21-db3c-4b7c-af72-e7ae79337f92"
      },
      "outputs": [
        {
          "output_type": "stream",
          "name": "stdout",
          "text": [
            "Study statistics: \n",
            "  Number of finished trials:  15\n",
            "  Number of pruned trials:  9\n",
            "  Number of complete trials:  5\n",
            "Best trial:\n",
            "  Value:  1.0\n",
            "  Params: \n",
            "    batch_size: 16\n",
            "    dropout_l0: 0.6000000000000001\n",
            "    n_layers: 2\n",
            "    n_units_l0: 526\n",
            "    dropout_l1: 0.6000000000000001\n",
            "    n_units_l1: 676\n",
            "    dropout_l2: 0.7\n",
            "    lr: 0.00024271014447055212\n"
          ]
        }
      ],
      "source": [
        "pruned_trials = study.get_trials(deepcopy=False, states=[TrialState.PRUNED])\n",
        "complete_trials = study.get_trials(deepcopy=False, states=[TrialState.COMPLETE])\n",
        "print(\"Study statistics: \")\n",
        "print(\"  Number of finished trials: \", len(study.trials))\n",
        "print(\"  Number of pruned trials: \", len(pruned_trials))\n",
        "print(\"  Number of complete trials: \", len(complete_trials))\n",
        "\n",
        "print(\"Best trial:\")\n",
        "trial = study.best_trial\n",
        "\n",
        "print(\"  Value: \", trial.value)\n",
        "\n",
        "print(\"  Params: \")\n",
        "for key, value in trial.params.items():\n",
        "  print(\"    {}: {}\".format(key, value))"
      ]
    }
  ],
  "metadata": {
    "accelerator": "GPU",
    "colab": {
      "gpuType": "T4",
      "provenance": [],
      "include_colab_link": true
    },
    "kernelspec": {
      "display_name": "Python 3",
      "name": "python3"
    },
    "language_info": {
      "name": "python"
    }
  },
  "nbformat": 4,
  "nbformat_minor": 0
}