{
  "nbformat": 4,
  "nbformat_minor": 0,
  "metadata": {
    "colab": {
      "provenance": [],
      "mount_file_id": "1Kn_yAZFo4hFXLdHIWyoEPwyI4v124rsZ",
      "authorship_tag": "ABX9TyMvs2SsB3pnvvN8LCaN11es",
      "include_colab_link": true
    },
    "kernelspec": {
      "name": "python3",
      "display_name": "Python 3"
    },
    "language_info": {
      "name": "python"
    }
  },
  "cells": [
    {
      "cell_type": "markdown",
      "metadata": {
        "id": "view-in-github",
        "colab_type": "text"
      },
      "source": [
        "<a href=\"https://colab.research.google.com/github/aliaghababaee/SLO_Asieh/blob/main/Everything.ipynb\" target=\"_parent\"><img src=\"https://colab.research.google.com/assets/colab-badge.svg\" alt=\"Open In Colab\"/></a>"
      ]
    },
    {
      "cell_type": "code",
      "execution_count": 1,
      "metadata": {
        "id": "eiqovQApek8X"
      },
      "outputs": [],
      "source": [
        "import pickle\n",
        "from matplotlib import pyplot as plt, cm\n",
        "import numpy as np\n",
        "import cv2"
      ]
    },
    {
      "cell_type": "code",
      "source": [
        "\"\"\"\n",
        "\n",
        "A class to read the raw OCT data (.vol file). This class has four different methods to read header file,\n",
        "SLO image, Bscans, and corresponding segmentation.\n",
        "\n",
        "sample to run:\n",
        "\n",
        "from oct_read import *\n",
        "oct = OctRead('EYE00003_E_3771_cropped_segmented_corrected.vol')\n",
        "header = oct.get_oct_hdr()\n",
        "print(header['Version'])\n",
        "\"\"\"\n",
        "\n",
        "# import numerical python and structure packages\n",
        "from struct import unpack\n",
        "import numpy as np\n",
        "import os\n",
        "\n",
        "\n",
        "class OctRead:\n",
        "    \"\"\"\n",
        "\n",
        "    This class will read the .vol file and return header information as a Python dictionary along with\n",
        "    bscan images, and segmentation data. It also provides thickness grid\n",
        "    \"\"\"\n",
        "\n",
        "    def __init__(self, file_name):\n",
        "\n",
        "        \"\"\"\n",
        "\n",
        "        create the class variable\n",
        "\n",
        "        :type file_name: str\n",
        "        :param file_name: the name of the volume file\n",
        "        \"\"\"\n",
        "        self.file_name = file_name\n",
        "\n",
        "    def get_oct_hdr(self):\n",
        "        \"\"\"\n",
        "\n",
        "        A method to extract the header information from oct volume file\n",
        "\n",
        "        :returns: a list containing header information\n",
        "        :rtype: list\n",
        "        \"\"\"\n",
        "\n",
        "        # Read binary file\n",
        "        with open(self.file_name, mode='rb') as file_name:\n",
        "            file_content = file_name.read()\n",
        "            version, size_x, num_b_scans, size_z, scale_x, distance, scale_z, size_x_slo, size_y_slo, scale_x_slo, \\\n",
        "            scale_y_slo, field_size_slo, scan_focus, scan_position, exam_time, scan_pattern, b_scan_hdr_size, id, \\\n",
        "            reference_id, pid, patient_id, padding, dob, vid, visit_id, visit_date, grid_type, grid_offset, grid_type_1, \\\n",
        "            grid_offset_1, prog_id, spare = unpack(\"=12siiidddiiddid4sQii16s16si21s3sdi24sdiiii34s1790s\",\n",
        "                                                   file_content[:2048])\n",
        "\n",
        "        # Read raw hdr\n",
        "        # Format hdr properly\n",
        "        hdr = {'Version': version.rstrip(),\n",
        "               'SizeX': size_x,\n",
        "               'NumBScans': num_b_scans,\n",
        "               'SizeZ': size_z,\n",
        "               'ScaleX': scale_x,\n",
        "               'Distance': distance,\n",
        "               'ScaleZ': scale_z,\n",
        "               'SizeXSlo': size_x_slo,\n",
        "               'SizeYSlo': size_y_slo,\n",
        "               'ScaleXSlo': scale_x_slo,\n",
        "               'ScaleYSlo': size_y_slo,\n",
        "               'FieldSizeSlo': field_size_slo,\n",
        "               'ScanFocus': scan_focus,\n",
        "               'ScanPosition': scan_position.rstrip(),\n",
        "               'ExamTime': exam_time,\n",
        "               'ScanPattern': scan_pattern,\n",
        "               'BScanHdrSize': b_scan_hdr_size,\n",
        "               'ID': id.rstrip(),\n",
        "               'ReferenceID': reference_id.rstrip(),\n",
        "               'PID': pid,\n",
        "               'PatientID': patient_id.rstrip(),\n",
        "               'DOB': dob,\n",
        "               'VID': vid,\n",
        "               'VisitID': visit_id.rstrip(),\n",
        "               'VisitDate': visit_date,\n",
        "               'GridType': grid_type,\n",
        "               'GridOffset': grid_offset,\n",
        "               'GridType1': grid_type_1,\n",
        "               'GridOffset1': grid_offset_1,\n",
        "               'ProgID': prog_id.rstrip()}\n",
        "        return hdr\n",
        "\n",
        "    def get_thickness_grid(self, hdr):\n",
        "\n",
        "        \"\"\"\n",
        "        Read the EDTRS thickness grid information from the vol file\n",
        "\n",
        "        :type hdr: list\n",
        "        :param hdr: header file\n",
        "        :returns: thickness grid\n",
        "        :rtype: list\n",
        "        \"\"\"\n",
        "        # offset for the corresponding data\n",
        "        grid_offset = hdr['GridOffset']\n",
        "\n",
        "        # Type of the EDTRS grid with different diameters\n",
        "        grid_type = hdr['GridType']\n",
        "\n",
        "        # if zero then grid information are not available\n",
        "        if grid_type != 0:\n",
        "\n",
        "            # Read the vol file as a binary file from the offset point\n",
        "            f = open(self.file_name, \"rb\")\n",
        "            f.seek(grid_offset, os.SEEK_SET)\n",
        "\n",
        "            # Read the thickness grid related information from vol file\n",
        "            thickness_type = np.fromfile(f, dtype='int32', count=1)\n",
        "            thickness_dia = np.fromfile(f, dtype='double', count=3)\n",
        "            thickness_center_pos = np.fromfile(f, dtype='double', count=2)\n",
        "            thickness_center_thick = np.fromfile(f, dtype='float32', count=1)\n",
        "            thickness_min_center_thick = np.fromfile(f, dtype='float32', count=1)\n",
        "            thickness_max_center_thick = np.fromfile(f, dtype='float32', count=1)\n",
        "            thickness_total_vol = np.fromfile(f, dtype='float32', count=1)\n",
        "            thickness_sector = np.zeros([9, 2], dtype='float')\n",
        "            for i in range(9):\n",
        "                thickness_sector[i, 0] = np.fromfile(f, dtype='float32', count=1)\n",
        "                thickness_sector[i, 1] = np.fromfile(f, dtype='float32', count=1)\n",
        "\n",
        "            # Format the data properly\n",
        "            thickness_grid = {'Type': thickness_type,\n",
        "                              'Diameter': thickness_dia,\n",
        "                              'CenterPos': thickness_center_pos,\n",
        "                              'CenterThick': thickness_center_thick,\n",
        "                              'MinCentralThick': thickness_min_center_thick,\n",
        "                              'MaxCentralThick': thickness_max_center_thick,\n",
        "                              'TotalVolume': thickness_total_vol,\n",
        "                              'ThicknessSectors': thickness_sector}\n",
        "\n",
        "        return thickness_grid\n",
        "\n",
        "    def get_slo_image(self, hdr):\n",
        "\n",
        "        \"\"\"\n",
        "\n",
        "        Read the SLO image stored in the  .vol file and returns it as a Numpy array.\n",
        "\n",
        "        :type hdr: list\n",
        "        :param hdr: header file, which is the output of the first method of the class.\n",
        "        :returns: slo image\n",
        "        :rtype: int\n",
        "        \"\"\"\n",
        "\n",
        "        # Size of the SLO image\n",
        "        size_x_slo = hdr['SizeXSlo']\n",
        "        size_y_slo = hdr['SizeYSlo']\n",
        "        slo_size = size_x_slo * size_y_slo\n",
        "\n",
        "        # Offset value before the SLO image\n",
        "        slo_offset = 2048\n",
        "\n",
        "        # Read the vol file as a binary file from the offset point\n",
        "        f = open(self.file_name, \"rb\")\n",
        "        f.seek(slo_offset, os.SEEK_SET)\n",
        "\n",
        "        # Convert the data into proper format\n",
        "        slo_img = np.fromfile(f, dtype=np.uint8, count=slo_size)\n",
        "\n",
        "        # Convert the read data into matrix (array) form and return the image value\n",
        "        slo_img = slo_img.reshape(size_x_slo, size_y_slo)\n",
        "        return slo_img\n",
        "\n",
        "    def get_b_scans(self, hdr):\n",
        "        \"\"\"\n",
        "\n",
        "        method to read the bscan images from the raw vol file.\n",
        "\n",
        "        :type hdr: list\n",
        "        :param hdr: header file, which is the output of the first method of the class.\n",
        "        :returns: bscan images\n",
        "        :rtype: float\n",
        "        \"\"\"\n",
        "        # Read the size of the 3D image stack.\n",
        "        size_x = hdr['SizeX']\n",
        "        size_y = hdr['NumBScans']\n",
        "        size_z = hdr['SizeZ']\n",
        "\n",
        "        # Create and empty 3D array to store the bscans stack.\n",
        "        b_scans_stack = np.zeros([size_z, size_x, size_y], dtype='float')\n",
        "\n",
        "        # Get the size of the SLO image and also the size of the bscan header.\n",
        "        size_x_slo = hdr['SizeXSlo']\n",
        "        size_y_slo = hdr['SizeYSlo']\n",
        "        b_scan_hdr_size = hdr['BScanHdrSize']\n",
        "\n",
        "        # Size of a single bscan.\n",
        "        loc_size = (size_x * size_z)\n",
        "\n",
        "        # read the file as a binary file.\n",
        "        f = open(self.file_name, \"rb\")\n",
        "\n",
        "        # Get the data regarding each bscan.\n",
        "        for i in range(size_y):\n",
        "            # Offset value for each bscan.\n",
        "            b_scan_offset = 2048 + b_scan_hdr_size + (size_x_slo * size_y_slo) + (\n",
        "                        i * (b_scan_hdr_size + size_x * size_z * 4))\n",
        "\n",
        "            # Read the corresponding bscan data.\n",
        "            f.seek(b_scan_offset, os.SEEK_SET)\n",
        "            b_scan = np.fromfile(f, '<f', count=loc_size)\n",
        "\n",
        "            # Reshape in matrix format.\n",
        "            b_scan = np.asarray(b_scan, 'f')\n",
        "            b_scan = b_scan.reshape(size_z, size_x)\n",
        "\n",
        "            # Convert into standard pixel data.\n",
        "            b_scan = np.multiply((b_scan ** 0.25), 255)\n",
        "\n",
        "            # Store in the stack.\n",
        "            b_scans_stack[:, :, i] = b_scan\n",
        "        return b_scans_stack\n",
        "\n",
        "    def get_segmentation(self, hdr):\n",
        "        \"\"\"\n",
        "\n",
        "        method to read the segmentation corresponding to the different layers of the retina from the raw vol file.\n",
        "\n",
        "        :type hdr: list\n",
        "        :param hdr: header file, which is the output of the first method of the class.\n",
        "        :returns: bscan images\n",
        "        :rtype: float\n",
        "        \"\"\"\n",
        "        # Size of the bscan stack\n",
        "        size_x = hdr['SizeX']\n",
        "        size_y = hdr['NumBScans']\n",
        "        size_z = hdr['SizeZ']\n",
        "\n",
        "        # Size of the SLO image\n",
        "        size_x_slo = hdr['SizeXSlo']\n",
        "        size_y_slo = hdr['SizeYSlo']\n",
        "        b_scan_hdr_size = hdr['BScanHdrSize']\n",
        "\n",
        "        # Binary data\n",
        "        f = open(self.file_name, \"rb\")\n",
        "\n",
        "        # Arrays to keep the boundary information of the segmentation\n",
        "        b_scan_hdr_size_array = np.zeros([size_y, 1], dtype='int32')\n",
        "        start_x = np.zeros([size_y, 1], dtype='double')\n",
        "        start_y = np.zeros([size_y, 1], dtype='double')\n",
        "        end_x = np.zeros([size_y, 1], dtype='double')\n",
        "        end_y = np.zeros([size_y, 1], dtype='double')\n",
        "        num_seg = np.zeros([size_y, 1], dtype='int32')\n",
        "        off_seg = np.zeros([size_y, 1], dtype='int32')\n",
        "        quality = np.zeros([size_y, 1], dtype='float32')\n",
        "        shift = np.zeros([size_y, 1], dtype='int32')\n",
        "\n",
        "        # create an empty stack for segmentation line\n",
        "        b_scans_segments = np.zeros([size_x, 17, size_y], dtype='float')\n",
        "\n",
        "        # read the segmentation lines\n",
        "        for i in range(size_y):\n",
        "            # offset regarding the each scan and then read\n",
        "            seg_offset = 12 + 2048 + (size_x_slo * size_y_slo) + (i * (b_scan_hdr_size + size_x * size_z * 4))\n",
        "            f.seek(seg_offset, os.SEEK_SET)\n",
        "\n",
        "            # Boundary points of the segments\n",
        "            b_scan_hdr_size_array[i] = np.fromfile(f, dtype='int32', count=1)\n",
        "            start_x[i] = np.fromfile(f, dtype='double', count=1)\n",
        "            start_y[i] = np.fromfile(f, dtype='double', count=1)\n",
        "            end_x[i] = np.fromfile(f, dtype='double', count=1)\n",
        "            end_y[i] = np.fromfile(f, dtype='double', count=1)\n",
        "\n",
        "            # number of segment layers\n",
        "            num_seg[i] = np.fromfile(f, dtype=np.int32, count=1)\n",
        "\n",
        "            # Offset to read the segment\n",
        "            off_seg[i] = np.fromfile(f, dtype='int32', count=1)\n",
        "\n",
        "            # Other params\n",
        "            quality[i] = np.fromfile(f, dtype='float32', count=1)\n",
        "            shift[i] = np.fromfile(f, dtype='int32', count=1)\n",
        "            spare = np.fromfile(f, dtype='int8', count=192)\n",
        "            # print('spare' + spare[i])\n",
        "\n",
        "            seg_offset = 256 + 2048 + (size_x_slo * size_y_slo) + (i * (b_scan_hdr_size + size_x * size_z * 4))\n",
        "            f.seek(seg_offset, os.SEEK_SET)\n",
        "            first_seg = np.fromfile(f, '<f', count=num_seg[i, 0] * size_x)\n",
        "\n",
        "            # maximum intensity of the segmentation and total number of points\n",
        "            seg_max = (max(first_seg))\n",
        "            num_points = num_seg[i, 0] * size_x\n",
        "\n",
        "            # Remove outliers\n",
        "            for k in range(num_points):\n",
        "                if first_seg[k] == seg_max:\n",
        "                    first_seg[k] = float('nan')\n",
        "\n",
        "            # Store in the stack\n",
        "            for j in range(num_seg[i, 0]):\n",
        "                b_scans_segments[:, j, i] = first_seg[j * size_x:(j + 1) * size_x]\n",
        "\n",
        "        # Format the data properly\n",
        "        seg_data_full = {'startX': start_x,\n",
        "                         'startY': start_y,\n",
        "                         'endX': end_x,\n",
        "                         'endY': end_y,\n",
        "                         'segNumbers': num_seg,\n",
        "                         'offsetSeg': off_seg,\n",
        "                         'Quality': quality,\n",
        "                         'Shift': shift,\n",
        "                         'SegLayers': b_scans_segments}\n",
        "        return seg_data_full\n",
        "\n"
      ],
      "metadata": {
        "id": "IVtlAzONh9-f"
      },
      "execution_count": 2,
      "outputs": []
    },
    {
      "cell_type": "code",
      "source": [
        "from google.colab import drive\n",
        "drive.mount('/content/drive')"
      ],
      "metadata": {
        "colab": {
          "base_uri": "https://localhost:8080/"
        },
        "id": "zHk9oFGEDFLm",
        "outputId": "dd769dfe-7926-4130-a12e-f1862e70ede5"
      },
      "execution_count": null,
      "outputs": [
        {
          "output_type": "stream",
          "name": "stdout",
          "text": [
            "Drive already mounted at /content/drive; to attempt to forcibly remount, call drive.mount(\"/content/drive\", force_remount=True).\n"
          ]
        }
      ]
    },
    {
      "cell_type": "code",
      "source": [],
      "metadata": {
        "id": "H1rqfFHfXPQy"
      },
      "execution_count": null,
      "outputs": []
    },
    {
      "cell_type": "code",
      "source": [],
      "metadata": {
        "id": "N3FfZx0hXPUW"
      },
      "execution_count": null,
      "outputs": []
    },
    {
      "cell_type": "code",
      "source": [
        "!unzip /content/drive/MyDrive/merged_data_final2.zip"
      ],
      "metadata": {
        "colab": {
          "base_uri": "https://localhost:8080/"
        },
        "id": "8MUVupJOXPYV",
        "outputId": "e608f6f8-5ba6-45c8-b2ac-2fabf559168f"
      },
      "execution_count": null,
      "outputs": [
        {
          "output_type": "stream",
          "name": "stdout",
          "text": [
            "Archive:  /content/drive/MyDrive/merged_data_final2.zip\n",
            " extracting: test_merged.pkl         \n",
            " extracting: test_merged_label.pkl   \n",
            " extracting: train_merged.pkl        \n",
            " extracting: train_merged_label.pkl  \n"
          ]
        }
      ]
    },
    {
      "cell_type": "code",
      "source": [
        "!unzip /content/drive/MyDrive/new_test_merged_data.zip"
      ],
      "metadata": {
        "colab": {
          "base_uri": "https://localhost:8080/"
        },
        "id": "_TZ3JLy0XPb9",
        "outputId": "e59651f1-e547-4d0a-9390-9ed8041b1d91"
      },
      "execution_count": null,
      "outputs": [
        {
          "output_type": "stream",
          "name": "stdout",
          "text": [
            "Archive:  /content/drive/MyDrive/new_test_merged_data.zip\n",
            "replace test_merged.pkl? [y]es, [n]o, [A]ll, [N]one, [r]ename: y\n",
            " extracting: test_merged.pkl         \n",
            "replace test_merged_label.pkl? [y]es, [n]o, [A]ll, [N]one, [r]ename: y\n",
            " extracting: test_merged_label.pkl   \n"
          ]
        }
      ]
    },
    {
      "cell_type": "code",
      "source": [],
      "metadata": {
        "id": "FeM8B5TCXPfa"
      },
      "execution_count": null,
      "outputs": []
    },
    {
      "cell_type": "code",
      "source": [
        "!unzip /content/drive/MyDrive/merged_data_finalllll.zip"
      ],
      "metadata": {
        "id": "qA8pjQhPWzSu",
        "colab": {
          "base_uri": "https://localhost:8080/"
        },
        "outputId": "42cec519-a240-434c-a8f9-0d1db3394406"
      },
      "execution_count": null,
      "outputs": [
        {
          "output_type": "stream",
          "name": "stdout",
          "text": [
            "Archive:  /content/drive/MyDrive/merged_data_finalllll.zip\n",
            "replace test_merged.pkl? [y]es, [n]o, [A]ll, [N]one, [r]ename: r\n",
            "new name: test_merged2.pkl\n",
            " extracting: test_merged2.pkl        \n",
            "replace test_merged_label.pkl? [y]es, [n]o, [A]ll, [N]one, [r]ename: r\n",
            "new name: test_merged_label2.pkl\n",
            " extracting: test_merged_label2.pkl  \n",
            "replace train_merged.pkl? [y]es, [n]o, [A]ll, [N]one, [r]ename: r\n",
            "new name: train_merged2.pkl\n",
            " extracting: train_merged2.pkl       \n",
            "replace train_merged_label.pkl? [y]es, [n]o, [A]ll, [N]one, [r]ename: r\n",
            "new name: train_merged_label2.pkl\n",
            " extracting: train_merged_label2.pkl  \n"
          ]
        }
      ]
    },
    {
      "cell_type": "code",
      "source": [],
      "metadata": {
        "id": "BEZXeEWkXhkx",
        "colab": {
          "base_uri": "https://localhost:8080/",
          "height": 141
        },
        "outputId": "dff2e00b-2a88-4cf0-bbbd-77ae2efbe154"
      },
      "execution_count": null,
      "outputs": [
        {
          "output_type": "error",
          "ename": "NameError",
          "evalue": "name 'train_merged' is not defined",
          "traceback": [
            "\u001b[0;31m---------------------------------------------------------------------------\u001b[0m",
            "\u001b[0;31mNameError\u001b[0m                                 Traceback (most recent call last)",
            "\u001b[0;32m<ipython-input-11-3793cc62e601>\u001b[0m in \u001b[0;36m<cell line: 1>\u001b[0;34m()\u001b[0m\n\u001b[0;32m----> 1\u001b[0;31m \u001b[0mtrain_merged\u001b[0m \u001b[0;34m==\u001b[0m \u001b[0mtrain_merged2\u001b[0m\u001b[0;34m\u001b[0m\u001b[0;34m\u001b[0m\u001b[0m\n\u001b[0m",
            "\u001b[0;31mNameError\u001b[0m: name 'train_merged' is not defined"
          ]
        }
      ]
    },
    {
      "cell_type": "code",
      "source": [
        "tr1 = pickle.load (open ('/content/train_merged.pkl', 'rb'))\n",
        "tr2 = pickle.load (open ('/content/train_merged2.pkl', 'rb'))"
      ],
      "metadata": {
        "id": "27TS9q5WXhoa"
      },
      "execution_count": null,
      "outputs": []
    },
    {
      "cell_type": "code",
      "source": [
        "te1 = pickle.load (open ('/content/test_merged.pkl', 'rb'))\n",
        "te2 = pickle.load (open ('/content/test_merged2.pkl', 'rb'))"
      ],
      "metadata": {
        "id": "Py3WDTx4XhsI"
      },
      "execution_count": null,
      "outputs": []
    },
    {
      "cell_type": "code",
      "source": [],
      "metadata": {
        "id": "-F4AvuX0e_yO"
      },
      "execution_count": null,
      "outputs": []
    },
    {
      "cell_type": "code",
      "source": [
        "trl1 = pickle.load (open ('/content/train_merged_label.pkl', 'rb'))\n",
        "trl2 = pickle.load (open ('/content/train_merged_label2.pkl', 'rb'))"
      ],
      "metadata": {
        "id": "Raot4ci6e_3u"
      },
      "execution_count": null,
      "outputs": []
    },
    {
      "cell_type": "code",
      "source": [
        "tel1 = pickle.load (open ('/content/test_merged_label.pkl', 'rb'))\n",
        "tel2 = pickle.load (open ('/content/test_merged_label2.pkl', 'rb'))"
      ],
      "metadata": {
        "id": "5zVqo2U-e_-7"
      },
      "execution_count": null,
      "outputs": []
    },
    {
      "cell_type": "code",
      "source": [
        "trl1"
      ],
      "metadata": {
        "colab": {
          "base_uri": "https://localhost:8080/"
        },
        "id": "-tk9b1sKdCV7",
        "outputId": "8e2ddc72-9b9d-4ed4-f3a4-9e6cdc8ef692"
      },
      "execution_count": null,
      "outputs": [
        {
          "output_type": "execute_result",
          "data": {
            "text/plain": [
              "0"
            ]
          },
          "metadata": {},
          "execution_count": 34
        }
      ]
    },
    {
      "cell_type": "code",
      "source": [
        "s = 0\n",
        "for i in tel1:\n",
        "  if tel1 [i] == tel2 [i]:\n",
        "          s+=1"
      ],
      "metadata": {
        "id": "pNvzLNRffQgh"
      },
      "execution_count": null,
      "outputs": []
    },
    {
      "cell_type": "code",
      "source": [
        "s"
      ],
      "metadata": {
        "colab": {
          "base_uri": "https://localhost:8080/"
        },
        "id": "pLAoKGhjfWOI",
        "outputId": "4888b4ac-aa43-4d18-970f-cd0fc295add2"
      },
      "execution_count": null,
      "outputs": [
        {
          "output_type": "execute_result",
          "data": {
            "text/plain": [
              "21"
            ]
          },
          "metadata": {},
          "execution_count": 39
        }
      ]
    },
    {
      "cell_type": "code",
      "source": [
        "s = 0\n",
        "for i in trl1:\n",
        "  for j in range (len (trl1 [i])):\n",
        "    for m in range (len (trl1 [i] [j] [1])):\n",
        "      for n in range (len (trl1 [i] [j] [1] [m])):\n",
        "        if trl1 [i] [j] [1] [m] [n] [0] == trl2 [i] [j] [1] [m] [n] [0]:\n",
        "          s+=1"
      ],
      "metadata": {
        "id": "Yo46FYAIXhv1",
        "colab": {
          "base_uri": "https://localhost:8080/",
          "height": 211
        },
        "outputId": "8232bfad-10e9-468c-fe24-fcc432cb48d5"
      },
      "execution_count": null,
      "outputs": [
        {
          "output_type": "error",
          "ename": "TypeError",
          "evalue": "object of type 'int' has no len()",
          "traceback": [
            "\u001b[0;31m---------------------------------------------------------------------------\u001b[0m",
            "\u001b[0;31mTypeError\u001b[0m                                 Traceback (most recent call last)",
            "\u001b[0;32m<ipython-input-33-a3d2fc974b7d>\u001b[0m in \u001b[0;36m<cell line: 2>\u001b[0;34m()\u001b[0m\n\u001b[1;32m      1\u001b[0m \u001b[0ms\u001b[0m \u001b[0;34m=\u001b[0m \u001b[0;36m0\u001b[0m\u001b[0;34m\u001b[0m\u001b[0;34m\u001b[0m\u001b[0m\n\u001b[1;32m      2\u001b[0m \u001b[0;32mfor\u001b[0m \u001b[0mi\u001b[0m \u001b[0;32min\u001b[0m \u001b[0mtrl1\u001b[0m\u001b[0;34m:\u001b[0m\u001b[0;34m\u001b[0m\u001b[0;34m\u001b[0m\u001b[0m\n\u001b[0;32m----> 3\u001b[0;31m   \u001b[0;32mfor\u001b[0m \u001b[0mj\u001b[0m \u001b[0;32min\u001b[0m \u001b[0mrange\u001b[0m \u001b[0;34m(\u001b[0m\u001b[0mlen\u001b[0m \u001b[0;34m(\u001b[0m\u001b[0mtrl1\u001b[0m \u001b[0;34m[\u001b[0m\u001b[0mi\u001b[0m\u001b[0;34m]\u001b[0m\u001b[0;34m)\u001b[0m\u001b[0;34m)\u001b[0m\u001b[0;34m:\u001b[0m\u001b[0;34m\u001b[0m\u001b[0;34m\u001b[0m\u001b[0m\n\u001b[0m\u001b[1;32m      4\u001b[0m     \u001b[0;32mfor\u001b[0m \u001b[0mm\u001b[0m \u001b[0;32min\u001b[0m \u001b[0mrange\u001b[0m \u001b[0;34m(\u001b[0m\u001b[0mlen\u001b[0m \u001b[0;34m(\u001b[0m\u001b[0mtrl1\u001b[0m \u001b[0;34m[\u001b[0m\u001b[0mi\u001b[0m\u001b[0;34m]\u001b[0m \u001b[0;34m[\u001b[0m\u001b[0mj\u001b[0m\u001b[0;34m]\u001b[0m \u001b[0;34m[\u001b[0m\u001b[0;36m1\u001b[0m\u001b[0;34m]\u001b[0m\u001b[0;34m)\u001b[0m\u001b[0;34m)\u001b[0m\u001b[0;34m:\u001b[0m\u001b[0;34m\u001b[0m\u001b[0;34m\u001b[0m\u001b[0m\n\u001b[1;32m      5\u001b[0m       \u001b[0;32mfor\u001b[0m \u001b[0mn\u001b[0m \u001b[0;32min\u001b[0m \u001b[0mrange\u001b[0m \u001b[0;34m(\u001b[0m\u001b[0mlen\u001b[0m \u001b[0;34m(\u001b[0m\u001b[0mtrl1\u001b[0m \u001b[0;34m[\u001b[0m\u001b[0mi\u001b[0m\u001b[0;34m]\u001b[0m \u001b[0;34m[\u001b[0m\u001b[0mj\u001b[0m\u001b[0;34m]\u001b[0m \u001b[0;34m[\u001b[0m\u001b[0;36m1\u001b[0m\u001b[0;34m]\u001b[0m \u001b[0;34m[\u001b[0m\u001b[0mm\u001b[0m\u001b[0;34m]\u001b[0m\u001b[0;34m)\u001b[0m\u001b[0;34m)\u001b[0m\u001b[0;34m:\u001b[0m\u001b[0;34m\u001b[0m\u001b[0;34m\u001b[0m\u001b[0m\n",
            "\u001b[0;31mTypeError\u001b[0m: object of type 'int' has no len()"
          ]
        }
      ]
    },
    {
      "cell_type": "code",
      "source": [
        "s"
      ],
      "metadata": {
        "id": "tuCahXJwXhzH",
        "colab": {
          "base_uri": "https://localhost:8080/"
        },
        "outputId": "975ff76f-2b6d-48bc-ebe8-189bcd824b81"
      },
      "execution_count": null,
      "outputs": [
        {
          "output_type": "execute_result",
          "data": {
            "text/plain": [
              "3256320"
            ]
          },
          "metadata": {},
          "execution_count": 31
        }
      ]
    },
    {
      "cell_type": "code",
      "source": [],
      "metadata": {
        "id": "fPhcv0PbXh26"
      },
      "execution_count": null,
      "outputs": []
    },
    {
      "cell_type": "code",
      "source": [
        "!unzip /content/drive/MyDrive/Iran2.zip"
      ],
      "metadata": {
        "id": "ogg-M8VGWzVk",
        "colab": {
          "base_uri": "https://localhost:8080/"
        },
        "outputId": "f4e7f9be-b5e8-4e15-96e3-302654281b6c"
      },
      "execution_count": null,
      "outputs": [
        {
          "output_type": "stream",
          "name": "stdout",
          "text": [
            "Archive:  /content/drive/MyDrive/Iran2.zip\n",
            "   creating: Iran2/\n",
            "  inflating: Iran2/EYE00084_E_3408_cropped_segmented_corrected.vol  \n",
            "  inflating: Iran2/EYE00173_E_820_cropped_segmented_corrected.vol  "
          ]
        }
      ]
    },
    {
      "cell_type": "code",
      "source": [
        "oct = OctRead ('/content/Iran2/EYE00003_E_3771_cropped_segmented_corrected.vol')"
      ],
      "metadata": {
        "id": "vP-nLvMcWzYE"
      },
      "execution_count": null,
      "outputs": []
    },
    {
      "cell_type": "code",
      "source": [
        "hdr = oct.get_oct_hdr ()"
      ],
      "metadata": {
        "id": "vtA-oMkbWza3"
      },
      "execution_count": null,
      "outputs": []
    },
    {
      "cell_type": "code",
      "source": [
        "seg = oct.get_segmentation (hdr) ['SegLayers']"
      ],
      "metadata": {
        "id": "kIOE3aB9WzdV"
      },
      "execution_count": null,
      "outputs": []
    },
    {
      "cell_type": "code",
      "source": [
        "seg.shape"
      ],
      "metadata": {
        "colab": {
          "base_uri": "https://localhost:8080/"
        },
        "id": "_TUsumiRXtjf",
        "outputId": "c7a3a385-3838-4d2a-dfe2-b00993fc6d00"
      },
      "execution_count": null,
      "outputs": [
        {
          "output_type": "execute_result",
          "data": {
            "text/plain": [
              "(523, 17, 49)"
            ]
          },
          "metadata": {},
          "execution_count": 38
        }
      ]
    },
    {
      "cell_type": "code",
      "source": [],
      "metadata": {
        "id": "yyZc4V65YAcD"
      },
      "execution_count": null,
      "outputs": []
    },
    {
      "cell_type": "code",
      "source": [
        "train_thickness = pickle.load (open ('/content/train_layers_iran.pkl', 'rb'))"
      ],
      "metadata": {
        "id": "10bWPyJeAFbY"
      },
      "execution_count": null,
      "outputs": []
    },
    {
      "cell_type": "code",
      "source": [
        "train_sp = pickle.load (open ('/content/train_sp_iran.pkl', 'rb'))"
      ],
      "metadata": {
        "id": "ujFFzbuvMff5"
      },
      "execution_count": null,
      "outputs": []
    },
    {
      "cell_type": "code",
      "source": [
        "!unzip /content/drive/MyDrive/train_thickness_retina_iran.zip"
      ],
      "metadata": {
        "colab": {
          "base_uri": "https://localhost:8080/"
        },
        "id": "683y5UqgQYC8",
        "outputId": "6f5b8f39-4c27-4499-9f26-285177a47e3b"
      },
      "execution_count": null,
      "outputs": [
        {
          "output_type": "stream",
          "name": "stdout",
          "text": [
            "Archive:  /content/drive/MyDrive/train_thickness_retina_iran.zip\n",
            " extracting: train_labels.pkl        \n",
            " extracting: train_thickness_retina.pkl  \n",
            " extracting: train_sp.pkl            \n"
          ]
        }
      ]
    },
    {
      "cell_type": "code",
      "source": [
        "train_sp_thick = pickle.load (open ('/content/train_sp.pkl', 'rb'))"
      ],
      "metadata": {
        "id": "TWkK7vvHMxEA"
      },
      "execution_count": null,
      "outputs": []
    },
    {
      "cell_type": "code",
      "source": [
        "train_sp_fals = pickle.load (open ('/content/train_sp_iran.pkl', 'rb'))"
      ],
      "metadata": {
        "id": "yGdzGECjV64r",
        "colab": {
          "base_uri": "https://localhost:8080/",
          "height": 141
        },
        "outputId": "325b9e42-1884-4152-fec9-87fce0fa918a"
      },
      "execution_count": null,
      "outputs": [
        {
          "output_type": "error",
          "ename": "FileNotFoundError",
          "evalue": "[Errno 2] No such file or directory: '/content/train_sp_iran.pkl'",
          "traceback": [
            "\u001b[0;31m---------------------------------------------------------------------------\u001b[0m",
            "\u001b[0;31mFileNotFoundError\u001b[0m                         Traceback (most recent call last)",
            "\u001b[0;32m<ipython-input-6-6503dcaef1d4>\u001b[0m in \u001b[0;36m<cell line: 1>\u001b[0;34m()\u001b[0m\n\u001b[0;32m----> 1\u001b[0;31m \u001b[0mtrain_sp_fals\u001b[0m \u001b[0;34m=\u001b[0m \u001b[0mpickle\u001b[0m\u001b[0;34m.\u001b[0m\u001b[0mload\u001b[0m \u001b[0;34m(\u001b[0m\u001b[0mopen\u001b[0m \u001b[0;34m(\u001b[0m\u001b[0;34m'/content/train_sp_iran.pkl'\u001b[0m\u001b[0;34m,\u001b[0m \u001b[0;34m'rb'\u001b[0m\u001b[0;34m)\u001b[0m\u001b[0;34m)\u001b[0m\u001b[0;34m\u001b[0m\u001b[0;34m\u001b[0m\u001b[0m\n\u001b[0m",
            "\u001b[0;31mFileNotFoundError\u001b[0m: [Errno 2] No such file or directory: '/content/train_sp_iran.pkl'"
          ]
        }
      ]
    },
    {
      "cell_type": "code",
      "source": [
        "train_thickness = pickle.load (open ('/content/train_thickness_retina.pkl', 'rb'))"
      ],
      "metadata": {
        "id": "o590BRowQ5Z2"
      },
      "execution_count": null,
      "outputs": []
    },
    {
      "cell_type": "code",
      "source": [
        "train_labels_thick = pickle.load (open ('/content/train_labels.pkl', 'rb'))"
      ],
      "metadata": {
        "id": "5_8q_ziFRCi9"
      },
      "execution_count": null,
      "outputs": []
    },
    {
      "cell_type": "code",
      "source": [],
      "metadata": {
        "id": "8M2jRLlWW2lk"
      },
      "execution_count": null,
      "outputs": []
    },
    {
      "cell_type": "code",
      "source": [],
      "metadata": {
        "id": "q9Pg9rqxDiHF"
      },
      "execution_count": null,
      "outputs": []
    },
    {
      "cell_type": "code",
      "source": [
        "!unzip /content/drive/MyDrive/test_thickness_retina_iran.zip"
      ],
      "metadata": {
        "colab": {
          "base_uri": "https://localhost:8080/"
        },
        "id": "4DBW4GPcDiLQ",
        "outputId": "43c3378c-71b1-4451-a4f9-a33c3fe49446"
      },
      "execution_count": null,
      "outputs": [
        {
          "output_type": "stream",
          "name": "stdout",
          "text": [
            "Archive:  /content/drive/MyDrive/test_thickness_retina_iran.zip\n",
            " extracting: test_labels.pkl         \n",
            " extracting: test_thickness_retina.pkl  \n",
            " extracting: test_sp.pkl             \n"
          ]
        }
      ]
    },
    {
      "cell_type": "code",
      "source": [
        "test_sp_thick = pickle.load (open ('/content/test_sp.pkl', 'rb'))"
      ],
      "metadata": {
        "id": "v5B6joTmmASB"
      },
      "execution_count": null,
      "outputs": []
    },
    {
      "cell_type": "code",
      "source": [
        "test_thickness = pickle.load (open ('/content/test_thickness_retina.pkl', 'rb'))"
      ],
      "metadata": {
        "id": "1I9IXTaCmAWN"
      },
      "execution_count": null,
      "outputs": []
    },
    {
      "cell_type": "code",
      "source": [
        "test_labels_thick = pickle.load (open ('/content/test_labels.pkl', 'rb'))"
      ],
      "metadata": {
        "id": "PDkDgKwfmC3V"
      },
      "execution_count": null,
      "outputs": []
    },
    {
      "cell_type": "code",
      "source": [],
      "metadata": {
        "id": "fJOVUCEjmC76"
      },
      "execution_count": null,
      "outputs": []
    },
    {
      "cell_type": "code",
      "source": [
        "train_sp_thick"
      ],
      "metadata": {
        "id": "qwCIU-zmmAax"
      },
      "execution_count": null,
      "outputs": []
    },
    {
      "cell_type": "code",
      "source": [
        "!unzip /content/drive/MyDrive/train_SLO_iran.zip"
      ],
      "metadata": {
        "colab": {
          "base_uri": "https://localhost:8080/"
        },
        "id": "s4XtAmfOLw7e",
        "outputId": "0a852710-ce9d-4e58-c970-8beda660f1e9"
      },
      "execution_count": null,
      "outputs": [
        {
          "output_type": "stream",
          "name": "stdout",
          "text": [
            "Archive:  /content/drive/MyDrive/train_SLO_iran.zip\n",
            " extracting: train_slo_iran.pkl      \n",
            " extracting: train_labels_Iran.pkl   \n",
            " extracting: train_sp_iran.pkl       \n"
          ]
        }
      ]
    },
    {
      "cell_type": "code",
      "source": [
        "!unzip /content/drive/MyDrive/test_SLO_iran.zip"
      ],
      "metadata": {
        "colab": {
          "base_uri": "https://localhost:8080/"
        },
        "id": "8CexXiXQL3An",
        "outputId": "008e15a2-5e0d-44c1-a663-d4ef02bfde08"
      },
      "execution_count": null,
      "outputs": [
        {
          "output_type": "stream",
          "name": "stdout",
          "text": [
            "Archive:  /content/drive/MyDrive/test_SLO_iran.zip\n",
            " extracting: test_slo_iran.pkl       \n",
            " extracting: test_labels_Iran.pkl    \n",
            " extracting: test_sp_iran.pkl        \n"
          ]
        }
      ]
    },
    {
      "cell_type": "code",
      "source": [
        "train_slo = pickle.load (open ('/content/train_slo_iran.pkl', 'rb'))"
      ],
      "metadata": {
        "id": "Vszp3KnIL77e"
      },
      "execution_count": null,
      "outputs": []
    },
    {
      "cell_type": "code",
      "source": [
        "test_slo = pickle.load (open ('/content/test_slo_iran.pkl', 'rb'))"
      ],
      "metadata": {
        "id": "A1pqFSB1L7_r"
      },
      "execution_count": null,
      "outputs": []
    },
    {
      "cell_type": "code",
      "source": [
        "train_sp_slo = pickle.load (open ('/content/train_sp_iran.pkl', 'rb'))"
      ],
      "metadata": {
        "id": "P3vktMzCM4O0"
      },
      "execution_count": null,
      "outputs": []
    },
    {
      "cell_type": "code",
      "source": [
        "test_sp_slo = pickle.load (open ('/content/test_sp_iran.pkl', 'rb'))"
      ],
      "metadata": {
        "id": "5lWO2W88mR4w"
      },
      "execution_count": null,
      "outputs": []
    },
    {
      "cell_type": "code",
      "source": [
        "train_labels_slo = pickle.load (open ('/content/train_labels_Iran.pkl', 'rb'))"
      ],
      "metadata": {
        "id": "c0wLBAlnmR9a"
      },
      "execution_count": null,
      "outputs": []
    },
    {
      "cell_type": "code",
      "source": [
        "test_labels_slo = pickle.load (open ('/content/test_labels_Iran.pkl', 'rb'))"
      ],
      "metadata": {
        "id": "4TPbKMK9mSCC"
      },
      "execution_count": null,
      "outputs": []
    },
    {
      "cell_type": "code",
      "source": [],
      "metadata": {
        "id": "2NBfSj8rmSF4"
      },
      "execution_count": null,
      "outputs": []
    },
    {
      "cell_type": "code",
      "source": [
        "from skimage.transform import resize"
      ],
      "metadata": {
        "id": "ufF7hzJ4oBdM"
      },
      "execution_count": null,
      "outputs": []
    },
    {
      "cell_type": "code",
      "source": [
        "train_slo_new = {}\n",
        "\n",
        "im_size = 128\n",
        "\n",
        "for key in train_slo:\n",
        "\n",
        "  train_slo_new [key] = []\n",
        "\n",
        "  for i in range (len(train_slo [key])):\n",
        "\n",
        "    slo = resize (train_slo [key] [i], (im_size, im_size, 1), mode = 'constant', preserve_range = True)\n",
        "\n",
        "    slo = np.flip (slo, axis = 1) if train_sp_slo [key] [i] == False else slo\n",
        "\n",
        "    train_slo_new [key].append (slo)"
      ],
      "metadata": {
        "id": "9iZLa7zFoBpn"
      },
      "execution_count": null,
      "outputs": []
    },
    {
      "cell_type": "code",
      "source": [
        "test_slo_new = {}\n",
        "\n",
        "im_size = 128\n",
        "\n",
        "for key in test_slo:\n",
        "\n",
        "  test_slo_new [key] = []\n",
        "\n",
        "  for i in range (len (test_slo [key])):\n",
        "\n",
        "    slo = resize (test_slo [key] [i], (im_size, im_size, 1), mode = 'constant', preserve_range = True)\n",
        "\n",
        "    slo = np.flip (slo, axis = 1) if test_sp_slo [key] [i] == False else slo\n",
        "\n",
        "    test_slo_new [key].append (slo)"
      ],
      "metadata": {
        "id": "b_rXBrSKoBpo"
      },
      "execution_count": null,
      "outputs": []
    },
    {
      "cell_type": "code",
      "source": [
        "test_slo_new ['1'] [0].shape"
      ],
      "metadata": {
        "colab": {
          "base_uri": "https://localhost:8080/"
        },
        "id": "sHwf6hCgotIY",
        "outputId": "9e43f6f5-64e0-45dc-e948-2de30743253e"
      },
      "execution_count": null,
      "outputs": [
        {
          "output_type": "execute_result",
          "data": {
            "text/plain": [
              "(128, 128, 1)"
            ]
          },
          "metadata": {},
          "execution_count": 28
        }
      ]
    },
    {
      "cell_type": "code",
      "source": [],
      "metadata": {
        "id": "wjwA43zlENdm"
      },
      "execution_count": null,
      "outputs": []
    },
    {
      "cell_type": "code",
      "source": [
        "test_thickness_new = pickle.load (open ('/content/drive/MyDrive/test_thickness_new.pkl', 'rb'))"
      ],
      "metadata": {
        "id": "Lh4KxFNhENhz"
      },
      "execution_count": null,
      "outputs": []
    },
    {
      "cell_type": "code",
      "source": [],
      "metadata": {
        "id": "h-bU2XwdENlk"
      },
      "execution_count": null,
      "outputs": []
    },
    {
      "cell_type": "code",
      "source": [
        "train_merged = {}\n",
        "\n",
        "train_merged_label = {}\n",
        "\n",
        "len_slo = 0\n",
        "\n",
        "for subject in train_slo_new:\n",
        "\n",
        "\n",
        "  train_merged [subject] = []\n",
        "\n",
        "  if len (train_thickness [subject]) == 2 or len (train_thickness [subject]) == 3:\n",
        "\n",
        "    for i,_ in enumerate(train_slo_new [subject]):\n",
        "\n",
        "      for j,_ in enumerate(train_thickness [subject]):\n",
        "\n",
        "        if train_sp_slo [subject] [i] == train_sp_thick [subject] [j]:\n",
        "\n",
        "          train_merged [subject].append ([train_slo_new [subject] [i], train_thickness [subject] [j]])\n",
        "\n",
        "          len_slo += 1\n",
        "\n",
        "  elif len (train_thickness [subject]) == 1:\n",
        "\n",
        "    for i,_ in enumerate(train_slo_new [subject]):\n",
        "\n",
        "      train_merged [subject].append ([train_slo_new [subject] [i], train_thickness [subject] [0]])\n",
        "\n",
        "      s+=1\n",
        "\n",
        "  train_merged_label [subject] = train_labels_slo [subject]"
      ],
      "metadata": {
        "id": "UezwE7WooBpp"
      },
      "execution_count": null,
      "outputs": []
    },
    {
      "cell_type": "code",
      "source": [
        "s = 0\n",
        "for key in train_merged:\n",
        "\n",
        "  s += len (train_merged [key])\n",
        "\n",
        "print (i)"
      ],
      "metadata": {
        "colab": {
          "base_uri": "https://localhost:8080/"
        },
        "id": "2xZ10n3l15oc",
        "outputId": "bd1da2ac-3daa-459a-91b6-304b6591ac71"
      },
      "execution_count": null,
      "outputs": [
        {
          "output_type": "stream",
          "name": "stdout",
          "text": [
            "212\n"
          ]
        }
      ]
    },
    {
      "cell_type": "code",
      "source": [
        "s="
      ],
      "metadata": {
        "colab": {
          "base_uri": "https://localhost:8080/"
        },
        "id": "cexn1ULc40rG",
        "outputId": "4c0aecaf-b5ff-4f16-efa3-dac516a9f338"
      },
      "execution_count": null,
      "outputs": [
        {
          "output_type": "execute_result",
          "data": {
            "text/plain": [
              "81"
            ]
          },
          "metadata": {},
          "execution_count": 96
        }
      ]
    },
    {
      "cell_type": "code",
      "source": [
        "!unzip /content/drive/MyDrive/merged_data_final2.zip"
      ],
      "metadata": {
        "id": "2AgxiapJ400S",
        "colab": {
          "base_uri": "https://localhost:8080/"
        },
        "outputId": "2e605cc0-b3df-49c0-ff75-10b2c334112c"
      },
      "execution_count": null,
      "outputs": [
        {
          "output_type": "stream",
          "name": "stdout",
          "text": [
            "Archive:  /content/drive/MyDrive/merged_data_final2.zip\n",
            " extracting: test_merged.pkl         \n",
            " extracting: test_merged_label.pkl   \n",
            " extracting: train_merged.pkl        \n",
            " extracting: train_merged_label.pkl  \n"
          ]
        }
      ]
    },
    {
      "cell_type": "code",
      "source": [
        "!unzip /content/drive/MyDrive/merged_data_final.zip"
      ],
      "metadata": {
        "id": "yJieRBui406j",
        "colab": {
          "base_uri": "https://localhost:8080/"
        },
        "outputId": "afa30e09-10d4-4e09-95ac-224a29801989"
      },
      "execution_count": null,
      "outputs": [
        {
          "output_type": "stream",
          "name": "stdout",
          "text": [
            "Archive:  /content/drive/MyDrive/merged_data_final.zip\n",
            " extracting: test_slo_thick.pkl      \n",
            " extracting: test_slo_thick_labels.pkl  \n",
            " extracting: train_slo_thick.pkl     \n",
            " extracting: train_slo_thick_labels.pkl  \n"
          ]
        }
      ]
    },
    {
      "cell_type": "code",
      "source": [],
      "metadata": {
        "id": "SI4Ea3REICdL"
      },
      "execution_count": null,
      "outputs": []
    },
    {
      "cell_type": "code",
      "source": [
        "train_slo_thick = pickle.load (open ('/content/train_slo_thick.pkl', 'rb'))"
      ],
      "metadata": {
        "id": "mW5mHYopIChE"
      },
      "execution_count": null,
      "outputs": []
    },
    {
      "cell_type": "code",
      "source": [
        "train_merged = pickle.load (open ('/content/train_merged.pkl', 'rb'))"
      ],
      "metadata": {
        "id": "U_P_T90lIClb"
      },
      "execution_count": null,
      "outputs": []
    },
    {
      "cell_type": "code",
      "source": [],
      "metadata": {
        "id": "cCW4nQ2mIcvA"
      },
      "execution_count": null,
      "outputs": []
    },
    {
      "cell_type": "code",
      "source": [
        "train_slo_thick == train_merged"
      ],
      "metadata": {
        "colab": {
          "base_uri": "https://localhost:8080/"
        },
        "id": "xJXLILG7Icyz",
        "outputId": "8362e379-a2d4-4a99-a955-2dd5e99d34c2"
      },
      "execution_count": null,
      "outputs": [
        {
          "output_type": "execute_result",
          "data": {
            "text/plain": [
              "False"
            ]
          },
          "metadata": {},
          "execution_count": 7
        }
      ]
    },
    {
      "cell_type": "code",
      "source": [
        "plt.imshow (train_slo_thick ['0'] [0] [:,:, 0])"
      ],
      "metadata": {
        "colab": {
          "base_uri": "https://localhost:8080/",
          "height": 451
        },
        "id": "KmtwB6OgIc2H",
        "outputId": "eb7c5df0-b911-4593-d27a-50e4eadf8f36"
      },
      "execution_count": null,
      "outputs": [
        {
          "output_type": "execute_result",
          "data": {
            "text/plain": [
              "<matplotlib.image.AxesImage at 0x7bec81c10040>"
            ]
          },
          "metadata": {},
          "execution_count": 11
        },
        {
          "output_type": "display_data",
          "data": {
            "text/plain": [
              "<Figure size 640x480 with 1 Axes>"
            ],
            "image/png": "[encoded data removed]"
          },
          "metadata": {}
        }
      ]
    },
    {
      "cell_type": "code",
      "source": [],
      "metadata": {
        "id": "YrRvAJQ3Ic5q"
      },
      "execution_count": null,
      "outputs": []
    },
    {
      "cell_type": "code",
      "source": [
        "test_merged = {}\n",
        "\n",
        "test_merged_label = {}\n",
        "\n",
        "\n",
        "\n",
        "for subject in test_slo_new:\n",
        "\n",
        "\n",
        "  test_merged [subject] = []\n",
        "\n",
        "  if len (test_thickness_new [subject]) == 2:\n",
        "\n",
        "    for i,_ in enumerate(test_slo_new [subject]):\n",
        "\n",
        "      for j,_ in enumerate(test_thickness_new [subject]):\n",
        "\n",
        "        if test_sp_slo [subject] [i] == test_sp_thick [subject] [j]:\n",
        "\n",
        "          test_merged [subject].append ([test_slo_new [subject] [i], test_thickness_new [subject] [j]])\n",
        "\n",
        "\n",
        "  elif len (test_thickness_new [subject]) == 1:\n",
        "\n",
        "    for i,_ in enumerate(test_slo_new [subject]):\n",
        "\n",
        "      test_merged [subject].append ([test_slo_new [subject] [i], test_thickness_new [subject] [0]])\n",
        "\n",
        "  test_merged_label [subject] = test_labels_slo [subject]"
      ],
      "metadata": {
        "id": "8F8Z-OyToBpq"
      },
      "execution_count": null,
      "outputs": []
    },
    {
      "cell_type": "code",
      "source": [],
      "metadata": {
        "id": "yu0vxextFYY1"
      },
      "execution_count": null,
      "outputs": []
    },
    {
      "cell_type": "code",
      "source": [
        "test_merged_label ['1']"
      ],
      "metadata": {
        "colab": {
          "base_uri": "https://localhost:8080/"
        },
        "id": "BDA1DHD3-f3-",
        "outputId": "76fd6dea-ccc7-4140-fe26-874d79ae72aa"
      },
      "execution_count": null,
      "outputs": [
        {
          "output_type": "execute_result",
          "data": {
            "text/plain": [
              "0"
            ]
          },
          "metadata": {},
          "execution_count": 35
        }
      ]
    },
    {
      "cell_type": "code",
      "source": [
        "train_thickness ['0'] [0].shape"
      ],
      "metadata": {
        "id": "ysrPnn_gmlma"
      },
      "execution_count": null,
      "outputs": []
    },
    {
      "cell_type": "code",
      "source": [
        "s= 0\n",
        "for i in test_merged:\n",
        "  s += len (test_merged [i])\n",
        "print (s)"
      ],
      "metadata": {
        "colab": {
          "base_uri": "https://localhost:8080/"
        },
        "id": "Wlak_3zE-naS",
        "outputId": "4d769025-5f05-4f17-ba20-f6a54051f94f"
      },
      "execution_count": null,
      "outputs": [
        {
          "output_type": "stream",
          "name": "stdout",
          "text": [
            "56\n"
          ]
        }
      ]
    },
    {
      "cell_type": "code",
      "source": [],
      "metadata": {
        "id": "PhrbksZC_AFU"
      },
      "execution_count": null,
      "outputs": []
    },
    {
      "cell_type": "code",
      "source": [
        "test_merged_label"
      ],
      "metadata": {
        "id": "0j0Dm1FR_BFF"
      },
      "execution_count": null,
      "outputs": []
    },
    {
      "cell_type": "code",
      "source": [
        "with open ('/content/train_merged.pkl', 'wb') as f:\n",
        "\n",
        "  pickle.dump (train_merged, f)"
      ],
      "metadata": {
        "id": "F6hGJRBf_Dy0"
      },
      "execution_count": null,
      "outputs": []
    },
    {
      "cell_type": "code",
      "source": [
        "with open ('/content/train_merged_label.pkl', 'wb') as f:\n",
        "\n",
        "  pickle.dump (train_merged_label, f)"
      ],
      "metadata": {
        "id": "nUWaiORG_D4J"
      },
      "execution_count": null,
      "outputs": []
    },
    {
      "cell_type": "code",
      "source": [
        "with open ('/content/test_merged_label.pkl', 'wb') as f:\n",
        "\n",
        "  pickle.dump (test_merged_label, f)"
      ],
      "metadata": {
        "id": "bdlXA_7f_D8h"
      },
      "execution_count": null,
      "outputs": []
    },
    {
      "cell_type": "code",
      "source": [
        "with open ('/content/test_merged.pkl', 'wb') as f:\n",
        "\n",
        "  pickle.dump (test_merged, f)"
      ],
      "metadata": {
        "id": "211wO-kP_EA7"
      },
      "execution_count": null,
      "outputs": []
    },
    {
      "cell_type": "code",
      "source": [],
      "metadata": {
        "id": "g9c2KgFL_hlg"
      },
      "execution_count": null,
      "outputs": []
    },
    {
      "cell_type": "code",
      "source": [],
      "metadata": {
        "id": "xDAjJaPe_hq5"
      },
      "execution_count": null,
      "outputs": []
    },
    {
      "cell_type": "code",
      "source": [
        "train_merge = {}\n",
        "train_merge_labels = {}\n",
        "\n",
        "for key in enumerate(train_slo):\n",
        "\n",
        "  train_merge [key] = []\n",
        "\n",
        "\n",
        "\n",
        "\n"
      ],
      "metadata": {
        "id": "mQdnJS-Fmpq2"
      },
      "execution_count": null,
      "outputs": []
    },
    {
      "cell_type": "code",
      "source": [
        "test_slo_sp"
      ],
      "metadata": {
        "colab": {
          "base_uri": "https://localhost:8080/"
        },
        "id": "6d2No4Yfmpye",
        "outputId": "f51e16a0-4178-4956-c945-642b5a0315d7"
      },
      "execution_count": null,
      "outputs": [
        {
          "output_type": "execute_result",
          "data": {
            "text/plain": [
              "{'1': [True, False],\n",
              " '3': [True, False],\n",
              " '6': [True, False],\n",
              " '9': [True, False],\n",
              " '11': [True, False],\n",
              " '13': [True, False],\n",
              " '17': [True, False, False, False, True],\n",
              " '18': [True, False, True, False],\n",
              " '19': [True, False, True, False],\n",
              " '20': [True, False, True, False],\n",
              " '23': [True, False, True, False],\n",
              " '30': [True, False, True, False],\n",
              " '32': [True, False, False, True],\n",
              " '56': [True, False],\n",
              " '66': [True, False],\n",
              " '68': [True, False],\n",
              " '70': [True, False],\n",
              " '72': [True, False],\n",
              " '85': [True, False],\n",
              " '93': [True, False],\n",
              " '96': [True]}"
            ]
          },
          "metadata": {},
          "execution_count": 114
        }
      ]
    },
    {
      "cell_type": "code",
      "source": [
        "test_sp_thick"
      ],
      "metadata": {
        "colab": {
          "base_uri": "https://localhost:8080/"
        },
        "id": "BCjtj_1V9S7r",
        "outputId": "e1f00da9-389c-4fba-d7ea-8e7704efd906"
      },
      "execution_count": null,
      "outputs": [
        {
          "output_type": "execute_result",
          "data": {
            "text/plain": [
              "{'1': [True, False],\n",
              " '3': [False],\n",
              " '6': [True, False],\n",
              " '9': [False],\n",
              " '11': [True],\n",
              " '13': [True, False],\n",
              " '17': [True, False],\n",
              " '18': [True, False],\n",
              " '19': [True, False],\n",
              " '20': [True, False],\n",
              " '23': [True, False],\n",
              " '30': [True, False],\n",
              " '32': [True, False],\n",
              " '56': [False, True],\n",
              " '66': [False, True],\n",
              " '68': [False, True],\n",
              " '70': [False, True],\n",
              " '72': [False, True],\n",
              " '85': [False, True],\n",
              " '93': [False, True],\n",
              " '96': [False]}"
            ]
          },
          "metadata": {},
          "execution_count": 116
        }
      ]
    },
    {
      "cell_type": "code",
      "source": [],
      "metadata": {
        "id": "jik2-wXGmp3e"
      },
      "execution_count": null,
      "outputs": []
    },
    {
      "cell_type": "code",
      "source": [
        "for i in train_sp_corr:\n",
        "  if len (train_sp_corr [i]) == 1 and len (train_slo_sp [i]) != 1:\n",
        "    print (i)\n"
      ],
      "metadata": {
        "id": "gtlZoGTlayZm"
      },
      "execution_count": null,
      "outputs": []
    },
    {
      "cell_type": "code",
      "source": [
        "s = 0\n",
        "for i in train_merged:\n",
        "\n",
        "  if len (train_merged [i]) == 1:\n",
        "\n",
        "    print (i)"
      ],
      "metadata": {
        "colab": {
          "base_uri": "https://localhost:8080/"
        },
        "id": "GYjcTpL56-E6",
        "outputId": "9819c6b4-1e03-47a0-ce78-5f50a371af1f"
      },
      "execution_count": null,
      "outputs": [
        {
          "output_type": "stream",
          "name": "stdout",
          "text": [
            "7\n",
            "8\n",
            "61\n",
            "71\n",
            "83\n",
            "95\n",
            "101\n"
          ]
        }
      ]
    },
    {
      "cell_type": "code",
      "source": [
        "train_merged [i] [0] [1].shape"
      ],
      "metadata": {
        "colab": {
          "base_uri": "https://localhost:8080/"
        },
        "id": "f9sqbl8T7qNu",
        "outputId": "95bda0b8-24cd-47d8-83fc-5066d6ffd462"
      },
      "execution_count": null,
      "outputs": [
        {
          "output_type": "execute_result",
          "data": {
            "text/plain": [
              "(60, 256, 1)"
            ]
          },
          "metadata": {},
          "execution_count": 113
        }
      ]
    },
    {
      "cell_type": "code",
      "source": [
        "train_sp_thick"
      ],
      "metadata": {
        "colab": {
          "base_uri": "https://localhost:8080/"
        },
        "id": "biyt0oCGqnLL",
        "outputId": "026d8174-d626-4ea2-efe8-3122873ec170"
      },
      "execution_count": null,
      "outputs": [
        {
          "output_type": "execute_result",
          "data": {
            "text/plain": [
              "{'0': [False],\n",
              " '2': [True, False],\n",
              " '4': [False],\n",
              " '5': [True, False],\n",
              " '7': [True],\n",
              " '8': [False],\n",
              " '10': [False],\n",
              " '12': [False],\n",
              " '14': [True, False],\n",
              " '15': [True],\n",
              " '16': [True, False],\n",
              " '21': [True, False],\n",
              " '22': [True, False, True],\n",
              " '24': [False, True],\n",
              " '25': [True],\n",
              " '26': [True, False],\n",
              " '27': [True, False],\n",
              " '28': [True, False],\n",
              " '29': [True, False],\n",
              " '31': [True, False],\n",
              " '33': [False],\n",
              " '34': [True, False],\n",
              " '35': [True, False],\n",
              " '36': [True],\n",
              " '37': [True, False],\n",
              " '38': [True],\n",
              " '39': [True, False],\n",
              " '40': [True, False],\n",
              " '41': [True, False],\n",
              " '42': [True, False],\n",
              " '43': [True],\n",
              " '44': [True, False],\n",
              " '45': [True, False],\n",
              " '46': [True, False],\n",
              " '47': [True, False],\n",
              " '48': [True, False],\n",
              " '49': [False, True],\n",
              " '50': [True, False],\n",
              " '51': [False, True],\n",
              " '52': [False, True],\n",
              " '53': [False, True],\n",
              " '54': [False, True],\n",
              " '55': [False, True],\n",
              " '57': [False, True],\n",
              " '58': [False, True],\n",
              " '59': [False, True],\n",
              " '60': [False, True],\n",
              " '61': [True],\n",
              " '62': [False, True],\n",
              " '63': [False, True],\n",
              " '64': [False, True],\n",
              " '65': [False, True],\n",
              " '67': [False, True],\n",
              " '69': [False, True],\n",
              " '71': [True],\n",
              " '73': [False, True],\n",
              " '74': [True, False],\n",
              " '75': [False, True],\n",
              " '76': [True, False],\n",
              " '77': [False, True],\n",
              " '78': [True, False],\n",
              " '79': [False, True],\n",
              " '80': [False, True],\n",
              " '81': [False, True],\n",
              " '82': [False, True],\n",
              " '83': [False],\n",
              " '84': [False, True],\n",
              " '86': [False, True],\n",
              " '87': [False, True],\n",
              " '88': [False, True],\n",
              " '89': [False, True],\n",
              " '90': [False, True],\n",
              " '91': [False, True],\n",
              " '92': [False, True],\n",
              " '94': [True, False],\n",
              " '95': [False],\n",
              " '97': [False, True],\n",
              " '98': [False, True],\n",
              " '99': [False, True],\n",
              " '100': [False, True],\n",
              " '101': [False]}"
            ]
          },
          "metadata": {},
          "execution_count": 73
        }
      ]
    },
    {
      "cell_type": "code",
      "source": [
        "for key in train_sp_thick:\n",
        "  if len (train_sp_thick [key]) == 1 and len (train_slo_sp [key]) >2:\n",
        "    print (key)"
      ],
      "metadata": {
        "colab": {
          "base_uri": "https://localhost:8080/"
        },
        "id": "hXHd_QO2q9iK",
        "outputId": "d218aa01-6348-4c72-9ab3-147dcee9324c"
      },
      "execution_count": null,
      "outputs": [
        {
          "output_type": "stream",
          "name": "stdout",
          "text": [
            "25\n",
            "33\n",
            "36\n",
            "38\n",
            "43\n"
          ]
        }
      ]
    },
    {
      "cell_type": "code",
      "source": [
        "train_slo_sp"
      ],
      "metadata": {
        "colab": {
          "base_uri": "https://localhost:8080/"
        },
        "id": "YNpWKKYKZRzR",
        "outputId": "6b9f6024-9a8d-4bda-9d32-a51faeb0af39"
      },
      "execution_count": null,
      "outputs": [
        {
          "output_type": "execute_result",
          "data": {
            "text/plain": [
              "{'0': [True, False],\n",
              " '2': [True, False],\n",
              " '4': [False, True],\n",
              " '5': [True, False],\n",
              " '7': [True],\n",
              " '8': [False],\n",
              " '10': [True, False],\n",
              " '12': [True, False],\n",
              " '14': [True, False],\n",
              " '15': [True, False],\n",
              " '16': [True, False],\n",
              " '21': [True, False, True, False],\n",
              " '22': [True, False, True, True, False],\n",
              " '24': [False, True, False, True],\n",
              " '25': [True, False, True, False],\n",
              " '26': [True, False, True, False],\n",
              " '27': [True, False, True, False],\n",
              " '28': [True, False, False, True],\n",
              " '29': [True, False, True, False],\n",
              " '31': [True, False, True, False],\n",
              " '33': [True, False, True, False],\n",
              " '34': [True, False, True, False],\n",
              " '35': [True, False, True, False],\n",
              " '36': [True, False, True, False],\n",
              " '37': [True, False, True, False],\n",
              " '38': [True, False, True, False],\n",
              " '39': [True, False, True, False],\n",
              " '40': [True, False, True, False],\n",
              " '41': [True, False, False, True],\n",
              " '42': [True, False, True, False],\n",
              " '43': [True, False, False, False, True, True, True],\n",
              " '44': [True, False, False, True],\n",
              " '45': [True, False, True, False],\n",
              " '46': [True, False, True, False],\n",
              " '47': [True, False, False, True],\n",
              " '48': [True, False, True, False],\n",
              " '49': [True, False],\n",
              " '50': [False, True],\n",
              " '51': [True, False],\n",
              " '52': [True, False],\n",
              " '53': [True, False],\n",
              " '54': [True, False],\n",
              " '55': [True, False],\n",
              " '57': [True, False],\n",
              " '58': [True, False],\n",
              " '59': [True, False],\n",
              " '60': [True, False],\n",
              " '61': [False],\n",
              " '62': [True, False],\n",
              " '63': [True, False],\n",
              " '64': [True, False],\n",
              " '65': [True, False],\n",
              " '67': [True, False],\n",
              " '69': [True, False],\n",
              " '71': [False],\n",
              " '73': [True, False],\n",
              " '74': [False, True],\n",
              " '75': [True, False],\n",
              " '76': [False, True],\n",
              " '77': [True, False],\n",
              " '78': [False, True],\n",
              " '79': [True, False],\n",
              " '80': [True, False],\n",
              " '81': [True, False],\n",
              " '82': [True, False],\n",
              " '83': [True],\n",
              " '84': [True, False],\n",
              " '86': [True, False],\n",
              " '87': [True, False],\n",
              " '88': [True, False],\n",
              " '89': [True, False],\n",
              " '90': [True, False],\n",
              " '91': [True, False],\n",
              " '92': [True, False],\n",
              " '94': [False, True],\n",
              " '95': [True],\n",
              " '97': [True, False],\n",
              " '98': [True, False],\n",
              " '99': [True, False],\n",
              " '100': [True, False],\n",
              " '101': [True]}"
            ]
          },
          "metadata": {},
          "execution_count": 42
        }
      ]
    },
    {
      "cell_type": "code",
      "source": [],
      "metadata": {
        "id": "_L71CpfQZXNx"
      },
      "execution_count": null,
      "outputs": []
    },
    {
      "cell_type": "code",
      "source": [
        "!unzip /content/drive/MyDrive/Iran_data.zip"
      ],
      "metadata": {
        "colab": {
          "base_uri": "https://localhost:8080/"
        },
        "id": "KdQVBIOKM4S9",
        "outputId": "13be8e8e-01af-4a7d-c3ba-82a412a341aa"
      },
      "execution_count": null,
      "outputs": [
        {
          "output_type": "stream",
          "name": "stdout",
          "text": [
            "Archive:  /content/drive/MyDrive/Iran_data.zip\n",
            " extracting: layers_Iran.pkl         \n",
            " extracting: ScanPositionIran.pkl    \n",
            " extracting: subjects_index_Iran.pkl  \n",
            " extracting: subjects_labels_Iran.pkl  \n",
            " extracting: subjects_layers_Iran.pkl  \n",
            " extracting: vol_Iran.pkl            \n",
            " extracting: vol_labels_Iran.pkl     \n",
            " extracting: readme.docx             \n"
          ]
        }
      ]
    },
    {
      "cell_type": "code",
      "source": [
        "vol_oct = pickle.load (open ('/content/vol_Iran.pkl', 'rb'))"
      ],
      "metadata": {
        "id": "TnZagp-UL8D-"
      },
      "execution_count": null,
      "outputs": []
    },
    {
      "cell_type": "code",
      "source": [
        "vol_oct"
      ],
      "metadata": {
        "id": "DwxfWPVCNHh5"
      },
      "execution_count": null,
      "outputs": []
    },
    {
      "cell_type": "code",
      "source": [
        "vols_slo = pickle.load (open ('/content/drive/MyDrive/vol_slo.pkl', 'rb'))"
      ],
      "metadata": {
        "id": "_5nRkTPlNOR9"
      },
      "execution_count": null,
      "outputs": []
    },
    {
      "cell_type": "code",
      "source": [
        "vols_slo"
      ],
      "metadata": {
        "id": "HKgIf_qRPgE4"
      },
      "execution_count": null,
      "outputs": []
    },
    {
      "cell_type": "code",
      "source": [
        "s= 0\n",
        "for i in vols_slo:\n",
        "  s += len (vols_slo [i])"
      ],
      "metadata": {
        "id": "9TaRScfSNZFn"
      },
      "execution_count": null,
      "outputs": []
    },
    {
      "cell_type": "code",
      "source": [
        "print (s)"
      ],
      "metadata": {
        "colab": {
          "base_uri": "https://localhost:8080/"
        },
        "id": "yjzyf1TZOkb-",
        "outputId": "51e622a6-6513-467a-d1f6-354637c2eb3e"
      },
      "execution_count": null,
      "outputs": [
        {
          "output_type": "stream",
          "name": "stdout",
          "text": [
            "265\n"
          ]
        }
      ]
    },
    {
      "cell_type": "code",
      "source": [
        "s = 0\n",
        "for i in test_slo:\n",
        "  s += len (test_slo [i])\n",
        "print (s)"
      ],
      "metadata": {
        "colab": {
          "base_uri": "https://localhost:8080/"
        },
        "id": "OqRjNtqFL8Hj",
        "outputId": "2f5887ce-f6f7-4e3b-e2d5-3c1bd630f9d9"
      },
      "execution_count": null,
      "outputs": [
        {
          "output_type": "stream",
          "name": "stdout",
          "text": [
            "56\n"
          ]
        }
      ]
    },
    {
      "cell_type": "code",
      "source": [
        "train_slo.keys ()"
      ],
      "metadata": {
        "colab": {
          "base_uri": "https://localhost:8080/"
        },
        "id": "8GsrssXeLw_X",
        "outputId": "9c21d492-eb97-4a8b-d237-30630a5d791f"
      },
      "execution_count": null,
      "outputs": [
        {
          "output_type": "execute_result",
          "data": {
            "text/plain": [
              "dict_keys(['0', '2', '4', '5', '7', '8', '10', '12', '14', '15', '16', '21', '22', '24', '25', '26', '27', '28', '29', '31', '33', '34', '35', '36', '37', '38', '39', '40', '41', '42', '43', '44', '45', '46', '47', '48', '49', '50', '51', '52', '53', '54', '55', '57', '58', '59', '60', '61', '62', '63', '64', '65', '67', '69', '71', '73', '74', '75', '76', '77', '78', '79', '80', '81', '82', '83', '84', '86', '87', '88', '89', '90', '91', '92', '94', '95', '97', '98', '99', '100', '101'])"
            ]
          },
          "metadata": {},
          "execution_count": 28
        }
      ]
    },
    {
      "cell_type": "code",
      "source": [
        "train_thickness.keys ()"
      ],
      "metadata": {
        "colab": {
          "base_uri": "https://localhost:8080/"
        },
        "id": "VEDtjgnDLxET",
        "outputId": "2133e455-1b39-4bc7-efc4-314a03bd67e1"
      },
      "execution_count": null,
      "outputs": [
        {
          "output_type": "execute_result",
          "data": {
            "text/plain": [
              "dict_keys(['0', '2', '4', '5', '7', '8', '10', '12', '14', '15', '16', '21', '22', '24', '25', '26', '27', '28', '29', '31', '33', '34', '35', '36', '37', '38', '39', '40', '41', '42', '43', '44', '45', '46', '47', '48', '49', '50', '51', '52', '53', '54', '55', '57', '58', '59', '60', '61', '62', '63', '64', '65', '67', '69', '71', '73', '74', '75', '76', '77', '78', '79', '80', '81', '82', '83', '84', '86', '87', '88', '89', '90', '91', '92', '94', '95', '97', '98', '99', '100', '101'])"
            ]
          },
          "metadata": {},
          "execution_count": 26
        }
      ]
    },
    {
      "cell_type": "code",
      "source": [
        "!unzip /content/drive/MyDrive/test_thickness_retina_iran.zip"
      ],
      "metadata": {
        "colab": {
          "base_uri": "https://localhost:8080/"
        },
        "id": "tjzYeN3BW2pZ",
        "outputId": "f30c900e-8007-4054-c61d-49beba907a4d"
      },
      "execution_count": null,
      "outputs": [
        {
          "output_type": "stream",
          "name": "stdout",
          "text": [
            "Archive:  /content/drive/MyDrive/test_thickness_retina_iran.zip\n",
            " extracting: test_labels.pkl         \n",
            " extracting: test_thickness_retina.pkl  \n",
            " extracting: test_sp.pkl             \n"
          ]
        }
      ]
    },
    {
      "cell_type": "code",
      "source": [
        "test_sp_corr = pickle.load (open ('/content/test_sp.pkl', 'rb'))"
      ],
      "metadata": {
        "id": "nbE4Pn30W2s7"
      },
      "execution_count": null,
      "outputs": []
    },
    {
      "cell_type": "code",
      "source": [
        "test_thickness = pickle.load (open ('/content/test_thickness_retina.pkl', 'rb'))"
      ],
      "metadata": {
        "id": "ZRVxNbzGW9eI"
      },
      "execution_count": null,
      "outputs": []
    },
    {
      "cell_type": "code",
      "source": [
        "test_labels = pickle.load (open ('/content/test_labels.pkl', 'rb'))"
      ],
      "metadata": {
        "id": "C3FqYgF_W9kQ"
      },
      "execution_count": null,
      "outputs": []
    },
    {
      "cell_type": "code",
      "source": [],
      "metadata": {
        "id": "6m17kPvAW2xe"
      },
      "execution_count": null,
      "outputs": []
    },
    {
      "cell_type": "code",
      "source": [],
      "metadata": {
        "id": "6N9S5clKXhvc"
      },
      "execution_count": null,
      "outputs": []
    },
    {
      "cell_type": "code",
      "source": [
        "s = 0\n",
        "for i in test_thickness:\n",
        " s+= len (test_thickness [i])\n",
        "print (s)"
      ],
      "metadata": {
        "id": "GjZXwsLMXhzJ",
        "colab": {
          "base_uri": "https://localhost:8080/"
        },
        "outputId": "b8792899-0e5f-4255-8675-05944ce788ad"
      },
      "execution_count": null,
      "outputs": [
        {
          "output_type": "stream",
          "name": "stdout",
          "text": [
            "38\n"
          ]
        }
      ]
    },
    {
      "cell_type": "code",
      "source": [],
      "metadata": {
        "id": "LcvI1MU7Xh3e"
      },
      "execution_count": null,
      "outputs": []
    },
    {
      "cell_type": "code",
      "source": [
        "subjects"
      ],
      "metadata": {
        "id": "5WNQU6a_Mlvy"
      },
      "execution_count": null,
      "outputs": []
    },
    {
      "cell_type": "code",
      "source": [
        "vols"
      ],
      "metadata": {
        "id": "l7xdnfALMofh"
      },
      "execution_count": null,
      "outputs": []
    },
    {
      "cell_type": "code",
      "source": [
        "train_thickness ['4'] [0].shape"
      ],
      "metadata": {
        "colab": {
          "base_uri": "https://localhost:8080/"
        },
        "id": "lFCVsJI_L4qj",
        "outputId": "f8f1d00b-3669-4137-bcec-4974863f880d"
      },
      "execution_count": null,
      "outputs": [
        {
          "output_type": "execute_result",
          "data": {
            "text/plain": [
              "(60, 256, 1)"
            ]
          },
          "metadata": {},
          "execution_count": 214
        }
      ]
    },
    {
      "cell_type": "code",
      "source": [
        "train_sp_fals"
      ],
      "metadata": {
        "id": "5ICPXE_beCMx"
      },
      "execution_count": null,
      "outputs": []
    },
    {
      "cell_type": "code",
      "source": [
        "train_sp_corr"
      ],
      "metadata": {
        "id": "nDv2tBGcdJkH"
      },
      "execution_count": null,
      "outputs": []
    },
    {
      "cell_type": "code",
      "source": [
        "!unzip /content/drive/MyDrive/Iran2.zip"
      ],
      "metadata": {
        "id": "4QRARG3C6ail"
      },
      "execution_count": null,
      "outputs": []
    },
    {
      "cell_type": "code",
      "source": [
        "!unzip /content/drive/MyDrive/Iran_data.zip"
      ],
      "metadata": {
        "colab": {
          "base_uri": "https://localhost:8080/"
        },
        "id": "0vfAjv_D6hHd",
        "outputId": "6557906b-1237-42ca-f3d3-ac374e1d40b9"
      },
      "execution_count": null,
      "outputs": [
        {
          "output_type": "stream",
          "name": "stdout",
          "text": [
            "Archive:  /content/drive/MyDrive/Iran_data.zip\n",
            " extracting: layers_Iran.pkl         \n",
            " extracting: ScanPositionIran.pkl    \n",
            " extracting: subjects_index_Iran.pkl  \n",
            " extracting: subjects_labels_Iran.pkl  \n",
            " extracting: subjects_layers_Iran.pkl  \n",
            " extracting: vol_Iran.pkl            \n",
            " extracting: vol_labels_Iran.pkl     \n",
            " extracting: readme.docx             \n"
          ]
        }
      ]
    },
    {
      "cell_type": "code",
      "source": [
        "subjects = pickle.load (open ('/content/subjects_index_Iran.pkl', 'rb'))\n",
        "vols = pickle.load (open ('/content/vol_Iran.pkl', 'rb'))"
      ],
      "metadata": {
        "id": "BRtP8YXJ6nme"
      },
      "execution_count": null,
      "outputs": []
    },
    {
      "cell_type": "code",
      "source": [
        "subjects"
      ],
      "metadata": {
        "id": "7wFapNQS7PuJ"
      },
      "execution_count": null,
      "outputs": []
    },
    {
      "cell_type": "code",
      "source": [
        "vols"
      ],
      "metadata": {
        "id": "yYnJ41Fy7UAY"
      },
      "execution_count": null,
      "outputs": []
    },
    {
      "cell_type": "code",
      "source": [
        "oct = OctRead ('/content/Iran2/EYE00003_E_3771_cropped_segmented_corrected.vol')"
      ],
      "metadata": {
        "id": "zUFSi-Q-7X-0"
      },
      "execution_count": null,
      "outputs": []
    },
    {
      "cell_type": "code",
      "source": [
        "hdr = oct.get_oct_hdr ()"
      ],
      "metadata": {
        "id": "iwTzqyVu7bdK"
      },
      "execution_count": null,
      "outputs": []
    },
    {
      "cell_type": "code",
      "source": [
        "hdr ['ScanPosition']"
      ],
      "metadata": {
        "colab": {
          "base_uri": "https://localhost:8080/"
        },
        "id": "PL1TfFqK7kPP",
        "outputId": "8b0bcdb0-9480-4ab4-858b-ee6be1d149a0"
      },
      "execution_count": null,
      "outputs": [
        {
          "output_type": "execute_result",
          "data": {
            "text/plain": [
              "b'OD\\x00\\x00'"
            ]
          },
          "metadata": {},
          "execution_count": 56
        }
      ]
    },
    {
      "cell_type": "code",
      "source": [
        "from skimage.transform import resize"
      ],
      "metadata": {
        "id": "DPggXZn54bD7"
      },
      "execution_count": null,
      "outputs": []
    },
    {
      "cell_type": "code",
      "source": [
        "train_layers ['101'] [0].shape"
      ],
      "metadata": {
        "colab": {
          "base_uri": "https://localhost:8080/"
        },
        "id": "7Wc8DjU35m1Q",
        "outputId": "321440d5-ede2-446a-c595-27011100acb5"
      },
      "execution_count": null,
      "outputs": [
        {
          "output_type": "execute_result",
          "data": {
            "text/plain": [
              "(1, 521, 49, 9)"
            ]
          },
          "metadata": {},
          "execution_count": 17
        }
      ]
    },
    {
      "cell_type": "code",
      "source": [
        "train_layers"
      ],
      "metadata": {
        "id": "toAIIG1WE30_"
      },
      "execution_count": null,
      "outputs": []
    },
    {
      "cell_type": "code",
      "source": [
        "figure = plt.figure (figsize = (32, 32))\n",
        "\n",
        "key_list = list (train_layers.keys ()) [49:]\n",
        "\n",
        "num_cols = 10\n",
        "\n",
        "fig, axs = plt.subplots(num_cols, num_cols)\n",
        "\n",
        "col = 0\n",
        "row = 0\n",
        "\n",
        "for key in key_list:\n",
        "\n",
        "  for j, image in enumerate(train_layers [str (key)]):\n",
        "\n",
        "    ax = axs [row] [col]\n",
        "\n",
        "    ax.imshow (resize (image [0, :,:, 1] - image [0,:,:,0], (128, 128)), cmap = 'jet')\n",
        "\n",
        "    col+=1\n",
        "\n",
        "    if col == num_cols:\n",
        "\n",
        "            col = 0\n",
        "            row += 1"
      ],
      "metadata": {
        "id": "ws_oiPbR-v3u"
      },
      "execution_count": null,
      "outputs": []
    },
    {
      "cell_type": "code",
      "source": [
        "plt.imshow (resize (train_layers ['101']  [0] [0,:,:,8] - train_layers ['101']  [0] [0,:,:,0] , (128, 128)), cmap = 'jet')"
      ],
      "metadata": {
        "id": "j7mQdgNGAFfF"
      },
      "execution_count": null,
      "outputs": []
    },
    {
      "cell_type": "code",
      "source": [
        "vol_slo"
      ],
      "metadata": {
        "id": "_VcCH8H2bmBf"
      },
      "execution_count": null,
      "outputs": []
    },
    {
      "cell_type": "code",
      "source": [],
      "metadata": {
        "id": "ndM1CoRtAFjL"
      },
      "execution_count": null,
      "outputs": []
    },
    {
      "cell_type": "code",
      "source": [],
      "metadata": {
        "id": "qrq7CQSpAFm1"
      },
      "execution_count": null,
      "outputs": []
    },
    {
      "cell_type": "code",
      "source": [
        "imgs_second = {}\n",
        "\n",
        "num_layers = 17\n",
        "\n",
        "\n",
        "for file in sorted (os.listdir ('/content/Iran2')) [:20]:\n",
        "\n",
        "    imgs_second [file] = []\n",
        "\n",
        "    path = os.path.join ('/content/Iran2', file)\n",
        "\n",
        "    oct = OctRead (path)\n",
        "\n",
        "    hdr = oct.get_oct_hdr ()\n",
        "\n",
        "    seg = oct.get_segmentation (hdr) ['SegLayers']\n",
        "\n",
        "    for layer in range (num_layers):\n",
        "\n",
        "      img = cv2.resize (seg [:, layer, :], (200, 200))\n",
        "\n",
        "      imgs_second [file].append (img)"
      ],
      "metadata": {
        "id": "r4HETRb1ZQUS"
      },
      "execution_count": null,
      "outputs": []
    },
    {
      "cell_type": "code",
      "source": [
        "!unzip /content/drive/MyDrive/train_boundary_Iran.zip"
      ],
      "metadata": {
        "colab": {
          "base_uri": "https://localhost:8080/"
        },
        "id": "39Ofx9scMDer",
        "outputId": "027c28dd-7369-441b-cc91-e8064f7c779a"
      },
      "execution_count": null,
      "outputs": [
        {
          "output_type": "stream",
          "name": "stdout",
          "text": [
            "Archive:  /content/drive/MyDrive/train_boundary_Iran.zip\n",
            " extracting: train_labels_Iran.pkl   \n",
            " extracting: train_layers_iran.pkl   \n",
            " extracting: train_sp_iran.pkl       \n"
          ]
        }
      ]
    },
    {
      "cell_type": "code",
      "source": [
        "!unzip /content/drive/MyDrive/Iran_data.zip"
      ],
      "metadata": {
        "id": "ATSGfVoqLXdr"
      },
      "execution_count": null,
      "outputs": []
    },
    {
      "cell_type": "code",
      "source": [
        "with open ('/content/ScanPositionIran.pkl', 'rb') as f:\n",
        "  sp = pickle.load (f)"
      ],
      "metadata": {
        "id": "A05ifCDmf_Bj"
      },
      "execution_count": null,
      "outputs": []
    },
    {
      "cell_type": "code",
      "source": [
        "with open ('/content/subjects_index_Iran.pkl', 'rb') as f:\n",
        "  subjects = pickle.load (f)"
      ],
      "metadata": {
        "id": "_ADPlSv8LaUK"
      },
      "execution_count": null,
      "outputs": []
    },
    {
      "cell_type": "code",
      "source": [
        "with open ('/content/vol_Iran.pkl', 'rb') as f:\n",
        "  vols = pickle.load (f)"
      ],
      "metadata": {
        "id": "egsrQr_FLrUU"
      },
      "execution_count": null,
      "outputs": []
    },
    {
      "cell_type": "code",
      "source": [
        "with open ('/content/subjects_labels_Iran.pkl', 'rb') as f:\n",
        "  labels = pickle.load (f)"
      ],
      "metadata": {
        "id": "NH1p7aZoSbcu"
      },
      "execution_count": null,
      "outputs": []
    },
    {
      "cell_type": "code",
      "source": [
        "s = 0\n",
        "for i in labels:\n",
        "\n",
        "  if labels [i] == 0:\n",
        "\n",
        "    s+= 1\n",
        "\n",
        "print (s)"
      ],
      "metadata": {
        "colab": {
          "base_uri": "https://localhost:8080/"
        },
        "id": "4QfVs54oStit",
        "outputId": "18e534e5-5e1a-4769-e20a-334c1f7e60c7"
      },
      "execution_count": null,
      "outputs": [
        {
          "output_type": "stream",
          "name": "stdout",
          "text": [
            "70\n"
          ]
        }
      ]
    },
    {
      "cell_type": "code",
      "source": [
        "train_thickness_np = np.load ('/content/drive/MyDrive/ThicknessMaps_of_train.npy')"
      ],
      "metadata": {
        "id": "jp5TeDfTgXgt"
      },
      "execution_count": null,
      "outputs": []
    },
    {
      "cell_type": "code",
      "source": [
        "test_thickness_np = np.load ('/content/drive/MyDrive/ThicknessMaps_of_test.npy')"
      ],
      "metadata": {
        "id": "hdkil1g4gbcr"
      },
      "execution_count": null,
      "outputs": []
    },
    {
      "cell_type": "code",
      "source": [
        "!unzip /content/drive/MyDrive/test_boundary_Iran.zip\n",
        "!unzip /content/drive/MyDrive/train_boundary_Iran.zip"
      ],
      "metadata": {
        "id": "6OzbY1xGgegp",
        "colab": {
          "base_uri": "https://localhost:8080/"
        },
        "outputId": "73eab831-4556-4a33-d7a1-62b2244b925e"
      },
      "execution_count": null,
      "outputs": [
        {
          "output_type": "stream",
          "name": "stdout",
          "text": [
            "Archive:  /content/drive/MyDrive/test_boundary_Iran.zip\n",
            " extracting: test_labels_Iran.pkl    \n",
            " extracting: test_layers_iran.pkl    \n",
            " extracting: test_sp_iran.pkl        \n",
            "Archive:  /content/drive/MyDrive/train_boundary_Iran.zip\n",
            " extracting: train_labels_Iran.pkl   \n",
            " extracting: train_layers_iran.pkl   \n",
            " extracting: train_sp_iran.pkl       \n"
          ]
        }
      ]
    },
    {
      "cell_type": "code",
      "source": [
        "train_thickness = pickle.load (open ('/content/train_layers_iran.pkl', 'rb'))"
      ],
      "metadata": {
        "id": "Jf83YewMhE9N"
      },
      "execution_count": null,
      "outputs": []
    },
    {
      "cell_type": "code",
      "source": [
        "test_thickness = pickle.load (open ('/content/test_layers_iran.pkl', 'rb'))"
      ],
      "metadata": {
        "id": "d_d9w91lhE_8"
      },
      "execution_count": null,
      "outputs": []
    },
    {
      "cell_type": "code",
      "source": [],
      "metadata": {
        "id": "j7fCoYN2idJu"
      },
      "execution_count": null,
      "outputs": []
    },
    {
      "cell_type": "code",
      "source": [
        "test_thickness ['1'] [0].shape"
      ],
      "metadata": {
        "colab": {
          "base_uri": "https://localhost:8080/"
        },
        "id": "dag7m3lihFDK",
        "outputId": "0dc5dd9e-b212-4f45-e7cf-41c576a0d3b3"
      },
      "execution_count": null,
      "outputs": [
        {
          "output_type": "execute_result",
          "data": {
            "text/plain": [
              "(1, 19, 511, 9)"
            ]
          },
          "metadata": {},
          "execution_count": 12
        }
      ]
    },
    {
      "cell_type": "code",
      "source": [
        "train_labels = pickle.load (open ('/content/train_labels_Iran.pkl', 'rb'))"
      ],
      "metadata": {
        "id": "w0NpSdC1hFF8"
      },
      "execution_count": null,
      "outputs": []
    },
    {
      "cell_type": "code",
      "source": [
        "test_labels = pickle.load (open ('/content/test_labels_Iran.pkl', 'rb'))"
      ],
      "metadata": {
        "id": "LzLfma7DhFJC"
      },
      "execution_count": null,
      "outputs": []
    },
    {
      "cell_type": "code",
      "source": [
        "a = []"
      ],
      "metadata": {
        "id": "r1tp45tRhFLn"
      },
      "execution_count": null,
      "outputs": []
    },
    {
      "cell_type": "code",
      "source": [
        "a = [1, 2, 3]"
      ],
      "metadata": {
        "id": "j9uxKBxgmuCL"
      },
      "execution_count": null,
      "outputs": []
    },
    {
      "cell_type": "code",
      "source": [
        "a"
      ],
      "metadata": {
        "colab": {
          "base_uri": "https://localhost:8080/"
        },
        "id": "tyoSXyR6mv7N",
        "outputId": "88bfd680-b331-436e-88c2-9d17c690f53e"
      },
      "execution_count": null,
      "outputs": [
        {
          "output_type": "execute_result",
          "data": {
            "text/plain": [
              "[1, 2, 3]"
            ]
          },
          "metadata": {},
          "execution_count": 31
        }
      ]
    },
    {
      "cell_type": "code",
      "source": [
        "train_thickness_new = {}\n",
        "for i in train_thickness:\n",
        "  train_thickness_new [i] = []\n",
        "  for j in train_thickness [i]:\n",
        "    train_thickness_new [i].append (np.array ([]))"
      ],
      "metadata": {
        "id": "WgF3MJPwi0ou"
      },
      "execution_count": null,
      "outputs": []
    },
    {
      "cell_type": "code",
      "source": [
        "test_thickness_new = {}\n",
        "for i in test_thickness:\n",
        "  test_thickness_new [i] = []\n",
        "  for j in test_thickness [i]:\n",
        "    test_thickness_new [i].append (np.array ([]))"
      ],
      "metadata": {
        "id": "UotoAsXNDQlC"
      },
      "execution_count": null,
      "outputs": []
    },
    {
      "cell_type": "code",
      "source": [
        "train_thickness_np"
      ],
      "metadata": {
        "id": "Z2OPS47hms-D"
      },
      "execution_count": null,
      "outputs": []
    },
    {
      "cell_type": "code",
      "source": [
        "l = 0\n",
        "\n",
        "for i in train_thickness_new:\n",
        "\n",
        "  for j, _ in enumerate(train_thickness_new [i]):\n",
        "\n",
        "    train_thickness_new [i] [j] = train_thickness_np [l]\n",
        "\n",
        "    l += 1\n"
      ],
      "metadata": {
        "id": "ZSLJ7gimmT_i"
      },
      "execution_count": null,
      "outputs": []
    },
    {
      "cell_type": "code",
      "source": [
        "train_thickness_new ['101'] [0].shape"
      ],
      "metadata": {
        "colab": {
          "base_uri": "https://localhost:8080/"
        },
        "id": "d7E1r2oEmUDc",
        "outputId": "267fc044-45df-4b8f-ed88-6592dc9f78e0"
      },
      "execution_count": null,
      "outputs": [
        {
          "output_type": "execute_result",
          "data": {
            "text/plain": [
              "(60, 256, 1)"
            ]
          },
          "metadata": {},
          "execution_count": 50
        }
      ]
    },
    {
      "cell_type": "code",
      "source": [
        "test_thickness_new = {}\n",
        "for i in test_thickness:\n",
        "  test_thickness_new [i] = []\n",
        "  for j in test_thickness [i]:\n",
        "    test_thickness_new [i].append (np.array ([]))"
      ],
      "metadata": {
        "id": "f7qFEvI7mUGx"
      },
      "execution_count": null,
      "outputs": []
    },
    {
      "cell_type": "code",
      "source": [
        "l = 0\n",
        "\n",
        "for i in test_thickness_new:\n",
        "\n",
        "  for j, _ in enumerate(test_thickness_new [i]):\n",
        "\n",
        "    test_thickness_new [i] [j] = test_thickness_np [l]\n",
        "\n",
        "    l += 1\n"
      ],
      "metadata": {
        "id": "DUI9DZgimUJ7"
      },
      "execution_count": null,
      "outputs": []
    },
    {
      "cell_type": "code",
      "source": [],
      "metadata": {
        "id": "tEJWVpxJENeM"
      },
      "execution_count": null,
      "outputs": []
    },
    {
      "cell_type": "code",
      "source": [
        "test_thickness_new ['1'] [0]"
      ],
      "metadata": {
        "colab": {
          "base_uri": "https://localhost:8080/"
        },
        "id": "tdDBf6DdENpu",
        "outputId": "d70617a4-a9c5-4989-c7fb-74b8972a20a9"
      },
      "execution_count": null,
      "outputs": [
        {
          "output_type": "execute_result",
          "data": {
            "text/plain": [
              "array([[[0.20930481],\n",
              "        [0.20930481],\n",
              "        [0.20930481],\n",
              "        ...,\n",
              "        [0.46789694],\n",
              "        [0.44800523],\n",
              "        [0.43802053]],\n",
              "\n",
              "       [[0.20930481],\n",
              "        [0.20930481],\n",
              "        [0.20930481],\n",
              "        ...,\n",
              "        [0.46789694],\n",
              "        [0.44800523],\n",
              "        [0.43802053]],\n",
              "\n",
              "       [[0.16289088],\n",
              "        [0.16862464],\n",
              "        [0.17449437],\n",
              "        ...,\n",
              "        [0.63034588],\n",
              "        [0.62205768],\n",
              "        [0.45770347]],\n",
              "\n",
              "       ...,\n",
              "\n",
              "       [[0.07175936],\n",
              "        [0.06873707],\n",
              "        [0.06177465],\n",
              "        ...,\n",
              "        [0.50270736],\n",
              "        [0.50154668],\n",
              "        [0.09617876]],\n",
              "\n",
              "       [[0.06015589],\n",
              "        [0.06000048],\n",
              "        [0.05017119],\n",
              "        ...,\n",
              "        [0.46789694],\n",
              "        [0.45806766],\n",
              "        [0.05852415]],\n",
              "\n",
              "       [[0.06015589],\n",
              "        [0.06000048],\n",
              "        [0.05017119],\n",
              "        ...,\n",
              "        [0.46789694],\n",
              "        [0.45806766],\n",
              "        [0.05852415]]])"
            ]
          },
          "metadata": {},
          "execution_count": 21
        }
      ]
    },
    {
      "cell_type": "code",
      "source": [
        "l"
      ],
      "metadata": {
        "id": "OL5g6OUji00f"
      },
      "execution_count": null,
      "outputs": []
    },
    {
      "cell_type": "code",
      "source": [
        "with open ('/content/test_thickness_new.pkl', 'wb') as f:\n",
        "  pickle.dump (test_thickness_new, f)"
      ],
      "metadata": {
        "id": "ayYgHykovdWO"
      },
      "execution_count": null,
      "outputs": []
    },
    {
      "cell_type": "code",
      "source": [
        "!cp /content/test_thickness_new.pkl /content/drive/MyDrive"
      ],
      "metadata": {
        "id": "osLEkEFEEuUy"
      },
      "execution_count": null,
      "outputs": []
    },
    {
      "cell_type": "code",
      "source": [
        "\n",
        "train_sp = pickle.load (open ('/content/train_sp_iran.pkl', 'rb'))\n",
        "test_sp = pickle.load (open ('/content/test_sp_iran.pkl', 'rb'))"
      ],
      "metadata": {
        "id": "lmbd8yfBvdZm"
      },
      "execution_count": null,
      "outputs": []
    },
    {
      "cell_type": "code",
      "source": [
        "train_sp_new = {}\n",
        "for i in train_sp:\n",
        "  train_sp_new [i] = []\n",
        "  for j in train_sp [i]:\n",
        "    train_sp_new [i].append (np.array ([]))"
      ],
      "metadata": {
        "id": "ulKRRuoMvddF"
      },
      "execution_count": null,
      "outputs": []
    },
    {
      "cell_type": "code",
      "source": [
        "test_sp_new = {}\n",
        "for i in test_sp:\n",
        "  test_sp_new [i] = []\n",
        "  for j in test_sp [i]:\n",
        "    test_sp_new [i].append (np.array ([]))"
      ],
      "metadata": {
        "id": "GaHwOD8ADj5i"
      },
      "execution_count": null,
      "outputs": []
    },
    {
      "cell_type": "code",
      "source": [
        "test_sp.keys ()"
      ],
      "metadata": {
        "colab": {
          "base_uri": "https://localhost:8080/"
        },
        "id": "Oh7HbVYL35Jw",
        "outputId": "acb6851d-dc23-4470-d1f3-3fa0e4af0583"
      },
      "execution_count": null,
      "outputs": [
        {
          "output_type": "execute_result",
          "data": {
            "text/plain": [
              "dict_keys(['1', '3', '6', '9', '11', '13', '17', '18', '19', '20', '23', '30', '32', '56', '66', '68', '70', '72', '85', '93', '96'])"
            ]
          },
          "metadata": {},
          "execution_count": 112
        }
      ]
    },
    {
      "cell_type": "code",
      "source": [
        "test_sp_copy = test_sp.copy ()"
      ],
      "metadata": {
        "id": "ka0D0OeQ2f9L"
      },
      "execution_count": null,
      "outputs": []
    },
    {
      "cell_type": "code",
      "source": [
        "keys_to_delete = ['1', '3', '6', '9', '11', '13', '17', '18', '19', '20', '23', '30', '32']"
      ],
      "metadata": {
        "id": "2rPFt-FD40CF"
      },
      "execution_count": null,
      "outputs": []
    },
    {
      "cell_type": "code",
      "source": [
        "len (keys_to_delete)"
      ],
      "metadata": {
        "colab": {
          "base_uri": "https://localhost:8080/"
        },
        "id": "Ng4_MtlU6Tab",
        "outputId": "e0e95f93-78d9-44f7-cf78-b559f0fd57fb"
      },
      "execution_count": null,
      "outputs": [
        {
          "output_type": "execute_result",
          "data": {
            "text/plain": [
              "13"
            ]
          },
          "metadata": {},
          "execution_count": 132
        }
      ]
    },
    {
      "cell_type": "code",
      "source": [
        "plt.imshow (train_thickness_new ['10'] [0])"
      ],
      "metadata": {
        "id": "HdGEUeSoFPQI"
      },
      "execution_count": null,
      "outputs": []
    },
    {
      "cell_type": "code",
      "source": [],
      "metadata": {
        "id": "oGYIPhup43fH"
      },
      "execution_count": null,
      "outputs": []
    },
    {
      "cell_type": "code",
      "source": [
        "test_sp_copy"
      ],
      "metadata": {
        "id": "xCtR3UqM43oC"
      },
      "execution_count": null,
      "outputs": []
    },
    {
      "cell_type": "code",
      "source": [
        "for key in test_sp:\n",
        "\n",
        "  if key in keys_to_delete:\n",
        "\n",
        "    del test_sp_copy [key]"
      ],
      "metadata": {
        "id": "iin0hV9r31SF"
      },
      "execution_count": null,
      "outputs": []
    },
    {
      "cell_type": "code",
      "source": [
        "test_sp_copy"
      ],
      "metadata": {
        "id": "9nfg_fUT5CmU"
      },
      "execution_count": null,
      "outputs": []
    },
    {
      "cell_type": "code",
      "source": [
        "test_sp_new = {}\n",
        "\n",
        "for i in test_sp_copy:\n",
        "\n",
        "    test_sp_new [i] = [not element for element in test_sp_copy [i]]"
      ],
      "metadata": {
        "id": "6XO_CQN3wqiq"
      },
      "execution_count": null,
      "outputs": []
    },
    {
      "cell_type": "code",
      "source": [
        "test_sp_new"
      ],
      "metadata": {
        "colab": {
          "base_uri": "https://localhost:8080/"
        },
        "id": "fp55GiN-8WRR",
        "outputId": "820505c4-e292-4a46-e268-383af3a13b9a"
      },
      "execution_count": null,
      "outputs": [
        {
          "output_type": "execute_result",
          "data": {
            "text/plain": [
              "{'56': [False, True],\n",
              " '66': [False, True],\n",
              " '68': [False, True],\n",
              " '70': [False, True],\n",
              " '72': [False, True],\n",
              " '85': [False, True],\n",
              " '93': [False, True],\n",
              " '96': [False]}"
            ]
          },
          "metadata": {},
          "execution_count": 138
        }
      ]
    },
    {
      "cell_type": "code",
      "source": [
        "test_sp_all = test_sp.copy ()"
      ],
      "metadata": {
        "id": "ue--DHp682jj"
      },
      "execution_count": null,
      "outputs": []
    },
    {
      "cell_type": "code",
      "source": [
        "test_sp_all.update (test_sp_new)\n"
      ],
      "metadata": {
        "id": "dP_mEwfW8xnB"
      },
      "execution_count": null,
      "outputs": []
    },
    {
      "cell_type": "code",
      "source": [
        "test_sp"
      ],
      "metadata": {
        "colab": {
          "base_uri": "https://localhost:8080/"
        },
        "id": "F31MOZ13Gdzs",
        "outputId": "8783771b-d248-44d3-eefb-30568aaed59b"
      },
      "execution_count": null,
      "outputs": [
        {
          "output_type": "execute_result",
          "data": {
            "text/plain": [
              "{'1': [True, False],\n",
              " '3': [False],\n",
              " '6': [True, False],\n",
              " '9': [False],\n",
              " '11': [True],\n",
              " '13': [True, False],\n",
              " '17': [True, False],\n",
              " '18': [True, False],\n",
              " '19': [True, False],\n",
              " '20': [True, False],\n",
              " '23': [True, False],\n",
              " '30': [True, False],\n",
              " '32': [True, False],\n",
              " '56': [True, False],\n",
              " '66': [True, False],\n",
              " '68': [True, False],\n",
              " '70': [True, False],\n",
              " '72': [True, False],\n",
              " '85': [True, False],\n",
              " '93': [True, False],\n",
              " '96': [True]}"
            ]
          },
          "metadata": {},
          "execution_count": 141
        }
      ]
    },
    {
      "cell_type": "code",
      "source": [
        "test_sp_all"
      ],
      "metadata": {
        "colab": {
          "base_uri": "https://localhost:8080/"
        },
        "id": "soWS4cXi793p",
        "outputId": "795ca86a-c59a-4b9d-ca52-8b2f54404cf3"
      },
      "execution_count": null,
      "outputs": [
        {
          "output_type": "execute_result",
          "data": {
            "text/plain": [
              "{'1': [True, False],\n",
              " '3': [False],\n",
              " '6': [True, False],\n",
              " '9': [False],\n",
              " '11': [True],\n",
              " '13': [True, False],\n",
              " '17': [True, False],\n",
              " '18': [True, False],\n",
              " '19': [True, False],\n",
              " '20': [True, False],\n",
              " '23': [True, False],\n",
              " '30': [True, False],\n",
              " '32': [True, False],\n",
              " '56': [False, True],\n",
              " '66': [False, True],\n",
              " '68': [False, True],\n",
              " '70': [False, True],\n",
              " '72': [False, True],\n",
              " '85': [False, True],\n",
              " '93': [False, True],\n",
              " '96': [False]}"
            ]
          },
          "metadata": {},
          "execution_count": 140
        }
      ]
    },
    {
      "cell_type": "code",
      "source": [
        "with open ('train_sp.pkl', 'wb') as f:\n",
        "  pickle.dump (train_sp_all, f)"
      ],
      "metadata": {
        "id": "YW48JHf_wqmI"
      },
      "execution_count": null,
      "outputs": []
    },
    {
      "cell_type": "code",
      "source": [
        "test_thickness_new ['1'] [0].shape"
      ],
      "metadata": {
        "id": "N7RYNa4mG5kV"
      },
      "execution_count": null,
      "outputs": []
    },
    {
      "cell_type": "code",
      "source": [
        "with open ('test_labels.pkl', 'wb') as f:\n",
        "  pickle.dump (test_labels, f)"
      ],
      "metadata": {
        "id": "1qfxRCwNGvnU"
      },
      "execution_count": null,
      "outputs": []
    },
    {
      "cell_type": "code",
      "source": [
        "import zipfile\n",
        "\n",
        "# List of files to zip\n",
        "files_to_zip = ['test_merged.pkl', 'test_merged_label.pkl']\n",
        "# Name of the zip file\n",
        "zip_file_name = 'new_test_merged_data.zip'\n",
        "\n",
        "# Create the zip file\n",
        "with zipfile.ZipFile(zip_file_name, 'w') as zipf:\n",
        "    for file in files_to_zip:\n",
        "        zipf.write(file)\n"
      ],
      "metadata": {
        "id": "gQbEtyk57O_X"
      },
      "execution_count": null,
      "outputs": []
    },
    {
      "cell_type": "code",
      "source": [
        "!cp /content/new_test_merged_data.zip /content/drive/MyDrive"
      ],
      "metadata": {
        "id": "2SX8qk_JF8fP"
      },
      "execution_count": null,
      "outputs": []
    },
    {
      "cell_type": "code",
      "source": [
        "!cp /content/train_thickness_retina_iran.zip /content/drive/MyDrive"
      ],
      "metadata": {
        "id": "Na-YhO7T7PFc"
      },
      "execution_count": null,
      "outputs": []
    },
    {
      "cell_type": "code",
      "source": [],
      "metadata": {
        "id": "rNQK4Tnewqpz"
      },
      "execution_count": null,
      "outputs": []
    },
    {
      "cell_type": "code",
      "source": [],
      "metadata": {
        "id": "hcELRHEiwqtH"
      },
      "execution_count": null,
      "outputs": []
    },
    {
      "cell_type": "code",
      "source": [],
      "metadata": {
        "id": "zSjm7yxYwqwK"
      },
      "execution_count": null,
      "outputs": []
    },
    {
      "cell_type": "code",
      "source": [
        "vols"
      ],
      "metadata": {
        "id": "AEbUwxvvL1R1"
      },
      "execution_count": null,
      "outputs": []
    },
    {
      "cell_type": "code",
      "source": [],
      "metadata": {
        "id": "rU7VpLs6z_15"
      },
      "execution_count": null,
      "outputs": []
    },
    {
      "cell_type": "code",
      "source": [
        "subjects"
      ],
      "metadata": {
        "id": "9p4OoZ-qLpjL"
      },
      "execution_count": null,
      "outputs": []
    },
    {
      "cell_type": "code",
      "source": [
        "with open ('/content/train_sp_iran.pkl', 'rb') as f:\n",
        "  train_sp = pickle.load (f)"
      ],
      "metadata": {
        "id": "LJ-iK3GCLH4U"
      },
      "execution_count": null,
      "outputs": []
    },
    {
      "cell_type": "code",
      "source": [
        "train_sp"
      ],
      "metadata": {
        "id": "eFyHSW-WLH7U"
      },
      "execution_count": null,
      "outputs": []
    },
    {
      "cell_type": "code",
      "source": [
        "dict_concatenated = {**train_sp, **test_sp}"
      ],
      "metadata": {
        "id": "2y6yzUmEpwc8"
      },
      "execution_count": null,
      "outputs": []
    },
    {
      "cell_type": "code",
      "source": [
        "def preparing (x1, x2, y, sp):\n",
        "\n",
        "  data = []\n",
        "\n",
        "  label = []\n",
        "\n",
        "\n",
        "  for subject in x1:\n",
        "\n",
        "    for i in x1 [subject]:\n",
        "\n",
        "      for j in x2 [subject]:\n",
        "\n",
        "        if sp [subject] [i] == sp [subject] [j]:\n",
        "\n",
        "          data.append (np.concatenate ((x1 [subject] [i], x2 [subject] [j]), axis = 2))\n",
        "\n",
        "          label.append (y [i])\n",
        "\n",
        "  data = np.reshape (data, np.shape (data))\n",
        "\n",
        "  return data, label"
      ],
      "metadata": {
        "id": "z1cDWI5f0F62"
      },
      "execution_count": null,
      "outputs": []
    },
    {
      "cell_type": "code",
      "source": [],
      "metadata": {
        "id": "rTSsX97J0F-X"
      },
      "execution_count": null,
      "outputs": []
    },
    {
      "cell_type": "code",
      "source": [
        "with open ('/content/subjects_layers_Iran.pkl', 'rb') as f:\n",
        "  layers = pickle.load (f)"
      ],
      "metadata": {
        "id": "72TAgHmfL2uT"
      },
      "execution_count": null,
      "outputs": []
    },
    {
      "cell_type": "code",
      "source": [
        "!unzip /content/drive/MyDrive/train_SLO_iran.zip"
      ],
      "metadata": {
        "colab": {
          "base_uri": "https://localhost:8080/"
        },
        "id": "HpjZqm_ZOKMB",
        "outputId": "8a8f963c-ece6-4448-9d1d-0777b0632142"
      },
      "execution_count": null,
      "outputs": [
        {
          "output_type": "stream",
          "name": "stdout",
          "text": [
            "Archive:  /content/drive/MyDrive/train_SLO_iran.zip\n",
            " extracting: train_slo_iran.pkl      \n",
            " extracting: train_labels_Iran.pkl   \n",
            " extracting: train_sp_iran.pkl       \n"
          ]
        }
      ]
    },
    {
      "cell_type": "code",
      "source": [
        "new_indices = [0, 2, 3, 4, 5, 6, 7, 8, 1]"
      ],
      "metadata": {
        "id": "KtSch64OEVT3"
      },
      "execution_count": null,
      "outputs": []
    },
    {
      "cell_type": "code",
      "source": [],
      "metadata": {
        "id": "YUg2L-nzUjCs"
      },
      "execution_count": null,
      "outputs": []
    },
    {
      "cell_type": "code",
      "source": [
        "with open ('/content/subjects_index_Iran.pkl', 'rb') as f:\n",
        "  indices = pickle.load (f)"
      ],
      "metadata": {
        "id": "WlUkJ_kvLFG1"
      },
      "execution_count": null,
      "outputs": []
    },
    {
      "cell_type": "code",
      "source": [
        "with open ('/content/vol_Iran.pkl', 'rb') as f:\n",
        "  vols = pickle.load (f)"
      ],
      "metadata": {
        "id": "CR-n4BgRLS28"
      },
      "execution_count": null,
      "outputs": []
    },
    {
      "cell_type": "code",
      "source": [
        "with open ('/content/vol_labels_Iran.pkl', 'rb') as f:\n",
        "  vols_labels = pickle.load (f)"
      ],
      "metadata": {
        "id": "DcbpmZQbX_4s"
      },
      "execution_count": null,
      "outputs": []
    },
    {
      "cell_type": "code",
      "source": [
        "vols_labels"
      ],
      "metadata": {
        "id": "bl9ooN2vX67C"
      },
      "execution_count": null,
      "outputs": []
    },
    {
      "cell_type": "code",
      "source": [
        "layers ['0'] [0].shape"
      ],
      "metadata": {
        "colab": {
          "base_uri": "https://localhost:8080/"
        },
        "id": "aCmm3TDgXTxf",
        "outputId": "dc785e35-208f-4744-f4f7-e269ce090c22"
      },
      "execution_count": null,
      "outputs": [
        {
          "output_type": "execute_result",
          "data": {
            "text/plain": [
              "(1, 19, 511, 9)"
            ]
          },
          "metadata": {},
          "execution_count": 48
        }
      ]
    },
    {
      "cell_type": "code",
      "source": [
        "list (layers.keys ()) [49:]"
      ],
      "metadata": {
        "colab": {
          "base_uri": "https://localhost:8080/"
        },
        "id": "zdF8Oe-tYQH_",
        "outputId": "a02cc4e9-4a8a-4430-ad1b-ceb0acf09640"
      },
      "execution_count": null,
      "outputs": [
        {
          "output_type": "execute_result",
          "data": {
            "text/plain": [
              "53"
            ]
          },
          "metadata": {},
          "execution_count": 54
        }
      ]
    },
    {
      "cell_type": "code",
      "source": [
        "oct = OctRead ('/content/Iran2/EYE00244_E_765_cropped_segmented_corrected.vol')\n",
        "hdr = oct.get_oct_hdr ()\n",
        "sp = hdr ['ScanPosition']\n",
        "seg = oct.get_segmentation (hdr) ['SegLayers']"
      ],
      "metadata": {
        "id": "d3POlDkkUmYK"
      },
      "execution_count": null,
      "outputs": []
    },
    {
      "cell_type": "code",
      "source": [
        "sp"
      ],
      "metadata": {
        "colab": {
          "base_uri": "https://localhost:8080/"
        },
        "id": "MPReOsI7U8CT",
        "outputId": "322a45f5-202c-4dd5-88e1-6e95a5ebbc59"
      },
      "execution_count": null,
      "outputs": [
        {
          "output_type": "execute_result",
          "data": {
            "text/plain": [
              "b'OD\\x00\\x00'"
            ]
          },
          "metadata": {},
          "execution_count": 74
        }
      ]
    },
    {
      "cell_type": "code",
      "source": [
        "seg.shape"
      ],
      "metadata": {
        "colab": {
          "base_uri": "https://localhost:8080/"
        },
        "id": "rNCDIyKKVLcu",
        "outputId": "5edca054-cf6d-41e3-f208-24e2363d928a"
      },
      "execution_count": null,
      "outputs": [
        {
          "output_type": "execute_result",
          "data": {
            "text/plain": [
              "(521, 17, 49)"
            ]
          },
          "metadata": {},
          "execution_count": 77
        }
      ]
    },
    {
      "cell_type": "code",
      "source": [
        "plt.imshow (resize (seg [:, 2,:] - seg [:, 0,:], (128, 128)), cmap = 'jet')"
      ],
      "metadata": {
        "id": "NWhfW20ZU9Z7"
      },
      "execution_count": null,
      "outputs": []
    },
    {
      "cell_type": "code",
      "source": [
        "!unzip /content/drive/MyDrive/train_data_Iran.zip"
      ],
      "metadata": {
        "colab": {
          "base_uri": "https://localhost:8080/"
        },
        "id": "-K8awjXQQc-g",
        "outputId": "b28e8232-90df-4e44-8572-5c6e79ccda43"
      },
      "execution_count": null,
      "outputs": [
        {
          "output_type": "stream",
          "name": "stdout",
          "text": [
            "Archive:  /content/drive/MyDrive/train_data_Iran.zip\n",
            " extracting: train_layers_Iran.pkl   \n",
            "replace train_labels_Iran.pkl? [y]es, [n]o, [A]ll, [N]one, [r]ename: y\n",
            " extracting: train_labels_Iran.pkl   \n",
            " extracting: train_sp_Iran.pkl       \n"
          ]
        }
      ]
    },
    {
      "cell_type": "code",
      "source": [
        "train_layers_old = pickle.load (open ('/content/train_layers_Iran.pkl', 'rb'))"
      ],
      "metadata": {
        "id": "WyVRlVKVQmWY"
      },
      "execution_count": null,
      "outputs": []
    },
    {
      "cell_type": "code",
      "source": [
        "plt.imshow (resize (train_layers_old ['101'] [0] [0, :,:, 2] - train_layers_old ['101'] [0] [0, :,:, 0] , (128, 128)), cmap = 'jet')"
      ],
      "metadata": {
        "id": "I-c6flHbQ3qh"
      },
      "execution_count": null,
      "outputs": []
    },
    {
      "cell_type": "code",
      "source": [
        "layers_new = {}\n",
        "\n",
        "for key in list (layers.keys ()) [49:]:\n",
        "\n",
        "  layer_new_list = []\n",
        "\n",
        "  for layer in layers [str (key)]:\n",
        "\n",
        "    new_layer = np.array ([layer [:, :, :, index] for index in new_indices])\n",
        "\n",
        "    new_layer = np.transpose (new_layer, (1, 2, 3, 0))\n",
        "\n",
        "    layer_new_list.append (new_layer)\n",
        "\n",
        "  layers_new [str (key)] = layer_new_list\n",
        "\n"
      ],
      "metadata": {
        "id": "8r7LckH7Xkf4"
      },
      "execution_count": null,
      "outputs": []
    },
    {
      "cell_type": "code",
      "source": [
        "layers ['49'] [0] [0,:,:, 8].shape"
      ],
      "metadata": {
        "colab": {
          "base_uri": "https://localhost:8080/"
        },
        "id": "fhNWvOZNi5Da",
        "outputId": "0cd911e9-82b5-4119-bd9e-734987853dfb"
      },
      "execution_count": null,
      "outputs": [
        {
          "output_type": "execute_result",
          "data": {
            "text/plain": [
              "(523, 49)"
            ]
          },
          "metadata": {},
          "execution_count": 80
        }
      ]
    },
    {
      "cell_type": "code",
      "source": [
        "len (layers_new ['89'])"
      ],
      "metadata": {
        "colab": {
          "base_uri": "https://localhost:8080/"
        },
        "id": "KJ4hY3xdi75q",
        "outputId": "9e9cff6c-ee1a-4276-b9fe-b28fdeb8db06"
      },
      "execution_count": null,
      "outputs": [
        {
          "output_type": "execute_result",
          "data": {
            "text/plain": [
              "2"
            ]
          },
          "metadata": {},
          "execution_count": 91
        }
      ]
    },
    {
      "cell_type": "code",
      "source": [
        "layers.update (layers_new)"
      ],
      "metadata": {
        "id": "BoefEFt4kYEm"
      },
      "execution_count": null,
      "outputs": []
    },
    {
      "cell_type": "code",
      "source": [
        "layers.keys ()"
      ],
      "metadata": {
        "colab": {
          "base_uri": "https://localhost:8080/"
        },
        "id": "X4BXYnSTkqG1",
        "outputId": "e3ea6cc8-229f-49a9-da7b-fb156cd50192"
      },
      "execution_count": null,
      "outputs": [
        {
          "output_type": "execute_result",
          "data": {
            "text/plain": [
              "dict_keys(['0', '1', '2', '3', '4', '5', '6', '7', '8', '9', '10', '11', '12', '13', '14', '15', '16', '17', '18', '19', '20', '21', '22', '23', '24', '25', '26', '27', '28', '29', '30', '31', '32', '33', '34', '35', '36', '37', '38', '39', '40', '41', '42', '43', '44', '45', '46', '47', '48', '49', '50', '51', '52', '53', '54', '55', '56', '57', '58', '59', '60', '61', '62', '63', '64', '65', '66', '67', '68', '69', '70', '71', '72', '73', '74', '75', '76', '77', '78', '79', '80', '81', '82', '83', '84', '85', '86', '87', '88', '89', '90', '91', '92', '93', '94', '95', '96', '97', '98', '99', '100', '101'])"
            ]
          },
          "metadata": {},
          "execution_count": 94
        }
      ]
    },
    {
      "cell_type": "code",
      "source": [
        "layers_new ['99'] [0] [0, :, :, 1] == layers ['99'] [0] [0, :, :, 1]"
      ],
      "metadata": {
        "colab": {
          "base_uri": "https://localhost:8080/"
        },
        "id": "lykQoG2oZvZY",
        "outputId": "2f700271-7e94-4606-c3f3-9660023750c6"
      },
      "execution_count": null,
      "outputs": [
        {
          "output_type": "execute_result",
          "data": {
            "text/plain": [
              "array([[ True,  True,  True, ...,  True,  True,  True],\n",
              "       [ True,  True,  True, ...,  True,  True,  True],\n",
              "       [ True,  True,  True, ...,  True,  True,  True],\n",
              "       ...,\n",
              "       [ True,  True,  True, ...,  True,  True,  True],\n",
              "       [ True,  True,  True, ...,  True,  True,  True],\n",
              "       [ True,  True,  True, ...,  True,  True,  True]])"
            ]
          },
          "metadata": {},
          "execution_count": 100
        }
      ]
    },
    {
      "cell_type": "code",
      "source": [
        "plt.imshow (layers ['99'] [0] [0,:,:, 1] - layers ['99'] [0] [0,:,:, 0])"
      ],
      "metadata": {
        "id": "fEqYPA7Jhl-I"
      },
      "execution_count": null,
      "outputs": []
    },
    {
      "cell_type": "code",
      "source": [
        "layers ['99'] [0].shape"
      ],
      "metadata": {
        "colab": {
          "base_uri": "https://localhost:8080/"
        },
        "id": "7S3ZT3vBXkkc",
        "outputId": "d6aaceae-ebbb-4aff-9e6f-85edeb84a1c0"
      },
      "execution_count": null,
      "outputs": [
        {
          "output_type": "execute_result",
          "data": {
            "text/plain": [
              "(1, 523, 49, 9)"
            ]
          },
          "metadata": {},
          "execution_count": 103
        }
      ]
    },
    {
      "cell_type": "code",
      "source": [],
      "metadata": {
        "id": "KtlnpcRklm0p"
      },
      "execution_count": null,
      "outputs": []
    },
    {
      "cell_type": "code",
      "source": [
        "import zipfile\n",
        "\n",
        "# List of files to zip\n",
        "files_to_zip = ['test_merged.pkl', 'test_merged_label.pkl', 'train_merged.pkl', 'train_merged_label.pkl']\n",
        "# Name of the zip file\n",
        "zip_file_name = 'merged_data_finalllll.zip'\n",
        "\n",
        "# Create the zip file\n",
        "with zipfile.ZipFile(zip_file_name, 'w') as zipf:\n",
        "    for file in files_to_zip:\n",
        "        zipf.write(file)\n"
      ],
      "metadata": {
        "id": "pDkACMc_qaCY"
      },
      "execution_count": null,
      "outputs": []
    },
    {
      "cell_type": "code",
      "source": [
        "!cp /content/merged_data_finalllll.zip  /content/drive/MyDrive"
      ],
      "metadata": {
        "id": "chAbCh7OXxN4"
      },
      "execution_count": null,
      "outputs": []
    },
    {
      "cell_type": "code",
      "source": [
        "train_merged ['22'] [8] [0].shape"
      ],
      "metadata": {
        "id": "mu-OIEk1AXYB"
      },
      "execution_count": null,
      "outputs": []
    },
    {
      "cell_type": "code",
      "source": [
        "!cp /content/merged_data_final2.zip /content/drive/MyDrive"
      ],
      "metadata": {
        "id": "AzOzzJbRAM37"
      },
      "execution_count": null,
      "outputs": []
    },
    {
      "cell_type": "code",
      "source": [
        "!cp /content/train_boundary_Iran.zip /content/drive/MyDrive"
      ],
      "metadata": {
        "id": "jfrbjt25lm6y"
      },
      "execution_count": null,
      "outputs": []
    },
    {
      "cell_type": "code",
      "source": [
        "train_index = [0,   2,   4,   5,   7,   8,  10,  12,  14,  15,  16,  21,  22,  24,  25,  26,  27,  28,\n",
        "  29,  31,  33,  34,  35,  36,  37,  38,  39,  40,  41,  42,  43,  44,  45,  46,  47,  48,\n",
        "  49,  50,  51,  52,  53,  54,  55,  57,  58,  59,  60,  61,  62,  63,  64,  65,  67,  69,\n",
        "  71,  73,  74,  75,  76,  77,  78,  79,  80,  81,  82,  83,  84,  86,  87,  88, 89,  90,\n",
        "  91,  92,  94,  95,  97,  98,  99, 100, 101]\n",
        "test_index = [ 1,  3,  6,  9, 11, 13, 17, 18, 19, 20, 23, 30, 32, 56, 66, 68, 70 ,72, 85, 93, 96]"
      ],
      "metadata": {
        "id": "rshiaHg7lm9r"
      },
      "execution_count": null,
      "outputs": []
    },
    {
      "cell_type": "code",
      "source": [],
      "metadata": {
        "id": "nuUs9y8VXkne"
      },
      "execution_count": null,
      "outputs": []
    },
    {
      "cell_type": "code",
      "source": [
        "train_layers = {}\n",
        "\n",
        "for index in train_index:\n",
        "\n",
        "  train_layers [str (index)] = layers [str (index)]"
      ],
      "metadata": {
        "id": "pkT4O0uClNHt"
      },
      "execution_count": null,
      "outputs": []
    },
    {
      "cell_type": "code",
      "source": [
        "len (train_layers)"
      ],
      "metadata": {
        "colab": {
          "base_uri": "https://localhost:8080/"
        },
        "id": "5snNox33lNKg",
        "outputId": "348f4755-a418-498c-ef38-015bdba3b90d"
      },
      "execution_count": null,
      "outputs": [
        {
          "output_type": "execute_result",
          "data": {
            "text/plain": [
              "81"
            ]
          },
          "metadata": {},
          "execution_count": 108
        }
      ]
    },
    {
      "cell_type": "code",
      "source": [
        "test_layers = {}\n",
        "\n",
        "for index in test_index:\n",
        "\n",
        "  test_layers [str (index)] = layers [str (index)]"
      ],
      "metadata": {
        "id": "98dCvoxXrd3d"
      },
      "execution_count": null,
      "outputs": []
    },
    {
      "cell_type": "code",
      "source": [
        "!unzip /content/drive/MyDrive/test_thicknessmap_Iran.zip"
      ],
      "metadata": {
        "colab": {
          "base_uri": "https://localhost:8080/"
        },
        "id": "y1qTXw-QqsmC",
        "outputId": "bc3ed600-ecda-41cf-87b7-0841bc2ecca8"
      },
      "execution_count": null,
      "outputs": [
        {
          "output_type": "stream",
          "name": "stdout",
          "text": [
            "Archive:  /content/drive/MyDrive/test_thicknessmap_Iran.zip\n",
            " extracting: test_labels_Iran.pkl    \n",
            " extracting: test_layers_Iran.pkl    \n",
            " extracting: test_sp_iran.pkl        \n"
          ]
        }
      ]
    },
    {
      "cell_type": "code",
      "source": [
        "len (test_layers)"
      ],
      "metadata": {
        "colab": {
          "base_uri": "https://localhost:8080/"
        },
        "id": "lpGbT0pCrhph",
        "outputId": "6925fda9-6a61-40f6-aa65-7252fcf9b428"
      },
      "execution_count": null,
      "outputs": [
        {
          "output_type": "execute_result",
          "data": {
            "text/plain": [
              "21"
            ]
          },
          "metadata": {},
          "execution_count": 132
        }
      ]
    },
    {
      "cell_type": "code",
      "source": [],
      "metadata": {
        "id": "Mle6B1Heqsyy"
      },
      "execution_count": null,
      "outputs": []
    },
    {
      "cell_type": "code",
      "source": [
        "with open ('/content/train_sp_iran.pkl', 'rb') as f:\n",
        "  train_sp = pickle.load (f)"
      ],
      "metadata": {
        "id": "QHLG0VvFlNNQ"
      },
      "execution_count": null,
      "outputs": []
    },
    {
      "cell_type": "code",
      "source": [],
      "metadata": {
        "id": "pKZiauG7qIkj"
      },
      "execution_count": null,
      "outputs": []
    },
    {
      "cell_type": "code",
      "source": [
        "with open ('test_layers_iran.pkl', 'wb') as f:\n",
        "  pickle.dump (test_layers, f)"
      ],
      "metadata": {
        "id": "h642dBhGq-R7"
      },
      "execution_count": null,
      "outputs": []
    },
    {
      "cell_type": "code",
      "source": [],
      "metadata": {
        "id": "mgjCjSIJrzaA"
      },
      "execution_count": null,
      "outputs": []
    },
    {
      "cell_type": "code",
      "source": [
        "vols"
      ],
      "metadata": {
        "colab": {
          "base_uri": "https://localhost:8080/"
        },
        "id": "4WcGGCXDmhE0",
        "outputId": "ef7fad4f-7737-4b13-ef66-db7f7da4fe90"
      },
      "execution_count": null,
      "outputs": [
        {
          "output_type": "execute_result",
          "data": {
            "text/plain": [
              "{'0': 'hc-Dr_Alamzadeh_16_8_96_D_117.vol',\n",
              " '1': 'hc-Dr_Alamzadeh17_8_96_D_110.vol',\n",
              " '2': 'hc-Dr_Alamzadeh17_8_96_D_111.vol',\n",
              " '3': 'hc-Dr_Alamzadeh_25_6_96_D_112.vol',\n",
              " '4': 'hc-Dr_Alamzadeh_25_6_96_D_113.vol',\n",
              " '5': 'hc-Dr_Alamzadeh_9_8_96_D_119.vol',\n",
              " '6': 'hc-Dr_Alamzadeh_D_109.vol',\n",
              " '7': 'hc-Dr_Alamzadeh_D_114.vol',\n",
              " '8': 'hc-Dr_Alamzadeh_D_115.vol',\n",
              " '9': 'hc-Dr_Alamzadeh_D_123.vol',\n",
              " '10': 'hc-Dr_Alamzadeh_D_125.vol',\n",
              " '11': 'hc-Dr_Alamzadeh_D_127.vol',\n",
              " '12': 'hc-Dr_Alamzadeh_D_128.vol',\n",
              " '13': 'hc-Dr_Alamzadeh_D_131.vol',\n",
              " '14': 'hc-Dr_Alamzadeh_D_133.vol',\n",
              " '15': 'hc-Dr_Alamzadeh_D_143.vol',\n",
              " '16': 'hc-Dr_Alamzadeh_D_147.vol',\n",
              " '17': 'hc-Dr_Alamzadeh_D_148.vol',\n",
              " '18': 'hc-Dr_Alamzadeh_D_151.vol',\n",
              " '19': 'hc-Dr_Alamzadeh_D_153.vol',\n",
              " '20': 'hc-Dr_Alamzadeh_D_154.vol',\n",
              " '21': 'hc-Dr_Alamzadeh_D_156.vol',\n",
              " '22': 'hc-Dr_Alamzadeh_D_159.vol',\n",
              " '23': 'hc-Dr_Alamzadeh_D_161.vol',\n",
              " '24': 'ms-abasi_m_283.vol',\n",
              " '25': 'ms-abasi_m_284.vol',\n",
              " '26': 'ms-ahmadi_s_377.vol',\n",
              " '27': 'ms-ahmadi_s_378.vol',\n",
              " '28': 'ms-amin_o_roaei_f_181.vol',\n",
              " '29': 'ms-amin_o_roaei_f_182.vol',\n",
              " '30': 'ms-amoo_m_257.vol',\n",
              " '31': 'ms-amoo_m_258.vol',\n",
              " '32': 'ms-asgari_f_169.vol',\n",
              " '33': 'ms-asgari_f_170.vol',\n",
              " '34': 'ms-bagherian_s_372.vol',\n",
              " '35': 'ms-bagherian_s_373.vol',\n",
              " '36': 'ms-bagherian_s_374.vol',\n",
              " '37': 'ms-bahrami_m_287.vol',\n",
              " '38': 'ms-bahrami_m_288.vol',\n",
              " '39': 'ms-bestar_ahang_a_136.vol',\n",
              " '40': 'ms-bestar_ahang_a_137.vol',\n",
              " '41': 'ms-davari_z_405.vol',\n",
              " '42': 'ms-fadaei_e_153.vol',\n",
              " '43': 'ms-fadaei_e_154.vol',\n",
              " '44': 'ms-falamarzi_f_213.vol',\n",
              " '45': 'ms-falamarzi_f_214.vol',\n",
              " '46': 'ms-ghafoor_zadeh_l_237.vol',\n",
              " '47': 'ms-ghafoor_zadeh_l_238.vol',\n",
              " '48': 'ms-ghasemi_n_320.vol',\n",
              " '49': 'ms-ghasemi_n_321.vol',\n",
              " '50': 'ms-heidari_n_316.vol',\n",
              " '51': 'ms-heidari_n_317.vol',\n",
              " '52': 'ms-jabari_f_173.vol',\n",
              " '53': 'ms-jabari_f_174.vol',\n",
              " '54': 'ms-karimi_n_312.vol',\n",
              " '55': 'ms-karimi_n_313.vol',\n",
              " '56': 'ms-kazem_borji_z_410.vol',\n",
              " '57': 'ms-kiyani_mehr_z_417.vol',\n",
              " '58': 'ms-kiyani_mehr_z_418.vol',\n",
              " '59': 'ms-lavi_f_209.vol',\n",
              " '60': 'ms-lavi_f_210.vol',\n",
              " '61': 'ms-lotfi_m_265.vol',\n",
              " '62': 'ms-masoudi_r_344.vol',\n",
              " '63': 'ms-masoudi_r_345.vol',\n",
              " '64': 'ms-mazaheri_m_279.vol',\n",
              " '65': 'ms-mir_b_149.vol',\n",
              " '66': 'ms-mir_b_150.vol',\n",
              " '67': 'ms-moghtadaei_r_332.vol',\n",
              " '68': 'ms-moghtadaei_r_333.vol',\n",
              " '69': 'ms-mohamad_beygi_l_241.vol',\n",
              " '70': 'ms-mohamad_beygi_l_242.vol',\n",
              " '71': 'ms-mola_salehi_e_157.vol',\n",
              " '72': 'ms-mola_salehi_e_158.vol',\n",
              " '73': 'ms-mousavi_f_189.vol',\n",
              " '74': 'ms-nazem_a_112.vol',\n",
              " '75': 'ms-nazem_a_113.vol',\n",
              " '76': 'ms-soleimani_e_165.vol',\n",
              " '77': 'ms-soleimani_e_166.vol',\n",
              " '78': 'ms-torkan_z_421.vol',\n",
              " '79': 'ms-torkan_z_422.vol',\n",
              " '80': 'ms-torki_s_381.vol',\n",
              " '81': 'ms-torki_s_382.vol',\n",
              " '82': 'ms-zamani_a_140.vol',\n",
              " '83': 'ms-zamani_a_141.vol',\n",
              " '84': 'EYE00003_E_3771_cropped_segmented_corrected.vol',\n",
              " '85': 'EYE00003_E_3776_cropped_segmented_corrected.vol',\n",
              " '86': 'EYE00005_E_439_cropped_segmented_corrected.vol',\n",
              " '87': 'EYE00005_E_442_cropped_segmented_corrected.vol',\n",
              " '88': 'EYE00007_E_5431_cropped_segmented_corrected.vol',\n",
              " '89': 'EYE00007_E_5436_cropped_segmented_corrected.vol',\n",
              " '90': 'EYE00014_E_1178_cropped_segmented_corrected.vol',\n",
              " '91': 'EYE00014_E_1181_cropped_segmented_corrected.vol',\n",
              " '92': 'EYE00020_E_1595_cropped_segmented_corrected.vol',\n",
              " '93': 'EYE00020_E_1600_cropped_segmented_corrected.vol',\n",
              " '94': 'EYE00023_E_5863_cropped_segmented_corrected.vol',\n",
              " '95': 'EYE00023_E_5865_cropped_segmented_corrected.vol',\n",
              " '96': 'EYE00042_E_4187_cropped_segmented_corrected.vol',\n",
              " '97': 'EYE00042_E_4190_cropped_segmented_corrected.vol',\n",
              " '98': 'EYE00043_E_2209_cropped_segmented_corrected.vol',\n",
              " '99': 'EYE00043_E_2214_cropped_segmented_corrected.vol',\n",
              " '100': 'EYE00045_E_4994_cropped_segmented_corrected.vol',\n",
              " '101': 'EYE00045_E_4997_cropped_segmented_corrected.vol',\n",
              " '102': 'EYE00052_E_1754_cropped_segmented_corrected.vol',\n",
              " '103': 'EYE00052_E_1759_cropped_segmented_corrected.vol',\n",
              " '104': 'EYE00058_E_1224_cropped_segmented_corrected.vol',\n",
              " '105': 'EYE00058_E_1228_cropped_segmented_corrected.vol',\n",
              " '106': 'EYE00066_E_289_cropped_segmented_corrected.vol',\n",
              " '107': 'EYE00066_E_292_cropped_segmented_corrected.vol',\n",
              " '108': 'EYE00067_E_1785_cropped_segmented_corrected.vol',\n",
              " '109': 'EYE00068_E_1071_cropped_segmented_corrected.vol',\n",
              " '110': 'EYE00068_E_1075_cropped_segmented_corrected.vol',\n",
              " '111': 'EYE00071_E_4139_cropped_segmented_corrected.vol',\n",
              " '112': 'EYE00071_E_4142_cropped_segmented_corrected.vol',\n",
              " '113': 'EYE00074_E_1097_cropped_segmented_corrected.vol',\n",
              " '114': 'EYE00074_E_1100_cropped_segmented_corrected.vol',\n",
              " '115': 'EYE00084_E_3405_cropped_segmented_corrected.vol',\n",
              " '116': 'EYE00084_E_3408_cropped_segmented_corrected.vol',\n",
              " '117': 'EYE00092_E_1052_cropped_segmented_corrected.vol',\n",
              " '118': 'EYE00092_E_1056_cropped_segmented_corrected.vol',\n",
              " '119': 'EYE00102_E_2300_cropped_segmented_corrected.vol',\n",
              " '120': 'EYE00102_E_2304_cropped_segmented_corrected.vol',\n",
              " '121': 'EYE00103_E_4232_cropped_segmented_corrected.vol',\n",
              " '122': 'EYE00103_E_4235_cropped_segmented_corrected.vol',\n",
              " '123': 'EYE00105_E_4874_cropped_segmented_corrected.vol',\n",
              " '124': 'EYE00105_E_4877_cropped_segmented_corrected.vol',\n",
              " '125': 'EYE00107_E_115_cropped_segmented_corrected.vol',\n",
              " '126': 'EYE00107_E_120_cropped_segmented_corrected.vol',\n",
              " '127': 'EYE00117_E_720_cropped_segmented_corrected.vol',\n",
              " '128': 'EYE00118_E_6055_cropped_segmented_corrected.vol',\n",
              " '129': 'EYE00118_E_6058_cropped_segmented_corrected.vol',\n",
              " '130': 'EYE00119_E_3433_cropped_segmented_corrected.vol',\n",
              " '131': 'EYE00119_E_3436_cropped_segmented_corrected.vol',\n",
              " '132': 'EYE00120_E_1353_cropped_segmented_corrected.vol',\n",
              " '133': 'EYE00120_E_1356_cropped_segmented_corrected.vol',\n",
              " '134': 'EYE00122_E_756_cropped_segmented_corrected.vol',\n",
              " '135': 'EYE00122_E_760_cropped_segmented_corrected.vol',\n",
              " '136': 'EYE00125_E_123_cropped_segmented_corrected.vol',\n",
              " '137': 'EYE00125_E_126_cropped_segmented_corrected.vol',\n",
              " '138': 'EYE00128_E_4407_cropped_segmented_corrected.vol',\n",
              " '139': 'EYE00128_E_4411_cropped_segmented_corrected.vol',\n",
              " '140': 'EYE00130_E_4848_cropped_segmented_corrected.vol',\n",
              " '141': 'EYE00130_E_4851_cropped_segmented_corrected.vol',\n",
              " '142': 'EYE00131_E_4975_cropped_segmented_corrected.vol',\n",
              " '143': 'EYE00131_E_4979_cropped_segmented_corrected.vol',\n",
              " '144': 'EYE00136_E_5084_cropped_segmented_corrected.vol',\n",
              " '145': 'EYE00136_E_5088_cropped_segmented_corrected.vol',\n",
              " '146': 'EYE00143_E_690_cropped_segmented_corrected.vol',\n",
              " '147': 'EYE00143_E_694_cropped_segmented_corrected.vol',\n",
              " '148': 'EYE00153_E_4100_cropped_segmented_corrected.vol',\n",
              " '149': 'EYE00153_E_4101_cropped_segmented_corrected.vol',\n",
              " '150': 'EYE00155_E_410_cropped_segmented_corrected.vol',\n",
              " '151': 'EYE00162_E_971_cropped_segmented_corrected.vol',\n",
              " '152': 'EYE00162_E_975_cropped_segmented_corrected.vol',\n",
              " '153': 'EYE00163_E_1142_cropped_segmented_corrected.vol',\n",
              " '154': 'EYE00163_E_1146_cropped_segmented_corrected.vol',\n",
              " '155': 'EYE00164_E_3535_cropped_segmented_corrected.vol',\n",
              " '156': 'EYE00164_E_3539_cropped_segmented_corrected.vol',\n",
              " '157': 'EYE00165_E_5067_cropped_segmented_corrected.vol',\n",
              " '158': 'EYE00165_E_5070_cropped_segmented_corrected.vol',\n",
              " '159': 'EYE00166_E_863_cropped_segmented_corrected.vol',\n",
              " '160': 'EYE00166_E_866_cropped_segmented_corrected.vol',\n",
              " '161': 'EYE00170_E_935_cropped_segmented_corrected.vol',\n",
              " '162': 'EYE00170_E_938_cropped_segmented_corrected.vol',\n",
              " '163': 'EYE00173_E_820_cropped_segmented_corrected.vol',\n",
              " '164': 'EYE00173_E_824_cropped_segmented_corrected.vol',\n",
              " '165': 'EYE00175_E_2472_cropped_segmented_corrected.vol',\n",
              " '166': 'EYE00175_E_2476_cropped_segmented_corrected.vol',\n",
              " '167': 'EYE00176_E_4833_cropped_segmented_corrected.vol',\n",
              " '168': 'EYE00176_E_4838_cropped_segmented_corrected.vol',\n",
              " '169': 'EYE00179_E_2720_cropped_segmented_corrected.vol',\n",
              " '170': 'EYE00179_E_2724_cropped_segmented_corrected.vol',\n",
              " '171': 'EYE00181_E_1002_cropped_segmented_corrected.vol',\n",
              " '172': 'EYE00181_E_999_cropped_segmented_corrected.vol',\n",
              " '173': 'EYE00182_E_3485_cropped_segmented_corrected.vol',\n",
              " '174': 'EYE00183_E_3124_cropped_segmented_corrected.vol',\n",
              " '175': 'EYE00186_E_351_cropped_segmented_corrected.vol',\n",
              " '176': 'EYE00186_E_353_cropped_segmented_corrected.vol',\n",
              " '177': 'EYE00197_E_3051_cropped_segmented_corrected.vol',\n",
              " '178': 'EYE00197_E_3054_cropped_segmented_corrected.vol',\n",
              " '179': 'EYE00200_E_1420_cropped_segmented_corrected.vol',\n",
              " '180': 'EYE00200_E_1424_cropped_segmented_corrected.vol',\n",
              " '181': 'EYE00235_E_721_cropped_segmented_corrected.vol',\n",
              " '182': 'EYE00235_E_724_cropped_segmented_corrected.vol',\n",
              " '183': 'EYE00244_E_765_cropped_segmented_corrected.vol'}"
            ]
          },
          "metadata": {},
          "execution_count": 114
        }
      ]
    },
    {
      "cell_type": "code",
      "source": [
        "with open ('/content/subjects_index_Iran.pkl', 'rb') as f:\n",
        "  subjects = pickle.load (f)"
      ],
      "metadata": {
        "id": "uCt9WfASnSCX"
      },
      "execution_count": null,
      "outputs": []
    },
    {
      "cell_type": "code",
      "source": [
        "vols"
      ],
      "metadata": {
        "id": "0JeTi-wPoBi5"
      },
      "execution_count": null,
      "outputs": []
    },
    {
      "cell_type": "code",
      "source": [
        "subjects"
      ],
      "metadata": {
        "id": "Ar8WZsLwnpqx"
      },
      "execution_count": null,
      "outputs": []
    },
    {
      "cell_type": "code",
      "source": [
        "train_sp"
      ],
      "metadata": {
        "id": "0scy53xomQ8a"
      },
      "execution_count": null,
      "outputs": []
    },
    {
      "cell_type": "code",
      "source": [],
      "metadata": {
        "id": "dJz0Z_afpmVB"
      },
      "execution_count": null,
      "outputs": []
    },
    {
      "cell_type": "code",
      "source": [
        "len (sp)"
      ],
      "metadata": {
        "colab": {
          "base_uri": "https://localhost:8080/"
        },
        "id": "F-2zW-LKnfrI",
        "outputId": "5eeb6ae5-f759-4e65-8b35-76e01c8bf748"
      },
      "execution_count": null,
      "outputs": [
        {
          "output_type": "execute_result",
          "data": {
            "text/plain": [
              "184"
            ]
          },
          "metadata": {},
          "execution_count": 118
        }
      ]
    },
    {
      "cell_type": "code",
      "source": [
        "!unzip /content/drive/MyDrive/train_thicknessmap_Iran.zip"
      ],
      "metadata": {
        "colab": {
          "base_uri": "https://localhost:8080/"
        },
        "id": "_Fm5TV5FlNQw",
        "outputId": "d33143b5-ef18-4dae-f26e-b84c9ce496d1"
      },
      "execution_count": null,
      "outputs": [
        {
          "output_type": "stream",
          "name": "stdout",
          "text": [
            "Archive:  /content/drive/MyDrive/train_thicknessmap_Iran.zip\n",
            " extracting: train_labels_Iran.pkl   \n",
            " extracting: train_layers_Iran.pkl   \n",
            " extracting: train_sp_iran.pkl       \n"
          ]
        }
      ]
    },
    {
      "cell_type": "code",
      "source": [],
      "metadata": {
        "id": "HRMrqLvUnfAs"
      },
      "execution_count": null,
      "outputs": []
    },
    {
      "cell_type": "code",
      "source": [
        "num_rows = 3\n",
        "num_cols = 3\n",
        "\n",
        "num_layers = 9\n",
        "\n",
        "figure = plt.figure (figsize = (20, 20))\n",
        "\n",
        "for i in range (num_layers):\n",
        "\n",
        "  ax = plt.subplot (num_rows, num_cols, i+1)\n",
        "\n",
        "  ax.imshow (cv2.resize (layers [i], (200, 200)))\n",
        "\n",
        "  ax.set_title ('layer' + str (i+1))\n",
        "\n",
        "  ax.get_xaxis().set_visible(False)\n",
        "\n",
        "  ax.get_yaxis().set_visible(False)\n",
        "\n",
        "  plt.subplots_adjust(hspace=0.5, wspace=0.5)\n",
        "\n",
        "plt.savefig ('layers.jpg')\n",
        "\n",
        "plt.show ()"
      ],
      "metadata": {
        "id": "tDqO56bc7tRh"
      },
      "execution_count": null,
      "outputs": []
    },
    {
      "cell_type": "code",
      "source": [
        "layers = np.transpose (layers, (1, 2, 0))"
      ],
      "metadata": {
        "id": "e-EKtUVw7tUd"
      },
      "execution_count": null,
      "outputs": []
    },
    {
      "cell_type": "code",
      "source": [
        "layers.shape"
      ],
      "metadata": {
        "colab": {
          "base_uri": "https://localhost:8080/"
        },
        "id": "3lFaJK-y7tXX",
        "outputId": "8dc746be-bef5-4d59-96a3-58c2cb818a11"
      },
      "execution_count": null,
      "outputs": [
        {
          "output_type": "execute_result",
          "data": {
            "text/plain": [
              "(531, 49, 9)"
            ]
          },
          "metadata": {},
          "execution_count": 30
        }
      ]
    },
    {
      "cell_type": "code",
      "source": [
        "with open ('sample.pkl', 'wb') as f:\n",
        "\n",
        "  pickle.dump (layers, f)"
      ],
      "metadata": {
        "id": "PkjMc3CbMjPQ"
      },
      "execution_count": null,
      "outputs": []
    },
    {
      "cell_type": "code",
      "source": [
        "!cp sample.pkl /content/drive/MyDrive"
      ],
      "metadata": {
        "id": "XzI8n-aMH527"
      },
      "execution_count": null,
      "outputs": []
    },
    {
      "cell_type": "code",
      "source": [
        "imgs_first = {}\n",
        "\n",
        "num_layers = 9\n",
        "\n",
        "for i in range (len (layers [:20])):\n",
        "\n",
        "  file_name = vols [str (i)]\n",
        "\n",
        "  imgs_first [file_name] = []\n",
        "\n",
        "  for num in range (num_layers):\n",
        "\n",
        "    img = cv2.resize (layers [i] [0, :, :, num], (200, 200))\n",
        "\n",
        "    imgs_first [file_name].append (img)"
      ],
      "metadata": {
        "id": "UtgkpfKigtRD"
      },
      "execution_count": null,
      "outputs": []
    },
    {
      "cell_type": "code",
      "source": [
        "for i, image_array in enumerate(imgs_first [file] ):\n",
        "\n",
        "  print (image_array)\n",
        "\n",
        "  break"
      ],
      "metadata": {
        "colab": {
          "base_uri": "https://localhost:8080/"
        },
        "id": "4pfPzAqtkzAt",
        "outputId": "856a2302-e88c-45e8-96ca-5ca0a581d33b"
      },
      "execution_count": null,
      "outputs": [
        {
          "output_type": "stream",
          "name": "stdout",
          "text": [
            "[[0.219555 0.22     0.221775 ... 0.312    0.312    0.275735]\n",
            " [0.219555 0.22     0.221775 ... 0.312    0.312    0.275735]\n",
            " [0.219555 0.22     0.221775 ... 0.312    0.312    0.275735]\n",
            " ...\n",
            " [0.235555 0.236665 0.239775 ... 0.272    0.272    0.240185]\n",
            " [0.235555 0.236665 0.239775 ... 0.272    0.272    0.240185]\n",
            " [0.235555 0.236665 0.239775 ... 0.272    0.272    0.240185]]\n"
          ]
        }
      ]
    },
    {
      "cell_type": "code",
      "source": [
        "type (image_array)"
      ],
      "metadata": {
        "colab": {
          "base_uri": "https://localhost:8080/"
        },
        "id": "uRh4Tw_eyQaB",
        "outputId": "9e4db78d-2695-4ab3-a463-2e12b2adb2f1"
      },
      "execution_count": null,
      "outputs": [
        {
          "output_type": "execute_result",
          "data": {
            "text/plain": [
              "numpy.ndarray"
            ]
          },
          "metadata": {},
          "execution_count": 130
        }
      ]
    },
    {
      "cell_type": "code",
      "source": [
        "for i, file in enumerate (imgs_first):\n",
        "  print (file)\n",
        "  print (i)"
      ],
      "metadata": {
        "id": "cKWqO8u7BaT-"
      },
      "execution_count": null,
      "outputs": []
    },
    {
      "cell_type": "code",
      "source": [
        "imgs_second"
      ],
      "metadata": {
        "id": "3B_xpAfgGOue"
      },
      "execution_count": null,
      "outputs": []
    },
    {
      "cell_type": "code",
      "source": [
        "num_rows = 5\n",
        "\n",
        "num_cols = 4\n",
        "\n",
        "figure = plt.figure (figsize = (20, 20))\n",
        "\n",
        "#figure.suptitle ('boundary 17')\n",
        "\n",
        "for i, file in enumerate (imgs_second):\n",
        "\n",
        "  ax = plt.subplot (num_rows, num_cols, i+1)\n",
        "\n",
        "  ax.imshow (imgs_second [file] [5] - imgs_second [file] [4])\n",
        "\n",
        "  ax.set_title (file)\n",
        "\n",
        "  ax.get_xaxis().set_visible(False)\n",
        "\n",
        "  ax.get_yaxis().set_visible(False)\n",
        "\n",
        "  plt.subplots_adjust(hspace=0.5, wspace=0.5)\n",
        "\n",
        "\n",
        "#plt.savefig ('17th_boundary2.jpg')\n",
        "\n",
        "plt.show ()\n",
        "\n"
      ],
      "metadata": {
        "id": "rj36W8IukzHX"
      },
      "execution_count": null,
      "outputs": []
    },
    {
      "cell_type": "code",
      "source": [
        "!unzip /content/drive/MyDrive/train_SLO_iran.zip"
      ],
      "metadata": {
        "id": "NDQa7fhmSHZf"
      },
      "execution_count": null,
      "outputs": []
    },
    {
      "cell_type": "code",
      "source": [],
      "metadata": {
        "id": "-xMel0bOSHct"
      },
      "execution_count": null,
      "outputs": []
    },
    {
      "cell_type": "code",
      "source": [],
      "metadata": {
        "id": "duVi-wUiSHf0"
      },
      "execution_count": null,
      "outputs": []
    },
    {
      "cell_type": "code",
      "source": [],
      "metadata": {
        "id": "V23pACt5SHi2"
      },
      "execution_count": null,
      "outputs": []
    },
    {
      "cell_type": "code",
      "source": [],
      "metadata": {
        "id": "Edu3Y96WkzNj"
      },
      "execution_count": null,
      "outputs": []
    },
    {
      "cell_type": "code",
      "source": [
        "imgs_first.keys ()"
      ],
      "metadata": {
        "colab": {
          "base_uri": "https://localhost:8080/"
        },
        "id": "zdrxZyE2gtUd",
        "outputId": "66594fbc-7b2b-4ffa-9ac1-4474e6549d15"
      },
      "execution_count": null,
      "outputs": [
        {
          "output_type": "execute_result",
          "data": {
            "text/plain": [
              "dict_keys(['hc-Dr_Alamzadeh_16_8_96_D_117.vol', 'hc-Dr_Alamzadeh17_8_96_D_110.vol', 'hc-Dr_Alamzadeh17_8_96_D_111.vol', 'hc-Dr_Alamzadeh_25_6_96_D_112.vol', 'hc-Dr_Alamzadeh_25_6_96_D_113.vol', 'hc-Dr_Alamzadeh_9_8_96_D_119.vol', 'hc-Dr_Alamzadeh_D_109.vol', 'hc-Dr_Alamzadeh_D_114.vol', 'hc-Dr_Alamzadeh_D_115.vol', 'hc-Dr_Alamzadeh_D_123.vol', 'hc-Dr_Alamzadeh_D_125.vol', 'hc-Dr_Alamzadeh_D_127.vol', 'hc-Dr_Alamzadeh_D_128.vol', 'hc-Dr_Alamzadeh_D_131.vol', 'hc-Dr_Alamzadeh_D_133.vol', 'hc-Dr_Alamzadeh_D_143.vol', 'hc-Dr_Alamzadeh_D_147.vol', 'hc-Dr_Alamzadeh_D_148.vol', 'hc-Dr_Alamzadeh_D_151.vol', 'hc-Dr_Alamzadeh_D_153.vol'])"
            ]
          },
          "metadata": {},
          "execution_count": 105
        }
      ]
    },
    {
      "cell_type": "code",
      "source": [
        "plt.imshow (imgs_first ['hc-Dr_Alamzadeh_D_153.vol'] [1] - imgs_first ['hc-Dr_Alamzadeh_D_153.vol'] [0])"
      ],
      "metadata": {
        "id": "puFRFuK8iaqp"
      },
      "execution_count": null,
      "outputs": []
    },
    {
      "cell_type": "code",
      "source": [
        "plt.imshow (cv2.resize (layers [19] [0, :, :, 1] - layers [19] [0, :, :, 0], (200, 200)))"
      ],
      "metadata": {
        "id": "YW_GPbCWio8k"
      },
      "execution_count": null,
      "outputs": []
    },
    {
      "cell_type": "code",
      "source": [
        "imgs_second.keys ()"
      ],
      "metadata": {
        "id": "XXOwsLz2f1h8"
      },
      "execution_count": null,
      "outputs": []
    },
    {
      "cell_type": "code",
      "source": [],
      "metadata": {
        "id": "42JXuii1jK8_"
      },
      "execution_count": null,
      "outputs": []
    },
    {
      "cell_type": "code",
      "source": [],
      "metadata": {
        "id": "4AgZJ6nijLAJ"
      },
      "execution_count": null,
      "outputs": []
    },
    {
      "cell_type": "code",
      "source": [],
      "metadata": {
        "id": "s4YndOMljLC3"
      },
      "execution_count": null,
      "outputs": []
    },
    {
      "cell_type": "code",
      "source": [],
      "metadata": {
        "id": "83s0WLvLjLF8"
      },
      "execution_count": null,
      "outputs": []
    },
    {
      "cell_type": "code",
      "source": [
        "layers [183].shape"
      ],
      "metadata": {
        "colab": {
          "base_uri": "https://localhost:8080/"
        },
        "id": "iNmZJ7Ncd1j9",
        "outputId": "9bea0284-bab0-4d48-b231-e2f7179d8e72"
      },
      "execution_count": null,
      "outputs": [
        {
          "output_type": "execute_result",
          "data": {
            "text/plain": [
              "(1, 521, 49, 9)"
            ]
          },
          "metadata": {},
          "execution_count": 77
        }
      ]
    },
    {
      "cell_type": "code",
      "source": [
        "plt.imshow (cv2.resize (layers [84] [0,:, :, 2], (200, 200)))"
      ],
      "metadata": {
        "id": "QbdWzL_VewL9"
      },
      "execution_count": null,
      "outputs": []
    },
    {
      "cell_type": "code",
      "source": [],
      "metadata": {
        "id": "oVfFjaBdewOu"
      },
      "execution_count": null,
      "outputs": []
    },
    {
      "cell_type": "code",
      "source": [
        "plt.imshow (imgs_second ['EYE00003_E_3771_cropped_segmented_corrected.vol'] [2])"
      ],
      "metadata": {
        "id": "WmDlAvyzd1vv"
      },
      "execution_count": null,
      "outputs": []
    },
    {
      "cell_type": "code",
      "source": [
        "for img in imgs_second:\n",
        "\n",
        "  plt.imshow (imgs_second [img] [0])"
      ],
      "metadata": {
        "id": "-poEoS6LYAhh"
      },
      "execution_count": null,
      "outputs": []
    },
    {
      "cell_type": "code",
      "source": [],
      "metadata": {
        "id": "lSL1DrGMbwrK"
      },
      "execution_count": null,
      "outputs": []
    },
    {
      "cell_type": "code",
      "source": [
        "for file in sorted (os.listdir ('/content/Iran2')) [:20]:\n",
        "\n",
        "  path = os.path.join ('/content/Iran2', file)\n",
        "\n",
        "  oct = OctRead (path)\n",
        "\n",
        "  hdr = oct.get_oct_hdr ()\n",
        "\n",
        "  seg = oct.get_segmentation (hdr) ['SegLayers']\n",
        "\n",
        "  img = cv2.resize (seg [:, 1, :], (200, 200))\n",
        "\n",
        "  imgs_second [file].append (img)"
      ],
      "metadata": {
        "id": "KUkDUd6zbxDV"
      },
      "execution_count": null,
      "outputs": []
    },
    {
      "cell_type": "code",
      "source": [],
      "metadata": {
        "id": "FFKAtEQyYAlC"
      },
      "execution_count": null,
      "outputs": []
    },
    {
      "cell_type": "code",
      "source": [],
      "metadata": {
        "id": "f-TfXfrbYAws"
      },
      "execution_count": null,
      "outputs": []
    },
    {
      "cell_type": "code",
      "source": [
        "plt.imshow (imgs_second ['EYE00003_E_3771_cropped_segmented_corrected.vol'] [1])"
      ],
      "metadata": {
        "id": "LzwWB2VoXtmY"
      },
      "execution_count": null,
      "outputs": []
    },
    {
      "cell_type": "code",
      "source": [],
      "metadata": {
        "id": "g8moqbvbXtpP"
      },
      "execution_count": null,
      "outputs": []
    },
    {
      "cell_type": "code",
      "source": [
        "for file in sorted (os.listdir ('/content/Iran2')) [:20]:\n",
        "\n",
        "  path = os.path.join ('/content/Iran2', file)\n",
        "\n",
        "  oct = OctRead (path)\n",
        "\n",
        "  hdr = oct.get_oct_hdr ()\n",
        "\n",
        "  seg = oct.get_segmentation (hdr) ['SegLayers']\n",
        "\n",
        "  img = cv2.resize (seg [:, 2, :], (200, 200))\n",
        "\n",
        "  imgs_second [file].append (img)"
      ],
      "metadata": {
        "id": "j7urd61YXtwr"
      },
      "execution_count": null,
      "outputs": []
    },
    {
      "cell_type": "code",
      "source": [
        "for img in imgs_second:\n",
        "\n",
        "  plt.imshow (imgs_second [img] [2])"
      ],
      "metadata": {
        "id": "_aJpXUxncd5g"
      },
      "execution_count": null,
      "outputs": []
    },
    {
      "cell_type": "code",
      "source": [],
      "metadata": {
        "id": "dP82hyPIcd7q"
      },
      "execution_count": null,
      "outputs": []
    },
    {
      "cell_type": "code",
      "source": [],
      "metadata": {
        "id": "pBExezuBcd-h"
      },
      "execution_count": null,
      "outputs": []
    },
    {
      "cell_type": "code",
      "source": [],
      "metadata": {
        "id": "Vf8Q8t1Mcryr"
      },
      "execution_count": null,
      "outputs": []
    },
    {
      "cell_type": "code",
      "source": [
        "for file in sorted (os.listdir ('/content/Iran2')) [:20]:\n",
        "\n",
        "  path = os.path.join ('/content/Iran2', file)\n",
        "\n",
        "  oct = OctRead (path)\n",
        "\n",
        "  hdr = oct.get_oct_hdr ()\n",
        "\n",
        "  seg = oct.get_segmentation (hdr) ['SegLayers']\n",
        "\n",
        "  img = cv2.resize (seg [:, 3, :], (200, 200))\n",
        "\n",
        "  imgs_second [file].append (img)"
      ],
      "metadata": {
        "id": "2VYxQ6-BcsNk"
      },
      "execution_count": null,
      "outputs": []
    },
    {
      "cell_type": "code",
      "source": [
        "for img in imgs_second:\n",
        "\n",
        "  plt.imshow (imgs_second [img] [3])"
      ],
      "metadata": {
        "id": "LG0Yb3jDcsNl"
      },
      "execution_count": null,
      "outputs": []
    },
    {
      "cell_type": "code",
      "source": [],
      "metadata": {
        "id": "LcHbSLrPcr1O"
      },
      "execution_count": null,
      "outputs": []
    },
    {
      "cell_type": "code",
      "source": [],
      "metadata": {
        "id": "T-gQhrkDcr5Q"
      },
      "execution_count": null,
      "outputs": []
    },
    {
      "cell_type": "code",
      "source": [
        "for file in sorted (os.listdir ('/content/Iran2')) [:20]:\n",
        "\n",
        "  path = os.path.join ('/content/Iran2', file)\n",
        "\n",
        "  oct = OctRead (path)\n",
        "\n",
        "  hdr = oct.get_oct_hdr ()\n",
        "\n",
        "  seg = oct.get_segmentation (hdr) ['SegLayers']\n",
        "\n",
        "  img = cv2.resize (seg [:, 4, :], (200, 200))\n",
        "\n",
        "  imgs_second [file].append (img)"
      ],
      "metadata": {
        "id": "pC2YTde8c2Fd"
      },
      "execution_count": null,
      "outputs": []
    },
    {
      "cell_type": "code",
      "source": [
        "for img in imgs_second:\n",
        "\n",
        "  plt.imshow (imgs_second [img] [4])"
      ],
      "metadata": {
        "id": "ONEgf-A_c2F0"
      },
      "execution_count": null,
      "outputs": []
    },
    {
      "cell_type": "code",
      "source": [],
      "metadata": {
        "id": "_20X3Qclc7hI"
      },
      "execution_count": null,
      "outputs": []
    },
    {
      "cell_type": "code",
      "source": [],
      "metadata": {
        "id": "sfOrWh57c7kB"
      },
      "execution_count": null,
      "outputs": []
    },
    {
      "cell_type": "code",
      "source": [
        "for file in sorted (os.listdir ('/content/Iran2')) [:20]:\n",
        "\n",
        "  path = os.path.join ('/content/Iran2', file)\n",
        "\n",
        "  oct = OctRead (path)\n",
        "\n",
        "  hdr = oct.get_oct_hdr ()\n",
        "\n",
        "  seg = oct.get_segmentation (hdr) ['SegLayers']\n",
        "\n",
        "  img = cv2.resize (seg [:, 5, :], (200, 200))\n",
        "\n",
        "  imgs_second [file].append (img)"
      ],
      "metadata": {
        "id": "9IWNXRToc8V2"
      },
      "execution_count": null,
      "outputs": []
    },
    {
      "cell_type": "code",
      "source": [
        "for img in imgs_second:\n",
        "\n",
        "  plt.imshow (imgs_second [img] [5])"
      ],
      "metadata": {
        "id": "eErisGv2c8V4"
      },
      "execution_count": null,
      "outputs": []
    },
    {
      "cell_type": "code",
      "source": [],
      "metadata": {
        "id": "dNwFdYiDc7mw"
      },
      "execution_count": null,
      "outputs": []
    },
    {
      "cell_type": "code",
      "source": [],
      "metadata": {
        "id": "VBCB9cRic7pn"
      },
      "execution_count": null,
      "outputs": []
    },
    {
      "cell_type": "code",
      "source": [
        "!unzip /content/drive/MyDrive/Iran_data.zip"
      ],
      "metadata": {
        "id": "r58ilHx-GWQL"
      },
      "execution_count": null,
      "outputs": []
    },
    {
      "cell_type": "code",
      "source": [],
      "metadata": {
        "id": "bidS3Q5nXszh"
      },
      "execution_count": null,
      "outputs": []
    },
    {
      "cell_type": "code",
      "source": [],
      "metadata": {
        "id": "xr_ykNM6Xs2-"
      },
      "execution_count": null,
      "outputs": []
    },
    {
      "cell_type": "code",
      "source": [],
      "metadata": {
        "id": "YN2vO3CQXtBm"
      },
      "execution_count": null,
      "outputs": []
    },
    {
      "cell_type": "code",
      "source": [],
      "metadata": {
        "id": "xQSDxgxOGZoP"
      },
      "execution_count": null,
      "outputs": []
    },
    {
      "cell_type": "code",
      "source": [
        "with open ('/content/layers_Iran.pkl', 'rb') as f:\n",
        "  layers = pickle.load (f)"
      ],
      "metadata": {
        "id": "_1hm7meXGto7"
      },
      "execution_count": null,
      "outputs": []
    },
    {
      "cell_type": "code",
      "source": [
        " img = cv2.resize (layers [3] [0, :,:,1] - layers [3] [0, :, :, 0], (200, 200))"
      ],
      "metadata": {
        "id": "B1ErSY9DLcEP"
      },
      "execution_count": null,
      "outputs": []
    },
    {
      "cell_type": "code",
      "source": [
        "plt.imshow (img)"
      ],
      "metadata": {
        "id": "LtGt4A3xLcML"
      },
      "execution_count": null,
      "outputs": []
    },
    {
      "cell_type": "code",
      "source": [
        "plt.imshow (layers [150] [0, :,:,1] )"
      ],
      "metadata": {
        "id": "jTyza1JuHGMg"
      },
      "execution_count": null,
      "outputs": []
    },
    {
      "cell_type": "code",
      "source": [
        "layers [150].shape"
      ],
      "metadata": {
        "colab": {
          "base_uri": "https://localhost:8080/"
        },
        "id": "1NnOAvzjHIX-",
        "outputId": "742451f6-c5bc-47a0-99b1-08175890032c"
      },
      "execution_count": null,
      "outputs": [
        {
          "output_type": "execute_result",
          "data": {
            "text/plain": [
              "(1, 535, 51, 9)"
            ]
          },
          "metadata": {},
          "execution_count": 11
        }
      ]
    },
    {
      "cell_type": "code",
      "source": [
        "len (layers)"
      ],
      "metadata": {
        "colab": {
          "base_uri": "https://localhost:8080/"
        },
        "id": "__m2rCrSHZQQ",
        "outputId": "443cd848-83bd-40fb-d73c-bce05131cf68"
      },
      "execution_count": null,
      "outputs": [
        {
          "output_type": "execute_result",
          "data": {
            "text/plain": [
              "184"
            ]
          },
          "metadata": {},
          "execution_count": 10
        }
      ]
    },
    {
      "cell_type": "code",
      "source": [
        "oct = OctRead ('')"
      ],
      "metadata": {
        "id": "THaxDVHJIKXe"
      },
      "execution_count": null,
      "outputs": []
    },
    {
      "cell_type": "code",
      "source": [
        "subjects_index ['101']"
      ],
      "metadata": {
        "colab": {
          "base_uri": "https://localhost:8080/"
        },
        "id": "USG_CEErJzhd",
        "outputId": "a4ce4a3c-d200-4aa1-bf3a-9ad7e314a59a"
      },
      "execution_count": null,
      "outputs": [
        {
          "output_type": "execute_result",
          "data": {
            "text/plain": [
              "[183]"
            ]
          },
          "metadata": {},
          "execution_count": 17
        }
      ]
    },
    {
      "cell_type": "code",
      "source": [
        "vol_Iran ['183']"
      ],
      "metadata": {
        "colab": {
          "base_uri": "https://localhost:8080/",
          "height": 36
        },
        "id": "Qe5AY45fIKaN",
        "outputId": "9a40dc68-1df5-4fa3-d815-5c203ada1da3"
      },
      "execution_count": null,
      "outputs": [
        {
          "output_type": "execute_result",
          "data": {
            "text/plain": [
              "'EYE00244_E_765_cropped_segmented_corrected.vol'"
            ],
            "application/vnd.google.colaboratory.intrinsic+json": {
              "type": "string"
            }
          },
          "metadata": {},
          "execution_count": 18
        }
      ]
    },
    {
      "cell_type": "code",
      "source": [
        "!unzip /content/drive/MyDrive/Iran2.zip"
      ],
      "metadata": {
        "id": "v_MxmxZZIKdv"
      },
      "execution_count": null,
      "outputs": []
    },
    {
      "cell_type": "code",
      "source": [
        "with open ('/content/vol_Iran.pkl', 'rb') as f:\n",
        "\n",
        "  vols_iran = pickle.load (f)"
      ],
      "metadata": {
        "id": "OsNDGRYFrjR4"
      },
      "execution_count": null,
      "outputs": []
    },
    {
      "cell_type": "code",
      "source": [
        "with open ('/content/vol_labels_Iran.pkl', 'rb') as f:\n",
        "\n",
        "  vol_labels = pickle.load (f)"
      ],
      "metadata": {
        "id": "jRrd7IqcMxuo"
      },
      "execution_count": null,
      "outputs": []
    },
    {
      "cell_type": "code",
      "source": [
        "with open ('/content/subjects_index_Iran.pkl', 'rb') as f:\n",
        "  subjects_index = pickle.load (f)"
      ],
      "metadata": {
        "id": "Jv6Ox25aq9bb"
      },
      "execution_count": null,
      "outputs": []
    },
    {
      "cell_type": "code",
      "source": [
        "subjects_index"
      ],
      "metadata": {
        "id": "8g8WMWqRMla_",
        "colab": {
          "base_uri": "https://localhost:8080/"
        },
        "outputId": "5fa8db54-f363-41a2-d1ff-ea56c02c5a77"
      },
      "execution_count": null,
      "outputs": [
        {
          "output_type": "execute_result",
          "data": {
            "text/plain": [
              "{'0': [0],\n",
              " '1': [1, 2],\n",
              " '2': [3, 4],\n",
              " '3': [5],\n",
              " '4': [6],\n",
              " '5': [7, 8],\n",
              " '6': [9, 10],\n",
              " '7': [11],\n",
              " '8': [12],\n",
              " '9': [13],\n",
              " '10': [14],\n",
              " '11': [15],\n",
              " '12': [16],\n",
              " '13': [17, 18],\n",
              " '14': [19, 20],\n",
              " '15': [21],\n",
              " '16': [22, 23],\n",
              " '17': [24, 25],\n",
              " '18': [26, 27],\n",
              " '19': [28, 29],\n",
              " '20': [30, 31],\n",
              " '21': [32, 33],\n",
              " '22': [34, 35, 36],\n",
              " '23': [37, 38],\n",
              " '24': [39, 40],\n",
              " '25': [41],\n",
              " '26': [42, 43],\n",
              " '27': [44, 45],\n",
              " '28': [46, 47],\n",
              " '29': [48, 49],\n",
              " '30': [50, 51],\n",
              " '31': [52, 53],\n",
              " '32': [54, 55],\n",
              " '33': [56],\n",
              " '34': [57, 58],\n",
              " '35': [59, 60],\n",
              " '36': [61],\n",
              " '37': [62, 63],\n",
              " '38': [64],\n",
              " '39': [65, 66],\n",
              " '40': [67, 68],\n",
              " '41': [69, 70],\n",
              " '42': [71, 72],\n",
              " '43': [73],\n",
              " '44': [74, 75],\n",
              " '45': [76, 77],\n",
              " '46': [78, 79],\n",
              " '47': [80, 81],\n",
              " '48': [82, 83],\n",
              " '49': [84, 85],\n",
              " '50': [86, 87],\n",
              " '51': [88, 89],\n",
              " '52': [90, 91],\n",
              " '53': [92, 93],\n",
              " '54': [94, 95],\n",
              " '55': [96, 97],\n",
              " '56': [98, 99],\n",
              " '57': [100, 101],\n",
              " '58': [102, 103],\n",
              " '59': [104, 105],\n",
              " '60': [106, 107],\n",
              " '61': [108],\n",
              " '62': [109, 110],\n",
              " '63': [111, 112],\n",
              " '64': [113, 114],\n",
              " '65': [115, 116],\n",
              " '66': [117, 118],\n",
              " '67': [119, 120],\n",
              " '68': [121, 122],\n",
              " '69': [123, 124],\n",
              " '70': [125, 126],\n",
              " '71': [127],\n",
              " '72': [128, 129],\n",
              " '73': [130, 131],\n",
              " '74': [132, 133],\n",
              " '75': [134, 135],\n",
              " '76': [136, 137],\n",
              " '77': [138, 139],\n",
              " '78': [140, 141],\n",
              " '79': [142, 143],\n",
              " '80': [144, 145],\n",
              " '81': [146, 147],\n",
              " '82': [148, 149],\n",
              " '83': [150],\n",
              " '84': [151, 152],\n",
              " '85': [153, 154],\n",
              " '86': [155, 156],\n",
              " '87': [157, 158],\n",
              " '88': [159, 160],\n",
              " '89': [161, 162],\n",
              " '90': [163, 164],\n",
              " '91': [165, 166],\n",
              " '92': [167, 168],\n",
              " '93': [169, 170],\n",
              " '94': [171, 172],\n",
              " '95': [173],\n",
              " '96': [174],\n",
              " '97': [175, 176],\n",
              " '98': [177, 178],\n",
              " '99': [179, 180],\n",
              " '100': [181, 182],\n",
              " '101': [183]}"
            ]
          },
          "metadata": {},
          "execution_count": 12
        }
      ]
    },
    {
      "cell_type": "code",
      "source": [
        "!unzip /content/drive/MyDrive/Iran2.zip"
      ],
      "metadata": {
        "id": "N1WJ4KCYspG0"
      },
      "execution_count": null,
      "outputs": []
    },
    {
      "cell_type": "code",
      "source": [
        "slo2 = {}\n",
        "sp2 = {}\n",
        "slo2_names = {}\n",
        "\n",
        "for subject in list (subjects_index.keys ()) [49:]:\n",
        "\n",
        "  slo2 [str (subject)] = []\n",
        "\n",
        "  sp2 [str (subject)] = []\n",
        "\n",
        "  slo2_names [str (subject)] = []\n",
        "\n",
        "  indices = subjects_index [str (subject)]\n",
        "\n",
        "  for index in indices:\n",
        "\n",
        "    slo2_names [str (subject)].append (vols_iran [str (index)])\n",
        "\n",
        "    path = os.path.join ('/content/Iran2', vols_iran [str (index)])\n",
        "\n",
        "    oct = OctRead (path)\n",
        "\n",
        "    hdr = oct.get_oct_hdr ()\n",
        "\n",
        "    string = hdr ['ScanPosition'].decode('utf-8', errors = 'ignore')\n",
        "\n",
        "    split = string.split('\\x00')\n",
        "\n",
        "    if split [0] == 'OD':\n",
        "\n",
        "      sp2 [str (subject)].append (True)\n",
        "\n",
        "    elif split [0] == 'OS':\n",
        "\n",
        "      sp2 [str (subject)].append (False)\n",
        "\n",
        "    slo = oct.get_slo_image (hdr)\n",
        "\n",
        "    slo2 [str (subject)].append (slo)"
      ],
      "metadata": {
        "id": "Ocfxm2CMHXSh"
      },
      "execution_count": null,
      "outputs": []
    },
    {
      "cell_type": "code",
      "source": [
        "len (slo2)"
      ],
      "metadata": {
        "colab": {
          "base_uri": "https://localhost:8080/"
        },
        "id": "pgezW3_tq6mK",
        "outputId": "685a3d8e-ade7-41f1-cc6f-a48afecb3305"
      },
      "execution_count": null,
      "outputs": [
        {
          "output_type": "execute_result",
          "data": {
            "text/plain": [
              "53"
            ]
          },
          "metadata": {},
          "execution_count": 20
        }
      ]
    },
    {
      "cell_type": "code",
      "source": [
        "slo2_names"
      ],
      "metadata": {
        "colab": {
          "base_uri": "https://localhost:8080/"
        },
        "id": "XKQuZYcStluY",
        "outputId": "c03a6bf2-8241-4149-e6df-7a174a2a6048"
      },
      "execution_count": null,
      "outputs": [
        {
          "output_type": "execute_result",
          "data": {
            "text/plain": [
              "{'49': ['EYE00003_E_3771_cropped_segmented_corrected.vol',\n",
              "  'EYE00003_E_3776_cropped_segmented_corrected.vol'],\n",
              " '50': ['EYE00005_E_439_cropped_segmented_corrected.vol',\n",
              "  'EYE00005_E_442_cropped_segmented_corrected.vol'],\n",
              " '51': ['EYE00007_E_5431_cropped_segmented_corrected.vol',\n",
              "  'EYE00007_E_5436_cropped_segmented_corrected.vol'],\n",
              " '52': ['EYE00014_E_1178_cropped_segmented_corrected.vol',\n",
              "  'EYE00014_E_1181_cropped_segmented_corrected.vol'],\n",
              " '53': ['EYE00020_E_1595_cropped_segmented_corrected.vol',\n",
              "  'EYE00020_E_1600_cropped_segmented_corrected.vol'],\n",
              " '54': ['EYE00023_E_5863_cropped_segmented_corrected.vol',\n",
              "  'EYE00023_E_5865_cropped_segmented_corrected.vol'],\n",
              " '55': ['EYE00042_E_4187_cropped_segmented_corrected.vol',\n",
              "  'EYE00042_E_4190_cropped_segmented_corrected.vol'],\n",
              " '56': ['EYE00043_E_2209_cropped_segmented_corrected.vol',\n",
              "  'EYE00043_E_2214_cropped_segmented_corrected.vol'],\n",
              " '57': ['EYE00045_E_4994_cropped_segmented_corrected.vol',\n",
              "  'EYE00045_E_4997_cropped_segmented_corrected.vol'],\n",
              " '58': ['EYE00052_E_1754_cropped_segmented_corrected.vol',\n",
              "  'EYE00052_E_1759_cropped_segmented_corrected.vol'],\n",
              " '59': ['EYE00058_E_1224_cropped_segmented_corrected.vol',\n",
              "  'EYE00058_E_1228_cropped_segmented_corrected.vol'],\n",
              " '60': ['EYE00066_E_289_cropped_segmented_corrected.vol',\n",
              "  'EYE00066_E_292_cropped_segmented_corrected.vol'],\n",
              " '61': ['EYE00067_E_1785_cropped_segmented_corrected.vol'],\n",
              " '62': ['EYE00068_E_1071_cropped_segmented_corrected.vol',\n",
              "  'EYE00068_E_1075_cropped_segmented_corrected.vol'],\n",
              " '63': ['EYE00071_E_4139_cropped_segmented_corrected.vol',\n",
              "  'EYE00071_E_4142_cropped_segmented_corrected.vol'],\n",
              " '64': ['EYE00074_E_1097_cropped_segmented_corrected.vol',\n",
              "  'EYE00074_E_1100_cropped_segmented_corrected.vol'],\n",
              " '65': ['EYE00084_E_3405_cropped_segmented_corrected.vol',\n",
              "  'EYE00084_E_3408_cropped_segmented_corrected.vol'],\n",
              " '66': ['EYE00092_E_1052_cropped_segmented_corrected.vol',\n",
              "  'EYE00092_E_1056_cropped_segmented_corrected.vol'],\n",
              " '67': ['EYE00102_E_2300_cropped_segmented_corrected.vol',\n",
              "  'EYE00102_E_2304_cropped_segmented_corrected.vol'],\n",
              " '68': ['EYE00103_E_4232_cropped_segmented_corrected.vol',\n",
              "  'EYE00103_E_4235_cropped_segmented_corrected.vol'],\n",
              " '69': ['EYE00105_E_4874_cropped_segmented_corrected.vol',\n",
              "  'EYE00105_E_4877_cropped_segmented_corrected.vol'],\n",
              " '70': ['EYE00107_E_115_cropped_segmented_corrected.vol',\n",
              "  'EYE00107_E_120_cropped_segmented_corrected.vol'],\n",
              " '71': ['EYE00117_E_720_cropped_segmented_corrected.vol'],\n",
              " '72': ['EYE00118_E_6055_cropped_segmented_corrected.vol',\n",
              "  'EYE00118_E_6058_cropped_segmented_corrected.vol'],\n",
              " '73': ['EYE00119_E_3433_cropped_segmented_corrected.vol',\n",
              "  'EYE00119_E_3436_cropped_segmented_corrected.vol'],\n",
              " '74': ['EYE00120_E_1353_cropped_segmented_corrected.vol',\n",
              "  'EYE00120_E_1356_cropped_segmented_corrected.vol'],\n",
              " '75': ['EYE00122_E_756_cropped_segmented_corrected.vol',\n",
              "  'EYE00122_E_760_cropped_segmented_corrected.vol'],\n",
              " '76': ['EYE00125_E_123_cropped_segmented_corrected.vol',\n",
              "  'EYE00125_E_126_cropped_segmented_corrected.vol'],\n",
              " '77': ['EYE00128_E_4407_cropped_segmented_corrected.vol',\n",
              "  'EYE00128_E_4411_cropped_segmented_corrected.vol'],\n",
              " '78': ['EYE00130_E_4848_cropped_segmented_corrected.vol',\n",
              "  'EYE00130_E_4851_cropped_segmented_corrected.vol'],\n",
              " '79': ['EYE00131_E_4975_cropped_segmented_corrected.vol',\n",
              "  'EYE00131_E_4979_cropped_segmented_corrected.vol'],\n",
              " '80': ['EYE00136_E_5084_cropped_segmented_corrected.vol',\n",
              "  'EYE00136_E_5088_cropped_segmented_corrected.vol'],\n",
              " '81': ['EYE00143_E_690_cropped_segmented_corrected.vol',\n",
              "  'EYE00143_E_694_cropped_segmented_corrected.vol'],\n",
              " '82': ['EYE00153_E_4100_cropped_segmented_corrected.vol',\n",
              "  'EYE00153_E_4101_cropped_segmented_corrected.vol'],\n",
              " '83': ['EYE00155_E_410_cropped_segmented_corrected.vol'],\n",
              " '84': ['EYE00162_E_971_cropped_segmented_corrected.vol',\n",
              "  'EYE00162_E_975_cropped_segmented_corrected.vol'],\n",
              " '85': ['EYE00163_E_1142_cropped_segmented_corrected.vol',\n",
              "  'EYE00163_E_1146_cropped_segmented_corrected.vol'],\n",
              " '86': ['EYE00164_E_3535_cropped_segmented_corrected.vol',\n",
              "  'EYE00164_E_3539_cropped_segmented_corrected.vol'],\n",
              " '87': ['EYE00165_E_5067_cropped_segmented_corrected.vol',\n",
              "  'EYE00165_E_5070_cropped_segmented_corrected.vol'],\n",
              " '88': ['EYE00166_E_863_cropped_segmented_corrected.vol',\n",
              "  'EYE00166_E_866_cropped_segmented_corrected.vol'],\n",
              " '89': ['EYE00170_E_935_cropped_segmented_corrected.vol',\n",
              "  'EYE00170_E_938_cropped_segmented_corrected.vol'],\n",
              " '90': ['EYE00173_E_820_cropped_segmented_corrected.vol',\n",
              "  'EYE00173_E_824_cropped_segmented_corrected.vol'],\n",
              " '91': ['EYE00175_E_2472_cropped_segmented_corrected.vol',\n",
              "  'EYE00175_E_2476_cropped_segmented_corrected.vol'],\n",
              " '92': ['EYE00176_E_4833_cropped_segmented_corrected.vol',\n",
              "  'EYE00176_E_4838_cropped_segmented_corrected.vol'],\n",
              " '93': ['EYE00179_E_2720_cropped_segmented_corrected.vol',\n",
              "  'EYE00179_E_2724_cropped_segmented_corrected.vol'],\n",
              " '94': ['EYE00181_E_1002_cropped_segmented_corrected.vol',\n",
              "  'EYE00181_E_999_cropped_segmented_corrected.vol'],\n",
              " '95': ['EYE00182_E_3485_cropped_segmented_corrected.vol'],\n",
              " '96': ['EYE00183_E_3124_cropped_segmented_corrected.vol'],\n",
              " '97': ['EYE00186_E_351_cropped_segmented_corrected.vol',\n",
              "  'EYE00186_E_353_cropped_segmented_corrected.vol'],\n",
              " '98': ['EYE00197_E_3051_cropped_segmented_corrected.vol',\n",
              "  'EYE00197_E_3054_cropped_segmented_corrected.vol'],\n",
              " '99': ['EYE00200_E_1420_cropped_segmented_corrected.vol',\n",
              "  'EYE00200_E_1424_cropped_segmented_corrected.vol'],\n",
              " '100': ['EYE00235_E_721_cropped_segmented_corrected.vol',\n",
              "  'EYE00235_E_724_cropped_segmented_corrected.vol'],\n",
              " '101': ['EYE00244_E_765_cropped_segmented_corrected.vol']}"
            ]
          },
          "metadata": {},
          "execution_count": 23
        }
      ]
    },
    {
      "cell_type": "code",
      "source": [
        "slo_names = {**slo1, **slo2_names}"
      ],
      "metadata": {
        "id": "ychzpxggC_H8"
      },
      "execution_count": null,
      "outputs": []
    },
    {
      "cell_type": "code",
      "source": [
        "slo_names"
      ],
      "metadata": {
        "colab": {
          "base_uri": "https://localhost:8080/"
        },
        "id": "rgPnBrZattfr",
        "outputId": "00f3d051-5f94-4184-98a7-1ea8779c76b6"
      },
      "execution_count": null,
      "outputs": [
        {
          "output_type": "execute_result",
          "data": {
            "text/plain": [
              "{'0': ['Dr_Alamzadeh_16_8_96_D_116.OD.png',\n",
              "  'Dr_Alamzadeh_16_8_96_D_117.OS.png'],\n",
              " '1': ['Dr_Alamzadeh17_8_96_D_110.OD.png', 'Dr_Alamzadeh17_8_96_D_111.OS.png'],\n",
              " '2': ['Dr_Alamzadeh_25_6_96_D_112.OD.png',\n",
              "  'Dr_Alamzadeh_25_6_96_D_113.OS.png'],\n",
              " '3': ['Dr_Alamzadeh_9_8_96_D_118.OD.png', 'Dr_Alamzadeh_9_8_96_D_119.OS.png'],\n",
              " '4': ['Dr_Alamzadeh_D_109.OS.png', 'Dr_Alamzadeh_D_120.OD.png'],\n",
              " '5': ['Dr_Alamzadeh_D_114.OD.png', 'Dr_Alamzadeh_D_115.OS.png'],\n",
              " '6': ['Dr_Alamzadeh_D_123.OD.png', 'Dr_Alamzadeh_D_125.OS.png'],\n",
              " '7': ['Dr_Alamzadeh_D_127.OD.png'],\n",
              " '8': ['Dr_Alamzadeh_D_128.OS.png'],\n",
              " '9': ['Dr_Alamzadeh_D_130.OD.png', 'Dr_Alamzadeh_D_131.OS.png'],\n",
              " '10': ['Dr_Alamzadeh_D_132.OD.png', 'Dr_Alamzadeh_D_133.OS.png'],\n",
              " '11': ['Dr_Alamzadeh_D_143.OD.png', 'Dr_Alamzadeh_D_144.OS.png'],\n",
              " '12': ['Dr_Alamzadeh_D_146.OD.png', 'Dr_Alamzadeh_D_147.OS.png'],\n",
              " '13': ['Dr_Alamzadeh_D_148.OD.png', 'Dr_Alamzadeh_D_151.OS.png'],\n",
              " '14': ['Dr_Alamzadeh_D_153.OD.png', 'Dr_Alamzadeh_D_154.OS.png'],\n",
              " '15': ['Dr_Alamzadeh_D_156.OD.png', 'Dr_Alamzadeh_D_157.OS.png'],\n",
              " '16': ['Dr_Alamzadeh_D_159.OD.png', 'Dr_Alamzadeh_D_161.OS.png'],\n",
              " '17': ['abasi_m_283.OD.png',\n",
              "  'abasi_m_284.OS.png',\n",
              "  'abasi_m_285_0.OS.png',\n",
              "  'abasi_m_285_2.OS.png',\n",
              "  'abasi_m_286_0.OD.png'],\n",
              " '18': ['ahmadi_s_377.OD.png',\n",
              "  'ahmadi_s_378.OS.png',\n",
              "  'ahmadi_s_379_0.OD.png',\n",
              "  'ahmadi_s_380_0.OS.png'],\n",
              " '19': ['amin_o_roaei_f_181.OD.png',\n",
              "  'amin_o_roaei_f_182.OS.png',\n",
              "  'amin_o_roaei_f_183_0.OD.png',\n",
              "  'amin_o_roaei_f_184_0.OS.png'],\n",
              " '20': ['amoo_m_257.OD.png',\n",
              "  'amoo_m_258.OS.png',\n",
              "  'amoo_m_259_0.OD.png',\n",
              "  'amoo_m_260_0.OS.png'],\n",
              " '21': ['asgari_f_169.OD.png',\n",
              "  'asgari_f_170.OS.png',\n",
              "  'asgari_f_171_0.OD.png',\n",
              "  'asgari_f_172_0.OS.png'],\n",
              " '22': ['bagherian_s_372.OD.png',\n",
              "  'bagherian_s_373.OS.png',\n",
              "  'bagherian_s_374.OD.png',\n",
              "  'bagherian_s_375_0.OD.png',\n",
              "  'bagherian_s_376_0.OS.png'],\n",
              " '23': ['bahrami_m_287.OD.png',\n",
              "  'bahrami_m_288.OS.png',\n",
              "  'bahrami_m_289_0.OD.png',\n",
              "  'bahrami_m_290_0.OS.png'],\n",
              " '24': ['bestar_ahang_a_136.OS.png',\n",
              "  'bestar_ahang_a_137.OD.png',\n",
              "  'bestar_ahang_a_138_0.OS.png',\n",
              "  'bestar_ahang_a_139_0.OD.png'],\n",
              " '25': ['davari_z_405.OD.png',\n",
              "  'davari_z_406.OS.png',\n",
              "  'davari_z_407_0.OD.png',\n",
              "  'davari_z_408_0.OS.png'],\n",
              " '26': ['fadaei_e_153.OD.png',\n",
              "  'fadaei_e_154.OS.png',\n",
              "  'fadaei_e_155_0.OD.png',\n",
              "  'fadaei_e_156_0.OS.png'],\n",
              " '27': ['falamarzi_f_213.OD.png',\n",
              "  'falamarzi_f_214.OS.png',\n",
              "  'falamarzi_f_215_0.OD.png',\n",
              "  'falamarzi_f_216_0.OS.png'],\n",
              " '28': ['ghafoor_zadeh_l_237.OD.png',\n",
              "  'ghafoor_zadeh_l_238.OS.png',\n",
              "  'ghafoor_zadeh_l_239_0.OS.png',\n",
              "  'ghafoor_zadeh_l_240_0.OD.png'],\n",
              " '29': ['ghasemi_n_320.OD.png',\n",
              "  'ghasemi_n_321.OS.png',\n",
              "  'ghasemi_n_322_0.OD.png',\n",
              "  'ghasemi_n_323_0.OS.png'],\n",
              " '30': ['heidari_n_316.OD.png',\n",
              "  'heidari_n_317.OS.png',\n",
              "  'heidari_n_318_0.OD.png',\n",
              "  'heidari_n_319_0.OS.png'],\n",
              " '31': ['jabari_f_173.OD.png',\n",
              "  'jabari_f_174.OS.png',\n",
              "  'jabari_f_175_0.OD.png',\n",
              "  'jabari_f_176_0.OS.png'],\n",
              " '32': ['karimi_n_312.OD.png',\n",
              "  'karimi_n_313.OS.png',\n",
              "  'karimi_n_314_0.OS.png',\n",
              "  'karimi_n_315_0.OD.png'],\n",
              " '33': ['kazem_borji_z_409.OD.png',\n",
              "  'kazem_borji_z_410.OS.png',\n",
              "  'kazem_borji_z_411_0.OD.png',\n",
              "  'kazem_borji_z_412_0.OS.png'],\n",
              " '34': ['kiyani_mehr_z_417.OD.png',\n",
              "  'kiyani_mehr_z_418.OS.png',\n",
              "  'kiyani_mehr_z_419_0.OD.png',\n",
              "  'kiyani_mehr_z_420_2.OS.png'],\n",
              " '35': ['lavi_f_209.OD.png',\n",
              "  'lavi_f_210.OS.png',\n",
              "  'lavi_f_211_0.OD.png',\n",
              "  'lavi_f_212_0.OS.png'],\n",
              " '36': ['lotfi_m_265.OD.png',\n",
              "  'lotfi_m_266.OS.png',\n",
              "  'lotfi_m_267_0.OD.png',\n",
              "  'lotfi_m_268_0.OS.png'],\n",
              " '37': ['masoudi_r_344.OD.png',\n",
              "  'masoudi_r_345.OS.png',\n",
              "  'masoudi_r_346_0.OD.png',\n",
              "  'masoudi_r_347_0.OS.png'],\n",
              " '38': ['mazaheri_m_279.OD.png',\n",
              "  'mazaheri_m_280.OS.png',\n",
              "  'mazaheri_m_281_0.OD.png',\n",
              "  'mazaheri_m_282_0.OS.png'],\n",
              " '39': ['mir_b_149.OD.png',\n",
              "  'mir_b_150.OS.png',\n",
              "  'mir_b_151_0.OD.png',\n",
              "  'mir_b_152_0.OS.png'],\n",
              " '40': ['moghtadaei_r_332.OD.png',\n",
              "  'moghtadaei_r_333.OS.png',\n",
              "  'moghtadaei_r_334_0.OD.png',\n",
              "  'moghtadaei_r_335_0.OS.png'],\n",
              " '41': ['mohamad_beygi_l_241.OD.png',\n",
              "  'mohamad_beygi_l_242.OS.png',\n",
              "  'mohamad_beygi_l_243_0.OS.png',\n",
              "  'mohamad_beygi_l_244_0.OD.png'],\n",
              " '42': ['mola_salehi_e_157.OD.png',\n",
              "  'mola_salehi_e_158.OS.png',\n",
              "  'mola_salehi_e_159_0.OD.png',\n",
              "  'mola_salehi_e_160_0.OS.png'],\n",
              " '43': ['mousavi_f_189.OD.png',\n",
              "  'mousavi_f_190.OS.png',\n",
              "  'mousavi_f_191_0.OS.png',\n",
              "  'mousavi_f_191_2.OS.png',\n",
              "  'mousavi_f_192_0.OD.png',\n",
              "  'mousavi_f_192_2.OD.png',\n",
              "  'mousavi_f_192_4.OD.png'],\n",
              " '44': ['nazem_a_112.OD.png',\n",
              "  'nazem_a_113.OS.png',\n",
              "  'nazem_a_114_0.OS.png',\n",
              "  'nazem_a_115_0.OD.png'],\n",
              " '45': ['soleimani_e_165.OD.png',\n",
              "  'soleimani_e_166.OS.png',\n",
              "  'soleimani_e_167_0.OD.png',\n",
              "  'soleimani_e_168_0.OS.png'],\n",
              " '46': ['torkan_z_421.OD.png',\n",
              "  'torkan_z_422.OS.png',\n",
              "  'torkan_z_423_0.OD.png',\n",
              "  'torkan_z_424_0.OS.png'],\n",
              " '47': ['torki_s_381.OD.png',\n",
              "  'torki_s_382.OS.png',\n",
              "  'torki_s_383_0.OS.png',\n",
              "  'torki_s_384_0.OD.png'],\n",
              " '48': ['zamani_a_140.OD.png',\n",
              "  'zamani_a_141.OS.png',\n",
              "  'zamani_a_142_0.OD.png',\n",
              "  'zamani_a_143_0.OS.png'],\n",
              " '49': ['EYE00003_E_3771_cropped_segmented_corrected.vol',\n",
              "  'EYE00003_E_3776_cropped_segmented_corrected.vol'],\n",
              " '50': ['EYE00005_E_439_cropped_segmented_corrected.vol',\n",
              "  'EYE00005_E_442_cropped_segmented_corrected.vol'],\n",
              " '51': ['EYE00007_E_5431_cropped_segmented_corrected.vol',\n",
              "  'EYE00007_E_5436_cropped_segmented_corrected.vol'],\n",
              " '52': ['EYE00014_E_1178_cropped_segmented_corrected.vol',\n",
              "  'EYE00014_E_1181_cropped_segmented_corrected.vol'],\n",
              " '53': ['EYE00020_E_1595_cropped_segmented_corrected.vol',\n",
              "  'EYE00020_E_1600_cropped_segmented_corrected.vol'],\n",
              " '54': ['EYE00023_E_5863_cropped_segmented_corrected.vol',\n",
              "  'EYE00023_E_5865_cropped_segmented_corrected.vol'],\n",
              " '55': ['EYE00042_E_4187_cropped_segmented_corrected.vol',\n",
              "  'EYE00042_E_4190_cropped_segmented_corrected.vol'],\n",
              " '56': ['EYE00043_E_2209_cropped_segmented_corrected.vol',\n",
              "  'EYE00043_E_2214_cropped_segmented_corrected.vol'],\n",
              " '57': ['EYE00045_E_4994_cropped_segmented_corrected.vol',\n",
              "  'EYE00045_E_4997_cropped_segmented_corrected.vol'],\n",
              " '58': ['EYE00052_E_1754_cropped_segmented_corrected.vol',\n",
              "  'EYE00052_E_1759_cropped_segmented_corrected.vol'],\n",
              " '59': ['EYE00058_E_1224_cropped_segmented_corrected.vol',\n",
              "  'EYE00058_E_1228_cropped_segmented_corrected.vol'],\n",
              " '60': ['EYE00066_E_289_cropped_segmented_corrected.vol',\n",
              "  'EYE00066_E_292_cropped_segmented_corrected.vol'],\n",
              " '61': ['EYE00067_E_1785_cropped_segmented_corrected.vol'],\n",
              " '62': ['EYE00068_E_1071_cropped_segmented_corrected.vol',\n",
              "  'EYE00068_E_1075_cropped_segmented_corrected.vol'],\n",
              " '63': ['EYE00071_E_4139_cropped_segmented_corrected.vol',\n",
              "  'EYE00071_E_4142_cropped_segmented_corrected.vol'],\n",
              " '64': ['EYE00074_E_1097_cropped_segmented_corrected.vol',\n",
              "  'EYE00074_E_1100_cropped_segmented_corrected.vol'],\n",
              " '65': ['EYE00084_E_3405_cropped_segmented_corrected.vol',\n",
              "  'EYE00084_E_3408_cropped_segmented_corrected.vol'],\n",
              " '66': ['EYE00092_E_1052_cropped_segmented_corrected.vol',\n",
              "  'EYE00092_E_1056_cropped_segmented_corrected.vol'],\n",
              " '67': ['EYE00102_E_2300_cropped_segmented_corrected.vol',\n",
              "  'EYE00102_E_2304_cropped_segmented_corrected.vol'],\n",
              " '68': ['EYE00103_E_4232_cropped_segmented_corrected.vol',\n",
              "  'EYE00103_E_4235_cropped_segmented_corrected.vol'],\n",
              " '69': ['EYE00105_E_4874_cropped_segmented_corrected.vol',\n",
              "  'EYE00105_E_4877_cropped_segmented_corrected.vol'],\n",
              " '70': ['EYE00107_E_115_cropped_segmented_corrected.vol',\n",
              "  'EYE00107_E_120_cropped_segmented_corrected.vol'],\n",
              " '71': ['EYE00117_E_720_cropped_segmented_corrected.vol'],\n",
              " '72': ['EYE00118_E_6055_cropped_segmented_corrected.vol',\n",
              "  'EYE00118_E_6058_cropped_segmented_corrected.vol'],\n",
              " '73': ['EYE00119_E_3433_cropped_segmented_corrected.vol',\n",
              "  'EYE00119_E_3436_cropped_segmented_corrected.vol'],\n",
              " '74': ['EYE00120_E_1353_cropped_segmented_corrected.vol',\n",
              "  'EYE00120_E_1356_cropped_segmented_corrected.vol'],\n",
              " '75': ['EYE00122_E_756_cropped_segmented_corrected.vol',\n",
              "  'EYE00122_E_760_cropped_segmented_corrected.vol'],\n",
              " '76': ['EYE00125_E_123_cropped_segmented_corrected.vol',\n",
              "  'EYE00125_E_126_cropped_segmented_corrected.vol'],\n",
              " '77': ['EYE00128_E_4407_cropped_segmented_corrected.vol',\n",
              "  'EYE00128_E_4411_cropped_segmented_corrected.vol'],\n",
              " '78': ['EYE00130_E_4848_cropped_segmented_corrected.vol',\n",
              "  'EYE00130_E_4851_cropped_segmented_corrected.vol'],\n",
              " '79': ['EYE00131_E_4975_cropped_segmented_corrected.vol',\n",
              "  'EYE00131_E_4979_cropped_segmented_corrected.vol'],\n",
              " '80': ['EYE00136_E_5084_cropped_segmented_corrected.vol',\n",
              "  'EYE00136_E_5088_cropped_segmented_corrected.vol'],\n",
              " '81': ['EYE00143_E_690_cropped_segmented_corrected.vol',\n",
              "  'EYE00143_E_694_cropped_segmented_corrected.vol'],\n",
              " '82': ['EYE00153_E_4100_cropped_segmented_corrected.vol',\n",
              "  'EYE00153_E_4101_cropped_segmented_corrected.vol'],\n",
              " '83': ['EYE00155_E_410_cropped_segmented_corrected.vol'],\n",
              " '84': ['EYE00162_E_971_cropped_segmented_corrected.vol',\n",
              "  'EYE00162_E_975_cropped_segmented_corrected.vol'],\n",
              " '85': ['EYE00163_E_1142_cropped_segmented_corrected.vol',\n",
              "  'EYE00163_E_1146_cropped_segmented_corrected.vol'],\n",
              " '86': ['EYE00164_E_3535_cropped_segmented_corrected.vol',\n",
              "  'EYE00164_E_3539_cropped_segmented_corrected.vol'],\n",
              " '87': ['EYE00165_E_5067_cropped_segmented_corrected.vol',\n",
              "  'EYE00165_E_5070_cropped_segmented_corrected.vol'],\n",
              " '88': ['EYE00166_E_863_cropped_segmented_corrected.vol',\n",
              "  'EYE00166_E_866_cropped_segmented_corrected.vol'],\n",
              " '89': ['EYE00170_E_935_cropped_segmented_corrected.vol',\n",
              "  'EYE00170_E_938_cropped_segmented_corrected.vol'],\n",
              " '90': ['EYE00173_E_820_cropped_segmented_corrected.vol',\n",
              "  'EYE00173_E_824_cropped_segmented_corrected.vol'],\n",
              " '91': ['EYE00175_E_2472_cropped_segmented_corrected.vol',\n",
              "  'EYE00175_E_2476_cropped_segmented_corrected.vol'],\n",
              " '92': ['EYE00176_E_4833_cropped_segmented_corrected.vol',\n",
              "  'EYE00176_E_4838_cropped_segmented_corrected.vol'],\n",
              " '93': ['EYE00179_E_2720_cropped_segmented_corrected.vol',\n",
              "  'EYE00179_E_2724_cropped_segmented_corrected.vol'],\n",
              " '94': ['EYE00181_E_1002_cropped_segmented_corrected.vol',\n",
              "  'EYE00181_E_999_cropped_segmented_corrected.vol'],\n",
              " '95': ['EYE00182_E_3485_cropped_segmented_corrected.vol'],\n",
              " '96': ['EYE00183_E_3124_cropped_segmented_corrected.vol'],\n",
              " '97': ['EYE00186_E_351_cropped_segmented_corrected.vol',\n",
              "  'EYE00186_E_353_cropped_segmented_corrected.vol'],\n",
              " '98': ['EYE00197_E_3051_cropped_segmented_corrected.vol',\n",
              "  'EYE00197_E_3054_cropped_segmented_corrected.vol'],\n",
              " '99': ['EYE00200_E_1420_cropped_segmented_corrected.vol',\n",
              "  'EYE00200_E_1424_cropped_segmented_corrected.vol'],\n",
              " '100': ['EYE00235_E_721_cropped_segmented_corrected.vol',\n",
              "  'EYE00235_E_724_cropped_segmented_corrected.vol'],\n",
              " '101': ['EYE00244_E_765_cropped_segmented_corrected.vol']}"
            ]
          },
          "metadata": {},
          "execution_count": 26
        }
      ]
    },
    {
      "cell_type": "code",
      "source": [
        "with open ('vol_slo.pkl', 'wb') as f:\n",
        "  pickle.dump (slo_names, f)"
      ],
      "metadata": {
        "id": "e8Ou7xqCeUkj"
      },
      "execution_count": null,
      "outputs": []
    },
    {
      "cell_type": "code",
      "source": [
        "!cp /content/vol_slo.pkl /content/drive/MyDrive"
      ],
      "metadata": {
        "id": "Y_9JaVdxt94N"
      },
      "execution_count": null,
      "outputs": []
    },
    {
      "cell_type": "code",
      "source": [
        "subjects_index ['']"
      ],
      "metadata": {
        "id": "acwvi55KEd9J"
      },
      "execution_count": null,
      "outputs": []
    },
    {
      "cell_type": "code",
      "source": [
        "vol_Iran"
      ],
      "metadata": {
        "id": "yHdUzvGwVoEI"
      },
      "execution_count": null,
      "outputs": []
    },
    {
      "cell_type": "code",
      "source": [
        "vol_Iran"
      ],
      "metadata": {
        "id": "YeL59nqyVZNd"
      },
      "execution_count": null,
      "outputs": []
    },
    {
      "cell_type": "code",
      "source": [
        "slo1 = {'0': ['Dr_Alamzadeh_16_8_96_D_116.OD.png', 'Dr_Alamzadeh_16_8_96_D_117.OS.png'],\n",
        "        '1': ['Dr_Alamzadeh17_8_96_D_110.OD.png', 'Dr_Alamzadeh17_8_96_D_111.OS.png'],\n",
        "        '2': ['Dr_Alamzadeh_25_6_96_D_112.OD.png','Dr_Alamzadeh_25_6_96_D_113.OS.png'],\n",
        "        '3': ['Dr_Alamzadeh_9_8_96_D_118.OD.png', 'Dr_Alamzadeh_9_8_96_D_119.OS.png'],\n",
        "        '4': ['Dr_Alamzadeh_D_109.OS.png', 'Dr_Alamzadeh_D_120.OD.png'],\n",
        "        '5': ['Dr_Alamzadeh_D_114.OD.png', 'Dr_Alamzadeh_D_115.OS.png'],\n",
        "        '6' : ['Dr_Alamzadeh_D_123.OD.png', 'Dr_Alamzadeh_D_125.OS.png'],\n",
        "        '7': ['Dr_Alamzadeh_D_127.OD.png'],\n",
        "        '8': ['Dr_Alamzadeh_D_128.OS.png'],\n",
        "        '9': ['Dr_Alamzadeh_D_130.OD.png', 'Dr_Alamzadeh_D_131.OS.png'],\n",
        "        '10': ['Dr_Alamzadeh_D_132.OD.png', 'Dr_Alamzadeh_D_133.OS.png'],\n",
        "        '11': ['Dr_Alamzadeh_D_143.OD.png', 'Dr_Alamzadeh_D_144.OS.png'],\n",
        "        '12': ['Dr_Alamzadeh_D_146.OD.png', 'Dr_Alamzadeh_D_147.OS.png'],\n",
        "        '13': ['Dr_Alamzadeh_D_148.OD.png', 'Dr_Alamzadeh_D_151.OS.png'],\n",
        "        '14': ['Dr_Alamzadeh_D_153.OD.png', 'Dr_Alamzadeh_D_154.OS.png'],\n",
        "        '15': ['Dr_Alamzadeh_D_156.OD.png', 'Dr_Alamzadeh_D_157.OS.png'],\n",
        "        '16': ['Dr_Alamzadeh_D_159.OD.png', 'Dr_Alamzadeh_D_161.OS.png'],\n",
        "        '17' : ['abasi_m_283.OD.png', 'abasi_m_284.OS.png', 'abasi_m_285_0.OS.png', 'abasi_m_285_2.OS.png', 'abasi_m_286_0.OD.png'],\n",
        "        '18': ['ahmadi_s_377.OD.png', 'ahmadi_s_378.OS.png', 'ahmadi_s_379_0.OD.png', 'ahmadi_s_380_0.OS.png'],\n",
        "        '19': ['amin_o_roaei_f_181.OD.png', 'amin_o_roaei_f_182.OS.png', 'amin_o_roaei_f_183_0.OD.png', 'amin_o_roaei_f_184_0.OS.png'],\n",
        "        '20': ['amoo_m_257.OD.png', 'amoo_m_258.OS.png', 'amoo_m_259_0.OD.png', 'amoo_m_260_0.OS.png'],\n",
        "        '21': ['asgari_f_169.OD.png', 'asgari_f_170.OS.png', 'asgari_f_171_0.OD.png', 'asgari_f_172_0.OS.png'],\n",
        "        '22': ['bagherian_s_372.OD.png', 'bagherian_s_373.OS.png', 'bagherian_s_374.OD.png', 'bagherian_s_375_0.OD.png', 'bagherian_s_376_0.OS.png'],\n",
        "        '23': ['bahrami_m_287.OD.png', 'bahrami_m_288.OS.png', 'bahrami_m_289_0.OD.png', 'bahrami_m_290_0.OS.png'],\n",
        "        '24': ['bestar_ahang_a_136.OS.png', 'bestar_ahang_a_137.OD.png', 'bestar_ahang_a_138_0.OS.png', 'bestar_ahang_a_139_0.OD.png'],\n",
        "        '25': ['davari_z_405.OD.png', 'davari_z_406.OS.png', 'davari_z_407_0.OD.png', 'davari_z_408_0.OS.png'],\n",
        "        '26': ['fadaei_e_153.OD.png', 'fadaei_e_154.OS.png', 'fadaei_e_155_0.OD.png', 'fadaei_e_156_0.OS.png'],\n",
        "        '27': ['falamarzi_f_213.OD.png', 'falamarzi_f_214.OS.png', 'falamarzi_f_215_0.OD.png', 'falamarzi_f_216_0.OS.png'],\n",
        "        '28': ['ghafoor_zadeh_l_237.OD.png', 'ghafoor_zadeh_l_238.OS.png', 'ghafoor_zadeh_l_239_0.OS.png', 'ghafoor_zadeh_l_240_0.OD.png'],\n",
        "        '29': ['ghasemi_n_320.OD.png', 'ghasemi_n_321.OS.png', 'ghasemi_n_322_0.OD.png', 'ghasemi_n_323_0.OS.png'],\n",
        "        '30': ['heidari_n_316.OD.png', 'heidari_n_317.OS.png', 'heidari_n_318_0.OD.png', 'heidari_n_319_0.OS.png'],\n",
        "        '31': ['jabari_f_173.OD.png', 'jabari_f_174.OS.png', 'jabari_f_175_0.OD.png', 'jabari_f_176_0.OS.png'],\n",
        "        '32': ['karimi_n_312.OD.png', 'karimi_n_313.OS.png', 'karimi_n_314_0.OS.png', 'karimi_n_315_0.OD.png'],\n",
        "        '33': ['kazem_borji_z_409.OD.png', 'kazem_borji_z_410.OS.png', 'kazem_borji_z_411_0.OD.png', 'kazem_borji_z_412_0.OS.png'],\n",
        "        '34': ['kiyani_mehr_z_417.OD.png', 'kiyani_mehr_z_418.OS.png', 'kiyani_mehr_z_419_0.OD.png', 'kiyani_mehr_z_420_2.OS.png'],\n",
        "        '35': ['lavi_f_209.OD.png', 'lavi_f_210.OS.png', 'lavi_f_211_0.OD.png', 'lavi_f_212_0.OS.png'],\n",
        "        '36': ['lotfi_m_265.OD.png', 'lotfi_m_266.OS.png', 'lotfi_m_267_0.OD.png', 'lotfi_m_268_0.OS.png'],\n",
        "        '37': ['masoudi_r_344.OD.png', 'masoudi_r_345.OS.png', 'masoudi_r_346_0.OD.png', 'masoudi_r_347_0.OS.png'],\n",
        "        '38': ['mazaheri_m_279.OD.png', 'mazaheri_m_280.OS.png', 'mazaheri_m_281_0.OD.png', 'mazaheri_m_282_0.OS.png'],\n",
        "        '39': ['mir_b_149.OD.png', 'mir_b_150.OS.png', 'mir_b_151_0.OD.png', 'mir_b_152_0.OS.png'],\n",
        "        '40': ['moghtadaei_r_332.OD.png', 'moghtadaei_r_333.OS.png', 'moghtadaei_r_334_0.OD.png', 'moghtadaei_r_335_0.OS.png'],\n",
        "        '41': ['mohamad_beygi_l_241.OD.png', 'mohamad_beygi_l_242.OS.png', 'mohamad_beygi_l_243_0.OS.png', 'mohamad_beygi_l_244_0.OD.png'],\n",
        "        '42': ['mola_salehi_e_157.OD.png', 'mola_salehi_e_158.OS.png', 'mola_salehi_e_159_0.OD.png', 'mola_salehi_e_160_0.OS.png'],\n",
        "        '43': ['mousavi_f_189.OD.png', 'mousavi_f_190.OS.png', 'mousavi_f_191_0.OS.png', 'mousavi_f_191_2.OS.png', 'mousavi_f_192_0.OD.png',\n",
        "               'mousavi_f_192_2.OD.png', 'mousavi_f_192_4.OD.png'],\n",
        "        '44': ['nazem_a_112.OD.png', 'nazem_a_113.OS.png', 'nazem_a_114_0.OS.png', 'nazem_a_115_0.OD.png'],\n",
        "        '45': ['soleimani_e_165.OD.png', 'soleimani_e_166.OS.png', 'soleimani_e_167_0.OD.png', 'soleimani_e_168_0.OS.png'],\n",
        "        '46': ['torkan_z_421.OD.png', 'torkan_z_422.OS.png', 'torkan_z_423_0.OD.png', 'torkan_z_424_0.OS.png'],\n",
        "        '47': ['torki_s_381.OD.png', 'torki_s_382.OS.png', 'torki_s_383_0.OS.png', 'torki_s_384_0.OD.png'],\n",
        "        '48': ['zamani_a_140.OD.png', 'zamani_a_141.OS.png', 'zamani_a_142_0.OD.png', 'zamani_a_143_0.OS.png']\n",
        "}\n"
      ],
      "metadata": {
        "id": "vlczZprVVZQu"
      },
      "execution_count": null,
      "outputs": []
    },
    {
      "cell_type": "code",
      "source": [
        "files_new = []\n",
        "files = sorted (os.listdir ('/content/drive/MyDrive/SLO_Iran'))\n",
        "for file in files:\n",
        "  new_file = file.split ('.')\n",
        "  files_new.append (new_file)"
      ],
      "metadata": {
        "id": "-dVuJYFIxi-P"
      },
      "execution_count": null,
      "outputs": []
    },
    {
      "cell_type": "code",
      "source": [
        "files_new [0]"
      ],
      "metadata": {
        "id": "SNn7l-K1yBNL"
      },
      "execution_count": null,
      "outputs": []
    },
    {
      "cell_type": "code",
      "source": [
        "slo1 ['0'] [0].split ('.') [1]"
      ],
      "metadata": {
        "colab": {
          "base_uri": "https://localhost:8080/",
          "height": 36
        },
        "id": "UKzHOfjr4C8O",
        "outputId": "ae578ba8-6f62-4815-8faa-febefc8c116a"
      },
      "execution_count": null,
      "outputs": [
        {
          "output_type": "execute_result",
          "data": {
            "text/plain": [
              "'OD'"
            ],
            "application/vnd.google.colaboratory.intrinsic+json": {
              "type": "string"
            }
          },
          "metadata": {},
          "execution_count": 15
        }
      ]
    },
    {
      "cell_type": "code",
      "source": [
        "sorted (os.listdir ('/content/drive/MyDrive/SLO_Iran'))"
      ],
      "metadata": {
        "id": "BYbyOTJs92Ed"
      },
      "execution_count": null,
      "outputs": []
    },
    {
      "cell_type": "code",
      "source": [
        "slo1_new = {}\n",
        "\n",
        "sp1 = {}\n",
        "\n",
        "for subject in slo1:\n",
        "\n",
        "  slo1_new [subject] = []\n",
        "\n",
        "  sp1 [subject] = []\n",
        "\n",
        "  for name in slo1 [subject]:\n",
        "\n",
        "    path = os.path.join ('/content/drive/MyDrive/SLO_Iran', name)\n",
        "\n",
        "    image = cv2.imread (path, 0)\n",
        "\n",
        "    position = name.split ('.') [1]\n",
        "\n",
        "    if position == 'OD':\n",
        "\n",
        "      sp1 [subject].append (True)\n",
        "\n",
        "    elif position == 'OS':\n",
        "\n",
        "      sp1 [subject].append (False)\n",
        "\n",
        "    slo1_new [subject].append (image)\n",
        "\n",
        "\n"
      ],
      "metadata": {
        "id": "B_HIKZuztpGN"
      },
      "execution_count": null,
      "outputs": []
    },
    {
      "cell_type": "code",
      "source": [
        "slo1"
      ],
      "metadata": {
        "id": "RbmO_LEutpI2"
      },
      "execution_count": null,
      "outputs": []
    },
    {
      "cell_type": "code",
      "source": [
        "slo1"
      ],
      "metadata": {
        "colab": {
          "base_uri": "https://localhost:8080/"
        },
        "id": "ih1y9i5dAFcf",
        "outputId": "5acf3884-9181-4906-9cc3-96dc9aac5403"
      },
      "execution_count": null,
      "outputs": [
        {
          "output_type": "execute_result",
          "data": {
            "text/plain": [
              "{'0': ['Dr_Alamzadeh_16_8_96_D_116.OD.png',\n",
              "  'Dr_Alamzadeh_16_8_96_D_117.OS.png'],\n",
              " '1': ['Dr_Alamzadeh17_8_96_D_110.OD.png', 'Dr_Alamzadeh17_8_96_D_111.OS.png'],\n",
              " '2': ['Dr_Alamzadeh_25_6_96_D_112.OD.png',\n",
              "  'Dr_Alamzadeh_25_6_96_D_113.OS.png'],\n",
              " '3': ['Dr_Alamzadeh_9_8_96_D_118.OD.png', 'Dr_Alamzadeh_9_8_96_D_119.OS.png'],\n",
              " '4': ['Dr_Alamzadeh_D_109.OS.png', 'Dr_Alamzadeh_D_120.OD.png'],\n",
              " '5': ['Dr_Alamzadeh_D_114.OD.png', 'Dr_Alamzadeh_D_115.OS.png'],\n",
              " '6': ['Dr_Alamzadeh_D_123.OD.png', 'Dr_Alamzadeh_D_125.OS.png'],\n",
              " '7': ['Dr_Alamzadeh_D_127.OD.png'],\n",
              " '8': ['Dr_Alamzadeh_D_128.OS.png'],\n",
              " '9': ['Dr_Alamzadeh_D_130.OD.png', 'Dr_Alamzadeh_D_131.OS.png'],\n",
              " '10': ['Dr_Alamzadeh_D_132.OD.png', 'Dr_Alamzadeh_D_133.OS.png'],\n",
              " '11': ['Dr_Alamzadeh_D_143.OD.png', 'Dr_Alamzadeh_D_144.OS.png'],\n",
              " '12': ['Dr_Alamzadeh_D_146.OD.png', 'Dr_Alamzadeh_D_147.OS.png'],\n",
              " '13': ['Dr_Alamzadeh_D_148.OD.png', 'Dr_Alamzadeh_D_151.OS.png'],\n",
              " '14': ['Dr_Alamzadeh_D_153.OD.png', 'Dr_Alamzadeh_D_154.OS.png'],\n",
              " '15': ['Dr_Alamzadeh_D_156.OD.png', 'Dr_Alamzadeh_D_157.OS.png'],\n",
              " '16': ['Dr_Alamzadeh_D_159.OD.png', 'Dr_Alamzadeh_D_161.OS.png'],\n",
              " '17': ['abasi_m_283.OD.png',\n",
              "  'abasi_m_284.OS.png',\n",
              "  'abasi_m_285_0.OS.png',\n",
              "  'abasi_m_285_2.OS.png',\n",
              "  'abasi_m_286_0.OD.png'],\n",
              " '18': ['ahmadi_s_377.OD.png',\n",
              "  'ahmadi_s_378.OS.png',\n",
              "  'ahmadi_s_379_0.OD.png',\n",
              "  'ahmadi_s_380_0.OS.png'],\n",
              " '19': ['amin_o_roaei_f_181.OD.png',\n",
              "  'amin_o_roaei_f_182.OS.png',\n",
              "  'amin_o_roaei_f_183_0.OD.png',\n",
              "  'amin_o_roaei_f_184_0.OS.png'],\n",
              " '20': ['amoo_m_257.OD.png',\n",
              "  'amoo_m_258.OS.png',\n",
              "  'amoo_m_259_0.OD.png',\n",
              "  'amoo_m_260_0.OS.png'],\n",
              " '21': ['asgari_f_169.OD.png',\n",
              "  'asgari_f_170.OS.png',\n",
              "  'asgari_f_171_0.OD.png',\n",
              "  'asgari_f_172_0.OS.png'],\n",
              " '22': ['bagherian_s_372.OD.png',\n",
              "  'bagherian_s_373.OS.png',\n",
              "  'bagherian_s_374.OD.png',\n",
              "  'bagherian_s_375_0.OD.png',\n",
              "  'bagherian_s_376_0.OS.png'],\n",
              " '23': ['bahrami_m_287.OD.png',\n",
              "  'bahrami_m_288.OS.png',\n",
              "  'bahrami_m_289_0.OD.png',\n",
              "  'bahrami_m_290_0.OS.png'],\n",
              " '24': ['bestar_ahang_a_136.OS.png',\n",
              "  'bestar_ahang_a_137.OD.png',\n",
              "  'bestar_ahang_a_138_0.OS.png',\n",
              "  'bestar_ahang_a_139_0.OD.png'],\n",
              " '25': ['davari_z_405.OD.png',\n",
              "  'davari_z_406.OS.png',\n",
              "  'davari_z_407_0.OD.png',\n",
              "  'davari_z_408_0.OS.png'],\n",
              " '26': ['fadaei_e_153.OD.png',\n",
              "  'fadaei_e_154.OS.png',\n",
              "  'fadaei_e_155_0.OD.png',\n",
              "  'fadaei_e_156_0.OS.png'],\n",
              " '27': ['falamarzi_f_213.OD.png',\n",
              "  'falamarzi_f_214.OS.png',\n",
              "  'falamarzi_f_215_0.OD.png',\n",
              "  'falamarzi_f_216_0.OS.png'],\n",
              " '28': ['ghafoor_zadeh_l_237.OD.png',\n",
              "  'ghafoor_zadeh_l_238.OS.png',\n",
              "  'ghafoor_zadeh_l_239_0.OS.png',\n",
              "  'ghafoor_zadeh_l_240_0.OD.png'],\n",
              " '29': ['ghasemi_n_320.OD.png',\n",
              "  'ghasemi_n_321.OS.png',\n",
              "  'ghasemi_n_322_0.OD.png',\n",
              "  'ghasemi_n_323_0.OS.png'],\n",
              " '30': ['heidari_n_316.OD.png',\n",
              "  'heidari_n_317.OS.png',\n",
              "  'heidari_n_318_0.OD.png',\n",
              "  'heidari_n_319_0.OS.png'],\n",
              " '31': ['jabari_f_173.OD.png',\n",
              "  'jabari_f_174.OS.png',\n",
              "  'jabari_f_175_0.OD.png',\n",
              "  'jabari_f_176_0.OS.png'],\n",
              " '32': ['karimi_n_312.OD.png',\n",
              "  'karimi_n_313.OS.png',\n",
              "  'karimi_n_314_0.OS.png',\n",
              "  'karimi_n_315_0.OD.png'],\n",
              " '33': ['kazem_borji_z_409.OD.png',\n",
              "  'kazem_borji_z_410.OS.png',\n",
              "  'kazem_borji_z_411_0.OD.png',\n",
              "  'kazem_borji_z_412_0.OS.png'],\n",
              " '34': ['kiyani_mehr_z_417.OD.png',\n",
              "  'kiyani_mehr_z_418.OS.png',\n",
              "  'kiyani_mehr_z_419_0.OD.png',\n",
              "  'kiyani_mehr_z_420_2.OS.png'],\n",
              " '35': ['lavi_f_209.OD.png',\n",
              "  'lavi_f_210.OS.png',\n",
              "  'lavi_f_211_0.OD.png',\n",
              "  'lavi_f_212_0.OS.png'],\n",
              " '36': ['lotfi_m_265.OD.png',\n",
              "  'lotfi_m_266.OS.png',\n",
              "  'lotfi_m_267_0.OD.png',\n",
              "  'lotfi_m_268_0.OS.png'],\n",
              " '37': ['masoudi_r_344.OD.png',\n",
              "  'masoudi_r_345.OS.png',\n",
              "  'masoudi_r_346_0.OD.png',\n",
              "  'masoudi_r_347_0.OS.png'],\n",
              " '38': ['mazaheri_m_279.OD.png',\n",
              "  'mazaheri_m_280.OS.png',\n",
              "  'mazaheri_m_281_0.OD.png',\n",
              "  'mazaheri_m_282_0.OS.png'],\n",
              " '39': ['mir_b_149.OD.png',\n",
              "  'mir_b_150.OS.png',\n",
              "  'mir_b_151_0.OD.png',\n",
              "  'mir_b_152_0.OS.png'],\n",
              " '40': ['moghtadaei_r_332.OD.png',\n",
              "  'moghtadaei_r_333.OS.png',\n",
              "  'moghtadaei_r_334_0.OD.png',\n",
              "  'moghtadaei_r_335_0.OS.png'],\n",
              " '41': ['mohamad_beygi_l_241.OD.png',\n",
              "  'mohamad_beygi_l_242.OS.png',\n",
              "  'mohamad_beygi_l_243_0.OS.png',\n",
              "  'mohamad_beygi_l_244_0.OD.png'],\n",
              " '42': ['mola_salehi_e_157.OD.png',\n",
              "  'mola_salehi_e_158.OS.png',\n",
              "  'mola_salehi_e_159_0.OD.png',\n",
              "  'mola_salehi_e_160_0.OS.png'],\n",
              " '43': ['mousavi_f_189.OD.png',\n",
              "  'mousavi_f_190.OS.png',\n",
              "  'mousavi_f_191_0.OS.png',\n",
              "  'mousavi_f_191_2.OS.png',\n",
              "  'mousavi_f_192_0.OD.png',\n",
              "  'mousavi_f_192_2.OD.png',\n",
              "  'mousavi_f_192_4.OD.png'],\n",
              " '44': ['nazem_a_112.OD.png',\n",
              "  'nazem_a_113.OS.png',\n",
              "  'nazem_a_114_0.OS.png',\n",
              "  'nazem_a_115_0.OD.png'],\n",
              " '45': ['soleimani_e_165.OD.png',\n",
              "  'soleimani_e_166.OS.png',\n",
              "  'soleimani_e_167_0.OD.png',\n",
              "  'soleimani_e_168_0.OS.png'],\n",
              " '46': ['torkan_z_421.OD.png',\n",
              "  'torkan_z_422.OS.png',\n",
              "  'torkan_z_423_0.OD.png',\n",
              "  'torkan_z_424_0.OS.png'],\n",
              " '47': ['torki_s_381.OD.png',\n",
              "  'torki_s_382.OS.png',\n",
              "  'torki_s_383_0.OS.png',\n",
              "  'torki_s_384_0.OD.png'],\n",
              " '48': ['zamani_a_140.OD.png',\n",
              "  'zamani_a_141.OS.png',\n",
              "  'zamani_a_142_0.OD.png',\n",
              "  'zamani_a_143_0.OS.png']}"
            ]
          },
          "metadata": {},
          "execution_count": 115
        }
      ]
    },
    {
      "cell_type": "code",
      "source": [
        "slo2"
      ],
      "metadata": {
        "id": "Rwb1gKKSA0Ha"
      },
      "execution_count": null,
      "outputs": []
    },
    {
      "cell_type": "code",
      "source": [
        "slo_all = {**slo1_new, **slo2}"
      ],
      "metadata": {
        "id": "1xgxqSaFBHA6"
      },
      "execution_count": null,
      "outputs": []
    },
    {
      "cell_type": "code",
      "source": [
        "sp_all = {**sp1, **sp2}"
      ],
      "metadata": {
        "id": "SmBIq4kjBZYH"
      },
      "execution_count": null,
      "outputs": []
    },
    {
      "cell_type": "code",
      "source": [
        "sp_all"
      ],
      "metadata": {
        "id": "ZYYq7vqEFun_"
      },
      "execution_count": null,
      "outputs": []
    },
    {
      "cell_type": "code",
      "source": [
        "train_slo_Iran = {}\n",
        "\n",
        "for index in train_index:\n",
        "\n",
        "  train_slo_Iran [str (index)] = slo_all [str (index)]"
      ],
      "metadata": {
        "id": "_ODrrcr0Fz_G"
      },
      "execution_count": null,
      "outputs": []
    },
    {
      "cell_type": "code",
      "source": [
        "len (train_slo_Iran)"
      ],
      "metadata": {
        "colab": {
          "base_uri": "https://localhost:8080/"
        },
        "id": "SzGDwBvUF0Bv",
        "outputId": "dcca8f1f-e5b6-4f65-d1e7-8a087b370b4b"
      },
      "execution_count": null,
      "outputs": [
        {
          "output_type": "execute_result",
          "data": {
            "text/plain": [
              "81"
            ]
          },
          "metadata": {},
          "execution_count": 106
        }
      ]
    },
    {
      "cell_type": "code",
      "source": [
        "test_slo_Iran = {}\n",
        "\n",
        "for index in test_index:\n",
        "\n",
        "  test_slo_Iran [str (index)] = slo_all [str (index)]"
      ],
      "metadata": {
        "id": "vNgqYMfUF0FJ"
      },
      "execution_count": null,
      "outputs": []
    },
    {
      "cell_type": "code",
      "source": [
        "len (test_slo_Iran)"
      ],
      "metadata": {
        "colab": {
          "base_uri": "https://localhost:8080/"
        },
        "id": "fuAWQjkUHC8k",
        "outputId": "3f40d4f7-46bd-4ee2-c74c-4330a934c2d3"
      },
      "execution_count": null,
      "outputs": [
        {
          "output_type": "execute_result",
          "data": {
            "text/plain": [
              "21"
            ]
          },
          "metadata": {},
          "execution_count": 108
        }
      ]
    },
    {
      "cell_type": "code",
      "source": [
        "train_sp_Iran = {}\n",
        "\n",
        "for index in train_index:\n",
        "\n",
        "  train_sp_Iran [str (index)] = sp_all [str (index)]"
      ],
      "metadata": {
        "id": "YeZmQxpcHFME"
      },
      "execution_count": null,
      "outputs": []
    },
    {
      "cell_type": "code",
      "source": [
        "test_sp_Iran = {}\n",
        "\n",
        "for index in test_index:\n",
        "\n",
        "  test_sp_Iran [str (index)] = sp_all [str (index)]"
      ],
      "metadata": {
        "id": "rg8xBwv3HFO0"
      },
      "execution_count": null,
      "outputs": []
    },
    {
      "cell_type": "code",
      "source": [
        "train_sp_Iran"
      ],
      "metadata": {
        "id": "Pr2gU9RrZ3q4"
      },
      "execution_count": null,
      "outputs": []
    },
    {
      "cell_type": "code",
      "source": [
        "!unzip /content/drive/MyDrive/train_SLO_iran.zip"
      ],
      "metadata": {
        "id": "rUhqs637Z3t2",
        "colab": {
          "base_uri": "https://localhost:8080/"
        },
        "outputId": "ddef37bf-84aa-4553-e4d3-51f42ccd3fcd"
      },
      "execution_count": null,
      "outputs": [
        {
          "output_type": "stream",
          "name": "stdout",
          "text": [
            "Archive:  /content/drive/MyDrive/train_SLO_iran.zip\n",
            " extracting: train_slo_iran.pkl      \n",
            " extracting: train_labels_Iran.pkl   \n",
            " extracting: train_sp_iran.pkl       \n"
          ]
        }
      ]
    },
    {
      "cell_type": "code",
      "source": [
        "train_slo = pickle.load (open ('/content/train_slo_iran.pkl', 'rb'))"
      ],
      "metadata": {
        "id": "Eg_hLuo6yH2s"
      },
      "execution_count": null,
      "outputs": []
    },
    {
      "cell_type": "code",
      "source": [
        "train_labels= pickle.load (open ('/content/train_labels_Iran.pkl', 'rb'))"
      ],
      "metadata": {
        "id": "gzFNVF8zzxv9"
      },
      "execution_count": null,
      "outputs": []
    },
    {
      "cell_type": "code",
      "source": [
        "train_slo ['0'] [0].shape"
      ],
      "metadata": {
        "colab": {
          "base_uri": "https://localhost:8080/"
        },
        "id": "zPO2VSO-v5Si",
        "outputId": "695ea8fe-aa7a-4fc5-8d9d-b1a64f00753c"
      },
      "execution_count": null,
      "outputs": [
        {
          "output_type": "execute_result",
          "data": {
            "text/plain": [
              "(768, 768)"
            ]
          },
          "metadata": {},
          "execution_count": 34
        }
      ]
    },
    {
      "cell_type": "code",
      "source": [
        "data  = []\n",
        "\n",
        "label = []\n",
        "\n",
        "for i in train_slo:\n",
        "\n",
        "  for j in range(len(train_slo[i])):\n",
        "\n",
        "    data.append(train_slo[i][j])\n",
        "\n",
        "    label.append(train_labels [i])\n",
        "\n",
        "data = np.reshape(data, np.shape(data))"
      ],
      "metadata": {
        "id": "g1udGTP_v5Vu"
      },
      "execution_count": null,
      "outputs": []
    },
    {
      "cell_type": "code",
      "source": [
        "data.shape"
      ],
      "metadata": {
        "colab": {
          "base_uri": "https://localhost:8080/"
        },
        "id": "5-fXGX9Rv5YQ",
        "outputId": "9933de8a-c256-4b82-a5b3-39687158ba9c"
      },
      "execution_count": null,
      "outputs": [
        {
          "output_type": "execute_result",
          "data": {
            "text/plain": [
              "(209, 768, 768)"
            ]
          },
          "metadata": {},
          "execution_count": 45
        }
      ]
    },
    {
      "cell_type": "code",
      "source": [],
      "metadata": {
        "id": "fOA2eQMHv5bD"
      },
      "execution_count": null,
      "outputs": []
    },
    {
      "cell_type": "code",
      "source": [],
      "metadata": {
        "id": "yO8Ye5gUZ3zg"
      },
      "execution_count": null,
      "outputs": []
    },
    {
      "cell_type": "code",
      "source": [
        "!unzip /content/drive/MyDrive/test_data_Iran.zip"
      ],
      "metadata": {
        "colab": {
          "base_uri": "https://localhost:8080/"
        },
        "id": "RfR77HKqHFa8",
        "outputId": "0e743276-c470-46e5-8f7d-14c25b6879cb"
      },
      "execution_count": null,
      "outputs": [
        {
          "output_type": "stream",
          "name": "stdout",
          "text": [
            "Archive:  /content/drive/MyDrive/test_data_Iran.zip\n",
            " extracting: test_layers_Iran.pkl    \n",
            " extracting: test_labels_Iran.pkl    \n",
            " extracting: test_sp_Iran.pkl        \n"
          ]
        }
      ]
    },
    {
      "cell_type": "code",
      "source": [
        "with open ('/content/test_labels_Iran.pkl', 'rb') as f:\n",
        "\n",
        "  test_labels = pickle.load (f)"
      ],
      "metadata": {
        "id": "FpNhtQVuZ435"
      },
      "execution_count": null,
      "outputs": []
    },
    {
      "cell_type": "code",
      "source": [
        "test_labels"
      ],
      "metadata": {
        "id": "LVH8WoPwaCmO"
      },
      "execution_count": null,
      "outputs": []
    },
    {
      "cell_type": "code",
      "source": [
        "!unzip /content/drive/MyDrive/train_data_Iran.zip"
      ],
      "metadata": {
        "colab": {
          "base_uri": "https://localhost:8080/"
        },
        "id": "HJ-Ek70OZ47d",
        "outputId": "8149a2cc-e16f-4ad6-e70b-215ff61cd946"
      },
      "execution_count": null,
      "outputs": [
        {
          "output_type": "stream",
          "name": "stdout",
          "text": [
            "Archive:  /content/drive/MyDrive/train_data_Iran.zip\n",
            " extracting: train_layers_Iran.pkl   \n",
            " extracting: train_labels_Iran.pkl   \n",
            " extracting: train_sp_Iran.pkl       \n"
          ]
        }
      ]
    },
    {
      "cell_type": "code",
      "source": [
        "with open ('/content/train_labels_Iran.pkl', 'rb') as f:\n",
        "\n",
        "  train_labels = pickle.load (f)"
      ],
      "metadata": {
        "id": "Cev9U8tEagsW"
      },
      "execution_count": null,
      "outputs": []
    },
    {
      "cell_type": "code",
      "source": [
        "train_labels"
      ],
      "metadata": {
        "id": "G8vD0SwWaoxS"
      },
      "execution_count": null,
      "outputs": []
    },
    {
      "cell_type": "code",
      "source": [],
      "metadata": {
        "id": "7zK_nrhQao0P"
      },
      "execution_count": null,
      "outputs": []
    },
    {
      "cell_type": "code",
      "source": [],
      "metadata": {
        "id": "27ahpxyHazm8"
      },
      "execution_count": null,
      "outputs": []
    },
    {
      "cell_type": "code",
      "source": [
        "with open ('train_slo_iran.pkl', 'wb') as f:\n",
        "  pickle.dump (train_slo_Iran, f)"
      ],
      "metadata": {
        "id": "1my2d9Pcazp1"
      },
      "execution_count": null,
      "outputs": []
    },
    {
      "cell_type": "code",
      "source": [
        "with open ('train_sp_iran.pkl', 'wb') as f:\n",
        "  pickle.dump (train_sp_Iran, f)"
      ],
      "metadata": {
        "id": "0kFACrryazsv"
      },
      "execution_count": null,
      "outputs": []
    },
    {
      "cell_type": "code",
      "source": [],
      "metadata": {
        "id": "pjjeMTPrazvw"
      },
      "execution_count": null,
      "outputs": []
    },
    {
      "cell_type": "code",
      "source": [
        "with open ('test_slo_iran.pkl', 'wb') as f:\n",
        "  pickle.dump (test_slo_Iran, f)"
      ],
      "metadata": {
        "id": "pl1II0wdazyQ"
      },
      "execution_count": null,
      "outputs": []
    },
    {
      "cell_type": "code",
      "source": [
        "with open ('test_sp_iran.pkl', 'wb') as f:\n",
        "  pickle.dump (test_sp_Iran, f)"
      ],
      "metadata": {
        "id": "aotsNU5zaz08"
      },
      "execution_count": null,
      "outputs": []
    },
    {
      "cell_type": "code",
      "source": [
        "!unzip /content/drive/MyDrive/test_data_Iran.zip"
      ],
      "metadata": {
        "id": "NA-IXI5Yaz3j",
        "colab": {
          "base_uri": "https://localhost:8080/"
        },
        "outputId": "acc35dc7-fc32-41de-8ffe-295f7abb38db"
      },
      "execution_count": null,
      "outputs": [
        {
          "output_type": "stream",
          "name": "stdout",
          "text": [
            "Archive:  /content/drive/MyDrive/test_data_Iran.zip\n",
            " extracting: test_layers_Iran.pkl    \n",
            " extracting: test_labels_Iran.pkl    \n",
            " extracting: test_sp_Iran.pkl        \n"
          ]
        }
      ]
    },
    {
      "cell_type": "code",
      "source": [
        "!unzip /content/drive/MyDrive/train_data_Iran.zip"
      ],
      "metadata": {
        "colab": {
          "base_uri": "https://localhost:8080/"
        },
        "id": "8PTkTvVaheaw",
        "outputId": "67bd49d7-882a-4d0e-ff2a-3b2d68ed758c"
      },
      "execution_count": null,
      "outputs": [
        {
          "output_type": "stream",
          "name": "stdout",
          "text": [
            "Archive:  /content/drive/MyDrive/train_data_Iran.zip\n",
            "replace train_layers_Iran.pkl? [y]es, [n]o, [A]ll, [N]one, [r]ename: y\n",
            " extracting: train_layers_Iran.pkl   \n",
            "replace train_labels_Iran.pkl? [y]es, [n]o, [A]ll, [N]one, [r]ename: y\n",
            " extracting: train_labels_Iran.pkl   \n",
            " extracting: train_sp_Iran.pkl       \n"
          ]
        }
      ]
    },
    {
      "cell_type": "code",
      "source": [
        "!cp /content/train_SLO_iran.zip /content/drive/MyDrive"
      ],
      "metadata": {
        "id": "KrRFmZY6hedv"
      },
      "execution_count": null,
      "outputs": []
    },
    {
      "cell_type": "code",
      "source": [],
      "metadata": {
        "id": "Q8E4hYNXhegi"
      },
      "execution_count": null,
      "outputs": []
    },
    {
      "cell_type": "code",
      "source": [
        "import zipfile\n",
        "\n",
        "# List of files to zip\n",
        "files_to_zip = ['train_slo_iran.pkl', 'train_labels_Iran.pkl', 'train_sp_iran.pkl']\n",
        "# Name of the zip file\n",
        "zip_file_name = 'train_SLO_iran.zip'\n",
        "\n",
        "# Create the zip file\n",
        "with zipfile.ZipFile(zip_file_name, 'w') as zipf:\n",
        "    for file in files_to_zip:\n",
        "        zipf.write(file)\n"
      ],
      "metadata": {
        "id": "KZ8PR0Uwaz6d"
      },
      "execution_count": null,
      "outputs": []
    },
    {
      "cell_type": "code",
      "source": [],
      "metadata": {
        "id": "GniNme22b5Ar"
      },
      "execution_count": null,
      "outputs": []
    },
    {
      "cell_type": "code",
      "source": [
        "import zipfile\n",
        "\n",
        "# List of files to zip\n",
        "files_to_zip = ['test_slo_iran.pkl', 'test_labels_Iran.pkl', 'test_sp_iran.pkl']\n",
        "# Name of the zip file\n",
        "zip_file_name = 'test_SLO_iran.zip'\n",
        "\n",
        "# Create the zip file\n",
        "with zipfile.ZipFile(zip_file_name, 'w') as zipf:\n",
        "    for file in files_to_zip:\n",
        "        zipf.write(file)\n"
      ],
      "metadata": {
        "id": "n3S9g_UNb5DX"
      },
      "execution_count": null,
      "outputs": []
    },
    {
      "cell_type": "code",
      "source": [
        "with open ('/content/train_sp_iran.pkl', 'rb') as f:\n",
        "  sp_new = pickle.load (f)"
      ],
      "metadata": {
        "id": "0LOUHvfyl0cl"
      },
      "execution_count": null,
      "outputs": []
    },
    {
      "cell_type": "code",
      "source": [
        "with open ('/content/train_sp_Iran.pkl', 'rb') as f:\n",
        "  sp_old = pickle.load (f)"
      ],
      "metadata": {
        "id": "GI7Nwyy3l0tq"
      },
      "execution_count": null,
      "outputs": []
    },
    {
      "cell_type": "code",
      "source": [
        "sp_new"
      ],
      "metadata": {
        "id": "oAONdQZZmqI2"
      },
      "execution_count": null,
      "outputs": []
    },
    {
      "cell_type": "code",
      "source": [
        "!unzip /content/drive/MyDrive/Iran_data.zip"
      ],
      "metadata": {
        "colab": {
          "base_uri": "https://localhost:8080/"
        },
        "id": "vFO3A_GamqL2",
        "outputId": "c98b7e15-7cd2-46f8-ff88-368b9e031696"
      },
      "execution_count": null,
      "outputs": [
        {
          "output_type": "stream",
          "name": "stdout",
          "text": [
            "Archive:  /content/drive/MyDrive/Iran_data.zip\n",
            " extracting: layers_Iran.pkl         \n",
            " extracting: ScanPositionIran.pkl    \n",
            " extracting: subjects_index_Iran.pkl  \n",
            " extracting: subjects_labels_Iran.pkl  \n",
            " extracting: subjects_layers_Iran.pkl  \n",
            " extracting: vol_Iran.pkl            \n",
            " extracting: vol_labels_Iran.pkl     \n",
            " extracting: readme.docx             \n"
          ]
        }
      ]
    },
    {
      "cell_type": "code",
      "source": [
        "with open ('/content/ScanPositionIran.pkl', 'rb') as f:\n",
        "  sp = pickle.load (f)"
      ],
      "metadata": {
        "id": "XU5Gj3uTrVbI"
      },
      "execution_count": null,
      "outputs": []
    },
    {
      "cell_type": "code",
      "source": [
        "len (sp)"
      ],
      "metadata": {
        "colab": {
          "base_uri": "https://localhost:8080/"
        },
        "id": "3DipCYxUrbl3",
        "outputId": "d7669a94-7e02-4e27-d9bb-8f989c3ae003"
      },
      "execution_count": null,
      "outputs": [
        {
          "output_type": "execute_result",
          "data": {
            "text/plain": [
              "184"
            ]
          },
          "metadata": {},
          "execution_count": 151
        }
      ]
    },
    {
      "cell_type": "code",
      "source": [
        "sp_all = {}\n",
        "\n",
        "for subject in subjects_index_Iran:\n",
        "\n",
        "  sp_all [subject] = []\n",
        "\n",
        "  indices = subjects_index_Iran [subject]\n",
        "\n",
        "  for index in indices:\n",
        "\n",
        "    sp_all [subject].append (sp [index])\n",
        "\n"
      ],
      "metadata": {
        "id": "7HFZexaBrfad"
      },
      "execution_count": null,
      "outputs": []
    },
    {
      "cell_type": "code",
      "source": [
        "sp_all"
      ],
      "metadata": {
        "colab": {
          "base_uri": "https://localhost:8080/"
        },
        "id": "48NezRxWvnzg",
        "outputId": "ac9280f6-4b85-4d1e-c88a-34201dea3868"
      },
      "execution_count": null,
      "outputs": [
        {
          "output_type": "execute_result",
          "data": {
            "text/plain": [
              "{'0': [True],\n",
              " '1': [False, True],\n",
              " '2': [False, True],\n",
              " '3': [True],\n",
              " '4': [True],\n",
              " '5': [False, True],\n",
              " '6': [False, True],\n",
              " '7': [False],\n",
              " '8': [True],\n",
              " '9': [True],\n",
              " '10': [True],\n",
              " '11': [False],\n",
              " '12': [True],\n",
              " '13': [False, True],\n",
              " '14': [False, True],\n",
              " '15': [False],\n",
              " '16': [False, True],\n",
              " '17': [False, True],\n",
              " '18': [False, True],\n",
              " '19': [False, True],\n",
              " '20': [False, True],\n",
              " '21': [False, True],\n",
              " '22': [False, True, False],\n",
              " '23': [False, True],\n",
              " '24': [True, False],\n",
              " '25': [False],\n",
              " '26': [False, True],\n",
              " '27': [False, True],\n",
              " '28': [False, True],\n",
              " '29': [False, True],\n",
              " '30': [False, True],\n",
              " '31': [False, True],\n",
              " '32': [False, True],\n",
              " '33': [True],\n",
              " '34': [False, True],\n",
              " '35': [False, True],\n",
              " '36': [False],\n",
              " '37': [False, True],\n",
              " '38': [False],\n",
              " '39': [False, True],\n",
              " '40': [False, True],\n",
              " '41': [False, True],\n",
              " '42': [False, True],\n",
              " '43': [False],\n",
              " '44': [False, True],\n",
              " '45': [False, True],\n",
              " '46': [False, True],\n",
              " '47': [False, True],\n",
              " '48': [False, True],\n",
              " '49': [True, False],\n",
              " '50': [False, True],\n",
              " '51': [True, False],\n",
              " '52': [True, False],\n",
              " '53': [True, False],\n",
              " '54': [True, False],\n",
              " '55': [True, False],\n",
              " '56': [True, False],\n",
              " '57': [True, False],\n",
              " '58': [True, False],\n",
              " '59': [True, False],\n",
              " '60': [True, False],\n",
              " '61': [False],\n",
              " '62': [True, False],\n",
              " '63': [True, False],\n",
              " '64': [True, False],\n",
              " '65': [True, False],\n",
              " '66': [True, False],\n",
              " '67': [True, False],\n",
              " '68': [True, False],\n",
              " '69': [True, False],\n",
              " '70': [True, False],\n",
              " '71': [False],\n",
              " '72': [True, False],\n",
              " '73': [True, False],\n",
              " '74': [False, True],\n",
              " '75': [True, False],\n",
              " '76': [False, True],\n",
              " '77': [True, False],\n",
              " '78': [False, True],\n",
              " '79': [True, False],\n",
              " '80': [True, False],\n",
              " '81': [True, False],\n",
              " '82': [True, False],\n",
              " '83': [True],\n",
              " '84': [True, False],\n",
              " '85': [True, False],\n",
              " '86': [True, False],\n",
              " '87': [True, False],\n",
              " '88': [True, False],\n",
              " '89': [True, False],\n",
              " '90': [True, False],\n",
              " '91': [True, False],\n",
              " '92': [True, False],\n",
              " '93': [True, False],\n",
              " '94': [False, True],\n",
              " '95': [True],\n",
              " '96': [True],\n",
              " '97': [True, False],\n",
              " '98': [True, False],\n",
              " '99': [True, False],\n",
              " '100': [True, False],\n",
              " '101': [True]}"
            ]
          },
          "metadata": {},
          "execution_count": 173
        }
      ]
    },
    {
      "cell_type": "code",
      "source": [
        "subjects_index_Iran"
      ],
      "metadata": {
        "colab": {
          "base_uri": "https://localhost:8080/"
        },
        "id": "QqwPoqxXsymH",
        "outputId": "6a4e83f6-5cb0-4eb9-b4f7-1aa39936682b"
      },
      "execution_count": null,
      "outputs": [
        {
          "output_type": "execute_result",
          "data": {
            "text/plain": [
              "{'0': [0],\n",
              " '1': [1, 2],\n",
              " '2': [3, 4],\n",
              " '3': [5],\n",
              " '4': [6],\n",
              " '5': [7, 8],\n",
              " '6': [9, 10],\n",
              " '7': [11],\n",
              " '8': [12],\n",
              " '9': [13],\n",
              " '10': [14],\n",
              " '11': [15],\n",
              " '12': [16],\n",
              " '13': [17, 18],\n",
              " '14': [19, 20],\n",
              " '15': [21],\n",
              " '16': [22, 23],\n",
              " '17': [24, 25],\n",
              " '18': [26, 27],\n",
              " '19': [28, 29],\n",
              " '20': [30, 31],\n",
              " '21': [32, 33],\n",
              " '22': [34, 35, 36],\n",
              " '23': [37, 38],\n",
              " '24': [39, 40],\n",
              " '25': [41],\n",
              " '26': [42, 43],\n",
              " '27': [44, 45],\n",
              " '28': [46, 47],\n",
              " '29': [48, 49],\n",
              " '30': [50, 51],\n",
              " '31': [52, 53],\n",
              " '32': [54, 55],\n",
              " '33': [56],\n",
              " '34': [57, 58],\n",
              " '35': [59, 60],\n",
              " '36': [61],\n",
              " '37': [62, 63],\n",
              " '38': [64],\n",
              " '39': [65, 66],\n",
              " '40': [67, 68],\n",
              " '41': [69, 70],\n",
              " '42': [71, 72],\n",
              " '43': [73],\n",
              " '44': [74, 75],\n",
              " '45': [76, 77],\n",
              " '46': [78, 79],\n",
              " '47': [80, 81],\n",
              " '48': [82, 83],\n",
              " '49': [84, 85],\n",
              " '50': [86, 87],\n",
              " '51': [88, 89],\n",
              " '52': [90, 91],\n",
              " '53': [92, 93],\n",
              " '54': [94, 95],\n",
              " '55': [96, 97],\n",
              " '56': [98, 99],\n",
              " '57': [100, 101],\n",
              " '58': [102, 103],\n",
              " '59': [104, 105],\n",
              " '60': [106, 107],\n",
              " '61': [108],\n",
              " '62': [109, 110],\n",
              " '63': [111, 112],\n",
              " '64': [113, 114],\n",
              " '65': [115, 116],\n",
              " '66': [117, 118],\n",
              " '67': [119, 120],\n",
              " '68': [121, 122],\n",
              " '69': [123, 124],\n",
              " '70': [125, 126],\n",
              " '71': [127],\n",
              " '72': [128, 129],\n",
              " '73': [130, 131],\n",
              " '74': [132, 133],\n",
              " '75': [134, 135],\n",
              " '76': [136, 137],\n",
              " '77': [138, 139],\n",
              " '78': [140, 141],\n",
              " '79': [142, 143],\n",
              " '80': [144, 145],\n",
              " '81': [146, 147],\n",
              " '82': [148, 149],\n",
              " '83': [150],\n",
              " '84': [151, 152],\n",
              " '85': [153, 154],\n",
              " '86': [155, 156],\n",
              " '87': [157, 158],\n",
              " '88': [159, 160],\n",
              " '89': [161, 162],\n",
              " '90': [163, 164],\n",
              " '91': [165, 166],\n",
              " '92': [167, 168],\n",
              " '93': [169, 170],\n",
              " '94': [171, 172],\n",
              " '95': [173],\n",
              " '96': [174],\n",
              " '97': [175, 176],\n",
              " '98': [177, 178],\n",
              " '99': [179, 180],\n",
              " '100': [181, 182],\n",
              " '101': [183]}"
            ]
          },
          "metadata": {},
          "execution_count": 155
        }
      ]
    },
    {
      "cell_type": "code",
      "source": [
        "vol_Iran"
      ],
      "metadata": {
        "colab": {
          "base_uri": "https://localhost:8080/"
        },
        "id": "IH37RwgJsIV7",
        "outputId": "cc39ebff-b73e-4b38-c0d3-8c4113a6339c"
      },
      "execution_count": null,
      "outputs": [
        {
          "output_type": "execute_result",
          "data": {
            "text/plain": [
              "{'0': 'hc-Dr_Alamzadeh_16_8_96_D_117.vol',\n",
              " '1': 'hc-Dr_Alamzadeh17_8_96_D_110.vol',\n",
              " '2': 'hc-Dr_Alamzadeh17_8_96_D_111.vol',\n",
              " '3': 'hc-Dr_Alamzadeh_25_6_96_D_112.vol',\n",
              " '4': 'hc-Dr_Alamzadeh_25_6_96_D_113.vol',\n",
              " '5': 'hc-Dr_Alamzadeh_9_8_96_D_119.vol',\n",
              " '6': 'hc-Dr_Alamzadeh_D_109.vol',\n",
              " '7': 'hc-Dr_Alamzadeh_D_114.vol',\n",
              " '8': 'hc-Dr_Alamzadeh_D_115.vol',\n",
              " '9': 'hc-Dr_Alamzadeh_D_123.vol',\n",
              " '10': 'hc-Dr_Alamzadeh_D_125.vol',\n",
              " '11': 'hc-Dr_Alamzadeh_D_127.vol',\n",
              " '12': 'hc-Dr_Alamzadeh_D_128.vol',\n",
              " '13': 'hc-Dr_Alamzadeh_D_131.vol',\n",
              " '14': 'hc-Dr_Alamzadeh_D_133.vol',\n",
              " '15': 'hc-Dr_Alamzadeh_D_143.vol',\n",
              " '16': 'hc-Dr_Alamzadeh_D_147.vol',\n",
              " '17': 'hc-Dr_Alamzadeh_D_148.vol',\n",
              " '18': 'hc-Dr_Alamzadeh_D_151.vol',\n",
              " '19': 'hc-Dr_Alamzadeh_D_153.vol',\n",
              " '20': 'hc-Dr_Alamzadeh_D_154.vol',\n",
              " '21': 'hc-Dr_Alamzadeh_D_156.vol',\n",
              " '22': 'hc-Dr_Alamzadeh_D_159.vol',\n",
              " '23': 'hc-Dr_Alamzadeh_D_161.vol',\n",
              " '24': 'ms-abasi_m_283.vol',\n",
              " '25': 'ms-abasi_m_284.vol',\n",
              " '26': 'ms-ahmadi_s_377.vol',\n",
              " '27': 'ms-ahmadi_s_378.vol',\n",
              " '28': 'ms-amin_o_roaei_f_181.vol',\n",
              " '29': 'ms-amin_o_roaei_f_182.vol',\n",
              " '30': 'ms-amoo_m_257.vol',\n",
              " '31': 'ms-amoo_m_258.vol',\n",
              " '32': 'ms-asgari_f_169.vol',\n",
              " '33': 'ms-asgari_f_170.vol',\n",
              " '34': 'ms-bagherian_s_372.vol',\n",
              " '35': 'ms-bagherian_s_373.vol',\n",
              " '36': 'ms-bagherian_s_374.vol',\n",
              " '37': 'ms-bahrami_m_287.vol',\n",
              " '38': 'ms-bahrami_m_288.vol',\n",
              " '39': 'ms-bestar_ahang_a_136.vol',\n",
              " '40': 'ms-bestar_ahang_a_137.vol',\n",
              " '41': 'ms-davari_z_405.vol',\n",
              " '42': 'ms-fadaei_e_153.vol',\n",
              " '43': 'ms-fadaei_e_154.vol',\n",
              " '44': 'ms-falamarzi_f_213.vol',\n",
              " '45': 'ms-falamarzi_f_214.vol',\n",
              " '46': 'ms-ghafoor_zadeh_l_237.vol',\n",
              " '47': 'ms-ghafoor_zadeh_l_238.vol',\n",
              " '48': 'ms-ghasemi_n_320.vol',\n",
              " '49': 'ms-ghasemi_n_321.vol',\n",
              " '50': 'ms-heidari_n_316.vol',\n",
              " '51': 'ms-heidari_n_317.vol',\n",
              " '52': 'ms-jabari_f_173.vol',\n",
              " '53': 'ms-jabari_f_174.vol',\n",
              " '54': 'ms-karimi_n_312.vol',\n",
              " '55': 'ms-karimi_n_313.vol',\n",
              " '56': 'ms-kazem_borji_z_410.vol',\n",
              " '57': 'ms-kiyani_mehr_z_417.vol',\n",
              " '58': 'ms-kiyani_mehr_z_418.vol',\n",
              " '59': 'ms-lavi_f_209.vol',\n",
              " '60': 'ms-lavi_f_210.vol',\n",
              " '61': 'ms-lotfi_m_265.vol',\n",
              " '62': 'ms-masoudi_r_344.vol',\n",
              " '63': 'ms-masoudi_r_345.vol',\n",
              " '64': 'ms-mazaheri_m_279.vol',\n",
              " '65': 'ms-mir_b_149.vol',\n",
              " '66': 'ms-mir_b_150.vol',\n",
              " '67': 'ms-moghtadaei_r_332.vol',\n",
              " '68': 'ms-moghtadaei_r_333.vol',\n",
              " '69': 'ms-mohamad_beygi_l_241.vol',\n",
              " '70': 'ms-mohamad_beygi_l_242.vol',\n",
              " '71': 'ms-mola_salehi_e_157.vol',\n",
              " '72': 'ms-mola_salehi_e_158.vol',\n",
              " '73': 'ms-mousavi_f_189.vol',\n",
              " '74': 'ms-nazem_a_112.vol',\n",
              " '75': 'ms-nazem_a_113.vol',\n",
              " '76': 'ms-soleimani_e_165.vol',\n",
              " '77': 'ms-soleimani_e_166.vol',\n",
              " '78': 'ms-torkan_z_421.vol',\n",
              " '79': 'ms-torkan_z_422.vol',\n",
              " '80': 'ms-torki_s_381.vol',\n",
              " '81': 'ms-torki_s_382.vol',\n",
              " '82': 'ms-zamani_a_140.vol',\n",
              " '83': 'ms-zamani_a_141.vol',\n",
              " '84': 'EYE00003_E_3771_cropped_segmented_corrected.vol',\n",
              " '85': 'EYE00003_E_3776_cropped_segmented_corrected.vol',\n",
              " '86': 'EYE00005_E_439_cropped_segmented_corrected.vol',\n",
              " '87': 'EYE00005_E_442_cropped_segmented_corrected.vol',\n",
              " '88': 'EYE00007_E_5431_cropped_segmented_corrected.vol',\n",
              " '89': 'EYE00007_E_5436_cropped_segmented_corrected.vol',\n",
              " '90': 'EYE00014_E_1178_cropped_segmented_corrected.vol',\n",
              " '91': 'EYE00014_E_1181_cropped_segmented_corrected.vol',\n",
              " '92': 'EYE00020_E_1595_cropped_segmented_corrected.vol',\n",
              " '93': 'EYE00020_E_1600_cropped_segmented_corrected.vol',\n",
              " '94': 'EYE00023_E_5863_cropped_segmented_corrected.vol',\n",
              " '95': 'EYE00023_E_5865_cropped_segmented_corrected.vol',\n",
              " '96': 'EYE00042_E_4187_cropped_segmented_corrected.vol',\n",
              " '97': 'EYE00042_E_4190_cropped_segmented_corrected.vol',\n",
              " '98': 'EYE00043_E_2209_cropped_segmented_corrected.vol',\n",
              " '99': 'EYE00043_E_2214_cropped_segmented_corrected.vol',\n",
              " '100': 'EYE00045_E_4994_cropped_segmented_corrected.vol',\n",
              " '101': 'EYE00045_E_4997_cropped_segmented_corrected.vol',\n",
              " '102': 'EYE00052_E_1754_cropped_segmented_corrected.vol',\n",
              " '103': 'EYE00052_E_1759_cropped_segmented_corrected.vol',\n",
              " '104': 'EYE00058_E_1224_cropped_segmented_corrected.vol',\n",
              " '105': 'EYE00058_E_1228_cropped_segmented_corrected.vol',\n",
              " '106': 'EYE00066_E_289_cropped_segmented_corrected.vol',\n",
              " '107': 'EYE00066_E_292_cropped_segmented_corrected.vol',\n",
              " '108': 'EYE00067_E_1785_cropped_segmented_corrected.vol',\n",
              " '109': 'EYE00068_E_1071_cropped_segmented_corrected.vol',\n",
              " '110': 'EYE00068_E_1075_cropped_segmented_corrected.vol',\n",
              " '111': 'EYE00071_E_4139_cropped_segmented_corrected.vol',\n",
              " '112': 'EYE00071_E_4142_cropped_segmented_corrected.vol',\n",
              " '113': 'EYE00074_E_1097_cropped_segmented_corrected.vol',\n",
              " '114': 'EYE00074_E_1100_cropped_segmented_corrected.vol',\n",
              " '115': 'EYE00084_E_3405_cropped_segmented_corrected.vol',\n",
              " '116': 'EYE00084_E_3408_cropped_segmented_corrected.vol',\n",
              " '117': 'EYE00092_E_1052_cropped_segmented_corrected.vol',\n",
              " '118': 'EYE00092_E_1056_cropped_segmented_corrected.vol',\n",
              " '119': 'EYE00102_E_2300_cropped_segmented_corrected.vol',\n",
              " '120': 'EYE00102_E_2304_cropped_segmented_corrected.vol',\n",
              " '121': 'EYE00103_E_4232_cropped_segmented_corrected.vol',\n",
              " '122': 'EYE00103_E_4235_cropped_segmented_corrected.vol',\n",
              " '123': 'EYE00105_E_4874_cropped_segmented_corrected.vol',\n",
              " '124': 'EYE00105_E_4877_cropped_segmented_corrected.vol',\n",
              " '125': 'EYE00107_E_115_cropped_segmented_corrected.vol',\n",
              " '126': 'EYE00107_E_120_cropped_segmented_corrected.vol',\n",
              " '127': 'EYE00117_E_720_cropped_segmented_corrected.vol',\n",
              " '128': 'EYE00118_E_6055_cropped_segmented_corrected.vol',\n",
              " '129': 'EYE00118_E_6058_cropped_segmented_corrected.vol',\n",
              " '130': 'EYE00119_E_3433_cropped_segmented_corrected.vol',\n",
              " '131': 'EYE00119_E_3436_cropped_segmented_corrected.vol',\n",
              " '132': 'EYE00120_E_1353_cropped_segmented_corrected.vol',\n",
              " '133': 'EYE00120_E_1356_cropped_segmented_corrected.vol',\n",
              " '134': 'EYE00122_E_756_cropped_segmented_corrected.vol',\n",
              " '135': 'EYE00122_E_760_cropped_segmented_corrected.vol',\n",
              " '136': 'EYE00125_E_123_cropped_segmented_corrected.vol',\n",
              " '137': 'EYE00125_E_126_cropped_segmented_corrected.vol',\n",
              " '138': 'EYE00128_E_4407_cropped_segmented_corrected.vol',\n",
              " '139': 'EYE00128_E_4411_cropped_segmented_corrected.vol',\n",
              " '140': 'EYE00130_E_4848_cropped_segmented_corrected.vol',\n",
              " '141': 'EYE00130_E_4851_cropped_segmented_corrected.vol',\n",
              " '142': 'EYE00131_E_4975_cropped_segmented_corrected.vol',\n",
              " '143': 'EYE00131_E_4979_cropped_segmented_corrected.vol',\n",
              " '144': 'EYE00136_E_5084_cropped_segmented_corrected.vol',\n",
              " '145': 'EYE00136_E_5088_cropped_segmented_corrected.vol',\n",
              " '146': 'EYE00143_E_690_cropped_segmented_corrected.vol',\n",
              " '147': 'EYE00143_E_694_cropped_segmented_corrected.vol',\n",
              " '148': 'EYE00153_E_4100_cropped_segmented_corrected.vol',\n",
              " '149': 'EYE00153_E_4101_cropped_segmented_corrected.vol',\n",
              " '150': 'EYE00155_E_410_cropped_segmented_corrected.vol',\n",
              " '151': 'EYE00162_E_971_cropped_segmented_corrected.vol',\n",
              " '152': 'EYE00162_E_975_cropped_segmented_corrected.vol',\n",
              " '153': 'EYE00163_E_1142_cropped_segmented_corrected.vol',\n",
              " '154': 'EYE00163_E_1146_cropped_segmented_corrected.vol',\n",
              " '155': 'EYE00164_E_3535_cropped_segmented_corrected.vol',\n",
              " '156': 'EYE00164_E_3539_cropped_segmented_corrected.vol',\n",
              " '157': 'EYE00165_E_5067_cropped_segmented_corrected.vol',\n",
              " '158': 'EYE00165_E_5070_cropped_segmented_corrected.vol',\n",
              " '159': 'EYE00166_E_863_cropped_segmented_corrected.vol',\n",
              " '160': 'EYE00166_E_866_cropped_segmented_corrected.vol',\n",
              " '161': 'EYE00170_E_935_cropped_segmented_corrected.vol',\n",
              " '162': 'EYE00170_E_938_cropped_segmented_corrected.vol',\n",
              " '163': 'EYE00173_E_820_cropped_segmented_corrected.vol',\n",
              " '164': 'EYE00173_E_824_cropped_segmented_corrected.vol',\n",
              " '165': 'EYE00175_E_2472_cropped_segmented_corrected.vol',\n",
              " '166': 'EYE00175_E_2476_cropped_segmented_corrected.vol',\n",
              " '167': 'EYE00176_E_4833_cropped_segmented_corrected.vol',\n",
              " '168': 'EYE00176_E_4838_cropped_segmented_corrected.vol',\n",
              " '169': 'EYE00179_E_2720_cropped_segmented_corrected.vol',\n",
              " '170': 'EYE00179_E_2724_cropped_segmented_corrected.vol',\n",
              " '171': 'EYE00181_E_1002_cropped_segmented_corrected.vol',\n",
              " '172': 'EYE00181_E_999_cropped_segmented_corrected.vol',\n",
              " '173': 'EYE00182_E_3485_cropped_segmented_corrected.vol',\n",
              " '174': 'EYE00183_E_3124_cropped_segmented_corrected.vol',\n",
              " '175': 'EYE00186_E_351_cropped_segmented_corrected.vol',\n",
              " '176': 'EYE00186_E_353_cropped_segmented_corrected.vol',\n",
              " '177': 'EYE00197_E_3051_cropped_segmented_corrected.vol',\n",
              " '178': 'EYE00197_E_3054_cropped_segmented_corrected.vol',\n",
              " '179': 'EYE00200_E_1420_cropped_segmented_corrected.vol',\n",
              " '180': 'EYE00200_E_1424_cropped_segmented_corrected.vol',\n",
              " '181': 'EYE00235_E_721_cropped_segmented_corrected.vol',\n",
              " '182': 'EYE00235_E_724_cropped_segmented_corrected.vol',\n",
              " '183': 'EYE00244_E_765_cropped_segmented_corrected.vol'}"
            ]
          },
          "metadata": {},
          "execution_count": 154
        }
      ]
    },
    {
      "cell_type": "code",
      "source": [
        "sp_all_new = sp_all.copy ()\n",
        "\n",
        "for p in list (sp_all.keys ()) [:49]:\n",
        "\n",
        "  sp_all_new [str (p)] = []\n",
        "\n",
        "  boleans = sp_all [str (p)]\n",
        "\n",
        "  for bolean in boleans:\n",
        "\n",
        "    sp_all_new [str (p)].append (not bolean)\n",
        "\n",
        "\n",
        "\n"
      ],
      "metadata": {
        "id": "YWesEZmosFjW"
      },
      "execution_count": null,
      "outputs": []
    },
    {
      "cell_type": "code",
      "source": [
        "sp_all_new"
      ],
      "metadata": {
        "colab": {
          "base_uri": "https://localhost:8080/"
        },
        "id": "JcAcyNTwuj7x",
        "outputId": "76b0e396-f971-422b-830f-90b22af5320b"
      },
      "execution_count": null,
      "outputs": [
        {
          "output_type": "execute_result",
          "data": {
            "text/plain": [
              "{'0': [False],\n",
              " '1': [True, False],\n",
              " '2': [True, False],\n",
              " '3': [False],\n",
              " '4': [False],\n",
              " '5': [True, False],\n",
              " '6': [True, False],\n",
              " '7': [True],\n",
              " '8': [False],\n",
              " '9': [False],\n",
              " '10': [False],\n",
              " '11': [True],\n",
              " '12': [False],\n",
              " '13': [True, False],\n",
              " '14': [True, False],\n",
              " '15': [True],\n",
              " '16': [True, False],\n",
              " '17': [True, False],\n",
              " '18': [True, False],\n",
              " '19': [True, False],\n",
              " '20': [True, False],\n",
              " '21': [True, False],\n",
              " '22': [True, False, True],\n",
              " '23': [True, False],\n",
              " '24': [False, True],\n",
              " '25': [True],\n",
              " '26': [True, False],\n",
              " '27': [True, False],\n",
              " '28': [True, False],\n",
              " '29': [True, False],\n",
              " '30': [True, False],\n",
              " '31': [True, False],\n",
              " '32': [True, False],\n",
              " '33': [False],\n",
              " '34': [True, False],\n",
              " '35': [True, False],\n",
              " '36': [True],\n",
              " '37': [True, False],\n",
              " '38': [True],\n",
              " '39': [True, False],\n",
              " '40': [True, False],\n",
              " '41': [True, False],\n",
              " '42': [True, False],\n",
              " '43': [True],\n",
              " '44': [True, False],\n",
              " '45': [True, False],\n",
              " '46': [True, False],\n",
              " '47': [True, False],\n",
              " '48': [True, False],\n",
              " '49': [True, False],\n",
              " '50': [False, True],\n",
              " '51': [True, False],\n",
              " '52': [True, False],\n",
              " '53': [True, False],\n",
              " '54': [True, False],\n",
              " '55': [True, False],\n",
              " '56': [True, False],\n",
              " '57': [True, False],\n",
              " '58': [True, False],\n",
              " '59': [True, False],\n",
              " '60': [True, False],\n",
              " '61': [False],\n",
              " '62': [True, False],\n",
              " '63': [True, False],\n",
              " '64': [True, False],\n",
              " '65': [True, False],\n",
              " '66': [True, False],\n",
              " '67': [True, False],\n",
              " '68': [True, False],\n",
              " '69': [True, False],\n",
              " '70': [True, False],\n",
              " '71': [False],\n",
              " '72': [True, False],\n",
              " '73': [True, False],\n",
              " '74': [False, True],\n",
              " '75': [True, False],\n",
              " '76': [False, True],\n",
              " '77': [True, False],\n",
              " '78': [False, True],\n",
              " '79': [True, False],\n",
              " '80': [True, False],\n",
              " '81': [True, False],\n",
              " '82': [True, False],\n",
              " '83': [True],\n",
              " '84': [True, False],\n",
              " '85': [True, False],\n",
              " '86': [True, False],\n",
              " '87': [True, False],\n",
              " '88': [True, False],\n",
              " '89': [True, False],\n",
              " '90': [True, False],\n",
              " '91': [True, False],\n",
              " '92': [True, False],\n",
              " '93': [True, False],\n",
              " '94': [False, True],\n",
              " '95': [True],\n",
              " '96': [True],\n",
              " '97': [True, False],\n",
              " '98': [True, False],\n",
              " '99': [True, False],\n",
              " '100': [True, False],\n",
              " '101': [True]}"
            ]
          },
          "metadata": {},
          "execution_count": 179
        }
      ]
    },
    {
      "cell_type": "code",
      "source": [
        "train_index"
      ],
      "metadata": {
        "id": "W-Ro1yjE0AdD"
      },
      "execution_count": null,
      "outputs": []
    },
    {
      "cell_type": "code",
      "source": [
        "train_sp_iran = {}\n",
        "\n",
        "for index in train_index:\n",
        "\n",
        "  train_sp_iran [str (index)] = sp_all_new [str (index)]\n"
      ],
      "metadata": {
        "id": "3z3uo05uzxgd"
      },
      "execution_count": null,
      "outputs": []
    },
    {
      "cell_type": "code",
      "source": [
        "test_sp_iran = {}\n",
        "\n",
        "for index in test_index:\n",
        "  test_sp_iran [str (index)] = sp_all_new [str (index)]\n"
      ],
      "metadata": {
        "id": "JJku-pPA0QJI"
      },
      "execution_count": null,
      "outputs": []
    },
    {
      "cell_type": "code",
      "source": [
        "train_sp_iran"
      ],
      "metadata": {
        "id": "1ppGw1cw0rAQ"
      },
      "execution_count": null,
      "outputs": []
    },
    {
      "cell_type": "code",
      "source": [
        "with open ('train_sp_iran.pkl', 'wb') as f:\n",
        "  pickle.dump (train_sp_iran, f)"
      ],
      "metadata": {
        "id": "Ctbgif2L0_ZN"
      },
      "execution_count": null,
      "outputs": []
    },
    {
      "cell_type": "code",
      "source": [
        "with open ('test_sp_iran.pkl', 'wb') as f:\n",
        "  pickle.dump (test_sp_iran, f)"
      ],
      "metadata": {
        "id": "yLMcDN172rg_"
      },
      "execution_count": null,
      "outputs": []
    },
    {
      "cell_type": "code",
      "source": [],
      "metadata": {
        "id": "68gzeUNY0_d4"
      },
      "execution_count": null,
      "outputs": []
    },
    {
      "cell_type": "code",
      "source": [
        "import zipfile\n",
        "\n",
        "# List of files to zip\n",
        "files_to_zip = ['test_labels_Iran.pkl', 'test_layers_Iran.pkl', 'test_sp_iran.pkl']\n",
        "\n",
        "# Name of the zip file\n",
        "zip_file_name = 'test_thicknessmap_Iran.zip'\n",
        "\n",
        "# Create the zip file\n",
        "with zipfile.ZipFile(zip_file_name, 'w') as zipf:\n",
        "    for file in files_to_zip:\n",
        "        zipf.write(file)\n"
      ],
      "metadata": {
        "id": "XuQjGpmv2-Wo"
      },
      "execution_count": null,
      "outputs": []
    },
    {
      "cell_type": "code",
      "source": [
        "import zipfile\n",
        "\n",
        "# List of files to zip\n",
        "files_to_zip = ['train_labels_Iran.pkl', 'train_layers_Iran.pkl', 'train_sp_iran.pkl']\n",
        "\n",
        "# Name of the zip file\n",
        "zip_file_name = 'train_thicknessmap_Iran.zip'\n",
        "\n",
        "# Create the zip file\n",
        "with zipfile.ZipFile(zip_file_name, 'w') as zipf:\n",
        "    for file in files_to_zip:\n",
        "        zipf.write(file)\n"
      ],
      "metadata": {
        "id": "rdIX8L0j2-ZY"
      },
      "execution_count": null,
      "outputs": []
    },
    {
      "cell_type": "code",
      "source": [
        "!cp /content/test_thicknessmap_Iran.zip /content/drive/MyDrive"
      ],
      "metadata": {
        "id": "-LgbHc872-ce"
      },
      "execution_count": null,
      "outputs": []
    },
    {
      "cell_type": "code",
      "source": [
        "!cp /content/train_thicknessmap_Iran.zip /content/drive/MyDrive"
      ],
      "metadata": {
        "id": "nksW4x3E3dKo"
      },
      "execution_count": null,
      "outputs": []
    },
    {
      "cell_type": "code",
      "source": [
        "with open ('/content/test_labels_Iran.pkl', 'rb') as f:\n",
        "\n",
        "  labels_test = pickle.load (f)"
      ],
      "metadata": {
        "id": "2FU3IoDl1Dae"
      },
      "execution_count": null,
      "outputs": []
    },
    {
      "cell_type": "code",
      "source": [
        "labels_test"
      ],
      "metadata": {
        "id": "uMmx8KS20_g0"
      },
      "execution_count": null,
      "outputs": []
    },
    {
      "cell_type": "code",
      "source": [
        "subjects_index_Iran"
      ],
      "metadata": {
        "colab": {
          "base_uri": "https://localhost:8080/"
        },
        "id": "WdPEhUpImqPJ",
        "outputId": "1ef0176f-d570-4ac7-c7a0-0e0d935eeaa2"
      },
      "execution_count": null,
      "outputs": [
        {
          "output_type": "execute_result",
          "data": {
            "text/plain": [
              "{'0': [0],\n",
              " '1': [1, 2],\n",
              " '2': [3, 4],\n",
              " '3': [5],\n",
              " '4': [6],\n",
              " '5': [7, 8],\n",
              " '6': [9, 10],\n",
              " '7': [11],\n",
              " '8': [12],\n",
              " '9': [13],\n",
              " '10': [14],\n",
              " '11': [15],\n",
              " '12': [16],\n",
              " '13': [17, 18],\n",
              " '14': [19, 20],\n",
              " '15': [21],\n",
              " '16': [22, 23],\n",
              " '17': [24, 25],\n",
              " '18': [26, 27],\n",
              " '19': [28, 29],\n",
              " '20': [30, 31],\n",
              " '21': [32, 33],\n",
              " '22': [34, 35, 36],\n",
              " '23': [37, 38],\n",
              " '24': [39, 40],\n",
              " '25': [41],\n",
              " '26': [42, 43],\n",
              " '27': [44, 45],\n",
              " '28': [46, 47],\n",
              " '29': [48, 49],\n",
              " '30': [50, 51],\n",
              " '31': [52, 53],\n",
              " '32': [54, 55],\n",
              " '33': [56],\n",
              " '34': [57, 58],\n",
              " '35': [59, 60],\n",
              " '36': [61],\n",
              " '37': [62, 63],\n",
              " '38': [64],\n",
              " '39': [65, 66],\n",
              " '40': [67, 68],\n",
              " '41': [69, 70],\n",
              " '42': [71, 72],\n",
              " '43': [73],\n",
              " '44': [74, 75],\n",
              " '45': [76, 77],\n",
              " '46': [78, 79],\n",
              " '47': [80, 81],\n",
              " '48': [82, 83],\n",
              " '49': [84, 85],\n",
              " '50': [86, 87],\n",
              " '51': [88, 89],\n",
              " '52': [90, 91],\n",
              " '53': [92, 93],\n",
              " '54': [94, 95],\n",
              " '55': [96, 97],\n",
              " '56': [98, 99],\n",
              " '57': [100, 101],\n",
              " '58': [102, 103],\n",
              " '59': [104, 105],\n",
              " '60': [106, 107],\n",
              " '61': [108],\n",
              " '62': [109, 110],\n",
              " '63': [111, 112],\n",
              " '64': [113, 114],\n",
              " '65': [115, 116],\n",
              " '66': [117, 118],\n",
              " '67': [119, 120],\n",
              " '68': [121, 122],\n",
              " '69': [123, 124],\n",
              " '70': [125, 126],\n",
              " '71': [127],\n",
              " '72': [128, 129],\n",
              " '73': [130, 131],\n",
              " '74': [132, 133],\n",
              " '75': [134, 135],\n",
              " '76': [136, 137],\n",
              " '77': [138, 139],\n",
              " '78': [140, 141],\n",
              " '79': [142, 143],\n",
              " '80': [144, 145],\n",
              " '81': [146, 147],\n",
              " '82': [148, 149],\n",
              " '83': [150],\n",
              " '84': [151, 152],\n",
              " '85': [153, 154],\n",
              " '86': [155, 156],\n",
              " '87': [157, 158],\n",
              " '88': [159, 160],\n",
              " '89': [161, 162],\n",
              " '90': [163, 164],\n",
              " '91': [165, 166],\n",
              " '92': [167, 168],\n",
              " '93': [169, 170],\n",
              " '94': [171, 172],\n",
              " '95': [173],\n",
              " '96': [174],\n",
              " '97': [175, 176],\n",
              " '98': [177, 178],\n",
              " '99': [179, 180],\n",
              " '100': [181, 182],\n",
              " '101': [183]}"
            ]
          },
          "metadata": {},
          "execution_count": 148
        }
      ]
    },
    {
      "cell_type": "code",
      "source": [],
      "metadata": {
        "id": "WPuZ2tsLm58H"
      },
      "execution_count": null,
      "outputs": []
    },
    {
      "cell_type": "code",
      "source": [],
      "metadata": {
        "id": "AgfDsIqrm6BS"
      },
      "execution_count": null,
      "outputs": []
    },
    {
      "cell_type": "code",
      "source": [],
      "metadata": {
        "id": "kvgg3h-Fm6GF"
      },
      "execution_count": null,
      "outputs": []
    },
    {
      "cell_type": "code",
      "source": [],
      "metadata": {
        "id": "Blli1Gokm6L1"
      },
      "execution_count": null,
      "outputs": []
    },
    {
      "cell_type": "code",
      "source": [],
      "metadata": {
        "id": "1OybCJVim6Vt"
      },
      "execution_count": null,
      "outputs": []
    },
    {
      "cell_type": "code",
      "source": [
        "!cp /content/test_SLO_iran.zip /content/drive/MyDrive"
      ],
      "metadata": {
        "id": "IjkcTRbfb5GG"
      },
      "execution_count": null,
      "outputs": []
    },
    {
      "cell_type": "code",
      "source": [],
      "metadata": {
        "id": "J-6PHpqnao3k"
      },
      "execution_count": null,
      "outputs": []
    },
    {
      "cell_type": "code",
      "source": [
        "slo1 = {}\n",
        "\n",
        "for subjects in list (subjects_index.keys ()) [:49]:\n",
        "\n",
        "  slo1 = {}\n",
        "\n",
        "  indices = subjects_index [str (subject)]\n",
        "\n",
        "  for index in indices:\n",
        "\n",
        "    vol_Iran [str (index)]\n",
        "\n",
        "\n",
        "\n"
      ],
      "metadata": {
        "id": "xbn1nuDGOgLp"
      },
      "execution_count": null,
      "outputs": []
    },
    {
      "cell_type": "code",
      "source": [
        "layers2_new = []\n",
        "for layer in layers2:\n",
        "  layer = np.transpose (layer, (0, 2, 1))\n",
        "\n",
        "  layers2_new.append (layer)\n"
      ],
      "metadata": {
        "id": "APhriv4Eki0J"
      },
      "execution_count": null,
      "outputs": []
    },
    {
      "cell_type": "code",
      "source": [
        "layers2_newer = []\n",
        "for layer in layers2_new:\n",
        "\n",
        "  layer = np.expand_dims (layer, axis = 0)\n",
        "\n",
        "  layers2_newer.append (layer)\n"
      ],
      "metadata": {
        "id": "JWn0ui8LvT08"
      },
      "execution_count": null,
      "outputs": []
    },
    {
      "cell_type": "code",
      "source": [
        "layers2_newer [0].shape"
      ],
      "metadata": {
        "colab": {
          "base_uri": "https://localhost:8080/"
        },
        "id": "3oelLOIZu2-5",
        "outputId": "cce72344-1c85-422e-95de-30a1dc87a1a1"
      },
      "execution_count": null,
      "outputs": [
        {
          "output_type": "execute_result",
          "data": {
            "text/plain": [
              "(1, 523, 49, 9)"
            ]
          },
          "metadata": {},
          "execution_count": 36
        }
      ]
    },
    {
      "cell_type": "code",
      "source": [],
      "metadata": {
        "id": "Mrxp4ZIgQmZo"
      },
      "execution_count": null,
      "outputs": []
    },
    {
      "cell_type": "code",
      "source": [
        "!unzip /content/drive/MyDrive/Iran_data.zip"
      ],
      "metadata": {
        "colab": {
          "base_uri": "https://localhost:8080/"
        },
        "id": "c9VCDv6DQmcU",
        "outputId": "5ae0e8b1-0f34-4dfa-e5f5-12c9b9f92831"
      },
      "execution_count": null,
      "outputs": [
        {
          "output_type": "stream",
          "name": "stdout",
          "text": [
            "Archive:  /content/drive/MyDrive/Iran_data.zip\n",
            " extracting: layers_Iran.pkl         \n",
            " extracting: ScanPositionIran.pkl    \n",
            " extracting: subjects_index_Iran.pkl  \n",
            " extracting: subjects_labels_Iran.pkl  \n",
            " extracting: subjects_layers_Iran.pkl  \n",
            " extracting: vol_Iran.pkl            \n",
            " extracting: vol_labels_Iran.pkl     \n",
            " extracting: readme.docx             \n"
          ]
        }
      ]
    },
    {
      "cell_type": "code",
      "source": [
        "with open ('/content/subjects_labels_Iran.pkl', 'rb') as f:\n",
        "  subjects_labels_Iran = pickle.load (f)"
      ],
      "metadata": {
        "id": "V_hytbBNQmfr"
      },
      "execution_count": null,
      "outputs": []
    },
    {
      "cell_type": "code",
      "source": [
        "subjects_labels_Iran"
      ],
      "metadata": {
        "id": "-R3OnIfXRdaL"
      },
      "execution_count": null,
      "outputs": []
    },
    {
      "cell_type": "code",
      "source": [],
      "metadata": {
        "id": "UOsV_fGWRdc7"
      },
      "execution_count": null,
      "outputs": []
    },
    {
      "cell_type": "code",
      "source": [],
      "metadata": {
        "id": "8B8CYfEqRdf-"
      },
      "execution_count": null,
      "outputs": []
    },
    {
      "cell_type": "code",
      "source": [
        "len (layers2_new)"
      ],
      "metadata": {
        "colab": {
          "base_uri": "https://localhost:8080/"
        },
        "id": "jTltHh3cvBTv",
        "outputId": "afab36b0-7b35-4f02-dce3-6316f7d22ce0"
      },
      "execution_count": null,
      "outputs": [
        {
          "output_type": "execute_result",
          "data": {
            "text/plain": [
              "100"
            ]
          },
          "metadata": {},
          "execution_count": 31
        }
      ]
    },
    {
      "cell_type": "code",
      "source": [
        "len (subjects_layers_Iran)"
      ],
      "metadata": {
        "colab": {
          "base_uri": "https://localhost:8080/"
        },
        "id": "HujA2RhsUDQf",
        "outputId": "0728168e-50a1-4868-af72-b953388609c5"
      },
      "execution_count": null,
      "outputs": [
        {
          "output_type": "execute_result",
          "data": {
            "text/plain": [
              "102"
            ]
          },
          "metadata": {},
          "execution_count": 22
        }
      ]
    },
    {
      "cell_type": "code",
      "source": [
        "from sklearn.model_selection import StratifiedKFold"
      ],
      "metadata": {
        "id": "OIxGvhnORDHM"
      },
      "execution_count": null,
      "outputs": []
    },
    {
      "cell_type": "code",
      "source": [
        "skf = StratifiedKFold (n_splits= 5, shuffle = True, random_state = 42)"
      ],
      "metadata": {
        "id": "vbF8YVoDRJBJ"
      },
      "execution_count": null,
      "outputs": []
    },
    {
      "cell_type": "code",
      "source": [
        "for train_index, test_index in skf.split (np.zeros (len (subjects_layers_Iran)), list (subjects_labels_Iran.values ())):\n",
        "\n",
        "  print (train_index)\n",
        "  print (test_index)\n",
        "\n",
        "  break\n"
      ],
      "metadata": {
        "colab": {
          "base_uri": "https://localhost:8080/"
        },
        "id": "HAO428kuTLnr",
        "outputId": "9e1bcefc-4e03-4543-dcf4-c82a4d8ce4dd"
      },
      "execution_count": null,
      "outputs": [
        {
          "output_type": "stream",
          "name": "stdout",
          "text": [
            "[  0   2   4   5   7   8  10  12  14  15  16  21  22  24  25  26  27  28\n",
            "  29  31  33  34  35  36  37  38  39  40  41  42  43  44  45  46  47  48\n",
            "  49  50  51  52  53  54  55  57  58  59  60  61  62  63  64  65  67  69\n",
            "  71  73  74  75  76  77  78  79  80  81  82  83  84  86  87  88  89  90\n",
            "  91  92  94  95  97  98  99 100 101]\n",
            "[ 1  3  6  9 11 13 17 18 19 20 23 30 32 56 66 68 70 72 85 93 96]\n"
          ]
        }
      ]
    },
    {
      "cell_type": "code",
      "source": [
        "train_index = [0,   2,   4,   5,   7,   8,  10,  12,  14,  15,  16,  21,  22,  24,  25,  26,  27,  28,\n",
        "  29,  31,  33,  34,  35,  36,  37,  38,  39,  40,  41,  42,  43,  44,  45,  46,  47,  48,\n",
        "  49,  50,  51,  52,  53,  54,  55,  57,  58,  59,  60,  61,  62,  63,  64,  65,  67,  69,\n",
        "  71,  73,  74,  75,  76,  77,  78,  79,  80,  81,  82,  83,  84,  86,  87,  88, 89,  90,\n",
        "  91,  92,  94,  95,  97,  98,  99, 100, 101]\n",
        "test_index = [ 1,  3,  6,  9, 11, 13, 17, 18, 19, 20, 23, 30, 32, 56, 66, 68, 70 ,72, 85, 93, 96]"
      ],
      "metadata": {
        "id": "ufD8ifwvF8QO"
      },
      "execution_count": null,
      "outputs": []
    },
    {
      "cell_type": "code",
      "source": [
        "test_index"
      ],
      "metadata": {
        "id": "94ml7sE_GfJ8"
      },
      "execution_count": null,
      "outputs": []
    },
    {
      "cell_type": "code",
      "source": [
        "with open ('train_layers_Iran.pkl', 'wb') as f:\n",
        "\n",
        "  pickle.dump (train_layers_Iran, f)"
      ],
      "metadata": {
        "id": "lcJT6VLHiuY7"
      },
      "execution_count": null,
      "outputs": []
    },
    {
      "cell_type": "code",
      "source": [
        "with open ('test_layers_Iran.pkl', 'wb') as f:\n",
        "\n",
        "  pickle.dump (test_layers_Iran, f)"
      ],
      "metadata": {
        "id": "xlKcA-X0i3CI"
      },
      "execution_count": null,
      "outputs": []
    },
    {
      "cell_type": "code",
      "source": [
        "with open ('train_labels_Iran.pkl', 'wb') as f:\n",
        "\n",
        "  pickle.dump (train_labels_Iran, f)"
      ],
      "metadata": {
        "id": "zcgkjN9bi8kn"
      },
      "execution_count": null,
      "outputs": []
    },
    {
      "cell_type": "code",
      "source": [
        "with open ('test_labels_Iran.pkl', 'wb') as f:\n",
        "\n",
        "  pickle.dump (test_labels_Iran, f)"
      ],
      "metadata": {
        "id": "vpHmcl0Ai_1d"
      },
      "execution_count": null,
      "outputs": []
    },
    {
      "cell_type": "code",
      "source": [],
      "metadata": {
        "id": "5rRNzXT-i_4P"
      },
      "execution_count": null,
      "outputs": []
    },
    {
      "cell_type": "code",
      "source": [
        "with open ('train_sp_Iran.pkl', 'wb') as f:\n",
        "\n",
        "  pickle.dump (train_sp, f)"
      ],
      "metadata": {
        "id": "LL5QLNipi_6y"
      },
      "execution_count": null,
      "outputs": []
    },
    {
      "cell_type": "code",
      "source": [
        "with open ('test_sp_Iran.pkl', 'wb') as f:\n",
        "\n",
        "  pickle.dump (test_sp, f)"
      ],
      "metadata": {
        "id": "-0s5SUfSi_92"
      },
      "execution_count": null,
      "outputs": []
    },
    {
      "cell_type": "code",
      "source": [],
      "metadata": {
        "id": "uxa4c2DxjjsA"
      },
      "execution_count": null,
      "outputs": []
    },
    {
      "cell_type": "code",
      "source": [
        "!cp /content/subjects_sp_Iran.pkl /content/drive/MyDrive"
      ],
      "metadata": {
        "id": "s93W8Mcrjju5"
      },
      "execution_count": null,
      "outputs": []
    },
    {
      "cell_type": "code",
      "source": [],
      "metadata": {
        "id": "zHOU_ZezjjxZ"
      },
      "execution_count": null,
      "outputs": []
    },
    {
      "cell_type": "code",
      "source": [],
      "metadata": {
        "id": "rffVbqg1jj0S"
      },
      "execution_count": null,
      "outputs": []
    },
    {
      "cell_type": "code",
      "source": [
        "train_layers_Iran = {}\n",
        "\n",
        "for index in train_index:\n",
        "\n",
        "  train_layers_Iran [str (index)] = subjects_layers_Iran [str (index)]"
      ],
      "metadata": {
        "id": "yDTCtrnhbTTD"
      },
      "execution_count": null,
      "outputs": []
    },
    {
      "cell_type": "code",
      "source": [
        "len (train_layers_Iran)"
      ],
      "metadata": {
        "colab": {
          "base_uri": "https://localhost:8080/"
        },
        "id": "NgElMhKCTLtb",
        "outputId": "8c2b00c0-1704-4cb1-b3e2-420afbc04c58"
      },
      "execution_count": null,
      "outputs": [
        {
          "output_type": "execute_result",
          "data": {
            "text/plain": [
              "81"
            ]
          },
          "metadata": {},
          "execution_count": 34
        }
      ]
    },
    {
      "cell_type": "code",
      "source": [
        "test_layers_Iran = {}\n",
        "\n",
        "for index in test_index:\n",
        "\n",
        "  test_layers_Iran [str (index)] = subjects_layers_Iran [str (index)]"
      ],
      "metadata": {
        "id": "de6RrSU_TLwj"
      },
      "execution_count": null,
      "outputs": []
    },
    {
      "cell_type": "code",
      "source": [],
      "metadata": {
        "id": "C6TMR7iHdDtY"
      },
      "execution_count": null,
      "outputs": []
    },
    {
      "cell_type": "code",
      "source": [
        "train_labels_Iran = {}\n",
        "\n",
        "for index in train_index:\n",
        "\n",
        "  train_labels_Iran [str (index)] = subjects_labels_Iran [str (index)]"
      ],
      "metadata": {
        "id": "ksBI4XAidDwq"
      },
      "execution_count": null,
      "outputs": []
    },
    {
      "cell_type": "code",
      "source": [
        "train_labels_Iran"
      ],
      "metadata": {
        "id": "yLKi9nMpdDy8"
      },
      "execution_count": null,
      "outputs": []
    },
    {
      "cell_type": "code",
      "source": [
        "test_labels_Iran = {}\n",
        "\n",
        "for index in test_index:\n",
        "\n",
        "  test_labels_Iran [str (index)] = subjects_labels_Iran [str (index)]"
      ],
      "metadata": {
        "id": "1XXQPB-5dD1p"
      },
      "execution_count": null,
      "outputs": []
    },
    {
      "cell_type": "code",
      "source": [
        "with open ('/content/ScanPositionIran.pkl', 'rb') as f:\n",
        "  sp = pickle.load (f)"
      ],
      "metadata": {
        "id": "tZ2o785IeLW7"
      },
      "execution_count": null,
      "outputs": []
    },
    {
      "cell_type": "code",
      "source": [
        "len (sp)"
      ],
      "metadata": {
        "colab": {
          "base_uri": "https://localhost:8080/"
        },
        "id": "fGElPLiveQt0",
        "outputId": "8db2e20c-4d8c-4e58-cf31-d4aa1d6526c4"
      },
      "execution_count": null,
      "outputs": [
        {
          "output_type": "execute_result",
          "data": {
            "text/plain": [
              "184"
            ]
          },
          "metadata": {},
          "execution_count": 51
        }
      ]
    },
    {
      "cell_type": "code",
      "source": [
        "subjects_sp = {}\n",
        "\n",
        "for key in subjects_index_Iran:\n",
        "\n",
        "  arr = []\n",
        "\n",
        "  for index in subjects_index_Iran [str (key)]:\n",
        "\n",
        "    arr.append (sp [index])\n",
        "\n",
        "  subjects_sp [str (key)] = arr"
      ],
      "metadata": {
        "id": "tyO5vwcMfmq2"
      },
      "execution_count": null,
      "outputs": []
    },
    {
      "cell_type": "code",
      "source": [
        "sp"
      ],
      "metadata": {
        "id": "rybRiPpGhZeF"
      },
      "execution_count": null,
      "outputs": []
    },
    {
      "cell_type": "code",
      "source": [
        "with open ('subjects_sp_Iran.pkl', 'wb') as f:\n",
        "  pickle.dump (subjects_sp, f)"
      ],
      "metadata": {
        "id": "Ecziz9J6fmt-"
      },
      "execution_count": null,
      "outputs": []
    },
    {
      "cell_type": "code",
      "source": [
        "train_sp = {}\n",
        "\n",
        "for index in train_index:\n",
        "\n",
        "  train_sp [str (index)] = subjects_sp [str (index)]"
      ],
      "metadata": {
        "id": "NmeOrGaheZRq"
      },
      "execution_count": null,
      "outputs": []
    },
    {
      "cell_type": "code",
      "source": [
        "train_sp"
      ],
      "metadata": {
        "id": "KP-DfAmFdxsZ"
      },
      "execution_count": null,
      "outputs": []
    },
    {
      "cell_type": "code",
      "source": [
        "test_sp = {}\n",
        "\n",
        "for index in test_index:\n",
        "\n",
        "  test_sp [str (index)] = subjects_sp [str (index)]"
      ],
      "metadata": {
        "id": "BStz9uC1dDEI"
      },
      "execution_count": null,
      "outputs": []
    },
    {
      "cell_type": "code",
      "source": [
        "test_sp"
      ],
      "metadata": {
        "id": "IB7lcClQikSf"
      },
      "execution_count": null,
      "outputs": []
    },
    {
      "cell_type": "code",
      "source": [],
      "metadata": {
        "id": "ysRYvnJRikVo"
      },
      "execution_count": null,
      "outputs": []
    },
    {
      "cell_type": "code",
      "source": [],
      "metadata": {
        "id": "9vdUVytbikYN"
      },
      "execution_count": null,
      "outputs": []
    },
    {
      "cell_type": "code",
      "source": [
        "layers_all = layers1 + layers2_newer"
      ],
      "metadata": {
        "id": "cTtvhtMPwE_P"
      },
      "execution_count": null,
      "outputs": []
    },
    {
      "cell_type": "code",
      "source": [
        "layers_all [183].shape"
      ],
      "metadata": {
        "colab": {
          "base_uri": "https://localhost:8080/"
        },
        "id": "6LhVw3FmwJ44",
        "outputId": "2d268e9b-25c7-49d8-fc89-51d68d7daae0"
      },
      "execution_count": null,
      "outputs": [
        {
          "output_type": "execute_result",
          "data": {
            "text/plain": [
              "(1, 521, 49, 9)"
            ]
          },
          "metadata": {},
          "execution_count": 48
        }
      ]
    },
    {
      "cell_type": "code",
      "source": [
        "layers2_newer [0] == layers_all [84]"
      ],
      "metadata": {
        "id": "4iBxFFOYHUQv"
      },
      "execution_count": null,
      "outputs": []
    },
    {
      "cell_type": "code",
      "source": [
        "layers_all [0].shape"
      ],
      "metadata": {
        "colab": {
          "base_uri": "https://localhost:8080/"
        },
        "id": "BCUNZoYJwcbn",
        "outputId": "2a86692c-b062-4686-d469-42c55ea9258c"
      },
      "execution_count": null,
      "outputs": [
        {
          "output_type": "execute_result",
          "data": {
            "text/plain": [
              "(1, 19, 511, 9)"
            ]
          },
          "metadata": {},
          "execution_count": 50
        }
      ]
    },
    {
      "cell_type": "code",
      "source": [
        "with open ('/content/drive/MyDrive/i2v_iran2.pkl', 'rb') as f:\n",
        "  i2v2 = pickle.load (f)"
      ],
      "metadata": {
        "id": "-AG1AflbwceM"
      },
      "execution_count": null,
      "outputs": []
    },
    {
      "cell_type": "code",
      "source": [
        "with open ('/content/drive/MyDrive/i2v_iran1.pkl', 'rb') as f:\n",
        "  i2v1 = pickle.load (f)"
      ],
      "metadata": {
        "id": "o_qgbaELwchN"
      },
      "execution_count": null,
      "outputs": []
    },
    {
      "cell_type": "code",
      "source": [
        "i2v_all = {**i2v1, **i2v2}"
      ],
      "metadata": {
        "id": "TeE0iiw5wcj9"
      },
      "execution_count": null,
      "outputs": []
    },
    {
      "cell_type": "code",
      "source": [
        "print (i2v_all)"
      ],
      "metadata": {
        "colab": {
          "base_uri": "https://localhost:8080/"
        },
        "id": "LR8Vmbnqwcm8",
        "outputId": "211bbd53-f509-4ea9-b005-38fad7d0cd95"
      },
      "execution_count": null,
      "outputs": [
        {
          "output_type": "stream",
          "name": "stdout",
          "text": [
            "{'32': 'hc-Dr_Alamzadeh_16_8_96_D_117.vol', '33': 'hc-Dr_Alamzadeh17_8_96_D_110.vol', '34': 'hc-Dr_Alamzadeh17_8_96_D_111.vol', '35': 'hc-Dr_Alamzadeh_25_6_96_D_112.vol', '36': 'hc-Dr_Alamzadeh_25_6_96_D_113.vol', '37': 'hc-Dr_Alamzadeh_9_8_96_D_119.vol', '38': 'hc-Dr_Alamzadeh_D_109.vol', '39': 'hc-Dr_Alamzadeh_D_114.vol', '40': 'hc-Dr_Alamzadeh_D_115.vol', '41': 'hc-Dr_Alamzadeh_D_123.vol', '42': 'hc-Dr_Alamzadeh_D_125.vol', '43': 'hc-Dr_Alamzadeh_D_127.vol', '44': 'hc-Dr_Alamzadeh_D_128.vol', '45': 'hc-Dr_Alamzadeh_D_131.vol', '46': 'hc-Dr_Alamzadeh_D_133.vol', '47': 'hc-Dr_Alamzadeh_D_143.vol', '48': 'hc-Dr_Alamzadeh_D_147.vol', '49': 'hc-Dr_Alamzadeh_D_148.vol', '50': 'hc-Dr_Alamzadeh_D_151.vol', '51': 'hc-Dr_Alamzadeh_D_153.vol', '52': 'hc-Dr_Alamzadeh_D_154.vol', '53': 'hc-Dr_Alamzadeh_D_156.vol', '54': 'hc-Dr_Alamzadeh_D_159.vol', '55': 'hc-Dr_Alamzadeh_D_161.vol', '56': 'ms-abasi_m_283.vol', '57': 'ms-abasi_m_284.vol', '58': 'ms-ahmadi_s_377.vol', '59': 'ms-ahmadi_s_378.vol', '60': 'ms-amin_o_roaei_f_181.vol', '61': 'ms-amin_o_roaei_f_182.vol', '62': 'ms-amoo_m_257.vol', '63': 'ms-amoo_m_258.vol', '64': 'ms-asgari_f_169.vol', '65': 'ms-asgari_f_170.vol', '66': 'ms-bagherian_s_372.vol', '67': 'ms-bagherian_s_373.vol', '68': 'ms-bagherian_s_374.vol', '69': 'ms-bahrami_m_287.vol', '70': 'ms-bahrami_m_288.vol', '71': 'ms-bestar_ahang_a_136.vol', '72': 'ms-bestar_ahang_a_137.vol', '73': 'ms-davari_z_405.vol', '74': 'ms-fadaei_e_153.vol', '75': 'ms-fadaei_e_154.vol', '76': 'ms-falamarzi_f_213.vol', '77': 'ms-falamarzi_f_214.vol', '78': 'ms-ghafoor_zadeh_l_237.vol', '79': 'ms-ghafoor_zadeh_l_238.vol', '80': 'ms-ghasemi_n_320.vol', '81': 'ms-ghasemi_n_321.vol', '82': 'ms-heidari_n_316.vol', '83': 'ms-heidari_n_317.vol', '84': 'ms-jabari_f_173.vol', '85': 'ms-jabari_f_174.vol', '86': 'ms-karimi_n_312.vol', '87': 'ms-karimi_n_313.vol', '88': 'ms-kazem_borji_z_410.vol', '89': 'ms-kiyani_mehr_z_417.vol', '90': 'ms-kiyani_mehr_z_418.vol', '91': 'ms-lavi_f_209.vol', '92': 'ms-lavi_f_210.vol', '93': 'ms-lotfi_m_265.vol', '94': 'ms-masoudi_r_344.vol', '95': 'ms-masoudi_r_345.vol', '96': 'ms-mazaheri_m_279.vol', '97': 'ms-mir_b_149.vol', '98': 'ms-mir_b_150.vol', '99': 'ms-moghtadaei_r_332.vol', '100': 'ms-moghtadaei_r_333.vol', '101': 'ms-mohamad_beygi_l_241.vol', '102': 'ms-mohamad_beygi_l_242.vol', '103': 'ms-mola_salehi_e_157.vol', '104': 'ms-mola_salehi_e_158.vol', '105': 'ms-mousavi_f_189.vol', '106': 'ms-nazem_a_112.vol', '107': 'ms-nazem_a_113.vol', '108': 'ms-soleimani_e_165.vol', '109': 'ms-soleimani_e_166.vol', '110': 'ms-torkan_z_421.vol', '111': 'ms-torkan_z_422.vol', '112': 'ms-torki_s_381.vol', '113': 'ms-torki_s_382.vol', '114': 'ms-zamani_a_140.vol', '115': 'ms-zamani_a_141.vol', '116': 'EYE00003_E_3771_cropped_segmented_corrected.vol', '117': 'EYE00003_E_3776_cropped_segmented_corrected.vol', '118': 'EYE00005_E_439_cropped_segmented_corrected.vol', '119': 'EYE00005_E_442_cropped_segmented_corrected.vol', '120': 'EYE00007_E_5431_cropped_segmented_corrected.vol', '121': 'EYE00007_E_5436_cropped_segmented_corrected.vol', '122': 'EYE00014_E_1178_cropped_segmented_corrected.vol', '123': 'EYE00014_E_1181_cropped_segmented_corrected.vol', '124': 'EYE00020_E_1595_cropped_segmented_corrected.vol', '125': 'EYE00020_E_1600_cropped_segmented_corrected.vol', '126': 'EYE00023_E_5863_cropped_segmented_corrected.vol', '127': 'EYE00023_E_5865_cropped_segmented_corrected.vol', '128': 'EYE00042_E_4187_cropped_segmented_corrected.vol', '129': 'EYE00042_E_4190_cropped_segmented_corrected.vol', '130': 'EYE00043_E_2209_cropped_segmented_corrected.vol', '131': 'EYE00043_E_2214_cropped_segmented_corrected.vol', '132': 'EYE00045_E_4994_cropped_segmented_corrected.vol', '133': 'EYE00045_E_4997_cropped_segmented_corrected.vol', '134': 'EYE00052_E_1754_cropped_segmented_corrected.vol', '135': 'EYE00052_E_1759_cropped_segmented_corrected.vol', '136': 'EYE00058_E_1224_cropped_segmented_corrected.vol', '137': 'EYE00058_E_1228_cropped_segmented_corrected.vol', '138': 'EYE00066_E_289_cropped_segmented_corrected.vol', '139': 'EYE00066_E_292_cropped_segmented_corrected.vol', '140': 'EYE00067_E_1785_cropped_segmented_corrected.vol', '141': 'EYE00068_E_1071_cropped_segmented_corrected.vol', '142': 'EYE00068_E_1075_cropped_segmented_corrected.vol', '143': 'EYE00071_E_4139_cropped_segmented_corrected.vol', '144': 'EYE00071_E_4142_cropped_segmented_corrected.vol', '145': 'EYE00074_E_1097_cropped_segmented_corrected.vol', '146': 'EYE00074_E_1100_cropped_segmented_corrected.vol', '147': 'EYE00084_E_3405_cropped_segmented_corrected.vol', '148': 'EYE00084_E_3408_cropped_segmented_corrected.vol', '149': 'EYE00092_E_1052_cropped_segmented_corrected.vol', '150': 'EYE00092_E_1056_cropped_segmented_corrected.vol', '151': 'EYE00102_E_2300_cropped_segmented_corrected.vol', '152': 'EYE00102_E_2304_cropped_segmented_corrected.vol', '153': 'EYE00103_E_4232_cropped_segmented_corrected.vol', '154': 'EYE00103_E_4235_cropped_segmented_corrected.vol', '155': 'EYE00105_E_4874_cropped_segmented_corrected.vol', '156': 'EYE00105_E_4877_cropped_segmented_corrected.vol', '157': 'EYE00107_E_115_cropped_segmented_corrected.vol', '158': 'EYE00107_E_120_cropped_segmented_corrected.vol', '159': 'EYE00117_E_720_cropped_segmented_corrected.vol', '160': 'EYE00118_E_6055_cropped_segmented_corrected.vol', '161': 'EYE00118_E_6058_cropped_segmented_corrected.vol', '162': 'EYE00119_E_3433_cropped_segmented_corrected.vol', '163': 'EYE00119_E_3436_cropped_segmented_corrected.vol', '164': 'EYE00120_E_1353_cropped_segmented_corrected.vol', '165': 'EYE00120_E_1356_cropped_segmented_corrected.vol', '166': 'EYE00122_E_756_cropped_segmented_corrected.vol', '167': 'EYE00122_E_760_cropped_segmented_corrected.vol', '168': 'EYE00125_E_123_cropped_segmented_corrected.vol', '169': 'EYE00125_E_126_cropped_segmented_corrected.vol', '170': 'EYE00128_E_4407_cropped_segmented_corrected.vol', '171': 'EYE00128_E_4411_cropped_segmented_corrected.vol', '172': 'EYE00130_E_4848_cropped_segmented_corrected.vol', '173': 'EYE00130_E_4851_cropped_segmented_corrected.vol', '174': 'EYE00131_E_4975_cropped_segmented_corrected.vol', '175': 'EYE00131_E_4979_cropped_segmented_corrected.vol', '176': 'EYE00136_E_5084_cropped_segmented_corrected.vol', '177': 'EYE00136_E_5088_cropped_segmented_corrected.vol', '178': 'EYE00143_E_690_cropped_segmented_corrected.vol', '179': 'EYE00143_E_694_cropped_segmented_corrected.vol', '180': 'EYE00153_E_4100_cropped_segmented_corrected.vol', '181': 'EYE00153_E_4101_cropped_segmented_corrected.vol', '182': 'EYE00155_E_410_cropped_segmented_corrected.vol', '183': 'EYE00162_E_971_cropped_segmented_corrected.vol', '184': 'EYE00162_E_975_cropped_segmented_corrected.vol', '185': 'EYE00163_E_1142_cropped_segmented_corrected.vol', '186': 'EYE00163_E_1146_cropped_segmented_corrected.vol', '187': 'EYE00164_E_3535_cropped_segmented_corrected.vol', '188': 'EYE00164_E_3539_cropped_segmented_corrected.vol', '189': 'EYE00165_E_5067_cropped_segmented_corrected.vol', '190': 'EYE00165_E_5070_cropped_segmented_corrected.vol', '191': 'EYE00166_E_863_cropped_segmented_corrected.vol', '192': 'EYE00166_E_866_cropped_segmented_corrected.vol', '193': 'EYE00170_E_935_cropped_segmented_corrected.vol', '194': 'EYE00170_E_938_cropped_segmented_corrected.vol', '195': 'EYE00173_E_820_cropped_segmented_corrected.vol', '196': 'EYE00173_E_824_cropped_segmented_corrected.vol', '197': 'EYE00175_E_2472_cropped_segmented_corrected.vol', '198': 'EYE00175_E_2476_cropped_segmented_corrected.vol', '199': 'EYE00176_E_4833_cropped_segmented_corrected.vol', '200': 'EYE00176_E_4838_cropped_segmented_corrected.vol', '201': 'EYE00179_E_2720_cropped_segmented_corrected.vol', '202': 'EYE00179_E_2724_cropped_segmented_corrected.vol', '203': 'EYE00181_E_1002_cropped_segmented_corrected.vol', '204': 'EYE00181_E_999_cropped_segmented_corrected.vol', '205': 'EYE00182_E_3485_cropped_segmented_corrected.vol', '206': 'EYE00183_E_3124_cropped_segmented_corrected.vol', '207': 'EYE00186_E_351_cropped_segmented_corrected.vol', '208': 'EYE00186_E_353_cropped_segmented_corrected.vol', '209': 'EYE00197_E_3051_cropped_segmented_corrected.vol', '210': 'EYE00197_E_3054_cropped_segmented_corrected.vol', '211': 'EYE00200_E_1420_cropped_segmented_corrected.vol', '212': 'EYE00200_E_1424_cropped_segmented_corrected.vol', '213': 'EYE00235_E_721_cropped_segmented_corrected.vol', '214': 'EYE00235_E_724_cropped_segmented_corrected.vol', '215': 'EYE00244_E_765_cropped_segmented_corrected.vol'}\n"
          ]
        }
      ]
    },
    {
      "cell_type": "code",
      "source": [
        "i2v_all_new = {}\n",
        "i = 0\n",
        "for key in i2v_all:\n",
        "\n",
        "  i2v_all_new [str (i)] = i2v_all [key]\n",
        "\n",
        "  i += 1\n",
        "\n"
      ],
      "metadata": {
        "id": "1WhFSo7OyPSS"
      },
      "execution_count": null,
      "outputs": []
    },
    {
      "cell_type": "code",
      "source": [
        "subjects_all = {'0': [0],\n",
        "            '1': [1, 2],\n",
        "            '2': [3, 4],\n",
        "            '3': [5],\n",
        "            '4': [6],\n",
        "            '5': [7, 8],\n",
        "            '6': [9, 10],\n",
        "            '7': [11],\n",
        "            '8': [12],\n",
        "            '9': [13],\n",
        "            '10': [14],\n",
        "            '11': [15],\n",
        "            '12': [16],\n",
        "            '13': [17, 18],\n",
        "            '14': [19, 20],\n",
        "            '15' : [21],\n",
        "            '16': [22, 23],\n",
        "            '17': [24, 25],\n",
        "            '18': [26, 27],\n",
        "            '19': [28, 29],\n",
        "            '20': [30, 31],\n",
        "            '21': [32, 33],\n",
        "            '22': [34, 35, 36],\n",
        "            '23': [37, 38],\n",
        "            '24': [39, 40],\n",
        "            '25': [41],\n",
        "            '26': [42, 43],\n",
        "            '27': [44, 45],\n",
        "            '28': [46, 47],\n",
        "            '29': [48, 49],\n",
        "\n",
        "            '30': [50, 51],\n",
        "            '31': [52, 53],\n",
        "            '32': [54, 55],\n",
        "            '33': [56],\n",
        "            '34': [57, 58],\n",
        "            '35': [59, 60],\n",
        "            '36': [61],\n",
        "            '37': [62, 63],\n",
        "            '38': [64],\n",
        "            '39': [65, 66],\n",
        "            '40': [67, 68],\n",
        "            '41': [69, 70],\n",
        "            '42': [71, 72],\n",
        "            '43': [73],\n",
        "            '44': [74, 75],\n",
        "            '45': [76, 77],\n",
        "            '46': [78, 79],\n",
        "            '47':[80, 81],\n",
        "            '48': [82, 83],\n",
        "            '49':[84, 85],\n",
        "            '50':[86, 87],\n",
        "            '51':[88, 89],\n",
        "            '52':[90, 91],\n",
        "            '53':[92, 93],\n",
        "            '54': [94, 95],\n",
        "            '55':[96, 97],\n",
        "            '56': [98, 99],\n",
        "            '57': [100, 101],\n",
        "            '58': [102, 103],\n",
        "            '59': [104, 105],\n",
        "            '60': [106, 107],\n",
        "            '61': [108],\n",
        "            '62': [109, 110],\n",
        "            '63': [111, 112],\n",
        "            '64': [113, 114],\n",
        "            '65': [115, 116],\n",
        "            '66': [117, 118],\n",
        "            '67': [119, 120],\n",
        "            '68': [121, 122],\n",
        "            '69': [123, 124],\n",
        "            '70': [125, 126],\n",
        "            '71': [127],\n",
        "            '72': [128, 129],\n",
        "            '73': [130, 131],\n",
        "            '74': [132, 133],\n",
        "            '75': [134, 135],\n",
        "            '76': [136, 137],\n",
        "            '77': [138, 139],\n",
        "            '78': [140, 141],\n",
        "            '79':[142, 143],\n",
        "            '80':[144, 145],\n",
        "            '81':[146, 147],\n",
        "            '82': [148, 149],\n",
        "            '83': [150],\n",
        "            '84': [151, 152],\n",
        "            '85': [153, 154],\n",
        "            '86': [155, 156],\n",
        "            '87': [157, 158],\n",
        "            '88':[159, 160],\n",
        "            '89': [161, 162],\n",
        "            '90': [163, 164],\n",
        "            '91': [165, 166],\n",
        "            '92': [167, 168],\n",
        "            '93': [169, 170],\n",
        "            '94': [171, 172],\n",
        "            '95': [173],\n",
        "            '96': [174],\n",
        "            '97': [175, 176],\n",
        "            '98': [177, 178],\n",
        "            '99': [179, 180],\n",
        "            '100': [181, 182],\n",
        "            '101': [183]\n",
        "}\n",
        "\n"
      ],
      "metadata": {
        "id": "bffHz77GzME-"
      },
      "execution_count": null,
      "outputs": []
    },
    {
      "cell_type": "code",
      "source": [
        "i2v_all_new"
      ],
      "metadata": {
        "colab": {
          "base_uri": "https://localhost:8080/"
        },
        "id": "rLjgcjb4JJdP",
        "outputId": "063d3efc-1ffe-4053-ed23-34bba462661f"
      },
      "execution_count": null,
      "outputs": [
        {
          "output_type": "execute_result",
          "data": {
            "text/plain": [
              "{'0': 'hc-Dr_Alamzadeh_16_8_96_D_117.vol',\n",
              " '1': 'hc-Dr_Alamzadeh17_8_96_D_110.vol',\n",
              " '2': 'hc-Dr_Alamzadeh17_8_96_D_111.vol',\n",
              " '3': 'hc-Dr_Alamzadeh_25_6_96_D_112.vol',\n",
              " '4': 'hc-Dr_Alamzadeh_25_6_96_D_113.vol',\n",
              " '5': 'hc-Dr_Alamzadeh_9_8_96_D_119.vol',\n",
              " '6': 'hc-Dr_Alamzadeh_D_109.vol',\n",
              " '7': 'hc-Dr_Alamzadeh_D_114.vol',\n",
              " '8': 'hc-Dr_Alamzadeh_D_115.vol',\n",
              " '9': 'hc-Dr_Alamzadeh_D_123.vol',\n",
              " '10': 'hc-Dr_Alamzadeh_D_125.vol',\n",
              " '11': 'hc-Dr_Alamzadeh_D_127.vol',\n",
              " '12': 'hc-Dr_Alamzadeh_D_128.vol',\n",
              " '13': 'hc-Dr_Alamzadeh_D_131.vol',\n",
              " '14': 'hc-Dr_Alamzadeh_D_133.vol',\n",
              " '15': 'hc-Dr_Alamzadeh_D_143.vol',\n",
              " '16': 'hc-Dr_Alamzadeh_D_147.vol',\n",
              " '17': 'hc-Dr_Alamzadeh_D_148.vol',\n",
              " '18': 'hc-Dr_Alamzadeh_D_151.vol',\n",
              " '19': 'hc-Dr_Alamzadeh_D_153.vol',\n",
              " '20': 'hc-Dr_Alamzadeh_D_154.vol',\n",
              " '21': 'hc-Dr_Alamzadeh_D_156.vol',\n",
              " '22': 'hc-Dr_Alamzadeh_D_159.vol',\n",
              " '23': 'hc-Dr_Alamzadeh_D_161.vol',\n",
              " '24': 'ms-abasi_m_283.vol',\n",
              " '25': 'ms-abasi_m_284.vol',\n",
              " '26': 'ms-ahmadi_s_377.vol',\n",
              " '27': 'ms-ahmadi_s_378.vol',\n",
              " '28': 'ms-amin_o_roaei_f_181.vol',\n",
              " '29': 'ms-amin_o_roaei_f_182.vol',\n",
              " '30': 'ms-amoo_m_257.vol',\n",
              " '31': 'ms-amoo_m_258.vol',\n",
              " '32': 'ms-asgari_f_169.vol',\n",
              " '33': 'ms-asgari_f_170.vol',\n",
              " '34': 'ms-bagherian_s_372.vol',\n",
              " '35': 'ms-bagherian_s_373.vol',\n",
              " '36': 'ms-bagherian_s_374.vol',\n",
              " '37': 'ms-bahrami_m_287.vol',\n",
              " '38': 'ms-bahrami_m_288.vol',\n",
              " '39': 'ms-bestar_ahang_a_136.vol',\n",
              " '40': 'ms-bestar_ahang_a_137.vol',\n",
              " '41': 'ms-davari_z_405.vol',\n",
              " '42': 'ms-fadaei_e_153.vol',\n",
              " '43': 'ms-fadaei_e_154.vol',\n",
              " '44': 'ms-falamarzi_f_213.vol',\n",
              " '45': 'ms-falamarzi_f_214.vol',\n",
              " '46': 'ms-ghafoor_zadeh_l_237.vol',\n",
              " '47': 'ms-ghafoor_zadeh_l_238.vol',\n",
              " '48': 'ms-ghasemi_n_320.vol',\n",
              " '49': 'ms-ghasemi_n_321.vol',\n",
              " '50': 'ms-heidari_n_316.vol',\n",
              " '51': 'ms-heidari_n_317.vol',\n",
              " '52': 'ms-jabari_f_173.vol',\n",
              " '53': 'ms-jabari_f_174.vol',\n",
              " '54': 'ms-karimi_n_312.vol',\n",
              " '55': 'ms-karimi_n_313.vol',\n",
              " '56': 'ms-kazem_borji_z_410.vol',\n",
              " '57': 'ms-kiyani_mehr_z_417.vol',\n",
              " '58': 'ms-kiyani_mehr_z_418.vol',\n",
              " '59': 'ms-lavi_f_209.vol',\n",
              " '60': 'ms-lavi_f_210.vol',\n",
              " '61': 'ms-lotfi_m_265.vol',\n",
              " '62': 'ms-masoudi_r_344.vol',\n",
              " '63': 'ms-masoudi_r_345.vol',\n",
              " '64': 'ms-mazaheri_m_279.vol',\n",
              " '65': 'ms-mir_b_149.vol',\n",
              " '66': 'ms-mir_b_150.vol',\n",
              " '67': 'ms-moghtadaei_r_332.vol',\n",
              " '68': 'ms-moghtadaei_r_333.vol',\n",
              " '69': 'ms-mohamad_beygi_l_241.vol',\n",
              " '70': 'ms-mohamad_beygi_l_242.vol',\n",
              " '71': 'ms-mola_salehi_e_157.vol',\n",
              " '72': 'ms-mola_salehi_e_158.vol',\n",
              " '73': 'ms-mousavi_f_189.vol',\n",
              " '74': 'ms-nazem_a_112.vol',\n",
              " '75': 'ms-nazem_a_113.vol',\n",
              " '76': 'ms-soleimani_e_165.vol',\n",
              " '77': 'ms-soleimani_e_166.vol',\n",
              " '78': 'ms-torkan_z_421.vol',\n",
              " '79': 'ms-torkan_z_422.vol',\n",
              " '80': 'ms-torki_s_381.vol',\n",
              " '81': 'ms-torki_s_382.vol',\n",
              " '82': 'ms-zamani_a_140.vol',\n",
              " '83': 'ms-zamani_a_141.vol',\n",
              " '84': 'EYE00003_E_3771_cropped_segmented_corrected.vol',\n",
              " '85': 'EYE00003_E_3776_cropped_segmented_corrected.vol',\n",
              " '86': 'EYE00005_E_439_cropped_segmented_corrected.vol',\n",
              " '87': 'EYE00005_E_442_cropped_segmented_corrected.vol',\n",
              " '88': 'EYE00007_E_5431_cropped_segmented_corrected.vol',\n",
              " '89': 'EYE00007_E_5436_cropped_segmented_corrected.vol',\n",
              " '90': 'EYE00014_E_1178_cropped_segmented_corrected.vol',\n",
              " '91': 'EYE00014_E_1181_cropped_segmented_corrected.vol',\n",
              " '92': 'EYE00020_E_1595_cropped_segmented_corrected.vol',\n",
              " '93': 'EYE00020_E_1600_cropped_segmented_corrected.vol',\n",
              " '94': 'EYE00023_E_5863_cropped_segmented_corrected.vol',\n",
              " '95': 'EYE00023_E_5865_cropped_segmented_corrected.vol',\n",
              " '96': 'EYE00042_E_4187_cropped_segmented_corrected.vol',\n",
              " '97': 'EYE00042_E_4190_cropped_segmented_corrected.vol',\n",
              " '98': 'EYE00043_E_2209_cropped_segmented_corrected.vol',\n",
              " '99': 'EYE00043_E_2214_cropped_segmented_corrected.vol',\n",
              " '100': 'EYE00045_E_4994_cropped_segmented_corrected.vol',\n",
              " '101': 'EYE00045_E_4997_cropped_segmented_corrected.vol',\n",
              " '102': 'EYE00052_E_1754_cropped_segmented_corrected.vol',\n",
              " '103': 'EYE00052_E_1759_cropped_segmented_corrected.vol',\n",
              " '104': 'EYE00058_E_1224_cropped_segmented_corrected.vol',\n",
              " '105': 'EYE00058_E_1228_cropped_segmented_corrected.vol',\n",
              " '106': 'EYE00066_E_289_cropped_segmented_corrected.vol',\n",
              " '107': 'EYE00066_E_292_cropped_segmented_corrected.vol',\n",
              " '108': 'EYE00067_E_1785_cropped_segmented_corrected.vol',\n",
              " '109': 'EYE00068_E_1071_cropped_segmented_corrected.vol',\n",
              " '110': 'EYE00068_E_1075_cropped_segmented_corrected.vol',\n",
              " '111': 'EYE00071_E_4139_cropped_segmented_corrected.vol',\n",
              " '112': 'EYE00071_E_4142_cropped_segmented_corrected.vol',\n",
              " '113': 'EYE00074_E_1097_cropped_segmented_corrected.vol',\n",
              " '114': 'EYE00074_E_1100_cropped_segmented_corrected.vol',\n",
              " '115': 'EYE00084_E_3405_cropped_segmented_corrected.vol',\n",
              " '116': 'EYE00084_E_3408_cropped_segmented_corrected.vol',\n",
              " '117': 'EYE00092_E_1052_cropped_segmented_corrected.vol',\n",
              " '118': 'EYE00092_E_1056_cropped_segmented_corrected.vol',\n",
              " '119': 'EYE00102_E_2300_cropped_segmented_corrected.vol',\n",
              " '120': 'EYE00102_E_2304_cropped_segmented_corrected.vol',\n",
              " '121': 'EYE00103_E_4232_cropped_segmented_corrected.vol',\n",
              " '122': 'EYE00103_E_4235_cropped_segmented_corrected.vol',\n",
              " '123': 'EYE00105_E_4874_cropped_segmented_corrected.vol',\n",
              " '124': 'EYE00105_E_4877_cropped_segmented_corrected.vol',\n",
              " '125': 'EYE00107_E_115_cropped_segmented_corrected.vol',\n",
              " '126': 'EYE00107_E_120_cropped_segmented_corrected.vol',\n",
              " '127': 'EYE00117_E_720_cropped_segmented_corrected.vol',\n",
              " '128': 'EYE00118_E_6055_cropped_segmented_corrected.vol',\n",
              " '129': 'EYE00118_E_6058_cropped_segmented_corrected.vol',\n",
              " '130': 'EYE00119_E_3433_cropped_segmented_corrected.vol',\n",
              " '131': 'EYE00119_E_3436_cropped_segmented_corrected.vol',\n",
              " '132': 'EYE00120_E_1353_cropped_segmented_corrected.vol',\n",
              " '133': 'EYE00120_E_1356_cropped_segmented_corrected.vol',\n",
              " '134': 'EYE00122_E_756_cropped_segmented_corrected.vol',\n",
              " '135': 'EYE00122_E_760_cropped_segmented_corrected.vol',\n",
              " '136': 'EYE00125_E_123_cropped_segmented_corrected.vol',\n",
              " '137': 'EYE00125_E_126_cropped_segmented_corrected.vol',\n",
              " '138': 'EYE00128_E_4407_cropped_segmented_corrected.vol',\n",
              " '139': 'EYE00128_E_4411_cropped_segmented_corrected.vol',\n",
              " '140': 'EYE00130_E_4848_cropped_segmented_corrected.vol',\n",
              " '141': 'EYE00130_E_4851_cropped_segmented_corrected.vol',\n",
              " '142': 'EYE00131_E_4975_cropped_segmented_corrected.vol',\n",
              " '143': 'EYE00131_E_4979_cropped_segmented_corrected.vol',\n",
              " '144': 'EYE00136_E_5084_cropped_segmented_corrected.vol',\n",
              " '145': 'EYE00136_E_5088_cropped_segmented_corrected.vol',\n",
              " '146': 'EYE00143_E_690_cropped_segmented_corrected.vol',\n",
              " '147': 'EYE00143_E_694_cropped_segmented_corrected.vol',\n",
              " '148': 'EYE00153_E_4100_cropped_segmented_corrected.vol',\n",
              " '149': 'EYE00153_E_4101_cropped_segmented_corrected.vol',\n",
              " '150': 'EYE00155_E_410_cropped_segmented_corrected.vol',\n",
              " '151': 'EYE00162_E_971_cropped_segmented_corrected.vol',\n",
              " '152': 'EYE00162_E_975_cropped_segmented_corrected.vol',\n",
              " '153': 'EYE00163_E_1142_cropped_segmented_corrected.vol',\n",
              " '154': 'EYE00163_E_1146_cropped_segmented_corrected.vol',\n",
              " '155': 'EYE00164_E_3535_cropped_segmented_corrected.vol',\n",
              " '156': 'EYE00164_E_3539_cropped_segmented_corrected.vol',\n",
              " '157': 'EYE00165_E_5067_cropped_segmented_corrected.vol',\n",
              " '158': 'EYE00165_E_5070_cropped_segmented_corrected.vol',\n",
              " '159': 'EYE00166_E_863_cropped_segmented_corrected.vol',\n",
              " '160': 'EYE00166_E_866_cropped_segmented_corrected.vol',\n",
              " '161': 'EYE00170_E_935_cropped_segmented_corrected.vol',\n",
              " '162': 'EYE00170_E_938_cropped_segmented_corrected.vol',\n",
              " '163': 'EYE00173_E_820_cropped_segmented_corrected.vol',\n",
              " '164': 'EYE00173_E_824_cropped_segmented_corrected.vol',\n",
              " '165': 'EYE00175_E_2472_cropped_segmented_corrected.vol',\n",
              " '166': 'EYE00175_E_2476_cropped_segmented_corrected.vol',\n",
              " '167': 'EYE00176_E_4833_cropped_segmented_corrected.vol',\n",
              " '168': 'EYE00176_E_4838_cropped_segmented_corrected.vol',\n",
              " '169': 'EYE00179_E_2720_cropped_segmented_corrected.vol',\n",
              " '170': 'EYE00179_E_2724_cropped_segmented_corrected.vol',\n",
              " '171': 'EYE00181_E_1002_cropped_segmented_corrected.vol',\n",
              " '172': 'EYE00181_E_999_cropped_segmented_corrected.vol',\n",
              " '173': 'EYE00182_E_3485_cropped_segmented_corrected.vol',\n",
              " '174': 'EYE00183_E_3124_cropped_segmented_corrected.vol',\n",
              " '175': 'EYE00186_E_351_cropped_segmented_corrected.vol',\n",
              " '176': 'EYE00186_E_353_cropped_segmented_corrected.vol',\n",
              " '177': 'EYE00197_E_3051_cropped_segmented_corrected.vol',\n",
              " '178': 'EYE00197_E_3054_cropped_segmented_corrected.vol',\n",
              " '179': 'EYE00200_E_1420_cropped_segmented_corrected.vol',\n",
              " '180': 'EYE00200_E_1424_cropped_segmented_corrected.vol',\n",
              " '181': 'EYE00235_E_721_cropped_segmented_corrected.vol',\n",
              " '182': 'EYE00235_E_724_cropped_segmented_corrected.vol',\n",
              " '183': 'EYE00244_E_765_cropped_segmented_corrected.vol'}"
            ]
          },
          "metadata": {},
          "execution_count": 108
        }
      ]
    },
    {
      "cell_type": "code",
      "source": [
        "labels_all = {'0': 0,\n",
        "            '1': 0,\n",
        "            '2': 0,\n",
        "            '3': 0,\n",
        "            '4': 0,\n",
        "            '5': 0,\n",
        "            '6': 0,\n",
        "            '7': 0,\n",
        "            '8': 0,\n",
        "            '9': 0,\n",
        "            '10': 0,\n",
        "            '11': 0,\n",
        "            '12': 0,\n",
        "            '13': 0,\n",
        "            '14': 0,\n",
        "            '15' : 0,\n",
        "            '16': 0,\n",
        "            '17': 1,\n",
        "            '18': 1,\n",
        "            '19': 1,\n",
        "            '20': 1,\n",
        "            '21': 1,\n",
        "            '22': 1,\n",
        "            '23': 1,\n",
        "            '24': 1,\n",
        "            '25': 1,\n",
        "            '26': 1,\n",
        "            '27': 1,\n",
        "            '28': 1,\n",
        "            '29': 1,\n",
        "\n",
        "            '30': 1,\n",
        "            '31': 1,\n",
        "            '32': 1,\n",
        "            '33': 1,\n",
        "            '34': 1,\n",
        "            '35': 1,\n",
        "            '36': 1,\n",
        "            '37': 1,\n",
        "            '38': 1,\n",
        "            '39': 1,\n",
        "            '40': 1,\n",
        "            '41': 1,\n",
        "            '42': 1,\n",
        "            '43': 1,\n",
        "            '44': 1,\n",
        "            '45': 1,\n",
        "            '46': 1,\n",
        "            '47': 1,\n",
        "            '48': 1,\n",
        "            '49': 0,\n",
        "            '50': 0,\n",
        "            '51': 0,\n",
        "            '52': 0,\n",
        "            '53': 0,\n",
        "            '54': 0,\n",
        "            '55': 0,\n",
        "            '56': 0,\n",
        "            '57': 0,\n",
        "            '58': 0,\n",
        "            '59': 0,\n",
        "            '60': 0,\n",
        "            '61': 0,\n",
        "            '62': 0,\n",
        "            '63': 0,\n",
        "            '64': 0,\n",
        "            '65': 0,\n",
        "            '66': 0,\n",
        "            '67': 0,\n",
        "            '68': 0,\n",
        "            '69': 0,\n",
        "            '70': 0,\n",
        "            '71': 0,\n",
        "            '72': 0,\n",
        "            '73': 0,\n",
        "            '74': 0,\n",
        "            '75': 0,\n",
        "            '76': 0,\n",
        "            '77': 0,\n",
        "            '78': 0,\n",
        "            '79': 0,\n",
        "            '80': 0,\n",
        "            '81': 0,\n",
        "            '82': 0,\n",
        "            '83': 0,\n",
        "            '84': 0,\n",
        "            '85': 0,\n",
        "            '86': 0,\n",
        "            '87': 0,\n",
        "            '88': 0,\n",
        "            '89': 0,\n",
        "            '90': 0,\n",
        "            '91': 0,\n",
        "            '92': 0,\n",
        "            '93': 0,\n",
        "            '94': 0,\n",
        "            '95': 0,\n",
        "            '96': 0,\n",
        "            '97': 0,\n",
        "            '98': 0,\n",
        "            '99': 0,\n",
        "            '100': 0,\n",
        "            '101': 0\n",
        "}\n",
        "\n"
      ],
      "metadata": {
        "id": "te1dd1jYB8Sx"
      },
      "execution_count": null,
      "outputs": []
    },
    {
      "cell_type": "code",
      "source": [
        "subjects_all_new = {}\n",
        "\n",
        "for i in subjects_all:\n",
        "\n",
        "  indices = subjects_all [str (i)]\n",
        "\n",
        "  layer = []\n",
        "\n",
        "  for index in indices:\n",
        "    layer.append (layers_all [index])\n",
        "\n",
        "  subjects_all_new [str (i)] = layer\n"
      ],
      "metadata": {
        "id": "IHt8ji27BrFk"
      },
      "execution_count": null,
      "outputs": []
    },
    {
      "cell_type": "code",
      "source": [
        "layers_all [83].shape"
      ],
      "metadata": {
        "colab": {
          "base_uri": "https://localhost:8080/"
        },
        "id": "zdwbLVfAG5vt",
        "outputId": "7c96fe87-a69e-4c88-d5fd-89c2d9a48ea9"
      },
      "execution_count": null,
      "outputs": [
        {
          "output_type": "execute_result",
          "data": {
            "text/plain": [
              "(1, 25, 511, 9)"
            ]
          },
          "metadata": {},
          "execution_count": 98
        }
      ]
    },
    {
      "cell_type": "code",
      "source": [
        "i2v_all_new"
      ],
      "metadata": {
        "id": "E48i33AMGwZV"
      },
      "execution_count": null,
      "outputs": []
    },
    {
      "cell_type": "code",
      "source": [
        "len (subjects_all_new)"
      ],
      "metadata": {
        "colab": {
          "base_uri": "https://localhost:8080/"
        },
        "id": "sA6on5FrHv0u",
        "outputId": "18403fa1-1bad-4ea5-8be1-b73dbaa238be"
      },
      "execution_count": null,
      "outputs": [
        {
          "output_type": "execute_result",
          "data": {
            "text/plain": [
              "102"
            ]
          },
          "metadata": {},
          "execution_count": 106
        }
      ]
    },
    {
      "cell_type": "code",
      "source": [
        "layers_all [31].shape"
      ],
      "metadata": {
        "colab": {
          "base_uri": "https://localhost:8080/"
        },
        "id": "I5ZraJO-GcCr",
        "outputId": "908880af-6a33-4703-8651-cfef4ba63f4a"
      },
      "execution_count": null,
      "outputs": [
        {
          "output_type": "execute_result",
          "data": {
            "text/plain": [
              "(1, 25, 510, 9)"
            ]
          },
          "metadata": {},
          "execution_count": 89
        }
      ]
    },
    {
      "cell_type": "code",
      "source": [
        "from sklearn.model_selection import StratifiedKFold\n",
        "skf = StratifiedKFold(n_splits = 5, shuffle = True, random_state = 42)\n",
        "\n",
        "for train_indices, test_indices in skf.split (subjects_all_new, list (labels_all.values ())):\n",
        "\n",
        "  print (test_indices)\n",
        "\n",
        "  break\n"
      ],
      "metadata": {
        "colab": {
          "base_uri": "https://localhost:8080/"
        },
        "id": "JJveLTRvMJKp",
        "outputId": "9c53f119-e64f-49f1-ef64-bb9c98770047"
      },
      "execution_count": null,
      "outputs": [
        {
          "output_type": "stream",
          "name": "stdout",
          "text": [
            "[ 1  3  6  9 11 13 17 18 19 20 23 30 32 56 66 68 70 72 85 93 96]\n"
          ]
        }
      ]
    },
    {
      "cell_type": "code",
      "source": [
        "for i in test_indices:\n",
        "  print (list (labels_all.values ()) [i])"
      ],
      "metadata": {
        "id": "_l4LaSO8MJNV"
      },
      "execution_count": null,
      "outputs": []
    },
    {
      "cell_type": "code",
      "source": [],
      "metadata": {
        "id": "Gc0X-1PsMJRE"
      },
      "execution_count": null,
      "outputs": []
    },
    {
      "cell_type": "code",
      "source": [
        "for index in [8, 10, 14]:\n",
        "  print (index)"
      ],
      "metadata": {
        "colab": {
          "base_uri": "https://localhost:8080/"
        },
        "id": "Q9ozkGqsFFOy",
        "outputId": "5391a7ee-e6b8-4976-bacb-342cf90db920"
      },
      "execution_count": null,
      "outputs": [
        {
          "output_type": "stream",
          "name": "stdout",
          "text": [
            "8\n",
            "10\n",
            "14\n"
          ]
        }
      ]
    },
    {
      "cell_type": "code",
      "source": [
        "i2v_all_new"
      ],
      "metadata": {
        "id": "ZRil-G-QyPUy"
      },
      "execution_count": null,
      "outputs": []
    },
    {
      "cell_type": "code",
      "source": [],
      "metadata": {
        "id": "p1c0muzsyPXu"
      },
      "execution_count": null,
      "outputs": []
    },
    {
      "cell_type": "code",
      "source": [],
      "metadata": {
        "id": "h5rAhvfRyPbe"
      },
      "execution_count": null,
      "outputs": []
    },
    {
      "cell_type": "code",
      "source": [],
      "metadata": {
        "id": "mKgcUTfSyPnG"
      },
      "execution_count": null,
      "outputs": []
    },
    {
      "cell_type": "code",
      "source": [
        "# import numerical python and structure packages\n",
        "from struct import unpack\n",
        "import numpy as np\n",
        "import os\n",
        "\n",
        "\n",
        "files = sorted (os.listdir ('/content/Iran2'))\n",
        "\n",
        "X_new2 = []\n",
        "\n",
        "i2v_new2 = {}\n",
        "\n",
        "labels_new2 = np.ones (len (files))\n",
        "\n",
        "\n",
        "for i in range (len (files)):\n",
        "\n",
        "    path = os.path.join ('/content/Iran2', files [i])\n",
        "\n",
        "    oct = OctRead (path)\n",
        "\n",
        "    hdr = oct.get_oct_hdr ()\n",
        "\n",
        "    layers = oct.get_segmentation (hdr) ['SegLayers']\n",
        "\n",
        "    layers = np.delete (layers, [3, 7, 9, 10, 11, 12, 13, 16], axis = 1)\n",
        "\n",
        "    #layers = np.resize (layers, (layers.shape [0], layers.shape [2], layers.shape [1]))\n",
        "\n",
        "    X_new2.append (layers)\n",
        "\n",
        "    i2v_new2 [str (i + 116)] = files [i]\n"
      ],
      "metadata": {
        "id": "kqMuEeIQjAf2"
      },
      "execution_count": null,
      "outputs": []
    },
    {
      "cell_type": "code",
      "source": [
        "X_new2 [0] [:,:, 1].shape"
      ],
      "metadata": {
        "colab": {
          "base_uri": "https://localhost:8080/"
        },
        "id": "IaMem1RMjAio",
        "outputId": "96aa6750-73eb-4e3f-b14a-8e95281e0b5f"
      },
      "execution_count": null,
      "outputs": [
        {
          "output_type": "execute_result",
          "data": {
            "text/plain": [
              "(523, 9)"
            ]
          },
          "metadata": {},
          "execution_count": 61
        }
      ]
    },
    {
      "cell_type": "code",
      "source": [
        "seg [0, :, 0]"
      ],
      "metadata": {
        "colab": {
          "base_uri": "https://localhost:8080/"
        },
        "id": "JPqsHpjTsxrw",
        "outputId": "38aeea94-79fa-4509-fa0a-76568588d646"
      },
      "execution_count": null,
      "outputs": [
        {
          "output_type": "execute_result",
          "data": {
            "text/plain": [
              "array([131.64254761, 204.26856995, 152.28335571,          nan,\n",
              "       161.22091675, 167.84039307, 173.88685608,          nan,\n",
              "       185.05117798,          nan,          nan,          nan,\n",
              "                nan,          nan, 188.30581665, 196.07873535,\n",
              "                nan])"
            ]
          },
          "metadata": {},
          "execution_count": 56
        }
      ]
    },
    {
      "cell_type": "code",
      "source": [
        "i2v_new2"
      ],
      "metadata": {
        "id": "boGNlst_rx2H"
      },
      "execution_count": null,
      "outputs": []
    },
    {
      "cell_type": "code",
      "source": [
        "import matplotlib.pyplot as plt\n"
      ],
      "metadata": {
        "id": "-XHUe0hBodEp"
      },
      "execution_count": null,
      "outputs": []
    },
    {
      "cell_type": "code",
      "source": [
        "plt.imshow (X_new2 [0] [:,1, :] - X_new2 [0] [:, 0, :])"
      ],
      "metadata": {
        "id": "CQePKinnolK8"
      },
      "execution_count": null,
      "outputs": []
    },
    {
      "cell_type": "code",
      "source": [
        "labels_new2"
      ],
      "metadata": {
        "colab": {
          "base_uri": "https://localhost:8080/"
        },
        "id": "7kmc4-wlotFk",
        "outputId": "d2f62309-856d-440b-a013-901455f298e6"
      },
      "execution_count": null,
      "outputs": [
        {
          "output_type": "execute_result",
          "data": {
            "text/plain": [
              "array([1., 1., 1., 1., 1., 1., 1., 1., 1., 1., 1., 1., 1., 1., 1., 1., 1.,\n",
              "       1., 1., 1., 1., 1., 1., 1., 1., 1., 1., 1., 1., 1., 1., 1., 1., 1.,\n",
              "       1., 1., 1., 1., 1., 1., 1., 1., 1., 1., 1., 1., 1., 1., 1., 1., 1.,\n",
              "       1., 1., 1., 1., 1., 1., 1., 1., 1., 1., 1., 1., 1., 1., 1., 1., 1.,\n",
              "       1., 1., 1., 1., 1., 1., 1., 1., 1., 1., 1., 1., 1., 1., 1., 1., 1.,\n",
              "       1., 1., 1., 1., 1., 1., 1., 1., 1., 1., 1., 1., 1., 1., 1.])"
            ]
          },
          "metadata": {},
          "execution_count": 43
        }
      ]
    },
    {
      "cell_type": "code",
      "source": [
        "X_new2 [99].shape"
      ],
      "metadata": {
        "colab": {
          "base_uri": "https://localhost:8080/"
        },
        "id": "DsD83WUFvzMe",
        "outputId": "bc5ab7e7-ac0e-492f-f204-8184faab8c35"
      },
      "execution_count": null,
      "outputs": [
        {
          "output_type": "execute_result",
          "data": {
            "text/plain": [
              "(521, 9, 49)"
            ]
          },
          "metadata": {},
          "execution_count": 71
        }
      ]
    },
    {
      "cell_type": "code",
      "source": [
        "with open('XLayersBoundaryMap_iran2.pkl', 'wb') as file:\n",
        "    pickle.dump(X_new2, file)"
      ],
      "metadata": {
        "id": "68lYgO7esiUN"
      },
      "execution_count": null,
      "outputs": []
    },
    {
      "cell_type": "code",
      "source": [
        "with open('i2v_iran2.pkl', 'wb') as file:\n",
        "    pickle.dump(i2v_new2, file)"
      ],
      "metadata": {
        "id": "LixGdIwFwYGO"
      },
      "execution_count": null,
      "outputs": []
    },
    {
      "cell_type": "code",
      "source": [
        "!cp /content/i2v_iran2.pkl /content/drive/MyDrive"
      ],
      "metadata": {
        "id": "j6tPP8n7whxe"
      },
      "execution_count": null,
      "outputs": []
    },
    {
      "cell_type": "code",
      "source": [
        "!cp /content/XLayersBoundaryMap_iran2.pkl /content/drive/MyDrive"
      ],
      "metadata": {
        "id": "m-lJwjPjw0LX"
      },
      "execution_count": null,
      "outputs": []
    },
    {
      "cell_type": "code",
      "source": [
        "!unzip /content/drive/MyDrive/Iran2.zip"
      ],
      "metadata": {
        "id": "cxOpPnUtQybp"
      },
      "execution_count": null,
      "outputs": []
    },
    {
      "cell_type": "code",
      "source": [
        "# import numerical python and structure packages\n",
        "from struct import unpack\n",
        "import numpy as np\n",
        "import os\n",
        "\n",
        "\n",
        "files = sorted (os.listdir ('/content/Iran2'))\n",
        "\n",
        "sp2 = []\n",
        "\n",
        "\n",
        "for i in range (len (files)):\n",
        "\n",
        "    path = os.path.join ('/content/Iran2', files [i])\n",
        "\n",
        "    oct = OctRead (path)\n",
        "\n",
        "    hdr = oct.get_oct_hdr ()\n",
        "\n",
        "    string = hdr ['ScanPosition'].decode('utf-8', errors = 'ignore')\n",
        "\n",
        "    split = string.split('\\x00')\n",
        "\n",
        "    if split [0] == 'OD':\n",
        "\n",
        "      sp2.append (True)\n",
        "\n",
        "    elif split [0] == 'OS':\n",
        "\n",
        "      sp2.append (False)\n",
        "\n",
        "\n"
      ],
      "metadata": {
        "id": "xXbbxfWzw7dv"
      },
      "execution_count": null,
      "outputs": []
    },
    {
      "cell_type": "code",
      "source": [
        "oct = OctRead ('/content/Iran2/EYE00005_E_442_cropped_segmented_corrected.vol')"
      ],
      "metadata": {
        "id": "XJNblmIJUyxK"
      },
      "execution_count": null,
      "outputs": []
    },
    {
      "cell_type": "code",
      "source": [
        "hdr = oct.get_oct_hdr ()"
      ],
      "metadata": {
        "id": "BynXUjB1Uy0o"
      },
      "execution_count": null,
      "outputs": []
    },
    {
      "cell_type": "code",
      "source": [
        "hdr ['ScanPosition']"
      ],
      "metadata": {
        "colab": {
          "base_uri": "https://localhost:8080/"
        },
        "id": "RUNA1SWYU6yq",
        "outputId": "e628576c-03d1-4429-f6ef-2f69997f73ce"
      },
      "execution_count": null,
      "outputs": [
        {
          "output_type": "execute_result",
          "data": {
            "text/plain": [
              "b'OD\\x00\\x00'"
            ]
          },
          "metadata": {},
          "execution_count": 175
        }
      ]
    },
    {
      "cell_type": "code",
      "source": [
        "sp2 [3]"
      ],
      "metadata": {
        "colab": {
          "base_uri": "https://localhost:8080/"
        },
        "id": "7J6SOAq6TjeH",
        "outputId": "3da2fd34-5e83-42aa-96d1-287221fcb5e5"
      },
      "execution_count": null,
      "outputs": [
        {
          "output_type": "execute_result",
          "data": {
            "text/plain": [
              "True"
            ]
          },
          "metadata": {},
          "execution_count": 177
        }
      ]
    },
    {
      "cell_type": "code",
      "source": [
        "with open ('/content/drive/MyDrive/ScanPosition_iran1.pkl', 'rb') as f:\n",
        "  sp1 = pickle.load (f)"
      ],
      "metadata": {
        "id": "faewCdOgUduk"
      },
      "execution_count": null,
      "outputs": []
    },
    {
      "cell_type": "code",
      "source": [
        "i2v_all_new"
      ],
      "metadata": {
        "colab": {
          "base_uri": "https://localhost:8080/"
        },
        "id": "NURZ0kJbVlNE",
        "outputId": "08d757d6-981b-45c0-f6f3-154309e3ba5e"
      },
      "execution_count": null,
      "outputs": [
        {
          "output_type": "execute_result",
          "data": {
            "text/plain": [
              "{'0': 'hc-Dr_Alamzadeh_16_8_96_D_117.vol',\n",
              " '1': 'hc-Dr_Alamzadeh17_8_96_D_110.vol',\n",
              " '2': 'hc-Dr_Alamzadeh17_8_96_D_111.vol',\n",
              " '3': 'hc-Dr_Alamzadeh_25_6_96_D_112.vol',\n",
              " '4': 'hc-Dr_Alamzadeh_25_6_96_D_113.vol',\n",
              " '5': 'hc-Dr_Alamzadeh_9_8_96_D_119.vol',\n",
              " '6': 'hc-Dr_Alamzadeh_D_109.vol',\n",
              " '7': 'hc-Dr_Alamzadeh_D_114.vol',\n",
              " '8': 'hc-Dr_Alamzadeh_D_115.vol',\n",
              " '9': 'hc-Dr_Alamzadeh_D_123.vol',\n",
              " '10': 'hc-Dr_Alamzadeh_D_125.vol',\n",
              " '11': 'hc-Dr_Alamzadeh_D_127.vol',\n",
              " '12': 'hc-Dr_Alamzadeh_D_128.vol',\n",
              " '13': 'hc-Dr_Alamzadeh_D_131.vol',\n",
              " '14': 'hc-Dr_Alamzadeh_D_133.vol',\n",
              " '15': 'hc-Dr_Alamzadeh_D_143.vol',\n",
              " '16': 'hc-Dr_Alamzadeh_D_147.vol',\n",
              " '17': 'hc-Dr_Alamzadeh_D_148.vol',\n",
              " '18': 'hc-Dr_Alamzadeh_D_151.vol',\n",
              " '19': 'hc-Dr_Alamzadeh_D_153.vol',\n",
              " '20': 'hc-Dr_Alamzadeh_D_154.vol',\n",
              " '21': 'hc-Dr_Alamzadeh_D_156.vol',\n",
              " '22': 'hc-Dr_Alamzadeh_D_159.vol',\n",
              " '23': 'hc-Dr_Alamzadeh_D_161.vol',\n",
              " '24': 'ms-abasi_m_283.vol',\n",
              " '25': 'ms-abasi_m_284.vol',\n",
              " '26': 'ms-ahmadi_s_377.vol',\n",
              " '27': 'ms-ahmadi_s_378.vol',\n",
              " '28': 'ms-amin_o_roaei_f_181.vol',\n",
              " '29': 'ms-amin_o_roaei_f_182.vol',\n",
              " '30': 'ms-amoo_m_257.vol',\n",
              " '31': 'ms-amoo_m_258.vol',\n",
              " '32': 'ms-asgari_f_169.vol',\n",
              " '33': 'ms-asgari_f_170.vol',\n",
              " '34': 'ms-bagherian_s_372.vol',\n",
              " '35': 'ms-bagherian_s_373.vol',\n",
              " '36': 'ms-bagherian_s_374.vol',\n",
              " '37': 'ms-bahrami_m_287.vol',\n",
              " '38': 'ms-bahrami_m_288.vol',\n",
              " '39': 'ms-bestar_ahang_a_136.vol',\n",
              " '40': 'ms-bestar_ahang_a_137.vol',\n",
              " '41': 'ms-davari_z_405.vol',\n",
              " '42': 'ms-fadaei_e_153.vol',\n",
              " '43': 'ms-fadaei_e_154.vol',\n",
              " '44': 'ms-falamarzi_f_213.vol',\n",
              " '45': 'ms-falamarzi_f_214.vol',\n",
              " '46': 'ms-ghafoor_zadeh_l_237.vol',\n",
              " '47': 'ms-ghafoor_zadeh_l_238.vol',\n",
              " '48': 'ms-ghasemi_n_320.vol',\n",
              " '49': 'ms-ghasemi_n_321.vol',\n",
              " '50': 'ms-heidari_n_316.vol',\n",
              " '51': 'ms-heidari_n_317.vol',\n",
              " '52': 'ms-jabari_f_173.vol',\n",
              " '53': 'ms-jabari_f_174.vol',\n",
              " '54': 'ms-karimi_n_312.vol',\n",
              " '55': 'ms-karimi_n_313.vol',\n",
              " '56': 'ms-kazem_borji_z_410.vol',\n",
              " '57': 'ms-kiyani_mehr_z_417.vol',\n",
              " '58': 'ms-kiyani_mehr_z_418.vol',\n",
              " '59': 'ms-lavi_f_209.vol',\n",
              " '60': 'ms-lavi_f_210.vol',\n",
              " '61': 'ms-lotfi_m_265.vol',\n",
              " '62': 'ms-masoudi_r_344.vol',\n",
              " '63': 'ms-masoudi_r_345.vol',\n",
              " '64': 'ms-mazaheri_m_279.vol',\n",
              " '65': 'ms-mir_b_149.vol',\n",
              " '66': 'ms-mir_b_150.vol',\n",
              " '67': 'ms-moghtadaei_r_332.vol',\n",
              " '68': 'ms-moghtadaei_r_333.vol',\n",
              " '69': 'ms-mohamad_beygi_l_241.vol',\n",
              " '70': 'ms-mohamad_beygi_l_242.vol',\n",
              " '71': 'ms-mola_salehi_e_157.vol',\n",
              " '72': 'ms-mola_salehi_e_158.vol',\n",
              " '73': 'ms-mousavi_f_189.vol',\n",
              " '74': 'ms-nazem_a_112.vol',\n",
              " '75': 'ms-nazem_a_113.vol',\n",
              " '76': 'ms-soleimani_e_165.vol',\n",
              " '77': 'ms-soleimani_e_166.vol',\n",
              " '78': 'ms-torkan_z_421.vol',\n",
              " '79': 'ms-torkan_z_422.vol',\n",
              " '80': 'ms-torki_s_381.vol',\n",
              " '81': 'ms-torki_s_382.vol',\n",
              " '82': 'ms-zamani_a_140.vol',\n",
              " '83': 'ms-zamani_a_141.vol',\n",
              " '84': 'EYE00003_E_3771_cropped_segmented_corrected.vol',\n",
              " '85': 'EYE00003_E_3776_cropped_segmented_corrected.vol',\n",
              " '86': 'EYE00005_E_439_cropped_segmented_corrected.vol',\n",
              " '87': 'EYE00005_E_442_cropped_segmented_corrected.vol',\n",
              " '88': 'EYE00007_E_5431_cropped_segmented_corrected.vol',\n",
              " '89': 'EYE00007_E_5436_cropped_segmented_corrected.vol',\n",
              " '90': 'EYE00014_E_1178_cropped_segmented_corrected.vol',\n",
              " '91': 'EYE00014_E_1181_cropped_segmented_corrected.vol',\n",
              " '92': 'EYE00020_E_1595_cropped_segmented_corrected.vol',\n",
              " '93': 'EYE00020_E_1600_cropped_segmented_corrected.vol',\n",
              " '94': 'EYE00023_E_5863_cropped_segmented_corrected.vol',\n",
              " '95': 'EYE00023_E_5865_cropped_segmented_corrected.vol',\n",
              " '96': 'EYE00042_E_4187_cropped_segmented_corrected.vol',\n",
              " '97': 'EYE00042_E_4190_cropped_segmented_corrected.vol',\n",
              " '98': 'EYE00043_E_2209_cropped_segmented_corrected.vol',\n",
              " '99': 'EYE00043_E_2214_cropped_segmented_corrected.vol',\n",
              " '100': 'EYE00045_E_4994_cropped_segmented_corrected.vol',\n",
              " '101': 'EYE00045_E_4997_cropped_segmented_corrected.vol',\n",
              " '102': 'EYE00052_E_1754_cropped_segmented_corrected.vol',\n",
              " '103': 'EYE00052_E_1759_cropped_segmented_corrected.vol',\n",
              " '104': 'EYE00058_E_1224_cropped_segmented_corrected.vol',\n",
              " '105': 'EYE00058_E_1228_cropped_segmented_corrected.vol',\n",
              " '106': 'EYE00066_E_289_cropped_segmented_corrected.vol',\n",
              " '107': 'EYE00066_E_292_cropped_segmented_corrected.vol',\n",
              " '108': 'EYE00067_E_1785_cropped_segmented_corrected.vol',\n",
              " '109': 'EYE00068_E_1071_cropped_segmented_corrected.vol',\n",
              " '110': 'EYE00068_E_1075_cropped_segmented_corrected.vol',\n",
              " '111': 'EYE00071_E_4139_cropped_segmented_corrected.vol',\n",
              " '112': 'EYE00071_E_4142_cropped_segmented_corrected.vol',\n",
              " '113': 'EYE00074_E_1097_cropped_segmented_corrected.vol',\n",
              " '114': 'EYE00074_E_1100_cropped_segmented_corrected.vol',\n",
              " '115': 'EYE00084_E_3405_cropped_segmented_corrected.vol',\n",
              " '116': 'EYE00084_E_3408_cropped_segmented_corrected.vol',\n",
              " '117': 'EYE00092_E_1052_cropped_segmented_corrected.vol',\n",
              " '118': 'EYE00092_E_1056_cropped_segmented_corrected.vol',\n",
              " '119': 'EYE00102_E_2300_cropped_segmented_corrected.vol',\n",
              " '120': 'EYE00102_E_2304_cropped_segmented_corrected.vol',\n",
              " '121': 'EYE00103_E_4232_cropped_segmented_corrected.vol',\n",
              " '122': 'EYE00103_E_4235_cropped_segmented_corrected.vol',\n",
              " '123': 'EYE00105_E_4874_cropped_segmented_corrected.vol',\n",
              " '124': 'EYE00105_E_4877_cropped_segmented_corrected.vol',\n",
              " '125': 'EYE00107_E_115_cropped_segmented_corrected.vol',\n",
              " '126': 'EYE00107_E_120_cropped_segmented_corrected.vol',\n",
              " '127': 'EYE00117_E_720_cropped_segmented_corrected.vol',\n",
              " '128': 'EYE00118_E_6055_cropped_segmented_corrected.vol',\n",
              " '129': 'EYE00118_E_6058_cropped_segmented_corrected.vol',\n",
              " '130': 'EYE00119_E_3433_cropped_segmented_corrected.vol',\n",
              " '131': 'EYE00119_E_3436_cropped_segmented_corrected.vol',\n",
              " '132': 'EYE00120_E_1353_cropped_segmented_corrected.vol',\n",
              " '133': 'EYE00120_E_1356_cropped_segmented_corrected.vol',\n",
              " '134': 'EYE00122_E_756_cropped_segmented_corrected.vol',\n",
              " '135': 'EYE00122_E_760_cropped_segmented_corrected.vol',\n",
              " '136': 'EYE00125_E_123_cropped_segmented_corrected.vol',\n",
              " '137': 'EYE00125_E_126_cropped_segmented_corrected.vol',\n",
              " '138': 'EYE00128_E_4407_cropped_segmented_corrected.vol',\n",
              " '139': 'EYE00128_E_4411_cropped_segmented_corrected.vol',\n",
              " '140': 'EYE00130_E_4848_cropped_segmented_corrected.vol',\n",
              " '141': 'EYE00130_E_4851_cropped_segmented_corrected.vol',\n",
              " '142': 'EYE00131_E_4975_cropped_segmented_corrected.vol',\n",
              " '143': 'EYE00131_E_4979_cropped_segmented_corrected.vol',\n",
              " '144': 'EYE00136_E_5084_cropped_segmented_corrected.vol',\n",
              " '145': 'EYE00136_E_5088_cropped_segmented_corrected.vol',\n",
              " '146': 'EYE00143_E_690_cropped_segmented_corrected.vol',\n",
              " '147': 'EYE00143_E_694_cropped_segmented_corrected.vol',\n",
              " '148': 'EYE00153_E_4100_cropped_segmented_corrected.vol',\n",
              " '149': 'EYE00153_E_4101_cropped_segmented_corrected.vol',\n",
              " '150': 'EYE00155_E_410_cropped_segmented_corrected.vol',\n",
              " '151': 'EYE00162_E_971_cropped_segmented_corrected.vol',\n",
              " '152': 'EYE00162_E_975_cropped_segmented_corrected.vol',\n",
              " '153': 'EYE00163_E_1142_cropped_segmented_corrected.vol',\n",
              " '154': 'EYE00163_E_1146_cropped_segmented_corrected.vol',\n",
              " '155': 'EYE00164_E_3535_cropped_segmented_corrected.vol',\n",
              " '156': 'EYE00164_E_3539_cropped_segmented_corrected.vol',\n",
              " '157': 'EYE00165_E_5067_cropped_segmented_corrected.vol',\n",
              " '158': 'EYE00165_E_5070_cropped_segmented_corrected.vol',\n",
              " '159': 'EYE00166_E_863_cropped_segmented_corrected.vol',\n",
              " '160': 'EYE00166_E_866_cropped_segmented_corrected.vol',\n",
              " '161': 'EYE00170_E_935_cropped_segmented_corrected.vol',\n",
              " '162': 'EYE00170_E_938_cropped_segmented_corrected.vol',\n",
              " '163': 'EYE00173_E_820_cropped_segmented_corrected.vol',\n",
              " '164': 'EYE00173_E_824_cropped_segmented_corrected.vol',\n",
              " '165': 'EYE00175_E_2472_cropped_segmented_corrected.vol',\n",
              " '166': 'EYE00175_E_2476_cropped_segmented_corrected.vol',\n",
              " '167': 'EYE00176_E_4833_cropped_segmented_corrected.vol',\n",
              " '168': 'EYE00176_E_4838_cropped_segmented_corrected.vol',\n",
              " '169': 'EYE00179_E_2720_cropped_segmented_corrected.vol',\n",
              " '170': 'EYE00179_E_2724_cropped_segmented_corrected.vol',\n",
              " '171': 'EYE00181_E_1002_cropped_segmented_corrected.vol',\n",
              " '172': 'EYE00181_E_999_cropped_segmented_corrected.vol',\n",
              " '173': 'EYE00182_E_3485_cropped_segmented_corrected.vol',\n",
              " '174': 'EYE00183_E_3124_cropped_segmented_corrected.vol',\n",
              " '175': 'EYE00186_E_351_cropped_segmented_corrected.vol',\n",
              " '176': 'EYE00186_E_353_cropped_segmented_corrected.vol',\n",
              " '177': 'EYE00197_E_3051_cropped_segmented_corrected.vol',\n",
              " '178': 'EYE00197_E_3054_cropped_segmented_corrected.vol',\n",
              " '179': 'EYE00200_E_1420_cropped_segmented_corrected.vol',\n",
              " '180': 'EYE00200_E_1424_cropped_segmented_corrected.vol',\n",
              " '181': 'EYE00235_E_721_cropped_segmented_corrected.vol',\n",
              " '182': 'EYE00235_E_724_cropped_segmented_corrected.vol',\n",
              " '183': 'EYE00244_E_765_cropped_segmented_corrected.vol'}"
            ]
          },
          "metadata": {},
          "execution_count": 182
        }
      ]
    },
    {
      "cell_type": "code",
      "source": [
        "sp_all = sp1 + sp2"
      ],
      "metadata": {
        "id": "KBU_uKdwVfm3"
      },
      "execution_count": null,
      "outputs": []
    },
    {
      "cell_type": "code",
      "source": [
        "len (sp_all)"
      ],
      "metadata": {
        "colab": {
          "base_uri": "https://localhost:8080/"
        },
        "id": "HmDpZ-h_VgtL",
        "outputId": "65050fe2-87f3-422b-bd5b-94d4150bfc56"
      },
      "execution_count": null,
      "outputs": [
        {
          "output_type": "execute_result",
          "data": {
            "text/plain": [
              "184"
            ]
          },
          "metadata": {},
          "execution_count": 185
        }
      ]
    },
    {
      "cell_type": "code",
      "source": [],
      "metadata": {
        "id": "FulySvX-WsfG"
      },
      "execution_count": null,
      "outputs": []
    },
    {
      "cell_type": "code",
      "source": [
        "with open ('ScanPositionIran.pkl', 'wb') as f:\n",
        "  pickle.dump (sp_all, f)"
      ],
      "metadata": {
        "id": "7oEW7sRAWsqH"
      },
      "execution_count": null,
      "outputs": []
    },
    {
      "cell_type": "code",
      "source": [
        "with open ('layers_Iran.pkl', 'wb') as f:\n",
        "  pickle.dump (layers_all, f)"
      ],
      "metadata": {
        "id": "ATKUBcIlWssx"
      },
      "execution_count": null,
      "outputs": []
    },
    {
      "cell_type": "code",
      "source": [
        "with open ('vol_Iran.pkl', 'wb') as f:\n",
        "  pickle.dump (i2v_all_new, f)"
      ],
      "metadata": {
        "id": "YH_HVU0iWswK"
      },
      "execution_count": null,
      "outputs": []
    },
    {
      "cell_type": "code",
      "source": [
        "subjects_all"
      ],
      "metadata": {
        "id": "RxXUN_SyXslC"
      },
      "execution_count": null,
      "outputs": []
    },
    {
      "cell_type": "code",
      "source": [
        "with open ('subjects_index_Iran.pkl', 'wb') as f:\n",
        "  pickle.dump (subjects_all, f)"
      ],
      "metadata": {
        "id": "pC37SV1xXaRa"
      },
      "execution_count": null,
      "outputs": []
    },
    {
      "cell_type": "code",
      "source": [
        "subjects_all_new"
      ],
      "metadata": {
        "id": "s-A1sfjbYA5r"
      },
      "execution_count": null,
      "outputs": []
    },
    {
      "cell_type": "code",
      "source": [
        "with open ('subjects_layers_Iran.pkl', 'wb') as f:\n",
        "  pickle.dump (subjects_all_new, f)"
      ],
      "metadata": {
        "id": "7VJ5iQP4YCtL"
      },
      "execution_count": null,
      "outputs": []
    },
    {
      "cell_type": "code",
      "source": [
        "with open ('subjects_labels_Iran.pkl', 'wb') as f:\n",
        "  pickle.dump (labels_all, f)"
      ],
      "metadata": {
        "id": "1OwgIOxNYjdp"
      },
      "execution_count": null,
      "outputs": []
    },
    {
      "cell_type": "code",
      "source": [
        "with open ('vol_labels_Iran.pkl', 'wb') as f:\n",
        "  pickle.dump (l, f)"
      ],
      "metadata": {
        "id": "fyG6ACv2kczT"
      },
      "execution_count": null,
      "outputs": []
    },
    {
      "cell_type": "code",
      "source": [
        "labels_all"
      ],
      "metadata": {
        "id": "HyMa4qJzYuai"
      },
      "execution_count": null,
      "outputs": []
    },
    {
      "cell_type": "code",
      "source": [
        "!cp '/content/IndexOfSubjectsIran.pkl' '/content/drive/MyDrive'\n",
        "!cp '/content/LabelsIran.pkl' '/content/drive/MyDrive'\n",
        "!cp '/content/ScanPositionIran.pkl' '/content/drive/MyDrive'\n",
        "!cp '/content/XLayersBoundaryIran.pkl' '/content/drive/MyDrive'\n",
        "!cp '/content/XLayersBoundaryMap_Subjects_Iran.pkl' '/content/drive/MyDrive'\n",
        "!cp '/content/index2volIran.pkl' '/content/drive/MyDrive'"
      ],
      "metadata": {
        "id": "vffY9BPgYv5t"
      },
      "execution_count": null,
      "outputs": []
    },
    {
      "cell_type": "code",
      "source": [
        "import zipfile\n",
        "\n",
        "# List of files to zip\n",
        "files_to_zip = ['layers_Iran.pkl', 'ScanPositionIran.pkl',\n",
        "                'subjects_index_Iran.pkl', 'subjects_labels_Iran.pkl',\n",
        "                'subjects_layers_Iran.pkl', 'vol_Iran.pkl', 'vol_labels_Iran.pkl', 'readme.docx']\n",
        "\n",
        "# Name of the zip file\n",
        "zip_file_name = 'Iran_data.zip'\n",
        "\n",
        "# Create the zip file\n",
        "with zipfile.ZipFile(zip_file_name, 'w') as zipf:\n",
        "    for file in files_to_zip:\n",
        "        zipf.write(file)\n"
      ],
      "metadata": {
        "id": "OZCCryUYZTx1"
      },
      "execution_count": null,
      "outputs": []
    },
    {
      "cell_type": "code",
      "source": [],
      "metadata": {
        "id": "YsxQD9kbjzzt"
      },
      "execution_count": null,
      "outputs": []
    },
    {
      "cell_type": "code",
      "source": [
        "import zipfile\n",
        "\n",
        "# List of files to zip\n",
        "files_to_zip = ['train_layers_Iran.pkl', 'train_labels_Iran.pkl',\n",
        "                'train_sp_Iran.pkl']\n",
        "\n",
        "# Name of the zip file\n",
        "zip_file_name = 'train_data_Iran.zip'\n",
        "\n",
        "# Create the zip file\n",
        "with zipfile.ZipFile(zip_file_name, 'w') as zipf:\n",
        "    for file in files_to_zip:\n",
        "        zipf.write(file)\n"
      ],
      "metadata": {
        "id": "SvI7fzV5jz5N"
      },
      "execution_count": null,
      "outputs": []
    },
    {
      "cell_type": "code",
      "source": [
        "import zipfile\n",
        "\n",
        "# List of files to zip\n",
        "files_to_zip = ['test_layers_Iran.pkl', 'test_labels_Iran.pkl',\n",
        "                'test_sp_Iran.pkl']\n",
        "\n",
        "# Name of the zip file\n",
        "zip_file_name = 'test_data_Iran.zip'\n",
        "\n",
        "# Create the zip file\n",
        "with zipfile.ZipFile(zip_file_name, 'w') as zipf:\n",
        "    for file in files_to_zip:\n",
        "        zipf.write(file)"
      ],
      "metadata": {
        "id": "Gj4iTn8FkI7Q"
      },
      "execution_count": null,
      "outputs": []
    },
    {
      "cell_type": "code",
      "source": [
        "!cp /content/train_data_Iran.zip /content/drive/MyDrive"
      ],
      "metadata": {
        "id": "yBEV5ycikO2X"
      },
      "execution_count": null,
      "outputs": []
    },
    {
      "cell_type": "code",
      "source": [
        "!cp /content/test_data_Iran.zip /content/drive/MyDrive"
      ],
      "metadata": {
        "id": "BEC8mdQbkO5D"
      },
      "execution_count": null,
      "outputs": []
    },
    {
      "cell_type": "code",
      "source": [
        "!cp /content/Iran_data.zip /content/drive/MyDrive"
      ],
      "metadata": {
        "id": "KyE_Pmg8ah_D"
      },
      "execution_count": null,
      "outputs": []
    },
    {
      "cell_type": "code",
      "source": [
        "i2v_all_new"
      ],
      "metadata": {
        "colab": {
          "base_uri": "https://localhost:8080/"
        },
        "id": "SGt4HHJnasI3",
        "outputId": "7376a2dd-17c3-4c4b-dc60-b6c7c5c14243"
      },
      "execution_count": null,
      "outputs": [
        {
          "output_type": "execute_result",
          "data": {
            "text/plain": [
              "{'0': 'hc-Dr_Alamzadeh_16_8_96_D_117.vol',\n",
              " '1': 'hc-Dr_Alamzadeh17_8_96_D_110.vol',\n",
              " '2': 'hc-Dr_Alamzadeh17_8_96_D_111.vol',\n",
              " '3': 'hc-Dr_Alamzadeh_25_6_96_D_112.vol',\n",
              " '4': 'hc-Dr_Alamzadeh_25_6_96_D_113.vol',\n",
              " '5': 'hc-Dr_Alamzadeh_9_8_96_D_119.vol',\n",
              " '6': 'hc-Dr_Alamzadeh_D_109.vol',\n",
              " '7': 'hc-Dr_Alamzadeh_D_114.vol',\n",
              " '8': 'hc-Dr_Alamzadeh_D_115.vol',\n",
              " '9': 'hc-Dr_Alamzadeh_D_123.vol',\n",
              " '10': 'hc-Dr_Alamzadeh_D_125.vol',\n",
              " '11': 'hc-Dr_Alamzadeh_D_127.vol',\n",
              " '12': 'hc-Dr_Alamzadeh_D_128.vol',\n",
              " '13': 'hc-Dr_Alamzadeh_D_131.vol',\n",
              " '14': 'hc-Dr_Alamzadeh_D_133.vol',\n",
              " '15': 'hc-Dr_Alamzadeh_D_143.vol',\n",
              " '16': 'hc-Dr_Alamzadeh_D_147.vol',\n",
              " '17': 'hc-Dr_Alamzadeh_D_148.vol',\n",
              " '18': 'hc-Dr_Alamzadeh_D_151.vol',\n",
              " '19': 'hc-Dr_Alamzadeh_D_153.vol',\n",
              " '20': 'hc-Dr_Alamzadeh_D_154.vol',\n",
              " '21': 'hc-Dr_Alamzadeh_D_156.vol',\n",
              " '22': 'hc-Dr_Alamzadeh_D_159.vol',\n",
              " '23': 'hc-Dr_Alamzadeh_D_161.vol',\n",
              " '24': 'ms-abasi_m_283.vol',\n",
              " '25': 'ms-abasi_m_284.vol',\n",
              " '26': 'ms-ahmadi_s_377.vol',\n",
              " '27': 'ms-ahmadi_s_378.vol',\n",
              " '28': 'ms-amin_o_roaei_f_181.vol',\n",
              " '29': 'ms-amin_o_roaei_f_182.vol',\n",
              " '30': 'ms-amoo_m_257.vol',\n",
              " '31': 'ms-amoo_m_258.vol',\n",
              " '32': 'ms-asgari_f_169.vol',\n",
              " '33': 'ms-asgari_f_170.vol',\n",
              " '34': 'ms-bagherian_s_372.vol',\n",
              " '35': 'ms-bagherian_s_373.vol',\n",
              " '36': 'ms-bagherian_s_374.vol',\n",
              " '37': 'ms-bahrami_m_287.vol',\n",
              " '38': 'ms-bahrami_m_288.vol',\n",
              " '39': 'ms-bestar_ahang_a_136.vol',\n",
              " '40': 'ms-bestar_ahang_a_137.vol',\n",
              " '41': 'ms-davari_z_405.vol',\n",
              " '42': 'ms-fadaei_e_153.vol',\n",
              " '43': 'ms-fadaei_e_154.vol',\n",
              " '44': 'ms-falamarzi_f_213.vol',\n",
              " '45': 'ms-falamarzi_f_214.vol',\n",
              " '46': 'ms-ghafoor_zadeh_l_237.vol',\n",
              " '47': 'ms-ghafoor_zadeh_l_238.vol',\n",
              " '48': 'ms-ghasemi_n_320.vol',\n",
              " '49': 'ms-ghasemi_n_321.vol',\n",
              " '50': 'ms-heidari_n_316.vol',\n",
              " '51': 'ms-heidari_n_317.vol',\n",
              " '52': 'ms-jabari_f_173.vol',\n",
              " '53': 'ms-jabari_f_174.vol',\n",
              " '54': 'ms-karimi_n_312.vol',\n",
              " '55': 'ms-karimi_n_313.vol',\n",
              " '56': 'ms-kazem_borji_z_410.vol',\n",
              " '57': 'ms-kiyani_mehr_z_417.vol',\n",
              " '58': 'ms-kiyani_mehr_z_418.vol',\n",
              " '59': 'ms-lavi_f_209.vol',\n",
              " '60': 'ms-lavi_f_210.vol',\n",
              " '61': 'ms-lotfi_m_265.vol',\n",
              " '62': 'ms-masoudi_r_344.vol',\n",
              " '63': 'ms-masoudi_r_345.vol',\n",
              " '64': 'ms-mazaheri_m_279.vol',\n",
              " '65': 'ms-mir_b_149.vol',\n",
              " '66': 'ms-mir_b_150.vol',\n",
              " '67': 'ms-moghtadaei_r_332.vol',\n",
              " '68': 'ms-moghtadaei_r_333.vol',\n",
              " '69': 'ms-mohamad_beygi_l_241.vol',\n",
              " '70': 'ms-mohamad_beygi_l_242.vol',\n",
              " '71': 'ms-mola_salehi_e_157.vol',\n",
              " '72': 'ms-mola_salehi_e_158.vol',\n",
              " '73': 'ms-mousavi_f_189.vol',\n",
              " '74': 'ms-nazem_a_112.vol',\n",
              " '75': 'ms-nazem_a_113.vol',\n",
              " '76': 'ms-soleimani_e_165.vol',\n",
              " '77': 'ms-soleimani_e_166.vol',\n",
              " '78': 'ms-torkan_z_421.vol',\n",
              " '79': 'ms-torkan_z_422.vol',\n",
              " '80': 'ms-torki_s_381.vol',\n",
              " '81': 'ms-torki_s_382.vol',\n",
              " '82': 'ms-zamani_a_140.vol',\n",
              " '83': 'ms-zamani_a_141.vol',\n",
              " '84': 'EYE00003_E_3771_cropped_segmented_corrected.vol',\n",
              " '85': 'EYE00003_E_3776_cropped_segmented_corrected.vol',\n",
              " '86': 'EYE00005_E_439_cropped_segmented_corrected.vol',\n",
              " '87': 'EYE00005_E_442_cropped_segmented_corrected.vol',\n",
              " '88': 'EYE00007_E_5431_cropped_segmented_corrected.vol',\n",
              " '89': 'EYE00007_E_5436_cropped_segmented_corrected.vol',\n",
              " '90': 'EYE00014_E_1178_cropped_segmented_corrected.vol',\n",
              " '91': 'EYE00014_E_1181_cropped_segmented_corrected.vol',\n",
              " '92': 'EYE00020_E_1595_cropped_segmented_corrected.vol',\n",
              " '93': 'EYE00020_E_1600_cropped_segmented_corrected.vol',\n",
              " '94': 'EYE00023_E_5863_cropped_segmented_corrected.vol',\n",
              " '95': 'EYE00023_E_5865_cropped_segmented_corrected.vol',\n",
              " '96': 'EYE00042_E_4187_cropped_segmented_corrected.vol',\n",
              " '97': 'EYE00042_E_4190_cropped_segmented_corrected.vol',\n",
              " '98': 'EYE00043_E_2209_cropped_segmented_corrected.vol',\n",
              " '99': 'EYE00043_E_2214_cropped_segmented_corrected.vol',\n",
              " '100': 'EYE00045_E_4994_cropped_segmented_corrected.vol',\n",
              " '101': 'EYE00045_E_4997_cropped_segmented_corrected.vol',\n",
              " '102': 'EYE00052_E_1754_cropped_segmented_corrected.vol',\n",
              " '103': 'EYE00052_E_1759_cropped_segmented_corrected.vol',\n",
              " '104': 'EYE00058_E_1224_cropped_segmented_corrected.vol',\n",
              " '105': 'EYE00058_E_1228_cropped_segmented_corrected.vol',\n",
              " '106': 'EYE00066_E_289_cropped_segmented_corrected.vol',\n",
              " '107': 'EYE00066_E_292_cropped_segmented_corrected.vol',\n",
              " '108': 'EYE00067_E_1785_cropped_segmented_corrected.vol',\n",
              " '109': 'EYE00068_E_1071_cropped_segmented_corrected.vol',\n",
              " '110': 'EYE00068_E_1075_cropped_segmented_corrected.vol',\n",
              " '111': 'EYE00071_E_4139_cropped_segmented_corrected.vol',\n",
              " '112': 'EYE00071_E_4142_cropped_segmented_corrected.vol',\n",
              " '113': 'EYE00074_E_1097_cropped_segmented_corrected.vol',\n",
              " '114': 'EYE00074_E_1100_cropped_segmented_corrected.vol',\n",
              " '115': 'EYE00084_E_3405_cropped_segmented_corrected.vol',\n",
              " '116': 'EYE00084_E_3408_cropped_segmented_corrected.vol',\n",
              " '117': 'EYE00092_E_1052_cropped_segmented_corrected.vol',\n",
              " '118': 'EYE00092_E_1056_cropped_segmented_corrected.vol',\n",
              " '119': 'EYE00102_E_2300_cropped_segmented_corrected.vol',\n",
              " '120': 'EYE00102_E_2304_cropped_segmented_corrected.vol',\n",
              " '121': 'EYE00103_E_4232_cropped_segmented_corrected.vol',\n",
              " '122': 'EYE00103_E_4235_cropped_segmented_corrected.vol',\n",
              " '123': 'EYE00105_E_4874_cropped_segmented_corrected.vol',\n",
              " '124': 'EYE00105_E_4877_cropped_segmented_corrected.vol',\n",
              " '125': 'EYE00107_E_115_cropped_segmented_corrected.vol',\n",
              " '126': 'EYE00107_E_120_cropped_segmented_corrected.vol',\n",
              " '127': 'EYE00117_E_720_cropped_segmented_corrected.vol',\n",
              " '128': 'EYE00118_E_6055_cropped_segmented_corrected.vol',\n",
              " '129': 'EYE00118_E_6058_cropped_segmented_corrected.vol',\n",
              " '130': 'EYE00119_E_3433_cropped_segmented_corrected.vol',\n",
              " '131': 'EYE00119_E_3436_cropped_segmented_corrected.vol',\n",
              " '132': 'EYE00120_E_1353_cropped_segmented_corrected.vol',\n",
              " '133': 'EYE00120_E_1356_cropped_segmented_corrected.vol',\n",
              " '134': 'EYE00122_E_756_cropped_segmented_corrected.vol',\n",
              " '135': 'EYE00122_E_760_cropped_segmented_corrected.vol',\n",
              " '136': 'EYE00125_E_123_cropped_segmented_corrected.vol',\n",
              " '137': 'EYE00125_E_126_cropped_segmented_corrected.vol',\n",
              " '138': 'EYE00128_E_4407_cropped_segmented_corrected.vol',\n",
              " '139': 'EYE00128_E_4411_cropped_segmented_corrected.vol',\n",
              " '140': 'EYE00130_E_4848_cropped_segmented_corrected.vol',\n",
              " '141': 'EYE00130_E_4851_cropped_segmented_corrected.vol',\n",
              " '142': 'EYE00131_E_4975_cropped_segmented_corrected.vol',\n",
              " '143': 'EYE00131_E_4979_cropped_segmented_corrected.vol',\n",
              " '144': 'EYE00136_E_5084_cropped_segmented_corrected.vol',\n",
              " '145': 'EYE00136_E_5088_cropped_segmented_corrected.vol',\n",
              " '146': 'EYE00143_E_690_cropped_segmented_corrected.vol',\n",
              " '147': 'EYE00143_E_694_cropped_segmented_corrected.vol',\n",
              " '148': 'EYE00153_E_4100_cropped_segmented_corrected.vol',\n",
              " '149': 'EYE00153_E_4101_cropped_segmented_corrected.vol',\n",
              " '150': 'EYE00155_E_410_cropped_segmented_corrected.vol',\n",
              " '151': 'EYE00162_E_971_cropped_segmented_corrected.vol',\n",
              " '152': 'EYE00162_E_975_cropped_segmented_corrected.vol',\n",
              " '153': 'EYE00163_E_1142_cropped_segmented_corrected.vol',\n",
              " '154': 'EYE00163_E_1146_cropped_segmented_corrected.vol',\n",
              " '155': 'EYE00164_E_3535_cropped_segmented_corrected.vol',\n",
              " '156': 'EYE00164_E_3539_cropped_segmented_corrected.vol',\n",
              " '157': 'EYE00165_E_5067_cropped_segmented_corrected.vol',\n",
              " '158': 'EYE00165_E_5070_cropped_segmented_corrected.vol',\n",
              " '159': 'EYE00166_E_863_cropped_segmented_corrected.vol',\n",
              " '160': 'EYE00166_E_866_cropped_segmented_corrected.vol',\n",
              " '161': 'EYE00170_E_935_cropped_segmented_corrected.vol',\n",
              " '162': 'EYE00170_E_938_cropped_segmented_corrected.vol',\n",
              " '163': 'EYE00173_E_820_cropped_segmented_corrected.vol',\n",
              " '164': 'EYE00173_E_824_cropped_segmented_corrected.vol',\n",
              " '165': 'EYE00175_E_2472_cropped_segmented_corrected.vol',\n",
              " '166': 'EYE00175_E_2476_cropped_segmented_corrected.vol',\n",
              " '167': 'EYE00176_E_4833_cropped_segmented_corrected.vol',\n",
              " '168': 'EYE00176_E_4838_cropped_segmented_corrected.vol',\n",
              " '169': 'EYE00179_E_2720_cropped_segmented_corrected.vol',\n",
              " '170': 'EYE00179_E_2724_cropped_segmented_corrected.vol',\n",
              " '171': 'EYE00181_E_1002_cropped_segmented_corrected.vol',\n",
              " '172': 'EYE00181_E_999_cropped_segmented_corrected.vol',\n",
              " '173': 'EYE00182_E_3485_cropped_segmented_corrected.vol',\n",
              " '174': 'EYE00183_E_3124_cropped_segmented_corrected.vol',\n",
              " '175': 'EYE00186_E_351_cropped_segmented_corrected.vol',\n",
              " '176': 'EYE00186_E_353_cropped_segmented_corrected.vol',\n",
              " '177': 'EYE00197_E_3051_cropped_segmented_corrected.vol',\n",
              " '178': 'EYE00197_E_3054_cropped_segmented_corrected.vol',\n",
              " '179': 'EYE00200_E_1420_cropped_segmented_corrected.vol',\n",
              " '180': 'EYE00200_E_1424_cropped_segmented_corrected.vol',\n",
              " '181': 'EYE00235_E_721_cropped_segmented_corrected.vol',\n",
              " '182': 'EYE00235_E_724_cropped_segmented_corrected.vol',\n",
              " '183': 'EYE00244_E_765_cropped_segmented_corrected.vol'}"
            ]
          },
          "metadata": {},
          "execution_count": 212
        }
      ]
    },
    {
      "cell_type": "code",
      "source": [],
      "metadata": {
        "id": "4tByJf0hKAqH"
      },
      "execution_count": null,
      "outputs": []
    },
    {
      "cell_type": "code",
      "source": [
        "l = {'0': 0,\n",
        " '1': 0,\n",
        " '2': 0,\n",
        " '3': 0,\n",
        " '4': 0,\n",
        " '5': 0,\n",
        " '6': 0,\n",
        " '7': 0,\n",
        " '8': 0,\n",
        " '9': 0,\n",
        " '10': 0,\n",
        " '11': 0,\n",
        " '12': 0,\n",
        " '13': 0,\n",
        " '14': 0,\n",
        " '15': 0,\n",
        " '16': 0,\n",
        " '17': 0,\n",
        " '18': 0,\n",
        " '19': 0,\n",
        " '20': 0,\n",
        " '21': 0,\n",
        " '22': 0,\n",
        " '23': 0,\n",
        " '24': 1,\n",
        " '25': 1,\n",
        " '26': 1,\n",
        " '27': 1,\n",
        " '28': 1,\n",
        " '29': 1,\n",
        " '30': 1,\n",
        " '31': 1,\n",
        " '32': 1,\n",
        " '33': 1,\n",
        " '34': 1,\n",
        " '35': 1,\n",
        " '36': 1,\n",
        " '37': 1,\n",
        " '38': 1,\n",
        " '39': 1,\n",
        " '40': 1,\n",
        " '41': 1,\n",
        " '42': 1,\n",
        " '43': 1,\n",
        " '44': 1,\n",
        " '45': 1,\n",
        " '46': 1,\n",
        " '47': 1,\n",
        " '48': 1,\n",
        " '49': 1,\n",
        " '50': 1,\n",
        " '51': 1,\n",
        " '52': 1,\n",
        " '53': 1,\n",
        " '54': 1,\n",
        " '55': 1,\n",
        " '56': 1,\n",
        " '57':1,\n",
        " '58': 1,\n",
        " '59': 1,\n",
        " '60': 1,\n",
        " '61': 1,\n",
        " '62': 1,\n",
        " '63': 1,\n",
        " '64': 1,\n",
        " '65': 1,\n",
        " '66': 1,\n",
        " '67': 1,\n",
        " '68': 1,\n",
        " '69': 1,\n",
        " '70': 1,\n",
        " '71': 1,\n",
        " '72': 1,\n",
        " '73': 1,\n",
        " '74': 1,\n",
        " '75': 1,\n",
        " '76': 1,\n",
        " '77': 1,\n",
        " '78': 1,\n",
        " '79': 1,\n",
        " '80': 1,\n",
        " '81': 1,\n",
        " '82': 1,\n",
        " '83': 1,\n",
        " '84': 0,\n",
        " '85': 0,\n",
        " '86': 0,\n",
        " '87': 0,\n",
        " '88': 0,\n",
        " '89': 0,\n",
        " '90': 0,\n",
        " '91': 0,\n",
        " '92': 0,\n",
        " '93': 0,\n",
        " '94': 0,\n",
        " '95': 0,\n",
        " '96': 0,\n",
        " '97': 0,\n",
        " '98': 0,\n",
        " '99': 0,\n",
        " '100': 0,\n",
        " '101': 0,\n",
        " '102': 0,\n",
        " '103': 0,\n",
        " '104': 0,\n",
        " '105': 0,\n",
        " '106': 0,\n",
        " '107': 0,\n",
        " '108': 0,\n",
        " '109': 0,\n",
        " '110': 0,\n",
        " '111': 0,\n",
        " '112': 0,\n",
        " '113':0,\n",
        " '114': 0,\n",
        " '115': 0,\n",
        " '116': 0,\n",
        " '117': 0,\n",
        " '118': 0,\n",
        " '119': 0,\n",
        " '120': 0,\n",
        " '121': 0,\n",
        " '122': 0,\n",
        " '123': 0,\n",
        " '124': 0,\n",
        " '125': 0,\n",
        " '126': 0,\n",
        " '127': 0,\n",
        " '128': 0,\n",
        " '129': 0,\n",
        " '130': 0,\n",
        " '131': 0,\n",
        " '132': 0,\n",
        " '133': 0,\n",
        " '134': 0,\n",
        " '135': 0,\n",
        " '136': 0,\n",
        " '137': 0,\n",
        " '138': 0,\n",
        " '139': 0,\n",
        " '140': 0,\n",
        " '141': 0,\n",
        " '142': 0,\n",
        " '143': 0,\n",
        " '144': 0,\n",
        " '145': 0,\n",
        " '146': 0,\n",
        " '147': 0,\n",
        " '148': 0,\n",
        " '149': 0,\n",
        " '150': 0,\n",
        " '151': 0,\n",
        " '152': 0,\n",
        " '153': 0,\n",
        " '154': 0,\n",
        " '155': 0,\n",
        " '156': 0,\n",
        " '157': 0,\n",
        " '158': 0,\n",
        " '159': 0,\n",
        " '160': 0,\n",
        " '161': 0,\n",
        " '162': 0,\n",
        " '163': 0,\n",
        " '164': 0,\n",
        " '165': 0,\n",
        " '166': 0,\n",
        " '167': 0,\n",
        " '168': 0,\n",
        " '169': 0,\n",
        " '170': 0,\n",
        " '171': 0,\n",
        " '172': 0,\n",
        " '173': 0,\n",
        " '174': 0,\n",
        " '175': 0,\n",
        " '176': 0,\n",
        " '177': 0,\n",
        " '178': 0,\n",
        " '179': 0,\n",
        " '180': 0,\n",
        " '181': 0,\n",
        " '182': 0,\n",
        " '183': 0}"
      ],
      "metadata": {
        "id": "5ivlv0vghU2G"
      },
      "execution_count": null,
      "outputs": []
    },
    {
      "cell_type": "markdown",
      "source": [
        "# concatentating OCT and SLO"
      ],
      "metadata": {
        "id": "-bVZ5Zj2ToCU"
      }
    },
    {
      "cell_type": "code",
      "source": [],
      "metadata": {
        "id": "geamfJZsKBzk"
      },
      "execution_count": null,
      "outputs": []
    },
    {
      "cell_type": "code",
      "source": [],
      "metadata": {
        "id": "_rB6OHhBKiku"
      },
      "execution_count": null,
      "outputs": []
    },
    {
      "cell_type": "code",
      "source": [
        "from sklearn.model_selection import StratifiedKFold\n",
        "skf = StratifiedKFold (n_splits = 5, shuffle = True, random_state = 42)"
      ],
      "metadata": {
        "id": "Uj87eShQKB_A"
      },
      "execution_count": null,
      "outputs": []
    },
    {
      "cell_type": "code",
      "source": [
        "train_labels"
      ],
      "metadata": {
        "id": "41YlRL4RL-To"
      },
      "execution_count": null,
      "outputs": []
    },
    {
      "cell_type": "code",
      "source": [
        "#Getting Train and Validation Indices\n",
        "\n",
        "train_folds = []\n",
        "valid_folds = []\n",
        "\n",
        "for train_index, valid_index in skf.split (np.zeros (len (train_thickness)), list (train_labels.values ())):\n",
        "\n",
        "  true_train_index = [list (train_labels.keys ()) [i] for i in train_index]\n",
        "  true_valid_index = [list (train_labels.keys ()) [i] for i in valid_index]\n",
        "\n",
        "  train_folds.append (true_train_index)\n",
        "  valid_folds.append (true_valid_index)\n",
        "\n"
      ],
      "metadata": {
        "id": "3v01YdyWKZBX"
      },
      "execution_count": null,
      "outputs": []
    },
    {
      "cell_type": "code",
      "source": [
        "valid_folds [0]"
      ],
      "metadata": {
        "colab": {
          "base_uri": "https://localhost:8080/"
        },
        "id": "Tou9cq5tKZIt",
        "outputId": "779b02cb-c51a-408a-ccb7-58064d015af0"
      },
      "execution_count": null,
      "outputs": [
        {
          "output_type": "execute_result",
          "data": {
            "text/plain": [
              "['0',\n",
              " '2',\n",
              " '21',\n",
              " '29',\n",
              " '38',\n",
              " '41',\n",
              " '44',\n",
              " '49',\n",
              " '52',\n",
              " '54',\n",
              " '55',\n",
              " '63',\n",
              " '74',\n",
              " '80',\n",
              " '82',\n",
              " '89',\n",
              " '95']"
            ]
          },
          "metadata": {},
          "execution_count": 22
        }
      ]
    },
    {
      "cell_type": "code",
      "source": [
        "valid_folds"
      ],
      "metadata": {
        "colab": {
          "base_uri": "https://localhost:8080/"
        },
        "id": "_goWuGvxOcre",
        "outputId": "13c3017c-29c9-4f15-ce0b-b7bf360c0c84"
      },
      "execution_count": null,
      "outputs": [
        {
          "output_type": "execute_result",
          "data": {
            "text/plain": [
              "[['0',\n",
              "  '2',\n",
              "  '21',\n",
              "  '29',\n",
              "  '38',\n",
              "  '41',\n",
              "  '44',\n",
              "  '49',\n",
              "  '52',\n",
              "  '54',\n",
              "  '55',\n",
              "  '63',\n",
              "  '74',\n",
              "  '80',\n",
              "  '82',\n",
              "  '89',\n",
              "  '95'],\n",
              " ['5',\n",
              "  '7',\n",
              "  '15',\n",
              "  '26',\n",
              "  '34',\n",
              "  '36',\n",
              "  '46',\n",
              "  '48',\n",
              "  '53',\n",
              "  '62',\n",
              "  '64',\n",
              "  '81',\n",
              "  '90',\n",
              "  '91',\n",
              "  '94',\n",
              "  '98'],\n",
              " ['4',\n",
              "  '12',\n",
              "  '25',\n",
              "  '35',\n",
              "  '43',\n",
              "  '45',\n",
              "  '47',\n",
              "  '51',\n",
              "  '58',\n",
              "  '65',\n",
              "  '67',\n",
              "  '73',\n",
              "  '75',\n",
              "  '78',\n",
              "  '87',\n",
              "  '99'],\n",
              " ['10',\n",
              "  '14',\n",
              "  '24',\n",
              "  '33',\n",
              "  '37',\n",
              "  '39',\n",
              "  '42',\n",
              "  '50',\n",
              "  '57',\n",
              "  '77',\n",
              "  '79',\n",
              "  '83',\n",
              "  '84',\n",
              "  '86',\n",
              "  '97',\n",
              "  '101'],\n",
              " ['8',\n",
              "  '16',\n",
              "  '22',\n",
              "  '27',\n",
              "  '28',\n",
              "  '31',\n",
              "  '40',\n",
              "  '59',\n",
              "  '60',\n",
              "  '61',\n",
              "  '69',\n",
              "  '71',\n",
              "  '76',\n",
              "  '88',\n",
              "  '92',\n",
              "  '100']]"
            ]
          },
          "metadata": {},
          "execution_count": 26
        }
      ]
    },
    {
      "cell_type": "code",
      "source": [
        "train_folds"
      ],
      "metadata": {
        "id": "yhmqhiedOfDH"
      },
      "execution_count": null,
      "outputs": []
    },
    {
      "cell_type": "code",
      "source": [
        "with open ('train_folds.py', 'wb') as f:\n",
        "  pickle.dump (train_folds, f)"
      ],
      "metadata": {
        "id": "UAW-BzttKZMK"
      },
      "execution_count": null,
      "outputs": []
    },
    {
      "cell_type": "code",
      "source": [
        "with open(\"train_folds.txt\", \"w\") as output:\n",
        "    output.write(str (train_folds))"
      ],
      "metadata": {
        "id": "yfShZgA9PDV7"
      },
      "execution_count": null,
      "outputs": []
    },
    {
      "cell_type": "code",
      "source": [
        "with open ('valid_folds.py', 'wb') as f:\n",
        "  pickle.dump (valid_folds, f)"
      ],
      "metadata": {
        "id": "ddewN10iN8wI"
      },
      "execution_count": null,
      "outputs": []
    },
    {
      "cell_type": "code",
      "source": [
        "with open(\"valid_folds.txt\", \"w\") as output:\n",
        "    output.write(str (valid_folds))"
      ],
      "metadata": {
        "id": "SML1ZZ_kOAbl"
      },
      "execution_count": null,
      "outputs": []
    },
    {
      "cell_type": "code",
      "source": [],
      "metadata": {
        "id": "K0piLY8iOAip"
      },
      "execution_count": null,
      "outputs": []
    },
    {
      "cell_type": "code",
      "source": [
        "!unzip /content/drive/MyDrive/test_thickness_retina_iran.zip"
      ],
      "metadata": {
        "colab": {
          "base_uri": "https://localhost:8080/"
        },
        "id": "WLavaQv2TrMg",
        "outputId": "af0a9de4-56f7-4882-ed99-f03964680716"
      },
      "execution_count": null,
      "outputs": [
        {
          "output_type": "stream",
          "name": "stdout",
          "text": [
            "Archive:  /content/drive/MyDrive/test_thickness_retina_iran.zip\n",
            " extracting: test_labels.pkl         \n",
            " extracting: test_thickness_retina.pkl  \n",
            " extracting: test_sp.pkl             \n"
          ]
        }
      ]
    },
    {
      "cell_type": "code",
      "source": [
        "!unzip /content/drive/MyDrive/train_thickness_retina_iran.zip"
      ],
      "metadata": {
        "colab": {
          "base_uri": "https://localhost:8080/"
        },
        "id": "smtGtExTTrPS",
        "outputId": "0c4898c3-e69e-451c-92f3-f2654c1f5347"
      },
      "execution_count": null,
      "outputs": [
        {
          "output_type": "stream",
          "name": "stdout",
          "text": [
            "Archive:  /content/drive/MyDrive/train_thickness_retina_iran.zip\n",
            " extracting: train_labels.pkl        \n",
            " extracting: train_thickness_retina.pkl  \n",
            " extracting: train_sp.pkl            \n"
          ]
        }
      ]
    },
    {
      "cell_type": "code",
      "source": [],
      "metadata": {
        "id": "wUtC8SLPTrSO"
      },
      "execution_count": null,
      "outputs": []
    },
    {
      "cell_type": "code",
      "source": [
        "train_labels_thick = pickle.load (open ('/content/train_labels.pkl', 'rb'))\n",
        "train_thick = pickle.load (open ('/content/train_thickness_retina.pkl', 'rb'))\n",
        "train_sp_thick = pickle.load (open ('/content/train_sp.pkl', 'rb'))"
      ],
      "metadata": {
        "id": "JacSXoyQUMp0"
      },
      "execution_count": null,
      "outputs": []
    },
    {
      "cell_type": "code",
      "source": [
        "test_labels_thick = pickle.load (open ('/content/test_labels.pkl', 'rb'))\n",
        "test_thick = pickle.load (open ('/content/test_thickness_retina.pkl', 'rb'))\n",
        "test_sp_thick = pickle.load (open ('/content/test_sp.pkl', 'rb'))"
      ],
      "metadata": {
        "id": "ruKOD8hOUMtA"
      },
      "execution_count": null,
      "outputs": []
    },
    {
      "cell_type": "code",
      "source": [],
      "metadata": {
        "id": "ARfElTm8UMwY"
      },
      "execution_count": null,
      "outputs": []
    },
    {
      "cell_type": "code",
      "source": [
        "vol_slo = pickle.load (open ('/content/drive/MyDrive/vol_slo.pkl', 'rb'))"
      ],
      "metadata": {
        "id": "3cO9Dw0ZU1vq"
      },
      "execution_count": null,
      "outputs": []
    },
    {
      "cell_type": "code",
      "source": [
        "vol_slo"
      ],
      "metadata": {
        "id": "WYwYM4vI908V"
      },
      "execution_count": null,
      "outputs": []
    },
    {
      "cell_type": "code",
      "source": [
        "!unzip /content/drive/MyDrive/train_SLO_iran.zip\n",
        "!unzip /content/drive/MyDrive/test_SLO_iran.zip"
      ],
      "metadata": {
        "colab": {
          "base_uri": "https://localhost:8080/"
        },
        "id": "bLH0CwemU1ze",
        "outputId": "7ce67b2d-33de-4ddb-8873-19a1add0f78e"
      },
      "execution_count": null,
      "outputs": [
        {
          "output_type": "stream",
          "name": "stdout",
          "text": [
            "Archive:  /content/drive/MyDrive/train_SLO_iran.zip\n",
            " extracting: train_slo_iran.pkl      \n",
            " extracting: train_labels_Iran.pkl   \n",
            " extracting: train_sp_iran.pkl       \n",
            "Archive:  /content/drive/MyDrive/test_SLO_iran.zip\n",
            " extracting: test_slo_iran.pkl       \n",
            " extracting: test_labels_Iran.pkl    \n",
            " extracting: test_sp_iran.pkl        \n"
          ]
        }
      ]
    },
    {
      "cell_type": "code",
      "source": [
        "train_labels_slo = pickle.load (open ('/content/train_labels_Iran.pkl', 'rb'))\n",
        "train_slo = pickle.load (open ('/content/train_slo_iran.pkl', 'rb'))\n",
        "train_sp_slo = pickle.load (open ('/content/train_sp_iran.pkl', 'rb'))"
      ],
      "metadata": {
        "id": "38ZMO0XOUMzM"
      },
      "execution_count": null,
      "outputs": []
    },
    {
      "cell_type": "code",
      "source": [
        "test_labels_slo = pickle.load (open ('/content/test_labels_Iran.pkl', 'rb'))\n",
        "test_slo = pickle.load (open ('/content/test_slo_iran.pkl', 'rb'))\n",
        "test_sp_slo = pickle.load (open ('/content/test_sp_iran.pkl', 'rb'))"
      ],
      "metadata": {
        "id": "xgLEmYeIUM2d"
      },
      "execution_count": null,
      "outputs": []
    },
    {
      "cell_type": "code",
      "source": [],
      "metadata": {
        "id": "bYeBe42SVTtX"
      },
      "execution_count": null,
      "outputs": []
    },
    {
      "cell_type": "code",
      "source": [
        "train_thick ['0'] [0].shape"
      ],
      "metadata": {
        "colab": {
          "base_uri": "https://localhost:8080/"
        },
        "id": "-Qax8FxFVTwT",
        "outputId": "f0f67d01-5d0d-4add-95fc-9c0d471d1257"
      },
      "execution_count": null,
      "outputs": [
        {
          "output_type": "execute_result",
          "data": {
            "text/plain": [
              "(60, 256, 1)"
            ]
          },
          "metadata": {},
          "execution_count": 96
        }
      ]
    },
    {
      "cell_type": "code",
      "source": [],
      "metadata": {
        "id": "2NJo0npJVb1q"
      },
      "execution_count": null,
      "outputs": []
    },
    {
      "cell_type": "code",
      "source": [
        "from skimage.transform import resize"
      ],
      "metadata": {
        "id": "2JPhGX3RVb4t"
      },
      "execution_count": null,
      "outputs": []
    },
    {
      "cell_type": "code",
      "source": [],
      "metadata": {
        "id": "SwdEGyqzVb8D"
      },
      "execution_count": null,
      "outputs": []
    },
    {
      "cell_type": "code",
      "source": [
        "train_thick_new = {}\n",
        "im_size = 128\n",
        "for key in train_thick:\n",
        "\n",
        "  train_thick_new [key] = []\n",
        "\n",
        "  for thick in train_thick [key]:\n",
        "\n",
        "    I =  resize (thick, (im_size, im_size, 1), mode = 'constant', preserve_range = True)\n",
        "\n",
        "    train_thick_new [key].append (I)\n",
        "\n"
      ],
      "metadata": {
        "id": "yO6BwHHoVTzh"
      },
      "execution_count": null,
      "outputs": []
    },
    {
      "cell_type": "code",
      "source": [
        "test_thick_new = {}\n",
        "im_size = 128\n",
        "for key in test_thick:\n",
        "\n",
        "  test_thick_new [key] = []\n",
        "\n",
        "  for thick in test_thick [key]:\n",
        "\n",
        "    I =  resize (thick, (im_size, im_size, 1), mode = 'constant', preserve_range = True)\n",
        "\n",
        "    test_thick_new [key].append (I)\n",
        "\n"
      ],
      "metadata": {
        "id": "Xy90svSb1alv"
      },
      "execution_count": null,
      "outputs": []
    },
    {
      "cell_type": "code",
      "source": [
        "test_thick_new ['96'] [0].shape"
      ],
      "metadata": {
        "colab": {
          "base_uri": "https://localhost:8080/"
        },
        "id": "NXgTtboN4yVT",
        "outputId": "434393c6-0484-465b-b54d-5c1f835b1eae"
      },
      "execution_count": null,
      "outputs": [
        {
          "output_type": "execute_result",
          "data": {
            "text/plain": [
              "(128, 128, 1)"
            ]
          },
          "metadata": {},
          "execution_count": 174
        }
      ]
    },
    {
      "cell_type": "code",
      "source": [
        "plt.imshow (train_thick_new ['0'] [0], cmap = 'jet')"
      ],
      "metadata": {
        "id": "EOls86BtVT2h"
      },
      "execution_count": null,
      "outputs": []
    },
    {
      "cell_type": "code",
      "source": [
        "plt.imshow (test_thick_new ['1'] [1], cmap='jet')"
      ],
      "metadata": {
        "id": "mtqJ-24D44RK"
      },
      "execution_count": null,
      "outputs": []
    },
    {
      "cell_type": "code",
      "source": [],
      "metadata": {
        "id": "MQqoqenYXrQo"
      },
      "execution_count": null,
      "outputs": []
    },
    {
      "cell_type": "code",
      "source": [],
      "metadata": {
        "id": "3O9s02k8ZRBs"
      },
      "execution_count": null,
      "outputs": []
    },
    {
      "cell_type": "code",
      "source": [],
      "metadata": {
        "id": "rqnweAuMZRQh"
      },
      "execution_count": null,
      "outputs": []
    },
    {
      "cell_type": "code",
      "source": [
        "len_thick"
      ],
      "metadata": {
        "id": "LqJs94yceEy-"
      },
      "execution_count": null,
      "outputs": []
    },
    {
      "cell_type": "code",
      "source": [
        "len (len_slo)"
      ],
      "metadata": {
        "colab": {
          "base_uri": "https://localhost:8080/"
        },
        "id": "TjBiBIsodaxY",
        "outputId": "497aa72f-27cf-441c-f13b-f04a492a4645"
      },
      "execution_count": null,
      "outputs": [
        {
          "output_type": "execute_result",
          "data": {
            "text/plain": [
              "81"
            ]
          },
          "metadata": {},
          "execution_count": 48
        }
      ]
    },
    {
      "cell_type": "code",
      "source": [
        "81 * 81"
      ],
      "metadata": {
        "colab": {
          "base_uri": "https://localhost:8080/"
        },
        "id": "xm9ZeRbQeZ0P",
        "outputId": "a6280640-d934-4622-c915-86ba0b985a85"
      },
      "execution_count": null,
      "outputs": [
        {
          "output_type": "execute_result",
          "data": {
            "text/plain": [
              "6561"
            ]
          },
          "metadata": {},
          "execution_count": 54
        }
      ]
    },
    {
      "cell_type": "code",
      "source": [
        "s = 0\n",
        "for i in range (len (len_slo)):\n",
        "\n",
        "  s += len_thick [i] * len_slo [i]\n",
        "\n",
        "print (s)"
      ],
      "metadata": {
        "colab": {
          "base_uri": "https://localhost:8080/"
        },
        "id": "Cx7Ml1COa1u7",
        "outputId": "c539162f-4ff0-4da2-8f65-c689003d228c"
      },
      "execution_count": null,
      "outputs": [
        {
          "output_type": "stream",
          "name": "stdout",
          "text": [
            "383\n"
          ]
        }
      ]
    },
    {
      "cell_type": "code",
      "source": [
        "train_sp_slo"
      ],
      "metadata": {
        "id": "hQ46p-1n7gRE"
      },
      "execution_count": null,
      "outputs": []
    },
    {
      "cell_type": "code",
      "source": [
        "train_slo_new = {}\n",
        "\n",
        "im_size = 128\n",
        "\n",
        "for key in train_slo:\n",
        "\n",
        "  train_slo_new [key] = []\n",
        "\n",
        "  for i in range (len(train_slo [key])):\n",
        "\n",
        "    slo = resize (train_slo [key] [i], (im_size, im_size, 1), mode = 'constant', preserve_range = True)\n",
        "\n",
        "    slo = np.flip (slo, axis = 1) if train_sp_slo [key] [i] == False else slo\n",
        "\n",
        "    train_slo_new [key].append (slo)"
      ],
      "metadata": {
        "id": "EA1tIBdxbNxU"
      },
      "execution_count": null,
      "outputs": []
    },
    {
      "cell_type": "code",
      "source": [
        "test_slo_new = {}\n",
        "\n",
        "im_size = 128\n",
        "\n",
        "for key in test_slo:\n",
        "\n",
        "  test_slo_new [key] = []\n",
        "\n",
        "  for i in range (len (test_slo [key])):\n",
        "\n",
        "    slo = resize (test_slo [key] [i], (im_size, im_size, 1), mode = 'constant', preserve_range = True)\n",
        "\n",
        "    slo = np.flip (slo, axis = 1) if test_sp_slo [key] [i] == False else slo\n",
        "\n",
        "    test_slo_new [key].append (slo)"
      ],
      "metadata": {
        "id": "um9gJzLI1RLT"
      },
      "execution_count": null,
      "outputs": []
    },
    {
      "cell_type": "code",
      "source": [
        "train_slo_new ['14'] [1].shape"
      ],
      "metadata": {
        "colab": {
          "base_uri": "https://localhost:8080/"
        },
        "id": "hiVWzC-ZbsgJ",
        "outputId": "fe0a9524-2813-472e-e763-d52a0e26d7c4"
      },
      "execution_count": null,
      "outputs": [
        {
          "output_type": "execute_result",
          "data": {
            "text/plain": [
              "(128, 128, 1)"
            ]
          },
          "metadata": {},
          "execution_count": 107
        }
      ]
    },
    {
      "cell_type": "code",
      "source": [
        "train_sp_slo"
      ],
      "metadata": {
        "id": "Z5sigx8B8_eA"
      },
      "execution_count": null,
      "outputs": []
    },
    {
      "cell_type": "code",
      "source": [
        "!unzip /content/drive/MyDrive/train_SLO_iran.zip"
      ],
      "metadata": {
        "id": "wFJLVbKY9FND"
      },
      "execution_count": null,
      "outputs": []
    },
    {
      "cell_type": "code",
      "source": [
        "plt.imshow (train_slo_new ['101'] [0])"
      ],
      "metadata": {
        "id": "aM7RD2al8mTr"
      },
      "execution_count": null,
      "outputs": []
    },
    {
      "cell_type": "code",
      "source": [],
      "metadata": {
        "id": "lbMbAU9M8maD"
      },
      "execution_count": null,
      "outputs": []
    },
    {
      "cell_type": "code",
      "source": [
        "test_slo_new ['1'] [1].shape"
      ],
      "metadata": {
        "colab": {
          "base_uri": "https://localhost:8080/"
        },
        "id": "uf1iGAAeokXQ",
        "outputId": "65694aa9-4f4c-4dd0-8394-af5f87cc668a"
      },
      "execution_count": null,
      "outputs": [
        {
          "output_type": "execute_result",
          "data": {
            "text/plain": [
              "(128, 128, 1)"
            ]
          },
          "metadata": {},
          "execution_count": 111
        }
      ]
    },
    {
      "cell_type": "code",
      "source": [
        "len (test_slo_new)"
      ],
      "metadata": {
        "colab": {
          "base_uri": "https://localhost:8080/"
        },
        "id": "YO2v00rN5DPd",
        "outputId": "e952f3f7-b3cc-4d49-be4b-d65cd50bbf8f"
      },
      "execution_count": null,
      "outputs": [
        {
          "output_type": "execute_result",
          "data": {
            "text/plain": [
              "21"
            ]
          },
          "metadata": {},
          "execution_count": 112
        }
      ]
    },
    {
      "cell_type": "code",
      "source": [
        "train_merged = {}\n",
        "\n",
        "train_merged_label = {}\n",
        "\n",
        "for subject in train_slo_new:\n",
        "\n",
        "  train_merged [subject] = []\n",
        "\n",
        "  train_merged_label [subject] = []\n",
        "\n",
        "  for i,_ in enumerate(train_slo_new [subject]):\n",
        "\n",
        "    for j,_ in enumerate(train_thick_new [subject]):\n",
        "\n",
        "      if train_sp_slo [subject] [i] == train_sp_thick [subject] [j]:\n",
        "\n",
        "        train_merged [subject].append (np.concatenate ((train_slo_new [subject] [i], train_thick_new [subject] [j]), axis = 2))\n",
        "\n",
        "  train_merged_label [subject].append (train_labels_slo [subject])"
      ],
      "metadata": {
        "id": "0MDBaEE3okaU"
      },
      "execution_count": null,
      "outputs": []
    },
    {
      "cell_type": "code",
      "source": [
        "plt.imshow (resize (train_merged ['0'] [0] [:,:,1], (128, 128)), cmap = 'jet')"
      ],
      "metadata": {
        "id": "MLrDeN7q7DlW"
      },
      "execution_count": null,
      "outputs": []
    },
    {
      "cell_type": "code",
      "source": [
        "train_sp_slo"
      ],
      "metadata": {
        "id": "xeHUCwKsbUGm"
      },
      "execution_count": null,
      "outputs": []
    },
    {
      "cell_type": "code",
      "source": [
        "train_sp_thick"
      ],
      "metadata": {
        "id": "d8RcDIx_bW43"
      },
      "execution_count": null,
      "outputs": []
    },
    {
      "cell_type": "code",
      "source": [
        "s=0\n",
        "for i in train_merged:\n",
        "  if len (train_merged [i]) == 0:\n",
        "    print (i)"
      ],
      "metadata": {
        "id": "8gZ5P2yzba7c"
      },
      "execution_count": null,
      "outputs": []
    },
    {
      "cell_type": "code",
      "source": [
        "keys_to_delete = [61, 71, 83, 95, 101]"
      ],
      "metadata": {
        "id": "gylB-QpWbbBr"
      },
      "execution_count": null,
      "outputs": []
    },
    {
      "cell_type": "code",
      "source": [
        "for i in keys_to_delete:\n",
        "  del train_merged [str (i)]"
      ],
      "metadata": {
        "id": "PzlQxkp6bbFS"
      },
      "execution_count": null,
      "outputs": []
    },
    {
      "cell_type": "code",
      "source": [
        "s= 0\n",
        "for i in train_merged_label:\n",
        "  s+= len (train_merged_label [i])"
      ],
      "metadata": {
        "id": "4xsnjbbNctPj"
      },
      "execution_count": null,
      "outputs": []
    },
    {
      "cell_type": "code",
      "source": [
        "s"
      ],
      "metadata": {
        "colab": {
          "base_uri": "https://localhost:8080/"
        },
        "id": "40UVYTfenfxi",
        "outputId": "dc786fd7-6b6b-4ef1-cb47-81004d164fbf"
      },
      "execution_count": null,
      "outputs": [
        {
          "output_type": "execute_result",
          "data": {
            "text/plain": [
              "76"
            ]
          },
          "metadata": {},
          "execution_count": 196
        }
      ]
    },
    {
      "cell_type": "code",
      "source": [
        "for i in keys_to_delete:\n",
        "  del train_merged_label [str (i)]"
      ],
      "metadata": {
        "id": "PuoGNp_Knxtv"
      },
      "execution_count": null,
      "outputs": []
    },
    {
      "cell_type": "code",
      "source": [],
      "metadata": {
        "id": "-ubziweQnxxJ"
      },
      "execution_count": null,
      "outputs": []
    },
    {
      "cell_type": "code",
      "source": [
        "print (s)"
      ],
      "metadata": {
        "colab": {
          "base_uri": "https://localhost:8080/"
        },
        "id": "ZLkNcbRBc1m3",
        "outputId": "a869b0ae-3d76-4a6e-8e5f-7fe5fbc818b9"
      },
      "execution_count": null,
      "outputs": [
        {
          "output_type": "stream",
          "name": "stdout",
          "text": [
            "209\n"
          ]
        }
      ]
    },
    {
      "cell_type": "code",
      "source": [
        "test_merged = {}\n",
        "\n",
        "test_merged_label = {}\n",
        "\n",
        "for subject in test_slo_new:\n",
        "\n",
        "  test_merged [subject] = []\n",
        "\n",
        "  test_merged_label [subject] = []\n",
        "\n",
        "  for i,_ in enumerate(test_slo_new [subject]):\n",
        "\n",
        "    for j,_ in enumerate(test_thick_new [subject]):\n",
        "\n",
        "      if test_sp_slo [subject] [i] == test_sp_thick [subject] [j]:\n",
        "\n",
        "        test_merged [subject].append (np.concatenate ((test_slo_new [subject] [i], test_thick_new [subject] [j]), axis = 2))\n",
        "\n",
        "  test_merged_label [subject].append (test_labels_slo [subject])"
      ],
      "metadata": {
        "id": "wjzDyJ7Hrq_d"
      },
      "execution_count": null,
      "outputs": []
    },
    {
      "cell_type": "code",
      "source": [],
      "metadata": {
        "id": "O7IfPSJ2rrCe"
      },
      "execution_count": null,
      "outputs": []
    },
    {
      "cell_type": "code",
      "source": [
        "test_sp_slo"
      ],
      "metadata": {
        "id": "U1Q7IEFLrrFu"
      },
      "execution_count": null,
      "outputs": []
    },
    {
      "cell_type": "code",
      "source": [
        "test_sp_thick"
      ],
      "metadata": {
        "id": "og1Wx8ozd4JH"
      },
      "execution_count": null,
      "outputs": []
    },
    {
      "cell_type": "code",
      "source": [
        "s= 0\n",
        "for i in test_merged:\n",
        "    s += len (test_merged [i])\n",
        "print (s)"
      ],
      "metadata": {
        "id": "sfXw-poKokeX",
        "colab": {
          "base_uri": "https://localhost:8080/"
        },
        "outputId": "ee2a7250-32f9-4ee9-c8bb-ac84104cd1ab"
      },
      "execution_count": null,
      "outputs": [
        {
          "output_type": "stream",
          "name": "stdout",
          "text": [
            "52\n"
          ]
        }
      ]
    },
    {
      "cell_type": "code",
      "source": [
        "s=0\n",
        "for i in test_merged:\n",
        "  if len (test_merged [i]) == 0:\n",
        "    print (i)"
      ],
      "metadata": {
        "colab": {
          "base_uri": "https://localhost:8080/"
        },
        "id": "2QlD1PBFds0m",
        "outputId": "dc7ca963-1231-47ad-b1cd-00b65ab76a6f"
      },
      "execution_count": null,
      "outputs": [
        {
          "output_type": "stream",
          "name": "stdout",
          "text": [
            "96\n"
          ]
        }
      ]
    },
    {
      "cell_type": "code",
      "source": [
        "del test_merged ['96']"
      ],
      "metadata": {
        "id": "QShKpMzXd7eV"
      },
      "execution_count": null,
      "outputs": []
    },
    {
      "cell_type": "code",
      "source": [
        "test_merged_label"
      ],
      "metadata": {
        "id": "CJejOm_Fn_pG"
      },
      "execution_count": null,
      "outputs": []
    },
    {
      "cell_type": "code",
      "source": [
        "del test_merged_label ['96']"
      ],
      "metadata": {
        "id": "M041SjsfoDCp"
      },
      "execution_count": null,
      "outputs": []
    },
    {
      "cell_type": "code",
      "source": [
        "len (test_merged_label)"
      ],
      "metadata": {
        "colab": {
          "base_uri": "https://localhost:8080/"
        },
        "id": "3-i0ahVKoGQf",
        "outputId": "bfa51510-2a12-4a64-d2c2-b515a87ef66a"
      },
      "execution_count": null,
      "outputs": [
        {
          "output_type": "execute_result",
          "data": {
            "text/plain": [
              "20"
            ]
          },
          "metadata": {},
          "execution_count": 204
        }
      ]
    },
    {
      "cell_type": "code",
      "source": [
        "len (test_merged ['11'])"
      ],
      "metadata": {
        "colab": {
          "base_uri": "https://localhost:8080/"
        },
        "id": "ttE_DRWieBPG",
        "outputId": "40568f58-7ebf-4b7e-c5a4-e6e25f57c291"
      },
      "execution_count": null,
      "outputs": [
        {
          "output_type": "execute_result",
          "data": {
            "text/plain": [
              "1"
            ]
          },
          "metadata": {},
          "execution_count": 154
        }
      ]
    },
    {
      "cell_type": "code",
      "source": [
        "type (train_merged ['0'] [1] [ :, :, 0])"
      ],
      "metadata": {
        "colab": {
          "base_uri": "https://localhost:8080/"
        },
        "id": "RjRnz0Dbq6vR",
        "outputId": "8bfbbf56-6373-4c8f-c011-0be1f62d2a3c"
      },
      "execution_count": null,
      "outputs": [
        {
          "output_type": "execute_result",
          "data": {
            "text/plain": [
              "numpy.ndarray"
            ]
          },
          "metadata": {},
          "execution_count": 104
        }
      ]
    },
    {
      "cell_type": "code",
      "source": [
        "plt.imshow (train_merged ['0'] [1] [ :, :, 0])"
      ],
      "metadata": {
        "id": "05Jbfl06qdfa"
      },
      "execution_count": null,
      "outputs": []
    },
    {
      "cell_type": "code",
      "source": [
        "plt.imshow (test_merged ['1'] [1] [ :, :, 0])"
      ],
      "metadata": {
        "id": "ps8qAO2M5aTl"
      },
      "execution_count": null,
      "outputs": []
    },
    {
      "cell_type": "code",
      "source": [
        "train_merged ['0']"
      ],
      "metadata": {
        "id": "o4lFnbUS5aYX"
      },
      "execution_count": null,
      "outputs": []
    },
    {
      "cell_type": "code",
      "source": [
        "with open ('train_slo_thick.pkl', 'wb') as f:\n",
        "  pickle.dump (train_merged, f)"
      ],
      "metadata": {
        "id": "F86E2pso5j2M"
      },
      "execution_count": null,
      "outputs": []
    },
    {
      "cell_type": "code",
      "source": [
        "with open ('train_slo_thick_labels.pkl', 'wb') as f:\n",
        "  pickle.dump (train_merged_label, f)"
      ],
      "metadata": {
        "id": "JrsLGjqy5j5I"
      },
      "execution_count": null,
      "outputs": []
    },
    {
      "cell_type": "code",
      "source": [
        "for key in keys_to_delete:\n",
        "  del train_merged_label [str (key)]"
      ],
      "metadata": {
        "id": "POeGh8JwexC9"
      },
      "execution_count": null,
      "outputs": []
    },
    {
      "cell_type": "code",
      "source": [
        "s=0\n",
        "for i in train_merged_label:\n",
        "  s += len (train_merged_label [i])\n",
        "print (s)"
      ],
      "metadata": {
        "id": "IFI5Jctc55Ge",
        "colab": {
          "base_uri": "https://localhost:8080/"
        },
        "outputId": "4de226b0-f573-4e15-f6a5-40a1aa565c83"
      },
      "execution_count": null,
      "outputs": [
        {
          "output_type": "stream",
          "name": "stdout",
          "text": [
            "191\n"
          ]
        }
      ]
    },
    {
      "cell_type": "code",
      "source": [
        "del test_merged_label ['96']"
      ],
      "metadata": {
        "id": "1KKxab_xfYp7"
      },
      "execution_count": null,
      "outputs": []
    },
    {
      "cell_type": "code",
      "source": [],
      "metadata": {
        "id": "DRIYGSxRfVQD"
      },
      "execution_count": null,
      "outputs": []
    },
    {
      "cell_type": "code",
      "source": [
        "with open ('test_slo_thick.pkl', 'wb') as f:\n",
        "  pickle.dump (test_merged, f)"
      ],
      "metadata": {
        "id": "1w0joIoP5j8Z"
      },
      "execution_count": null,
      "outputs": []
    },
    {
      "cell_type": "code",
      "source": [
        "with open ('test_slo_thick_labels.pkl', 'wb') as f:\n",
        "  pickle.dump (test_merged_label, f)"
      ],
      "metadata": {
        "id": "qmz5u8dZ57d0"
      },
      "execution_count": null,
      "outputs": []
    },
    {
      "cell_type": "code",
      "source": [],
      "metadata": {
        "id": "1oivfZdR58pM"
      },
      "execution_count": null,
      "outputs": []
    },
    {
      "cell_type": "code",
      "source": [
        "def preparing (x1, x2, y):\n",
        "\n",
        "  data = []\n",
        "\n",
        "  label = []\n",
        "\n",
        "  sp = []\n",
        "\n",
        "\n",
        "  for subject in x1:\n",
        "\n",
        "    for i,_ in enumerate(x1 [subject]):\n",
        "\n",
        "      for j,_ in enumerate(x2 [subject]):\n",
        "\n",
        "        #if sp1 [subject] [i] == sp2 [subject] [j]:\n",
        "\n",
        "        data.append (np.concatenate ((x1 [subject] [i], x2 [subject] [j]), axis = 2))\n",
        "\n",
        "        label.append (y [subject])\n",
        "\n",
        "        sp.append ([sp1 [subject] [i], sp2 [subject] [j]])\n",
        "\n",
        "  data = np.reshape (data, np.shape (data))\n",
        "\n",
        "  return data, label, sp"
      ],
      "metadata": {
        "id": "R0-tw1izX20q"
      },
      "execution_count": null,
      "outputs": []
    },
    {
      "cell_type": "code",
      "source": [
        "data, label, sp = preparing (train_slo_new, train_thick_new, train_labels_slo, train_sp_slo, train_sp_thick)"
      ],
      "metadata": {
        "id": "uWD1dcXNX23t"
      },
      "execution_count": null,
      "outputs": []
    },
    {
      "cell_type": "code",
      "source": [
        "train_sp_slo"
      ],
      "metadata": {
        "id": "VGQCtIIjgrRL"
      },
      "execution_count": null,
      "outputs": []
    },
    {
      "cell_type": "code",
      "source": [
        "train_sp_thick"
      ],
      "metadata": {
        "id": "HtdtEpeOgulq"
      },
      "execution_count": null,
      "outputs": []
    },
    {
      "cell_type": "code",
      "source": [
        "train_sp_thick"
      ],
      "metadata": {
        "id": "CnAfp3Uhk4oR"
      },
      "execution_count": null,
      "outputs": []
    },
    {
      "cell_type": "code",
      "source": [
        "!unzip /content/drive/MyDrive/Iran2.zip"
      ],
      "metadata": {
        "id": "ZZw-tVx3jmYP"
      },
      "execution_count": null,
      "outputs": []
    },
    {
      "cell_type": "code",
      "source": [
        "!unzip /content/drive/MyDrive/Iran_data.zip"
      ],
      "metadata": {
        "colab": {
          "base_uri": "https://localhost:8080/"
        },
        "id": "NrbG2T34nPLW",
        "outputId": "a4e42928-ad46-4dca-f5d1-cf15da3225dc"
      },
      "execution_count": null,
      "outputs": [
        {
          "output_type": "stream",
          "name": "stdout",
          "text": [
            "Archive:  /content/drive/MyDrive/Iran_data.zip\n",
            " extracting: layers_Iran.pkl         \n",
            " extracting: ScanPositionIran.pkl    \n",
            " extracting: subjects_index_Iran.pkl  \n",
            " extracting: subjects_labels_Iran.pkl  \n",
            " extracting: subjects_layers_Iran.pkl  \n",
            " extracting: vol_Iran.pkl            \n",
            " extracting: vol_labels_Iran.pkl     \n",
            " extracting: readme.docx             \n"
          ]
        }
      ]
    },
    {
      "cell_type": "code",
      "source": [
        "vols = pickle.load (open ('/content/vol_Iran.pkl', 'rb'))"
      ],
      "metadata": {
        "id": "walYxCnknVg-"
      },
      "execution_count": null,
      "outputs": []
    },
    {
      "cell_type": "code",
      "source": [
        "subjects = pickle.load (open ('/content/subjects_index_Iran.pkl', 'rb'))"
      ],
      "metadata": {
        "id": "OS7BNg2JnjZB"
      },
      "execution_count": null,
      "outputs": []
    },
    {
      "cell_type": "code",
      "source": [
        "subjects"
      ],
      "metadata": {
        "id": "XJieZKAznooD"
      },
      "execution_count": null,
      "outputs": []
    },
    {
      "cell_type": "code",
      "source": [
        "vols"
      ],
      "metadata": {
        "id": "jZ6y4hI7nfYS"
      },
      "execution_count": null,
      "outputs": []
    },
    {
      "cell_type": "code",
      "source": [
        "oct = OctRead ('/content/Iran2/EYE00117_E_720_cropped_segmented_corrected.vol')\n",
        "hdr = oct.get_oct_hdr ()\n",
        "sp = hdr ['ScanPosition']"
      ],
      "metadata": {
        "id": "6P5Q4DrXjiIM"
      },
      "execution_count": null,
      "outputs": []
    },
    {
      "cell_type": "code",
      "source": [
        "sp"
      ],
      "metadata": {
        "colab": {
          "base_uri": "https://localhost:8080/"
        },
        "id": "EsGRiIJfgYTD",
        "outputId": "6923e477-bcfa-4613-c03e-bb631cc3f1ec"
      },
      "execution_count": null,
      "outputs": [
        {
          "output_type": "execute_result",
          "data": {
            "text/plain": [
              "b'OS\\x00\\x00'"
            ]
          },
          "metadata": {},
          "execution_count": 86
        }
      ]
    },
    {
      "cell_type": "code",
      "source": [
        "plt.imshow (data [33] [:,:,0])"
      ],
      "metadata": {
        "id": "r8CDQ8w0aa1q"
      },
      "execution_count": null,
      "outputs": []
    },
    {
      "cell_type": "code",
      "source": [],
      "metadata": {
        "id": "Fx32K5bOcwK6"
      },
      "execution_count": null,
      "outputs": []
    },
    {
      "cell_type": "code",
      "source": [
        "import zipfile\n",
        "\n",
        "# List of files to zip\n",
        "files_to_zip = ['test_slo_thick.pkl', 'test_slo_thick_labels.pkl', 'train_slo_thick.pkl', 'train_slo_thick_labels.pkl']\n",
        "\n",
        "# Name of the zip file\n",
        "zip_file_name = 'merged_data_final.zip'\n",
        "\n",
        "# Create the zip file\n",
        "with zipfile.ZipFile(zip_file_name, 'w') as zipf:\n",
        "    for file in files_to_zip:\n",
        "        zipf.write(file)\n"
      ],
      "metadata": {
        "id": "Zsh_aWPIoAjJ"
      },
      "execution_count": null,
      "outputs": []
    },
    {
      "cell_type": "code",
      "source": [
        "!cp /content/merged_data_final.zip /content/drive/MyDrive"
      ],
      "metadata": {
        "id": "y-rYXvh-oAma"
      },
      "execution_count": null,
      "outputs": []
    },
    {
      "cell_type": "code",
      "source": [],
      "metadata": {
        "id": "i6ngj7pT-tC0"
      },
      "execution_count": null,
      "outputs": []
    },
    {
      "cell_type": "code",
      "source": [
        "train_thick ="
      ],
      "metadata": {
        "id": "7bUJJSkJ_7yw"
      },
      "execution_count": null,
      "outputs": []
    }
  ]
}